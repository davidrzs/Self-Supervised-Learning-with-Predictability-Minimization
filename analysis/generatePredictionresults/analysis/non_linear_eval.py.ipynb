{
 "cells": [
  {
   "cell_type": "code",
   "execution_count": 5,
   "metadata": {
    "ExecuteTime": {
     "end_time": "2023-05-24T17:10:13.332204342Z",
     "start_time": "2023-05-24T17:10:13.279127008Z"
    },
    "collapsed": true
   },
   "outputs": [],
   "source": [
    "import numpy as np\n",
    "\n",
    "from sklearn.linear_model import SGDClassifier\n",
    "\n",
    "from sklearn.svm import SVC\n",
    "\n",
    "from sklearn.neural_network import MLPClassifier\n",
    "\n",
    "# import classification report\n",
    "from sklearn.metrics import classification_report\n"
   ]
  },
  {
   "cell_type": "code",
   "execution_count": 3,
   "metadata": {
    "ExecuteTime": {
     "end_time": "2023-05-24T17:11:24.784820685Z",
     "start_time": "2023-05-24T17:11:24.782064896Z"
    },
    "collapsed": false
   },
   "outputs": [],
   "source": [
    "\n",
    "X_train_barlow = np.loadtxt('../correlation_analysis/cifar10_-home-david-Downloads-dye9qi27_train/data_standardized.csv', delimiter=',')\n",
    "y_train_barlow = np.loadtxt('../correlation_analysis/cifar10_-home-david-Downloads-dye9qi27_train/labels.csv', delimiter=',')\n",
    "\n",
    "\n",
    "X_val_barlow = np.loadtxt('../correlation_analysis/cifar10_-home-david-Downloads-dye9qi27_val/data_standardized.csv', delimiter=',')\n",
    "y_val_barlow = np.loadtxt('../correlation_analysis/cifar10_-home-david-Downloads-dye9qi27_val/labels.csv', delimiter=',')\n"
   ]
  },
  {
   "cell_type": "code",
   "execution_count": 4,
   "metadata": {
    "collapsed": false
   },
   "outputs": [],
   "source": [
    "X_train_cl_lin_pred_min = np.loadtxt('../correlation_analysis/cifar10_-home-david-Downloads-gqvmpfko_train/data_standardized.csv', delimiter=',')\n",
    "y_train_cl_lin_pred_min = np.loadtxt('../correlation_analysis/cifar10_-home-david-Downloads-gqvmpfko_train/labels.csv', delimiter=',')\n",
    "\n",
    "\n",
    "X_val_cl_lin_pred_min = np.loadtxt('../correlation_analysis/cifar10_-home-david-Downloads-gqvmpfko_val/data_standardized.csv', delimiter=',')\n",
    "y_val_cl_lin_pred_min = np.loadtxt('../correlation_analysis/cifar10_-home-david-Downloads-gqvmpfko_val/labels.csv', delimiter=',')"
   ]
  },
  {
   "cell_type": "code",
   "execution_count": 6,
   "metadata": {},
   "outputs": [],
   "source": [
    "clf = MLPClassifier().fit(X_train_cl_lin_pred_min, y_train_cl_lin_pred_min)"
   ]
  },
  {
   "cell_type": "code",
   "execution_count": 7,
   "metadata": {},
   "outputs": [
    {
     "name": "stdout",
     "output_type": "stream",
     "text": [
      "              precision    recall  f1-score   support\n",
      "\n",
      "         0.0       0.91      0.93      0.92      1000\n",
      "         1.0       0.96      0.97      0.96      1000\n",
      "         2.0       0.87      0.87      0.87      1000\n",
      "         3.0       0.78      0.78      0.78      1000\n",
      "         4.0       0.89      0.90      0.90      1000\n",
      "         5.0       0.84      0.79      0.81      1000\n",
      "         6.0       0.92      0.95      0.93      1000\n",
      "         7.0       0.93      0.94      0.93      1000\n",
      "         8.0       0.95      0.95      0.95      1000\n",
      "         9.0       0.96      0.95      0.95      1000\n",
      "\n",
      "    accuracy                           0.90     10000\n",
      "   macro avg       0.90      0.90      0.90     10000\n",
      "weighted avg       0.90      0.90      0.90     10000\n",
      "\n"
     ]
    }
   ],
   "source": [
    "y_pred = clf.predict(X_val_cl_lin_pred_min)\n",
    "\n",
    "print(classification_report(y_val_cl_lin_pred_min, y_pred))"
   ]
  },
  {
   "cell_type": "code",
   "execution_count": 8,
   "metadata": {},
   "outputs": [],
   "source": [
    "clf = MLPClassifier().fit(X_train_barlow, y_train_barlow)"
   ]
  },
  {
   "cell_type": "code",
   "execution_count": 9,
   "metadata": {},
   "outputs": [
    {
     "name": "stdout",
     "output_type": "stream",
     "text": [
      "              precision    recall  f1-score   support\n",
      "\n",
      "         0.0       0.93      0.93      0.93      1000\n",
      "         1.0       0.96      0.96      0.96      1000\n",
      "         2.0       0.88      0.89      0.88      1000\n",
      "         3.0       0.77      0.78      0.78      1000\n",
      "         4.0       0.91      0.89      0.90      1000\n",
      "         5.0       0.84      0.79      0.82      1000\n",
      "         6.0       0.90      0.94      0.92      1000\n",
      "         7.0       0.93      0.95      0.94      1000\n",
      "         8.0       0.97      0.95      0.96      1000\n",
      "         9.0       0.95      0.94      0.95      1000\n",
      "\n",
      "    accuracy                           0.90     10000\n",
      "   macro avg       0.90      0.90      0.90     10000\n",
      "weighted avg       0.90      0.90      0.90     10000\n",
      "\n"
     ]
    }
   ],
   "source": [
    "y_pred = clf.predict(X_val_barlow)\n",
    "\n",
    "print(classification_report(y_val_barlow, y_pred))"
   ]
  },
  {
   "cell_type": "code",
   "execution_count": null,
   "metadata": {},
   "outputs": [],
   "source": []
  }
 ],
 "metadata": {
  "kernelspec": {
   "display_name": "Python 3",
   "language": "python",
   "name": "python3"
  },
  "language_info": {
   "codemirror_mode": {
    "name": "ipython",
    "version": 3
   },
   "file_extension": ".py",
   "mimetype": "text/x-python",
   "name": "python",
   "nbconvert_exporter": "python",
   "pygments_lexer": "ipython3",
   "version": "3.10.6"
  }
 },
 "nbformat": 4,
 "nbformat_minor": 0
}
