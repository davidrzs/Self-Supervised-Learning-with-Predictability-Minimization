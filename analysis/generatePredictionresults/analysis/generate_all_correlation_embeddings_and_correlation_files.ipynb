{
 "cells": [
  {
   "cell_type": "code",
   "execution_count": 7,
   "metadata": {},
   "outputs": [],
   "source": [
    "import pandas as pd\n",
    "import numpy as np\n",
    "import glob\n",
    "import json\n",
    "from tqdm import tqdm\n",
    "import subprocess\n",
    "from pathlib import Path"
   ]
  },
  {
   "cell_type": "code",
   "execution_count": 8,
   "metadata": {},
   "outputs": [],
   "source": [
    "path = '/hdd/backup_cluster_august_2023/Self-Supervised-Learning-with-Predictability-Minimization/Self-Supervised-Learning-with-Predictability-Minimization/trained_models'"
   ]
  },
  {
   "cell_type": "code",
   "execution_count": 9,
   "metadata": {},
   "outputs": [
    {
     "name": "stdout",
     "output_type": "stream",
     "text": [
      "[('vicreg', '/hdd/backup_cluster_august_2023/Self-Supervised-Learning-with-Predictability-Minimization/Self-Supervised-Learning-with-Predictability-Minimization/trained_models/vicreg'), ('cl_lin_pred_min', '/hdd/backup_cluster_august_2023/Self-Supervised-Learning-with-Predictability-Minimization/Self-Supervised-Learning-with-Predictability-Minimization/trained_models/cl_lin_pred_min'), ('mocov3', '/hdd/backup_cluster_august_2023/Self-Supervised-Learning-with-Predictability-Minimization/Self-Supervised-Learning-with-Predictability-Minimization/trained_models/mocov3'), ('barlow_twins', '/hdd/backup_cluster_august_2023/Self-Supervised-Learning-with-Predictability-Minimization/Self-Supervised-Learning-with-Predictability-Minimization/trained_models/barlow_twins'), ('vibcreg', '/hdd/backup_cluster_august_2023/Self-Supervised-Learning-with-Predictability-Minimization/Self-Supervised-Learning-with-Predictability-Minimization/trained_models/vibcreg'), ('byol', '/hdd/backup_cluster_august_2023/Self-Supervised-Learning-with-Predictability-Minimization/Self-Supervised-Learning-with-Predictability-Minimization/trained_models/byol'), ('nnclr', '/hdd/backup_cluster_august_2023/Self-Supervised-Learning-with-Predictability-Minimization/Self-Supervised-Learning-with-Predictability-Minimization/trained_models/nnclr'), ('simclr', '/hdd/backup_cluster_august_2023/Self-Supervised-Learning-with-Predictability-Minimization/Self-Supervised-Learning-with-Predictability-Minimization/trained_models/simclr')]\n"
     ]
    }
   ],
   "source": [
    "# find all folders in the path:\n",
    "folders = glob.glob(path + '/*')\n",
    "# the model name is the last part of the path:\n",
    "model_names = [folder.split('/')[-1] for folder in folders]\n",
    "# make a list of tuples, first the model name, second the path\n",
    "model_paths = list(zip(model_names, folders))\n",
    "# exclude folders with model_name 'barlow_cl_lin_pred_min' and 'cl_non_lin_pred_min'\n",
    "model_paths = [model_path for model_path in model_paths if model_path[0] not in ['barlow_cl_lin_pred_min', 'cl_non_lin_pred_min']]\n",
    "print(model_paths)"
   ]
  },
  {
   "cell_type": "code",
   "execution_count": 10,
   "metadata": {},
   "outputs": [
    {
     "name": "stdout",
     "output_type": "stream",
     "text": [
      "[('pxqwg3ex', 'vicreg', 'imagenet100', 400, '/hdd/backup_cluster_august_2023/Self-Supervised-Learning-with-Predictability-Minimization/Self-Supervised-Learning-with-Predictability-Minimization/trained_models/vicreg/pxqwg3ex/vicreg-imagenet100-pxqwg3ex-ep=399.ckpt'), ('000hudwm', 'vicreg', 'cifar100', 1000, '/hdd/backup_cluster_august_2023/Self-Supervised-Learning-with-Predictability-Minimization/Self-Supervised-Learning-with-Predictability-Minimization/trained_models/vicreg/000hudwm/vicreg-cifar100-000hudwm-ep=999.ckpt'), ('31yfnww4', 'vicreg', 'cifar100', 1000, '/hdd/backup_cluster_august_2023/Self-Supervised-Learning-with-Predictability-Minimization/Self-Supervised-Learning-with-Predictability-Minimization/trained_models/vicreg/31yfnww4/vicreg-cifar100-31yfnww4-ep=999.ckpt'), ('ihgpptnq', 'vicreg', 'imagenet100', 400, '/hdd/backup_cluster_august_2023/Self-Supervised-Learning-with-Predictability-Minimization/Self-Supervised-Learning-with-Predictability-Minimization/trained_models/vicreg/ihgpptnq/vicreg-imagenet100-ihgpptnq-ep=399.ckpt'), ('ko7v7xmw', 'vicreg', 'cifar10', 1000, '/hdd/backup_cluster_august_2023/Self-Supervised-Learning-with-Predictability-Minimization/Self-Supervised-Learning-with-Predictability-Minimization/trained_models/vicreg/ko7v7xmw/vicreg-cifar10-ko7v7xmw-ep=999.ckpt'), ('oapd6xab', 'vicreg', 'cifar10', 1000, '/hdd/backup_cluster_august_2023/Self-Supervised-Learning-with-Predictability-Minimization/Self-Supervised-Learning-with-Predictability-Minimization/trained_models/vicreg/oapd6xab/vicreg-cifar10-oapd6xab-ep=999.ckpt'), ('4450okxr', 'cl_lin_pred_min', 'imagenet100', 400, '/hdd/backup_cluster_august_2023/Self-Supervised-Learning-with-Predictability-Minimization/Self-Supervised-Learning-with-Predictability-Minimization/trained_models/cl_lin_pred_min/4450okxr/cl_lin_pred_min-imagenet100-4450okxr-ep=399.ckpt'), ('x6p8gwro', 'cl_lin_pred_min', 'imagenet100', 400, '/hdd/backup_cluster_august_2023/Self-Supervised-Learning-with-Predictability-Minimization/Self-Supervised-Learning-with-Predictability-Minimization/trained_models/cl_lin_pred_min/x6p8gwro/cl_lin_pred_min-imagenet100-x6p8gwro-ep=399.ckpt'), ('vkd2mvlc', 'cl_lin_pred_min', 'imagenet100', 400, '/hdd/backup_cluster_august_2023/Self-Supervised-Learning-with-Predictability-Minimization/Self-Supervised-Learning-with-Predictability-Minimization/trained_models/cl_lin_pred_min/vkd2mvlc/cl_lin_pred_min-imagenet100-vkd2mvlc-ep=399.ckpt'), ('25jyy5nv', 'cl_lin_pred_min', 'imagenet100', 1000, '/hdd/backup_cluster_august_2023/Self-Supervised-Learning-with-Predictability-Minimization/Self-Supervised-Learning-with-Predictability-Minimization/trained_models/cl_lin_pred_min/25jyy5nv/cl_lin_pred_min-imagenet100-25jyy5nv-ep=999.ckpt'), ('3f0e8iva', 'cl_lin_pred_min', 'imagenet100', 400, '/hdd/backup_cluster_august_2023/Self-Supervised-Learning-with-Predictability-Minimization/Self-Supervised-Learning-with-Predictability-Minimization/trained_models/cl_lin_pred_min/3f0e8iva/cl_lin_pred_min-imagenet100-3f0e8iva-ep=399.ckpt'), ('eoavbqp6', 'cl_lin_pred_min', 'imagenet100', 400, '/hdd/backup_cluster_august_2023/Self-Supervised-Learning-with-Predictability-Minimization/Self-Supervised-Learning-with-Predictability-Minimization/trained_models/cl_lin_pred_min/eoavbqp6/cl_lin_pred_min-imagenet100-eoavbqp6-ep=399.ckpt'), ('jmp2p663', 'cl_lin_pred_min', 'cifar10', 1000, '/hdd/backup_cluster_august_2023/Self-Supervised-Learning-with-Predictability-Minimization/Self-Supervised-Learning-with-Predictability-Minimization/trained_models/cl_lin_pred_min/jmp2p663/cl_lin_pred_min-cifar10-jmp2p663-ep=999.ckpt'), ('th5iye5v', 'cl_lin_pred_min', 'imagenet100', 400, '/hdd/backup_cluster_august_2023/Self-Supervised-Learning-with-Predictability-Minimization/Self-Supervised-Learning-with-Predictability-Minimization/trained_models/cl_lin_pred_min/th5iye5v/cl_lin_pred_min-imagenet100-th5iye5v-ep=399.ckpt'), ('wgv332i9', 'cl_lin_pred_min', 'imagenet100', 400, '/hdd/backup_cluster_august_2023/Self-Supervised-Learning-with-Predictability-Minimization/Self-Supervised-Learning-with-Predictability-Minimization/trained_models/cl_lin_pred_min/wgv332i9/cl_lin_pred_min-imagenet100-wgv332i9-ep=399.ckpt'), ('ndf0kggr', 'cl_lin_pred_min', 'imagenet100', 400, '/hdd/backup_cluster_august_2023/Self-Supervised-Learning-with-Predictability-Minimization/Self-Supervised-Learning-with-Predictability-Minimization/trained_models/cl_lin_pred_min/ndf0kggr/cl_lin_pred_min-imagenet100-ndf0kggr-ep=399.ckpt'), ('ediltapt', 'cl_lin_pred_min', 'imagenet100', 400, '/hdd/backup_cluster_august_2023/Self-Supervised-Learning-with-Predictability-Minimization/Self-Supervised-Learning-with-Predictability-Minimization/trained_models/cl_lin_pred_min/ediltapt/cl_lin_pred_min-imagenet100-ediltapt-ep=399.ckpt'), ('cej8x0bm', 'cl_lin_pred_min', 'imagenet100', 400, '/hdd/backup_cluster_august_2023/Self-Supervised-Learning-with-Predictability-Minimization/Self-Supervised-Learning-with-Predictability-Minimization/trained_models/cl_lin_pred_min/cej8x0bm/cl_lin_pred_min-imagenet100-cej8x0bm-ep=399.ckpt'), ('0f1kbywn', 'cl_lin_pred_min', 'cifar10', 1000, '/hdd/backup_cluster_august_2023/Self-Supervised-Learning-with-Predictability-Minimization/Self-Supervised-Learning-with-Predictability-Minimization/trained_models/cl_lin_pred_min/0f1kbywn/cl_lin_pred_min-cifar10-0f1kbywn-ep=999.ckpt'), ('t7e941rb', 'cl_lin_pred_min', 'imagenet100', 400, '/hdd/backup_cluster_august_2023/Self-Supervised-Learning-with-Predictability-Minimization/Self-Supervised-Learning-with-Predictability-Minimization/trained_models/cl_lin_pred_min/t7e941rb/cl_lin_pred_min-imagenet100-t7e941rb-ep=399.ckpt'), ('c7vzbg9t', 'cl_lin_pred_min', 'imagenet100', 400, '/hdd/backup_cluster_august_2023/Self-Supervised-Learning-with-Predictability-Minimization/Self-Supervised-Learning-with-Predictability-Minimization/trained_models/cl_lin_pred_min/c7vzbg9t/cl_lin_pred_min-imagenet100-c7vzbg9t-ep=399.ckpt'), ('2ji3gyu1', 'cl_lin_pred_min', 'cifar10', 1000, '/hdd/backup_cluster_august_2023/Self-Supervised-Learning-with-Predictability-Minimization/Self-Supervised-Learning-with-Predictability-Minimization/trained_models/cl_lin_pred_min/2ji3gyu1/cl_lin_pred_min-cifar10-2ji3gyu1-ep=999.ckpt'), ('znm1ny4g', 'cl_lin_pred_min', 'imagenet100', 400, '/hdd/backup_cluster_august_2023/Self-Supervised-Learning-with-Predictability-Minimization/Self-Supervised-Learning-with-Predictability-Minimization/trained_models/cl_lin_pred_min/znm1ny4g/cl_lin_pred_min-imagenet100-znm1ny4g-ep=399.ckpt'), ('6ri2n99z', 'cl_lin_pred_min', 'cifar100', 1000, '/hdd/backup_cluster_august_2023/Self-Supervised-Learning-with-Predictability-Minimization/Self-Supervised-Learning-with-Predictability-Minimization/trained_models/cl_lin_pred_min/6ri2n99z/cl_lin_pred_min-cifar100-6ri2n99z-ep=999.ckpt'), ('rq3fl24b', 'cl_lin_pred_min', 'imagenet100', 1000, '/hdd/backup_cluster_august_2023/Self-Supervised-Learning-with-Predictability-Minimization/Self-Supervised-Learning-with-Predictability-Minimization/trained_models/cl_lin_pred_min/rq3fl24b/cl_lin_pred_min-imagenet100-rq3fl24b-ep=999.ckpt'), ('b6a1rjjd', 'cl_lin_pred_min', 'imagenet100', 1000, '/hdd/backup_cluster_august_2023/Self-Supervised-Learning-with-Predictability-Minimization/Self-Supervised-Learning-with-Predictability-Minimization/trained_models/cl_lin_pred_min/b6a1rjjd/cl_lin_pred_min-imagenet100-b6a1rjjd-ep=999.ckpt'), ('cw2gznyp', 'cl_lin_pred_min', 'imagenet100', 400, '/hdd/backup_cluster_august_2023/Self-Supervised-Learning-with-Predictability-Minimization/Self-Supervised-Learning-with-Predictability-Minimization/trained_models/cl_lin_pred_min/cw2gznyp/cl_lin_pred_min-imagenet100-cw2gznyp-ep=399.ckpt'), ('czl1e2vs', 'cl_lin_pred_min', 'imagenet100', 400, '/hdd/backup_cluster_august_2023/Self-Supervised-Learning-with-Predictability-Minimization/Self-Supervised-Learning-with-Predictability-Minimization/trained_models/cl_lin_pred_min/czl1e2vs/cl_lin_pred_min-imagenet100-czl1e2vs-ep=399.ckpt'), ('fko9gigm', 'cl_lin_pred_min', 'cifar10', 1000, '/hdd/backup_cluster_august_2023/Self-Supervised-Learning-with-Predictability-Minimization/Self-Supervised-Learning-with-Predictability-Minimization/trained_models/cl_lin_pred_min/fko9gigm/cl_lin_pred_min-cifar10-fko9gigm-ep=999.ckpt'), ('5lpx244e', 'cl_lin_pred_min', 'imagenet100', 1000, '/hdd/backup_cluster_august_2023/Self-Supervised-Learning-with-Predictability-Minimization/Self-Supervised-Learning-with-Predictability-Minimization/trained_models/cl_lin_pred_min/5lpx244e/cl_lin_pred_min-imagenet100-5lpx244e-ep=999.ckpt'), ('62kaptx2', 'mocov3', 'imagenet100', 400, '/hdd/backup_cluster_august_2023/Self-Supervised-Learning-with-Predictability-Minimization/Self-Supervised-Learning-with-Predictability-Minimization/trained_models/mocov3/62kaptx2/mocov3-imagenet100-62kaptx2-ep=399.ckpt'), ('d3e2qopt', 'mocov3', 'cifar10', 1000, '/hdd/backup_cluster_august_2023/Self-Supervised-Learning-with-Predictability-Minimization/Self-Supervised-Learning-with-Predictability-Minimization/trained_models/mocov3/d3e2qopt/mocov3-cifar10-d3e2qopt-ep=999.ckpt'), ('f2sw89sq', 'mocov3', 'cifar100', 1000, '/hdd/backup_cluster_august_2023/Self-Supervised-Learning-with-Predictability-Minimization/Self-Supervised-Learning-with-Predictability-Minimization/trained_models/mocov3/f2sw89sq/mocov3-cifar100-f2sw89sq-ep=999.ckpt'), ('1vnlapw9', 'mocov3', 'imagenet100', 400, '/hdd/backup_cluster_august_2023/Self-Supervised-Learning-with-Predictability-Minimization/Self-Supervised-Learning-with-Predictability-Minimization/trained_models/mocov3/1vnlapw9/mocov3-imagenet100-1vnlapw9-ep=399.ckpt'), ('6ctmjq2e', 'mocov3', 'cifar100', 1000, '/hdd/backup_cluster_august_2023/Self-Supervised-Learning-with-Predictability-Minimization/Self-Supervised-Learning-with-Predictability-Minimization/trained_models/mocov3/6ctmjq2e/mocov3-cifar100-6ctmjq2e-ep=999.ckpt'), ('onqz6ldk', 'mocov3', 'cifar10', 1000, '/hdd/backup_cluster_august_2023/Self-Supervised-Learning-with-Predictability-Minimization/Self-Supervised-Learning-with-Predictability-Minimization/trained_models/mocov3/onqz6ldk/mocov3-cifar10-onqz6ldk-ep=999.ckpt'), ('439p1boi', 'barlow_twins', 'imagenet100', 400, '/hdd/backup_cluster_august_2023/Self-Supervised-Learning-with-Predictability-Minimization/Self-Supervised-Learning-with-Predictability-Minimization/trained_models/barlow_twins/439p1boi/barlow_twins-imagenet100-439p1boi-ep=399.ckpt'), ('66w0odub', 'barlow_twins', 'cifar10', 1000, '/hdd/backup_cluster_august_2023/Self-Supervised-Learning-with-Predictability-Minimization/Self-Supervised-Learning-with-Predictability-Minimization/trained_models/barlow_twins/66w0odub/barlow_twins-cifar10-66w0odub-ep=999.ckpt'), ('my30vqpk', 'barlow_twins', 'cifar10', 1000, '/hdd/backup_cluster_august_2023/Self-Supervised-Learning-with-Predictability-Minimization/Self-Supervised-Learning-with-Predictability-Minimization/trained_models/barlow_twins/my30vqpk/barlow_twins-cifar10-my30vqpk-ep=999.ckpt'), ('gkyyt0r7', 'barlow_twins', 'cifar100', 1000, '/hdd/backup_cluster_august_2023/Self-Supervised-Learning-with-Predictability-Minimization/Self-Supervised-Learning-with-Predictability-Minimization/trained_models/barlow_twins/gkyyt0r7/barlow_twins-cifar100-gkyyt0r7-ep=999.ckpt'), ('mw1brkzw', 'barlow_twins', 'imagenet100', 400, '/hdd/backup_cluster_august_2023/Self-Supervised-Learning-with-Predictability-Minimization/Self-Supervised-Learning-with-Predictability-Minimization/trained_models/barlow_twins/mw1brkzw/barlow_twins-imagenet100-mw1brkzw-ep=399.ckpt'), ('krn1yxsb', 'barlow_twins', 'cifar100', 1000, '/hdd/backup_cluster_august_2023/Self-Supervised-Learning-with-Predictability-Minimization/Self-Supervised-Learning-with-Predictability-Minimization/trained_models/barlow_twins/krn1yxsb/barlow_twins-cifar100-krn1yxsb-ep=999.ckpt'), ('3ih3ejt3', 'vibcreg', 'cifar100', 1000, '/hdd/backup_cluster_august_2023/Self-Supervised-Learning-with-Predictability-Minimization/Self-Supervised-Learning-with-Predictability-Minimization/trained_models/vibcreg/3ih3ejt3/vibcreg-cifar100-3ih3ejt3-ep=999.ckpt'), ('4zre6v8l', 'vibcreg', 'cifar10', 1000, '/hdd/backup_cluster_august_2023/Self-Supervised-Learning-with-Predictability-Minimization/Self-Supervised-Learning-with-Predictability-Minimization/trained_models/vibcreg/4zre6v8l/vibcreg-cifar10-4zre6v8l-ep=999.ckpt'), ('hbjjmktg', 'vibcreg', 'imagenet100', 400, '/hdd/backup_cluster_august_2023/Self-Supervised-Learning-with-Predictability-Minimization/Self-Supervised-Learning-with-Predictability-Minimization/trained_models/vibcreg/hbjjmktg/vibcreg-imagenet100-hbjjmktg-ep=399.ckpt'), ('9tjxisb5', 'vibcreg', 'imagenet100', 400, '/hdd/backup_cluster_august_2023/Self-Supervised-Learning-with-Predictability-Minimization/Self-Supervised-Learning-with-Predictability-Minimization/trained_models/vibcreg/9tjxisb5/vibcreg-imagenet100-9tjxisb5-ep=399.ckpt'), ('6lxrq5la', 'vibcreg', 'cifar100', 1000, '/hdd/backup_cluster_august_2023/Self-Supervised-Learning-with-Predictability-Minimization/Self-Supervised-Learning-with-Predictability-Minimization/trained_models/vibcreg/6lxrq5la/vibcreg-cifar100-6lxrq5la-ep=999.ckpt'), ('t4i239rs', 'vibcreg', 'cifar10', 1000, '/hdd/backup_cluster_august_2023/Self-Supervised-Learning-with-Predictability-Minimization/Self-Supervised-Learning-with-Predictability-Minimization/trained_models/vibcreg/t4i239rs/vibcreg-cifar10-t4i239rs-ep=999.ckpt'), ('5n852aih', 'byol', 'cifar10', 1000, '/hdd/backup_cluster_august_2023/Self-Supervised-Learning-with-Predictability-Minimization/Self-Supervised-Learning-with-Predictability-Minimization/trained_models/byol/5n852aih/byol-cifar10-5n852aih-ep=999.ckpt'), ('9b5fuzbl', 'byol', 'imagenet100', 400, '/hdd/backup_cluster_august_2023/Self-Supervised-Learning-with-Predictability-Minimization/Self-Supervised-Learning-with-Predictability-Minimization/trained_models/byol/9b5fuzbl/byol-imagenet100-9b5fuzbl-ep=399.ckpt'), ('1myzhgng', 'byol', 'cifar100', 1000, '/hdd/backup_cluster_august_2023/Self-Supervised-Learning-with-Predictability-Minimization/Self-Supervised-Learning-with-Predictability-Minimization/trained_models/byol/1myzhgng/byol-cifar100-1myzhgng-ep=999.ckpt'), ('lrw9nxzu', 'byol', 'cifar10', 1000, '/hdd/backup_cluster_august_2023/Self-Supervised-Learning-with-Predictability-Minimization/Self-Supervised-Learning-with-Predictability-Minimization/trained_models/byol/lrw9nxzu/byol-cifar10-lrw9nxzu-ep=999.ckpt'), ('fnnlb6qc', 'byol', 'cifar100', 1000, '/hdd/backup_cluster_august_2023/Self-Supervised-Learning-with-Predictability-Minimization/Self-Supervised-Learning-with-Predictability-Minimization/trained_models/byol/fnnlb6qc/byol-cifar100-fnnlb6qc-ep=999.ckpt'), ('x8lhg4g8', 'byol', 'imagenet100', 400, '/hdd/backup_cluster_august_2023/Self-Supervised-Learning-with-Predictability-Minimization/Self-Supervised-Learning-with-Predictability-Minimization/trained_models/byol/x8lhg4g8/byol-imagenet100-x8lhg4g8-ep=399.ckpt'), ('a5bvf8l3', 'nnclr', 'cifar100', 1000, '/hdd/backup_cluster_august_2023/Self-Supervised-Learning-with-Predictability-Minimization/Self-Supervised-Learning-with-Predictability-Minimization/trained_models/nnclr/a5bvf8l3/nnclr-cifar100-a5bvf8l3-ep=999.ckpt'), ('kkuyrw9p', 'nnclr', 'cifar10', 1000, '/hdd/backup_cluster_august_2023/Self-Supervised-Learning-with-Predictability-Minimization/Self-Supervised-Learning-with-Predictability-Minimization/trained_models/nnclr/kkuyrw9p/nnclr-cifar10-kkuyrw9p-ep=999.ckpt'), ('wrm9s3ze', 'nnclr', 'imagenet100', 400, '/hdd/backup_cluster_august_2023/Self-Supervised-Learning-with-Predictability-Minimization/Self-Supervised-Learning-with-Predictability-Minimization/trained_models/nnclr/wrm9s3ze/nnclr-imagenet100-wrm9s3ze-ep=399.ckpt'), ('48rjp6ao', 'simclr', 'cifar10', 1000, '/hdd/backup_cluster_august_2023/Self-Supervised-Learning-with-Predictability-Minimization/Self-Supervised-Learning-with-Predictability-Minimization/trained_models/simclr/48rjp6ao/simclr-cifar10-48rjp6ao-ep=999.ckpt'), ('pel8yiix', 'simclr', 'imagenet100', 400, '/hdd/backup_cluster_august_2023/Self-Supervised-Learning-with-Predictability-Minimization/Self-Supervised-Learning-with-Predictability-Minimization/trained_models/simclr/pel8yiix/simclr-imagenet100-pel8yiix-ep=399.ckpt'), ('3kh01qs8', 'simclr', 'cifar100', 1000, '/hdd/backup_cluster_august_2023/Self-Supervised-Learning-with-Predictability-Minimization/Self-Supervised-Learning-with-Predictability-Minimization/trained_models/simclr/3kh01qs8/simclr-cifar100-3kh01qs8-ep=999.ckpt'), ('y6674tsl', 'simclr', 'cifar10', 1000, '/hdd/backup_cluster_august_2023/Self-Supervised-Learning-with-Predictability-Minimization/Self-Supervised-Learning-with-Predictability-Minimization/trained_models/simclr/y6674tsl/simclr-cifar10-y6674tsl-ep=999.ckpt'), ('5dgztcwi', 'simclr', 'cifar100', 1000, '/hdd/backup_cluster_august_2023/Self-Supervised-Learning-with-Predictability-Minimization/Self-Supervised-Learning-with-Predictability-Minimization/trained_models/simclr/5dgztcwi/simclr-cifar100-5dgztcwi-ep=999.ckpt')]\n"
     ]
    }
   ],
   "source": [
    "models_to_process = []\n",
    "\n",
    "# now we loop over all model paths\n",
    "for model_name, folder in model_paths:\n",
    "    # find all subfolders:\n",
    "    subfolders = glob.glob(folder + '/*')\n",
    "    # print(subfolders)\n",
    "    # iterate over all subfolder\n",
    "    for subfolder in subfolders:\n",
    "        # check out the args.json in the subfolder\n",
    "        args = json.load(open(subfolder + '/args.json'))\n",
    "        # find the dataset key\n",
    "        dataset = args['data']['dataset']\n",
    "        max_epochs = args['max_epochs']\n",
    "        run_id = args['wandb_run_id']\n",
    "        # check if there is a file in the subfolder that ends with  '{max_epochs-1}.ckpt', if so extract its path\n",
    "        possible_file = glob.glob(subfolder + f'/*{max_epochs-1}.ckpt')\n",
    "        # print(posible_file)\n",
    "        assert len(possible_file) <= 1\n",
    "        if len(possible_file) == 1:\n",
    "            models_to_process.append((run_id, model_name, dataset, max_epochs, possible_file[0]))\n",
    "print(models_to_process)"
   ]
  },
  {
   "cell_type": "code",
   "execution_count": 11,
   "metadata": {},
   "outputs": [
    {
     "name": "stderr",
     "output_type": "stream",
     "text": [
      "  0%|          | 0/62 [00:00<?, ?it/s]"
     ]
    },
    {
     "name": "stdout",
     "output_type": "stream",
     "text": [
      "/hdd/backup_cluster_august_2023/Self-Supervised-Learning-with-Predictability-Minimization/Self-Supervised-Learning-with-Predictability-Minimization/trained_models/vicreg/pxqwg3ex\n",
      "/hdd/backup_cluster_august_2023/Self-Supervised-Learning-with-Predictability-Minimization/Self-Supervised-Learning-with-Predictability-Minimization/trained_models/vicreg/pxqwg3ex/vicreg-imagenet100-pxqwg3ex-ep=399.ckpt\n"
     ]
    },
    {
     "name": "stderr",
     "output_type": "stream",
     "text": [
      "/home/david/.local/share/virtualenvs/Self-Supervised-Learning-with-Predictabili-RPXJKYD0/lib/python3.10/site-packages/umap/distances.py:1063: NumbaDeprecationWarning: The 'nopython' keyword argument was not supplied to the 'numba.jit' decorator. The implicit default value for this argument is currently False, but it will be changed to True in Numba 0.59.0. See https://numba.readthedocs.io/en/stable/reference/deprecation.html#deprecation-of-object-mode-fall-back-behaviour-when-using-jit for details.\n",
      "  @numba.jit()\n",
      "/home/david/.local/share/virtualenvs/Self-Supervised-Learning-with-Predictabili-RPXJKYD0/lib/python3.10/site-packages/umap/distances.py:1071: NumbaDeprecationWarning: The 'nopython' keyword argument was not supplied to the 'numba.jit' decorator. The implicit default value for this argument is currently False, but it will be changed to True in Numba 0.59.0. See https://numba.readthedocs.io/en/stable/reference/deprecation.html#deprecation-of-object-mode-fall-back-behaviour-when-using-jit for details.\n",
      "  @numba.jit()\n",
      "/home/david/.local/share/virtualenvs/Self-Supervised-Learning-with-Predictabili-RPXJKYD0/lib/python3.10/site-packages/umap/distances.py:1086: NumbaDeprecationWarning: The 'nopython' keyword argument was not supplied to the 'numba.jit' decorator. The implicit default value for this argument is currently False, but it will be changed to True in Numba 0.59.0. See https://numba.readthedocs.io/en/stable/reference/deprecation.html#deprecation-of-object-mode-fall-back-behaviour-when-using-jit for details.\n",
      "  @numba.jit()\n",
      "/home/david/.local/share/virtualenvs/Self-Supervised-Learning-with-Predictabili-RPXJKYD0/lib/python3.10/site-packages/umap/umap_.py:660: NumbaDeprecationWarning: The 'nopython' keyword argument was not supplied to the 'numba.jit' decorator. The implicit default value for this argument is currently False, but it will be changed to True in Numba 0.59.0. See https://numba.readthedocs.io/en/stable/reference/deprecation.html#deprecation-of-object-mode-fall-back-behaviour-when-using-jit for details.\n",
      "  @numba.jit()\n"
     ]
    },
    {
     "name": "stdout",
     "output_type": "stream",
     "text": [
      "{'name': 'vicreg-imagenet100', 'method': 'vicreg', 'backbone': {'name': 'resnet18', 'kwargs': {}}, 'method_kwargs': {'proj_hidden_dim': 2048, 'proj_output_dim': 2048, 'sim_loss_weight': 25.0, 'var_loss_weight': 25.0, 'cov_loss_weight': 1.0}, 'data': {'dataset': 'imagenet100', 'train_path': '/itet-stor/zdavid/net_scratch/data/ILSVRC2012_img_train_100', 'val_path': '/itet-stor/zdavid/net_scratch/data/ILSVRC2012_img_val_100', 'format': 'dali', 'num_workers': 4, 'no_labels': False, 'fraction': -1, 'num_classes': 100, 'num_large_crops': 2, 'num_small_crops': 0}, 'augmentations': [{'rrc': {'enabled': True, 'crop_min_scale': 0.2, 'crop_max_scale': 1.0}, 'color_jitter': {'prob': 0.8, 'brightness': 0.4, 'contrast': 0.4, 'saturation': 0.2, 'hue': 0.1}, 'grayscale': {'prob': 0.2}, 'gaussian_blur': {'prob': 0.5}, 'solarization': {'prob': 0.1}, 'equalization': {'prob': 0.0}, 'horizontal_flip': {'prob': 0.5}, 'crop_size': 224, 'num_crops': 2}], 'optimizer': {'name': 'lars', 'batch_size': 128, 'lr': 0.3, 'classifier_lr': 0.1, 'weight_decay': 0.0001, 'kwargs': {'clip_lr': True, 'eta': 0.02, 'exclude_bias_n_norm': True, 'momentum': 0.9}, 'exclude_bias_n_norm_wd': False}, 'scheduler': {'name': 'warmup_cosine', 'lr_decay_steps': None, 'min_lr': 0.0, 'warmup_start_lr': 3e-05, 'warmup_epochs': 10, 'interval': 'step'}, 'checkpoint': {'enabled': True, 'dir': 'trained_models', 'frequency': 1, 'keep_prev': False}, 'auto_resume': {'enabled': True, 'max_hours': 36}, 'max_epochs': 400, 'devices': [0, 1], 'sync_batchnorm': True, 'accelerator': 'gpu', 'strategy': 'ddp', 'precision': 16, 'wandb': {'enabled': True, 'entity': None, 'project': 'solo-learn', 'offline': False}, 'dali': {'device': 'gpu', 'encode_indexes_into_labels': False}, 'auto_umap': {'enabled': False, 'dir': 'auto_umap', 'frequency': 1}, 'debug_augmentations': False, 'seed': 5, 'resume_from_checkpoint': None, 'num_nodes': 1, 'accumulate_grad_batches': 1, 'knn_eval': {'enabled': False, 'k': 20, 'distance_func': 'euclidean'}, 'performance': {'disable_channel_last': False}, 'wandb_run_id': 'pxqwg3ex'}\n"
     ]
    },
    {
     "name": "stderr",
     "output_type": "stream",
     "text": [
      "WARNING:root:Using scheduler_interval=step might generate issues when resuming a checkpoint.\n",
      "Collecting features:   0%|          | 0/989 [00:00<?, ?it/s]"
     ]
    },
    {
     "name": "stdout",
     "output_type": "stream",
     "text": [
      "{'name': 'vicreg-imagenet100', 'method': 'vicreg', 'backbone': {'name': 'resnet18', 'kwargs': {}}, 'method_kwargs': {'proj_hidden_dim': 2048, 'proj_output_dim': 2048, 'sim_loss_weight': 25.0, 'var_loss_weight': 25.0, 'cov_loss_weight': 1.0}, 'data': {'dataset': 'imagenet100', 'train_path': '/itet-stor/zdavid/net_scratch/data/ILSVRC2012_img_train_100', 'val_path': '/itet-stor/zdavid/net_scratch/data/ILSVRC2012_img_val_100', 'format': 'dali', 'num_workers': 4, 'no_labels': False, 'fraction': -1, 'num_classes': 100, 'num_large_crops': 2, 'num_small_crops': 0}, 'augmentations': [{'rrc': {'enabled': True, 'crop_min_scale': 0.2, 'crop_max_scale': 1.0}, 'color_jitter': {'prob': 0.8, 'brightness': 0.4, 'contrast': 0.4, 'saturation': 0.2, 'hue': 0.1}, 'grayscale': {'prob': 0.2}, 'gaussian_blur': {'prob': 0.5}, 'solarization': {'prob': 0.1}, 'equalization': {'prob': 0.0}, 'horizontal_flip': {'prob': 0.5}, 'crop_size': 224, 'num_crops': 2}], 'optimizer': {'name': 'lars', 'batch_size': 128, 'lr': 0.3, 'classifier_lr': 0.1, 'weight_decay': 0.0001, 'kwargs': {'clip_lr': True, 'eta': 0.02, 'exclude_bias_n_norm': True, 'momentum': 0.9}, 'exclude_bias_n_norm_wd': False}, 'scheduler': {'name': 'warmup_cosine', 'lr_decay_steps': None, 'min_lr': 0.0, 'warmup_start_lr': 3e-05, 'warmup_epochs': 10, 'interval': 'step'}, 'checkpoint': {'enabled': True, 'dir': 'trained_models', 'frequency': 1, 'keep_prev': False}, 'auto_resume': {'enabled': True, 'max_hours': 36}, 'max_epochs': 400, 'devices': [0, 1], 'sync_batchnorm': True, 'accelerator': 'gpu', 'strategy': 'ddp', 'precision': 16, 'wandb': {'enabled': True, 'entity': None, 'project': 'solo-learn', 'offline': False}, 'dali': {'device': 'gpu', 'encode_indexes_into_labels': False}, 'auto_umap': {'enabled': False, 'dir': 'auto_umap', 'frequency': 1}, 'debug_augmentations': False, 'seed': 5, 'resume_from_checkpoint': None, 'num_nodes': 1, 'accumulate_grad_batches': 1, 'knn_eval': {'enabled': False, 'k': 20, 'distance_func': 'euclidean'}, 'performance': {'disable_channel_last': False}, 'wandb_run_id': 'pxqwg3ex'}\n",
      "CFG:  vicreg-imagenet100 pxqwg3ex\n"
     ]
    },
    {
     "name": "stderr",
     "output_type": "stream",
     "text": [
      "Collecting features: 100%|██████████| 989/989 [01:08<00:00, 14.53it/s]\n",
      "Collecting features: 100%|██████████| 40/40 [00:03<00:00, 10.46it/s]\n",
      "  2%|▏         | 1/62 [01:40<1:41:40, 100.00s/it]"
     ]
    },
    {
     "name": "stdout",
     "output_type": "stream",
     "text": [
      "/hdd/backup_cluster_august_2023/Self-Supervised-Learning-with-Predictability-Minimization/Self-Supervised-Learning-with-Predictability-Minimization/trained_models/vicreg/000hudwm\n",
      "/hdd/backup_cluster_august_2023/Self-Supervised-Learning-with-Predictability-Minimization/Self-Supervised-Learning-with-Predictability-Minimization/trained_models/vicreg/000hudwm/vicreg-cifar100-000hudwm-ep=999.ckpt\n"
     ]
    },
    {
     "name": "stderr",
     "output_type": "stream",
     "text": [
      "/home/david/.local/share/virtualenvs/Self-Supervised-Learning-with-Predictabili-RPXJKYD0/lib/python3.10/site-packages/umap/distances.py:1063: NumbaDeprecationWarning: The 'nopython' keyword argument was not supplied to the 'numba.jit' decorator. The implicit default value for this argument is currently False, but it will be changed to True in Numba 0.59.0. See https://numba.readthedocs.io/en/stable/reference/deprecation.html#deprecation-of-object-mode-fall-back-behaviour-when-using-jit for details.\n",
      "  @numba.jit()\n",
      "/home/david/.local/share/virtualenvs/Self-Supervised-Learning-with-Predictabili-RPXJKYD0/lib/python3.10/site-packages/umap/distances.py:1071: NumbaDeprecationWarning: The 'nopython' keyword argument was not supplied to the 'numba.jit' decorator. The implicit default value for this argument is currently False, but it will be changed to True in Numba 0.59.0. See https://numba.readthedocs.io/en/stable/reference/deprecation.html#deprecation-of-object-mode-fall-back-behaviour-when-using-jit for details.\n",
      "  @numba.jit()\n",
      "/home/david/.local/share/virtualenvs/Self-Supervised-Learning-with-Predictabili-RPXJKYD0/lib/python3.10/site-packages/umap/distances.py:1086: NumbaDeprecationWarning: The 'nopython' keyword argument was not supplied to the 'numba.jit' decorator. The implicit default value for this argument is currently False, but it will be changed to True in Numba 0.59.0. See https://numba.readthedocs.io/en/stable/reference/deprecation.html#deprecation-of-object-mode-fall-back-behaviour-when-using-jit for details.\n",
      "  @numba.jit()\n",
      "/home/david/.local/share/virtualenvs/Self-Supervised-Learning-with-Predictabili-RPXJKYD0/lib/python3.10/site-packages/umap/umap_.py:660: NumbaDeprecationWarning: The 'nopython' keyword argument was not supplied to the 'numba.jit' decorator. The implicit default value for this argument is currently False, but it will be changed to True in Numba 0.59.0. See https://numba.readthedocs.io/en/stable/reference/deprecation.html#deprecation-of-object-mode-fall-back-behaviour-when-using-jit for details.\n",
      "  @numba.jit()\n"
     ]
    },
    {
     "name": "stdout",
     "output_type": "stream",
     "text": [
      "{'name': 'vicreg-cifar100', 'method': 'vicreg', 'backbone': {'name': 'resnet18', 'kwargs': {}}, 'method_kwargs': {'proj_hidden_dim': 2048, 'proj_output_dim': 2048, 'sim_loss_weight': 25.0, 'var_loss_weight': 25.0, 'cov_loss_weight': 1.0}, 'data': {'dataset': 'cifar100', 'train_path': './datasets', 'val_path': 'datasets/imagenet100/val', 'format': 'image_folder', 'num_workers': 4, 'no_labels': False, 'fraction': -1, 'num_classes': 100, 'num_large_crops': 2, 'num_small_crops': 0}, 'augmentations': [{'rrc': {'enabled': True, 'crop_min_scale': 0.2, 'crop_max_scale': 1.0}, 'color_jitter': {'enabled': True, 'brightness': 0.4, 'contrast': 0.4, 'saturation': 0.2, 'hue': 0.1, 'prob': 0.8}, 'grayscale': {'enabled': True, 'prob': 0.2}, 'gaussian_blur': {'enabled': False, 'prob': 0.0}, 'solarization': {'enabled': True, 'prob': 0.1}, 'equalization': {'enabled': False, 'prob': 0.0}, 'horizontal_flip': {'enabled': True, 'prob': 0.5}, 'crop_size': 32, 'num_crops': 2}], 'optimizer': {'name': 'lars', 'batch_size': 256, 'lr': 0.3, 'classifier_lr': 0.1, 'weight_decay': 0.0001, 'kwargs': {'clip_lr': True, 'eta': 0.02, 'exclude_bias_n_norm': True, 'momentum': 0.9}, 'exclude_bias_n_norm_wd': False}, 'scheduler': {'name': 'warmup_cosine', 'lr_decay_steps': None, 'min_lr': 0.0, 'warmup_start_lr': 3e-05, 'warmup_epochs': 10, 'interval': 'step'}, 'checkpoint': {'enabled': True, 'dir': 'trained_models', 'frequency': 1, 'keep_prev': False}, 'auto_resume': {'enabled': True, 'max_hours': 36}, 'max_epochs': 1000, 'devices': [0], 'sync_batchnorm': True, 'accelerator': 'gpu', 'strategy': 'ddp', 'precision': 16, 'wandb': {'enabled': True, 'entity': None, 'project': 'solo-learn', 'offline': False}, 'dali': {'device': 'gpu', 'encode_indexes_into_labels': False}, 'auto_umap': {'enabled': False, 'dir': 'auto_umap', 'frequency': 1}, 'debug_augmentations': False, 'seed': 5, 'resume_from_checkpoint': None, 'num_nodes': 1, 'accumulate_grad_batches': 1, 'knn_eval': {'enabled': False, 'k': 20, 'distance_func': 'euclidean'}, 'performance': {'disable_channel_last': False}, 'wandb_run_id': '000hudwm'}\n"
     ]
    },
    {
     "name": "stderr",
     "output_type": "stream",
     "text": [
      "WARNING:root:Using scheduler_interval=step might generate issues when resuming a checkpoint.\n"
     ]
    },
    {
     "name": "stdout",
     "output_type": "stream",
     "text": [
      "Downloading https://www.cs.toronto.edu/~kriz/cifar-100-python.tar.gz to datasets/cifar-100-python.tar.gz\n"
     ]
    },
    {
     "name": "stderr",
     "output_type": "stream",
     "text": [
      "100%|██████████| 169001437/169001437 [01:18<00:00, 2166083.13it/s]\n"
     ]
    },
    {
     "name": "stdout",
     "output_type": "stream",
     "text": [
      "Extracting datasets/cifar-100-python.tar.gz to datasets\n",
      "Files already downloaded and verified\n",
      "{'name': 'vicreg-cifar100', 'method': 'vicreg', 'backbone': {'name': 'resnet18', 'kwargs': {}}, 'method_kwargs': {'proj_hidden_dim': 2048, 'proj_output_dim': 2048, 'sim_loss_weight': 25.0, 'var_loss_weight': 25.0, 'cov_loss_weight': 1.0}, 'data': {'dataset': 'cifar100', 'train_path': './datasets', 'val_path': 'datasets/imagenet100/val', 'format': 'image_folder', 'num_workers': 4, 'no_labels': False, 'fraction': -1, 'num_classes': 100, 'num_large_crops': 2, 'num_small_crops': 0}, 'augmentations': [{'rrc': {'enabled': True, 'crop_min_scale': 0.2, 'crop_max_scale': 1.0}, 'color_jitter': {'enabled': True, 'brightness': 0.4, 'contrast': 0.4, 'saturation': 0.2, 'hue': 0.1, 'prob': 0.8}, 'grayscale': {'enabled': True, 'prob': 0.2}, 'gaussian_blur': {'enabled': False, 'prob': 0.0}, 'solarization': {'enabled': True, 'prob': 0.1}, 'equalization': {'enabled': False, 'prob': 0.0}, 'horizontal_flip': {'enabled': True, 'prob': 0.5}, 'crop_size': 32, 'num_crops': 2}], 'optimizer': {'name': 'lars', 'batch_size': 256, 'lr': 0.3, 'classifier_lr': 0.1, 'weight_decay': 0.0001, 'kwargs': {'clip_lr': True, 'eta': 0.02, 'exclude_bias_n_norm': True, 'momentum': 0.9}, 'exclude_bias_n_norm_wd': False}, 'scheduler': {'name': 'warmup_cosine', 'lr_decay_steps': None, 'min_lr': 0.0, 'warmup_start_lr': 3e-05, 'warmup_epochs': 10, 'interval': 'step'}, 'checkpoint': {'enabled': True, 'dir': 'trained_models', 'frequency': 1, 'keep_prev': False}, 'auto_resume': {'enabled': True, 'max_hours': 36}, 'max_epochs': 1000, 'devices': [0], 'sync_batchnorm': True, 'accelerator': 'gpu', 'strategy': 'ddp', 'precision': 16, 'wandb': {'enabled': True, 'entity': None, 'project': 'solo-learn', 'offline': False}, 'dali': {'device': 'gpu', 'encode_indexes_into_labels': False}, 'auto_umap': {'enabled': False, 'dir': 'auto_umap', 'frequency': 1}, 'debug_augmentations': False, 'seed': 5, 'resume_from_checkpoint': None, 'num_nodes': 1, 'accumulate_grad_batches': 1, 'knn_eval': {'enabled': False, 'k': 20, 'distance_func': 'euclidean'}, 'performance': {'disable_channel_last': False}, 'wandb_run_id': '000hudwm'}\n",
      "CFG:  vicreg-cifar100 000hudwm\n"
     ]
    },
    {
     "name": "stderr",
     "output_type": "stream",
     "text": [
      "Collecting features: 100%|██████████| 390/390 [00:05<00:00, 76.11it/s]\n",
      "Collecting features: 100%|██████████| 79/79 [00:01<00:00, 72.91it/s]\n",
      "  3%|▎         | 2/62 [03:25<1:43:06, 103.10s/it]"
     ]
    },
    {
     "name": "stdout",
     "output_type": "stream",
     "text": [
      "/hdd/backup_cluster_august_2023/Self-Supervised-Learning-with-Predictability-Minimization/Self-Supervised-Learning-with-Predictability-Minimization/trained_models/vicreg/31yfnww4\n",
      "/hdd/backup_cluster_august_2023/Self-Supervised-Learning-with-Predictability-Minimization/Self-Supervised-Learning-with-Predictability-Minimization/trained_models/vicreg/31yfnww4/vicreg-cifar100-31yfnww4-ep=999.ckpt\n"
     ]
    },
    {
     "name": "stderr",
     "output_type": "stream",
     "text": [
      "/home/david/.local/share/virtualenvs/Self-Supervised-Learning-with-Predictabili-RPXJKYD0/lib/python3.10/site-packages/umap/distances.py:1063: NumbaDeprecationWarning: The 'nopython' keyword argument was not supplied to the 'numba.jit' decorator. The implicit default value for this argument is currently False, but it will be changed to True in Numba 0.59.0. See https://numba.readthedocs.io/en/stable/reference/deprecation.html#deprecation-of-object-mode-fall-back-behaviour-when-using-jit for details.\n",
      "  @numba.jit()\n",
      "/home/david/.local/share/virtualenvs/Self-Supervised-Learning-with-Predictabili-RPXJKYD0/lib/python3.10/site-packages/umap/distances.py:1071: NumbaDeprecationWarning: The 'nopython' keyword argument was not supplied to the 'numba.jit' decorator. The implicit default value for this argument is currently False, but it will be changed to True in Numba 0.59.0. See https://numba.readthedocs.io/en/stable/reference/deprecation.html#deprecation-of-object-mode-fall-back-behaviour-when-using-jit for details.\n",
      "  @numba.jit()\n",
      "/home/david/.local/share/virtualenvs/Self-Supervised-Learning-with-Predictabili-RPXJKYD0/lib/python3.10/site-packages/umap/distances.py:1086: NumbaDeprecationWarning: The 'nopython' keyword argument was not supplied to the 'numba.jit' decorator. The implicit default value for this argument is currently False, but it will be changed to True in Numba 0.59.0. See https://numba.readthedocs.io/en/stable/reference/deprecation.html#deprecation-of-object-mode-fall-back-behaviour-when-using-jit for details.\n",
      "  @numba.jit()\n",
      "/home/david/.local/share/virtualenvs/Self-Supervised-Learning-with-Predictabili-RPXJKYD0/lib/python3.10/site-packages/umap/umap_.py:660: NumbaDeprecationWarning: The 'nopython' keyword argument was not supplied to the 'numba.jit' decorator. The implicit default value for this argument is currently False, but it will be changed to True in Numba 0.59.0. See https://numba.readthedocs.io/en/stable/reference/deprecation.html#deprecation-of-object-mode-fall-back-behaviour-when-using-jit for details.\n",
      "  @numba.jit()\n"
     ]
    },
    {
     "name": "stdout",
     "output_type": "stream",
     "text": [
      "{'name': 'vicreg-cifar100', 'method': 'vicreg', 'backbone': {'name': 'resnet18', 'kwargs': {}}, 'method_kwargs': {'proj_hidden_dim': 2048, 'proj_output_dim': 2048, 'sim_loss_weight': 25.0, 'var_loss_weight': 25.0, 'cov_loss_weight': 1.0}, 'data': {'dataset': 'cifar100', 'train_path': './datasets', 'val_path': 'datasets/imagenet100/val', 'format': 'image_folder', 'num_workers': 4, 'no_labels': False, 'fraction': -1, 'num_classes': 100, 'num_large_crops': 2, 'num_small_crops': 0}, 'augmentations': [{'rrc': {'enabled': True, 'crop_min_scale': 0.2, 'crop_max_scale': 1.0}, 'color_jitter': {'enabled': True, 'brightness': 0.4, 'contrast': 0.4, 'saturation': 0.2, 'hue': 0.1, 'prob': 0.8}, 'grayscale': {'enabled': True, 'prob': 0.2}, 'gaussian_blur': {'enabled': False, 'prob': 0.0}, 'solarization': {'enabled': True, 'prob': 0.1}, 'equalization': {'enabled': False, 'prob': 0.0}, 'horizontal_flip': {'enabled': True, 'prob': 0.5}, 'crop_size': 32, 'num_crops': 2}], 'optimizer': {'name': 'lars', 'batch_size': 256, 'lr': 0.3, 'classifier_lr': 0.1, 'weight_decay': 0.0001, 'kwargs': {'clip_lr': True, 'eta': 0.02, 'exclude_bias_n_norm': True, 'momentum': 0.9}, 'exclude_bias_n_norm_wd': False}, 'scheduler': {'name': 'warmup_cosine', 'lr_decay_steps': None, 'min_lr': 0.0, 'warmup_start_lr': 3e-05, 'warmup_epochs': 10, 'interval': 'step'}, 'checkpoint': {'enabled': True, 'dir': 'trained_models', 'frequency': 1, 'keep_prev': False}, 'auto_resume': {'enabled': True, 'max_hours': 36}, 'max_epochs': 1000, 'devices': [0], 'sync_batchnorm': True, 'accelerator': 'gpu', 'strategy': 'ddp', 'precision': 16, 'wandb': {'enabled': True, 'entity': None, 'project': 'solo-learn', 'offline': False}, 'dali': {'device': 'gpu', 'encode_indexes_into_labels': False}, 'auto_umap': {'enabled': False, 'dir': 'auto_umap', 'frequency': 1}, 'debug_augmentations': False, 'seed': 5, 'resume_from_checkpoint': None, 'num_nodes': 1, 'accumulate_grad_batches': 1, 'knn_eval': {'enabled': False, 'k': 20, 'distance_func': 'euclidean'}, 'performance': {'disable_channel_last': False}, 'wandb_run_id': '31yfnww4'}\n"
     ]
    },
    {
     "name": "stderr",
     "output_type": "stream",
     "text": [
      "WARNING:root:Using scheduler_interval=step might generate issues when resuming a checkpoint.\n"
     ]
    },
    {
     "name": "stdout",
     "output_type": "stream",
     "text": [
      "Files already downloaded and verified\n",
      "Files already downloaded and verified\n",
      "{'name': 'vicreg-cifar100', 'method': 'vicreg', 'backbone': {'name': 'resnet18', 'kwargs': {}}, 'method_kwargs': {'proj_hidden_dim': 2048, 'proj_output_dim': 2048, 'sim_loss_weight': 25.0, 'var_loss_weight': 25.0, 'cov_loss_weight': 1.0}, 'data': {'dataset': 'cifar100', 'train_path': './datasets', 'val_path': 'datasets/imagenet100/val', 'format': 'image_folder', 'num_workers': 4, 'no_labels': False, 'fraction': -1, 'num_classes': 100, 'num_large_crops': 2, 'num_small_crops': 0}, 'augmentations': [{'rrc': {'enabled': True, 'crop_min_scale': 0.2, 'crop_max_scale': 1.0}, 'color_jitter': {'enabled': True, 'brightness': 0.4, 'contrast': 0.4, 'saturation': 0.2, 'hue': 0.1, 'prob': 0.8}, 'grayscale': {'enabled': True, 'prob': 0.2}, 'gaussian_blur': {'enabled': False, 'prob': 0.0}, 'solarization': {'enabled': True, 'prob': 0.1}, 'equalization': {'enabled': False, 'prob': 0.0}, 'horizontal_flip': {'enabled': True, 'prob': 0.5}, 'crop_size': 32, 'num_crops': 2}], 'optimizer': {'name': 'lars', 'batch_size': 256, 'lr': 0.3, 'classifier_lr': 0.1, 'weight_decay': 0.0001, 'kwargs': {'clip_lr': True, 'eta': 0.02, 'exclude_bias_n_norm': True, 'momentum': 0.9}, 'exclude_bias_n_norm_wd': False}, 'scheduler': {'name': 'warmup_cosine', 'lr_decay_steps': None, 'min_lr': 0.0, 'warmup_start_lr': 3e-05, 'warmup_epochs': 10, 'interval': 'step'}, 'checkpoint': {'enabled': True, 'dir': 'trained_models', 'frequency': 1, 'keep_prev': False}, 'auto_resume': {'enabled': True, 'max_hours': 36}, 'max_epochs': 1000, 'devices': [0], 'sync_batchnorm': True, 'accelerator': 'gpu', 'strategy': 'ddp', 'precision': 16, 'wandb': {'enabled': True, 'entity': None, 'project': 'solo-learn', 'offline': False}, 'dali': {'device': 'gpu', 'encode_indexes_into_labels': False}, 'auto_umap': {'enabled': False, 'dir': 'auto_umap', 'frequency': 1}, 'debug_augmentations': False, 'seed': 5, 'resume_from_checkpoint': None, 'num_nodes': 1, 'accumulate_grad_batches': 1, 'knn_eval': {'enabled': False, 'k': 20, 'distance_func': 'euclidean'}, 'performance': {'disable_channel_last': False}, 'wandb_run_id': '31yfnww4'}\n",
      "CFG:  vicreg-cifar100 31yfnww4\n"
     ]
    },
    {
     "name": "stderr",
     "output_type": "stream",
     "text": [
      "Collecting features: 100%|██████████| 390/390 [00:05<00:00, 75.90it/s]\n",
      "Collecting features: 100%|██████████| 79/79 [00:01<00:00, 72.38it/s]\n",
      "  5%|▍         | 3/62 [03:50<1:06:29, 67.62s/it] "
     ]
    },
    {
     "name": "stdout",
     "output_type": "stream",
     "text": [
      "/hdd/backup_cluster_august_2023/Self-Supervised-Learning-with-Predictability-Minimization/Self-Supervised-Learning-with-Predictability-Minimization/trained_models/vicreg/ihgpptnq\n",
      "/hdd/backup_cluster_august_2023/Self-Supervised-Learning-with-Predictability-Minimization/Self-Supervised-Learning-with-Predictability-Minimization/trained_models/vicreg/ihgpptnq/vicreg-imagenet100-ihgpptnq-ep=399.ckpt\n"
     ]
    },
    {
     "name": "stderr",
     "output_type": "stream",
     "text": [
      "/home/david/.local/share/virtualenvs/Self-Supervised-Learning-with-Predictabili-RPXJKYD0/lib/python3.10/site-packages/umap/distances.py:1063: NumbaDeprecationWarning: The 'nopython' keyword argument was not supplied to the 'numba.jit' decorator. The implicit default value for this argument is currently False, but it will be changed to True in Numba 0.59.0. See https://numba.readthedocs.io/en/stable/reference/deprecation.html#deprecation-of-object-mode-fall-back-behaviour-when-using-jit for details.\n",
      "  @numba.jit()\n",
      "/home/david/.local/share/virtualenvs/Self-Supervised-Learning-with-Predictabili-RPXJKYD0/lib/python3.10/site-packages/umap/distances.py:1071: NumbaDeprecationWarning: The 'nopython' keyword argument was not supplied to the 'numba.jit' decorator. The implicit default value for this argument is currently False, but it will be changed to True in Numba 0.59.0. See https://numba.readthedocs.io/en/stable/reference/deprecation.html#deprecation-of-object-mode-fall-back-behaviour-when-using-jit for details.\n",
      "  @numba.jit()\n",
      "/home/david/.local/share/virtualenvs/Self-Supervised-Learning-with-Predictabili-RPXJKYD0/lib/python3.10/site-packages/umap/distances.py:1086: NumbaDeprecationWarning: The 'nopython' keyword argument was not supplied to the 'numba.jit' decorator. The implicit default value for this argument is currently False, but it will be changed to True in Numba 0.59.0. See https://numba.readthedocs.io/en/stable/reference/deprecation.html#deprecation-of-object-mode-fall-back-behaviour-when-using-jit for details.\n",
      "  @numba.jit()\n",
      "/home/david/.local/share/virtualenvs/Self-Supervised-Learning-with-Predictabili-RPXJKYD0/lib/python3.10/site-packages/umap/umap_.py:660: NumbaDeprecationWarning: The 'nopython' keyword argument was not supplied to the 'numba.jit' decorator. The implicit default value for this argument is currently False, but it will be changed to True in Numba 0.59.0. See https://numba.readthedocs.io/en/stable/reference/deprecation.html#deprecation-of-object-mode-fall-back-behaviour-when-using-jit for details.\n",
      "  @numba.jit()\n"
     ]
    },
    {
     "name": "stdout",
     "output_type": "stream",
     "text": [
      "{'name': 'vicreg-imagenet100', 'method': 'vicreg', 'backbone': {'name': 'resnet18', 'kwargs': {}}, 'method_kwargs': {'proj_hidden_dim': 2048, 'proj_output_dim': 2048, 'sim_loss_weight': 25.0, 'var_loss_weight': 25.0, 'cov_loss_weight': 1.0}, 'data': {'dataset': 'imagenet100', 'train_path': '/itet-stor/zdavid/net_scratch/data/ILSVRC2012_img_train_100', 'val_path': '/itet-stor/zdavid/net_scratch/data/ILSVRC2012_img_val_100', 'format': 'dali', 'num_workers': 4, 'no_labels': False, 'fraction': -1, 'num_classes': 100, 'num_large_crops': 2, 'num_small_crops': 0}, 'augmentations': [{'rrc': {'enabled': True, 'crop_min_scale': 0.2, 'crop_max_scale': 1.0}, 'color_jitter': {'prob': 0.8, 'brightness': 0.4, 'contrast': 0.4, 'saturation': 0.2, 'hue': 0.1}, 'grayscale': {'prob': 0.2}, 'gaussian_blur': {'prob': 0.5}, 'solarization': {'prob': 0.1}, 'equalization': {'prob': 0.0}, 'horizontal_flip': {'prob': 0.5}, 'crop_size': 224, 'num_crops': 2}], 'optimizer': {'name': 'lars', 'batch_size': 128, 'lr': 0.3, 'classifier_lr': 0.1, 'weight_decay': 0.0001, 'kwargs': {'clip_lr': True, 'eta': 0.02, 'exclude_bias_n_norm': True, 'momentum': 0.9}, 'exclude_bias_n_norm_wd': False}, 'scheduler': {'name': 'warmup_cosine', 'lr_decay_steps': None, 'min_lr': 0.0, 'warmup_start_lr': 3e-05, 'warmup_epochs': 10, 'interval': 'step'}, 'checkpoint': {'enabled': True, 'dir': 'trained_models', 'frequency': 1, 'keep_prev': False}, 'auto_resume': {'enabled': True, 'max_hours': 36}, 'max_epochs': 400, 'devices': [0, 1], 'sync_batchnorm': True, 'accelerator': 'gpu', 'strategy': 'ddp', 'precision': 16, 'wandb': {'enabled': True, 'entity': None, 'project': 'solo-learn', 'offline': False}, 'dali': {'device': 'gpu', 'encode_indexes_into_labels': False}, 'auto_umap': {'enabled': False, 'dir': 'auto_umap', 'frequency': 1}, 'debug_augmentations': False, 'seed': 5, 'resume_from_checkpoint': None, 'num_nodes': 1, 'accumulate_grad_batches': 1, 'knn_eval': {'enabled': False, 'k': 20, 'distance_func': 'euclidean'}, 'performance': {'disable_channel_last': False}, 'wandb_run_id': 'ihgpptnq'}\n"
     ]
    },
    {
     "name": "stderr",
     "output_type": "stream",
     "text": [
      "WARNING:root:Using scheduler_interval=step might generate issues when resuming a checkpoint.\n",
      "Collecting features:   0%|          | 0/989 [00:00<?, ?it/s]"
     ]
    },
    {
     "name": "stdout",
     "output_type": "stream",
     "text": [
      "{'name': 'vicreg-imagenet100', 'method': 'vicreg', 'backbone': {'name': 'resnet18', 'kwargs': {}}, 'method_kwargs': {'proj_hidden_dim': 2048, 'proj_output_dim': 2048, 'sim_loss_weight': 25.0, 'var_loss_weight': 25.0, 'cov_loss_weight': 1.0}, 'data': {'dataset': 'imagenet100', 'train_path': '/itet-stor/zdavid/net_scratch/data/ILSVRC2012_img_train_100', 'val_path': '/itet-stor/zdavid/net_scratch/data/ILSVRC2012_img_val_100', 'format': 'dali', 'num_workers': 4, 'no_labels': False, 'fraction': -1, 'num_classes': 100, 'num_large_crops': 2, 'num_small_crops': 0}, 'augmentations': [{'rrc': {'enabled': True, 'crop_min_scale': 0.2, 'crop_max_scale': 1.0}, 'color_jitter': {'prob': 0.8, 'brightness': 0.4, 'contrast': 0.4, 'saturation': 0.2, 'hue': 0.1}, 'grayscale': {'prob': 0.2}, 'gaussian_blur': {'prob': 0.5}, 'solarization': {'prob': 0.1}, 'equalization': {'prob': 0.0}, 'horizontal_flip': {'prob': 0.5}, 'crop_size': 224, 'num_crops': 2}], 'optimizer': {'name': 'lars', 'batch_size': 128, 'lr': 0.3, 'classifier_lr': 0.1, 'weight_decay': 0.0001, 'kwargs': {'clip_lr': True, 'eta': 0.02, 'exclude_bias_n_norm': True, 'momentum': 0.9}, 'exclude_bias_n_norm_wd': False}, 'scheduler': {'name': 'warmup_cosine', 'lr_decay_steps': None, 'min_lr': 0.0, 'warmup_start_lr': 3e-05, 'warmup_epochs': 10, 'interval': 'step'}, 'checkpoint': {'enabled': True, 'dir': 'trained_models', 'frequency': 1, 'keep_prev': False}, 'auto_resume': {'enabled': True, 'max_hours': 36}, 'max_epochs': 400, 'devices': [0, 1], 'sync_batchnorm': True, 'accelerator': 'gpu', 'strategy': 'ddp', 'precision': 16, 'wandb': {'enabled': True, 'entity': None, 'project': 'solo-learn', 'offline': False}, 'dali': {'device': 'gpu', 'encode_indexes_into_labels': False}, 'auto_umap': {'enabled': False, 'dir': 'auto_umap', 'frequency': 1}, 'debug_augmentations': False, 'seed': 5, 'resume_from_checkpoint': None, 'num_nodes': 1, 'accumulate_grad_batches': 1, 'knn_eval': {'enabled': False, 'k': 20, 'distance_func': 'euclidean'}, 'performance': {'disable_channel_last': False}, 'wandb_run_id': 'ihgpptnq'}\n",
      "CFG:  vicreg-imagenet100 ihgpptnq\n"
     ]
    },
    {
     "name": "stderr",
     "output_type": "stream",
     "text": [
      "Collecting features: 100%|██████████| 989/989 [01:04<00:00, 15.22it/s]\n",
      "Collecting features: 100%|██████████| 40/40 [00:03<00:00, 11.59it/s]\n",
      "  6%|▋         | 4/62 [05:29<1:17:23, 80.07s/it]"
     ]
    },
    {
     "name": "stdout",
     "output_type": "stream",
     "text": [
      "/hdd/backup_cluster_august_2023/Self-Supervised-Learning-with-Predictability-Minimization/Self-Supervised-Learning-with-Predictability-Minimization/trained_models/vicreg/ko7v7xmw\n",
      "/hdd/backup_cluster_august_2023/Self-Supervised-Learning-with-Predictability-Minimization/Self-Supervised-Learning-with-Predictability-Minimization/trained_models/vicreg/ko7v7xmw/vicreg-cifar10-ko7v7xmw-ep=999.ckpt\n"
     ]
    },
    {
     "name": "stderr",
     "output_type": "stream",
     "text": [
      "/home/david/.local/share/virtualenvs/Self-Supervised-Learning-with-Predictabili-RPXJKYD0/lib/python3.10/site-packages/umap/distances.py:1063: NumbaDeprecationWarning: The 'nopython' keyword argument was not supplied to the 'numba.jit' decorator. The implicit default value for this argument is currently False, but it will be changed to True in Numba 0.59.0. See https://numba.readthedocs.io/en/stable/reference/deprecation.html#deprecation-of-object-mode-fall-back-behaviour-when-using-jit for details.\n",
      "  @numba.jit()\n",
      "/home/david/.local/share/virtualenvs/Self-Supervised-Learning-with-Predictabili-RPXJKYD0/lib/python3.10/site-packages/umap/distances.py:1071: NumbaDeprecationWarning: The 'nopython' keyword argument was not supplied to the 'numba.jit' decorator. The implicit default value for this argument is currently False, but it will be changed to True in Numba 0.59.0. See https://numba.readthedocs.io/en/stable/reference/deprecation.html#deprecation-of-object-mode-fall-back-behaviour-when-using-jit for details.\n",
      "  @numba.jit()\n",
      "/home/david/.local/share/virtualenvs/Self-Supervised-Learning-with-Predictabili-RPXJKYD0/lib/python3.10/site-packages/umap/distances.py:1086: NumbaDeprecationWarning: The 'nopython' keyword argument was not supplied to the 'numba.jit' decorator. The implicit default value for this argument is currently False, but it will be changed to True in Numba 0.59.0. See https://numba.readthedocs.io/en/stable/reference/deprecation.html#deprecation-of-object-mode-fall-back-behaviour-when-using-jit for details.\n",
      "  @numba.jit()\n",
      "/home/david/.local/share/virtualenvs/Self-Supervised-Learning-with-Predictabili-RPXJKYD0/lib/python3.10/site-packages/umap/umap_.py:660: NumbaDeprecationWarning: The 'nopython' keyword argument was not supplied to the 'numba.jit' decorator. The implicit default value for this argument is currently False, but it will be changed to True in Numba 0.59.0. See https://numba.readthedocs.io/en/stable/reference/deprecation.html#deprecation-of-object-mode-fall-back-behaviour-when-using-jit for details.\n",
      "  @numba.jit()\n"
     ]
    },
    {
     "name": "stdout",
     "output_type": "stream",
     "text": [
      "{'name': 'vicreg-cifar10', 'method': 'vicreg', 'backbone': {'name': 'resnet18', 'kwargs': {}}, 'method_kwargs': {'proj_hidden_dim': 2048, 'proj_output_dim': 2048, 'sim_loss_weight': 25.0, 'var_loss_weight': 25.0, 'cov_loss_weight': 1.0}, 'data': {'dataset': 'cifar10', 'train_path': './datasets', 'val_path': 'datasets/imagenet100/val', 'format': 'image_folder', 'num_workers': 4, 'no_labels': False, 'fraction': -1, 'num_classes': 10, 'num_large_crops': 2, 'num_small_crops': 0}, 'augmentations': [{'rrc': {'enabled': True, 'crop_min_scale': 0.2, 'crop_max_scale': 1.0}, 'color_jitter': {'enabled': True, 'brightness': 0.4, 'contrast': 0.4, 'saturation': 0.2, 'hue': 0.1, 'prob': 0.8}, 'grayscale': {'enabled': True, 'prob': 0.2}, 'gaussian_blur': {'enabled': False, 'prob': 0.0}, 'solarization': {'enabled': True, 'prob': 0.1}, 'equalization': {'enabled': False, 'prob': 0.0}, 'horizontal_flip': {'enabled': True, 'prob': 0.5}, 'crop_size': 32, 'num_crops': 2}], 'optimizer': {'name': 'lars', 'batch_size': 256, 'lr': 0.3, 'classifier_lr': 0.1, 'weight_decay': 0.0001, 'kwargs': {'clip_lr': True, 'eta': 0.02, 'exclude_bias_n_norm': True, 'momentum': 0.9}, 'exclude_bias_n_norm_wd': False}, 'scheduler': {'name': 'warmup_cosine', 'lr_decay_steps': None, 'min_lr': 0.0, 'warmup_start_lr': 3e-05, 'warmup_epochs': 10, 'interval': 'step'}, 'checkpoint': {'enabled': True, 'dir': 'trained_models', 'frequency': 1, 'keep_prev': False}, 'auto_resume': {'enabled': True, 'max_hours': 36}, 'max_epochs': 1000, 'devices': [0], 'sync_batchnorm': True, 'accelerator': 'gpu', 'strategy': 'ddp', 'precision': 16, 'wandb': {'enabled': True, 'entity': None, 'project': 'solo-learn', 'offline': False}, 'dali': {'device': 'gpu', 'encode_indexes_into_labels': False}, 'auto_umap': {'enabled': False, 'dir': 'auto_umap', 'frequency': 1}, 'debug_augmentations': False, 'seed': 5, 'resume_from_checkpoint': None, 'num_nodes': 1, 'accumulate_grad_batches': 1, 'knn_eval': {'enabled': False, 'k': 20, 'distance_func': 'euclidean'}, 'performance': {'disable_channel_last': False}, 'wandb_run_id': 'ko7v7xmw'}\n"
     ]
    },
    {
     "name": "stderr",
     "output_type": "stream",
     "text": [
      "WARNING:root:Using scheduler_interval=step might generate issues when resuming a checkpoint.\n"
     ]
    },
    {
     "name": "stdout",
     "output_type": "stream",
     "text": [
      "Downloading https://www.cs.toronto.edu/~kriz/cifar-10-python.tar.gz to datasets/cifar-10-python.tar.gz\n"
     ]
    },
    {
     "name": "stderr",
     "output_type": "stream",
     "text": [
      "100%|██████████| 170498071/170498071 [00:59<00:00, 2872383.88it/s]\n"
     ]
    },
    {
     "name": "stdout",
     "output_type": "stream",
     "text": [
      "Extracting datasets/cifar-10-python.tar.gz to datasets\n",
      "Files already downloaded and verified\n",
      "{'name': 'vicreg-cifar10', 'method': 'vicreg', 'backbone': {'name': 'resnet18', 'kwargs': {}}, 'method_kwargs': {'proj_hidden_dim': 2048, 'proj_output_dim': 2048, 'sim_loss_weight': 25.0, 'var_loss_weight': 25.0, 'cov_loss_weight': 1.0}, 'data': {'dataset': 'cifar10', 'train_path': './datasets', 'val_path': 'datasets/imagenet100/val', 'format': 'image_folder', 'num_workers': 4, 'no_labels': False, 'fraction': -1, 'num_classes': 10, 'num_large_crops': 2, 'num_small_crops': 0}, 'augmentations': [{'rrc': {'enabled': True, 'crop_min_scale': 0.2, 'crop_max_scale': 1.0}, 'color_jitter': {'enabled': True, 'brightness': 0.4, 'contrast': 0.4, 'saturation': 0.2, 'hue': 0.1, 'prob': 0.8}, 'grayscale': {'enabled': True, 'prob': 0.2}, 'gaussian_blur': {'enabled': False, 'prob': 0.0}, 'solarization': {'enabled': True, 'prob': 0.1}, 'equalization': {'enabled': False, 'prob': 0.0}, 'horizontal_flip': {'enabled': True, 'prob': 0.5}, 'crop_size': 32, 'num_crops': 2}], 'optimizer': {'name': 'lars', 'batch_size': 256, 'lr': 0.3, 'classifier_lr': 0.1, 'weight_decay': 0.0001, 'kwargs': {'clip_lr': True, 'eta': 0.02, 'exclude_bias_n_norm': True, 'momentum': 0.9}, 'exclude_bias_n_norm_wd': False}, 'scheduler': {'name': 'warmup_cosine', 'lr_decay_steps': None, 'min_lr': 0.0, 'warmup_start_lr': 3e-05, 'warmup_epochs': 10, 'interval': 'step'}, 'checkpoint': {'enabled': True, 'dir': 'trained_models', 'frequency': 1, 'keep_prev': False}, 'auto_resume': {'enabled': True, 'max_hours': 36}, 'max_epochs': 1000, 'devices': [0], 'sync_batchnorm': True, 'accelerator': 'gpu', 'strategy': 'ddp', 'precision': 16, 'wandb': {'enabled': True, 'entity': None, 'project': 'solo-learn', 'offline': False}, 'dali': {'device': 'gpu', 'encode_indexes_into_labels': False}, 'auto_umap': {'enabled': False, 'dir': 'auto_umap', 'frequency': 1}, 'debug_augmentations': False, 'seed': 5, 'resume_from_checkpoint': None, 'num_nodes': 1, 'accumulate_grad_batches': 1, 'knn_eval': {'enabled': False, 'k': 20, 'distance_func': 'euclidean'}, 'performance': {'disable_channel_last': False}, 'wandb_run_id': 'ko7v7xmw'}\n",
      "CFG:  vicreg-cifar10 ko7v7xmw\n"
     ]
    },
    {
     "name": "stderr",
     "output_type": "stream",
     "text": [
      "Collecting features: 100%|██████████| 390/390 [00:05<00:00, 75.72it/s]\n",
      "Collecting features: 100%|██████████| 79/79 [00:01<00:00, 71.18it/s]\n",
      "  8%|▊         | 5/62 [06:55<1:18:06, 82.22s/it]"
     ]
    },
    {
     "name": "stdout",
     "output_type": "stream",
     "text": [
      "/hdd/backup_cluster_august_2023/Self-Supervised-Learning-with-Predictability-Minimization/Self-Supervised-Learning-with-Predictability-Minimization/trained_models/vicreg/oapd6xab\n",
      "/hdd/backup_cluster_august_2023/Self-Supervised-Learning-with-Predictability-Minimization/Self-Supervised-Learning-with-Predictability-Minimization/trained_models/vicreg/oapd6xab/vicreg-cifar10-oapd6xab-ep=999.ckpt\n"
     ]
    },
    {
     "name": "stderr",
     "output_type": "stream",
     "text": [
      "/home/david/.local/share/virtualenvs/Self-Supervised-Learning-with-Predictabili-RPXJKYD0/lib/python3.10/site-packages/umap/distances.py:1063: NumbaDeprecationWarning: The 'nopython' keyword argument was not supplied to the 'numba.jit' decorator. The implicit default value for this argument is currently False, but it will be changed to True in Numba 0.59.0. See https://numba.readthedocs.io/en/stable/reference/deprecation.html#deprecation-of-object-mode-fall-back-behaviour-when-using-jit for details.\n",
      "  @numba.jit()\n",
      "/home/david/.local/share/virtualenvs/Self-Supervised-Learning-with-Predictabili-RPXJKYD0/lib/python3.10/site-packages/umap/distances.py:1071: NumbaDeprecationWarning: The 'nopython' keyword argument was not supplied to the 'numba.jit' decorator. The implicit default value for this argument is currently False, but it will be changed to True in Numba 0.59.0. See https://numba.readthedocs.io/en/stable/reference/deprecation.html#deprecation-of-object-mode-fall-back-behaviour-when-using-jit for details.\n",
      "  @numba.jit()\n",
      "/home/david/.local/share/virtualenvs/Self-Supervised-Learning-with-Predictabili-RPXJKYD0/lib/python3.10/site-packages/umap/distances.py:1086: NumbaDeprecationWarning: The 'nopython' keyword argument was not supplied to the 'numba.jit' decorator. The implicit default value for this argument is currently False, but it will be changed to True in Numba 0.59.0. See https://numba.readthedocs.io/en/stable/reference/deprecation.html#deprecation-of-object-mode-fall-back-behaviour-when-using-jit for details.\n",
      "  @numba.jit()\n",
      "/home/david/.local/share/virtualenvs/Self-Supervised-Learning-with-Predictabili-RPXJKYD0/lib/python3.10/site-packages/umap/umap_.py:660: NumbaDeprecationWarning: The 'nopython' keyword argument was not supplied to the 'numba.jit' decorator. The implicit default value for this argument is currently False, but it will be changed to True in Numba 0.59.0. See https://numba.readthedocs.io/en/stable/reference/deprecation.html#deprecation-of-object-mode-fall-back-behaviour-when-using-jit for details.\n",
      "  @numba.jit()\n"
     ]
    },
    {
     "name": "stdout",
     "output_type": "stream",
     "text": [
      "{'name': 'vicreg-cifar10', 'method': 'vicreg', 'backbone': {'name': 'resnet18', 'kwargs': {}}, 'method_kwargs': {'proj_hidden_dim': 2048, 'proj_output_dim': 2048, 'sim_loss_weight': 25.0, 'var_loss_weight': 25.0, 'cov_loss_weight': 1.0}, 'data': {'dataset': 'cifar10', 'train_path': './datasets', 'val_path': 'datasets/imagenet100/val', 'format': 'image_folder', 'num_workers': 4, 'no_labels': False, 'fraction': -1, 'num_classes': 10, 'num_large_crops': 2, 'num_small_crops': 0}, 'augmentations': [{'rrc': {'enabled': True, 'crop_min_scale': 0.2, 'crop_max_scale': 1.0}, 'color_jitter': {'enabled': True, 'brightness': 0.4, 'contrast': 0.4, 'saturation': 0.2, 'hue': 0.1, 'prob': 0.8}, 'grayscale': {'enabled': True, 'prob': 0.2}, 'gaussian_blur': {'enabled': False, 'prob': 0.0}, 'solarization': {'enabled': True, 'prob': 0.1}, 'equalization': {'enabled': False, 'prob': 0.0}, 'horizontal_flip': {'enabled': True, 'prob': 0.5}, 'crop_size': 32, 'num_crops': 2}], 'optimizer': {'name': 'lars', 'batch_size': 256, 'lr': 0.3, 'classifier_lr': 0.1, 'weight_decay': 0.0001, 'kwargs': {'clip_lr': True, 'eta': 0.02, 'exclude_bias_n_norm': True, 'momentum': 0.9}, 'exclude_bias_n_norm_wd': False}, 'scheduler': {'name': 'warmup_cosine', 'lr_decay_steps': None, 'min_lr': 0.0, 'warmup_start_lr': 3e-05, 'warmup_epochs': 10, 'interval': 'step'}, 'checkpoint': {'enabled': True, 'dir': 'trained_models', 'frequency': 1, 'keep_prev': False}, 'auto_resume': {'enabled': True, 'max_hours': 36}, 'max_epochs': 1000, 'devices': [0], 'sync_batchnorm': True, 'accelerator': 'gpu', 'strategy': 'ddp', 'precision': 16, 'wandb': {'enabled': True, 'entity': None, 'project': 'solo-learn', 'offline': False}, 'dali': {'device': 'gpu', 'encode_indexes_into_labels': False}, 'auto_umap': {'enabled': False, 'dir': 'auto_umap', 'frequency': 1}, 'debug_augmentations': False, 'seed': 5, 'resume_from_checkpoint': None, 'num_nodes': 1, 'accumulate_grad_batches': 1, 'knn_eval': {'enabled': False, 'k': 20, 'distance_func': 'euclidean'}, 'performance': {'disable_channel_last': False}, 'wandb_run_id': 'oapd6xab'}\n"
     ]
    },
    {
     "name": "stderr",
     "output_type": "stream",
     "text": [
      "WARNING:root:Using scheduler_interval=step might generate issues when resuming a checkpoint.\n"
     ]
    },
    {
     "name": "stdout",
     "output_type": "stream",
     "text": [
      "Files already downloaded and verified\n",
      "Files already downloaded and verified\n",
      "{'name': 'vicreg-cifar10', 'method': 'vicreg', 'backbone': {'name': 'resnet18', 'kwargs': {}}, 'method_kwargs': {'proj_hidden_dim': 2048, 'proj_output_dim': 2048, 'sim_loss_weight': 25.0, 'var_loss_weight': 25.0, 'cov_loss_weight': 1.0}, 'data': {'dataset': 'cifar10', 'train_path': './datasets', 'val_path': 'datasets/imagenet100/val', 'format': 'image_folder', 'num_workers': 4, 'no_labels': False, 'fraction': -1, 'num_classes': 10, 'num_large_crops': 2, 'num_small_crops': 0}, 'augmentations': [{'rrc': {'enabled': True, 'crop_min_scale': 0.2, 'crop_max_scale': 1.0}, 'color_jitter': {'enabled': True, 'brightness': 0.4, 'contrast': 0.4, 'saturation': 0.2, 'hue': 0.1, 'prob': 0.8}, 'grayscale': {'enabled': True, 'prob': 0.2}, 'gaussian_blur': {'enabled': False, 'prob': 0.0}, 'solarization': {'enabled': True, 'prob': 0.1}, 'equalization': {'enabled': False, 'prob': 0.0}, 'horizontal_flip': {'enabled': True, 'prob': 0.5}, 'crop_size': 32, 'num_crops': 2}], 'optimizer': {'name': 'lars', 'batch_size': 256, 'lr': 0.3, 'classifier_lr': 0.1, 'weight_decay': 0.0001, 'kwargs': {'clip_lr': True, 'eta': 0.02, 'exclude_bias_n_norm': True, 'momentum': 0.9}, 'exclude_bias_n_norm_wd': False}, 'scheduler': {'name': 'warmup_cosine', 'lr_decay_steps': None, 'min_lr': 0.0, 'warmup_start_lr': 3e-05, 'warmup_epochs': 10, 'interval': 'step'}, 'checkpoint': {'enabled': True, 'dir': 'trained_models', 'frequency': 1, 'keep_prev': False}, 'auto_resume': {'enabled': True, 'max_hours': 36}, 'max_epochs': 1000, 'devices': [0], 'sync_batchnorm': True, 'accelerator': 'gpu', 'strategy': 'ddp', 'precision': 16, 'wandb': {'enabled': True, 'entity': None, 'project': 'solo-learn', 'offline': False}, 'dali': {'device': 'gpu', 'encode_indexes_into_labels': False}, 'auto_umap': {'enabled': False, 'dir': 'auto_umap', 'frequency': 1}, 'debug_augmentations': False, 'seed': 5, 'resume_from_checkpoint': None, 'num_nodes': 1, 'accumulate_grad_batches': 1, 'knn_eval': {'enabled': False, 'k': 20, 'distance_func': 'euclidean'}, 'performance': {'disable_channel_last': False}, 'wandb_run_id': 'oapd6xab'}\n",
      "CFG:  vicreg-cifar10 oapd6xab\n"
     ]
    },
    {
     "name": "stderr",
     "output_type": "stream",
     "text": [
      "Collecting features: 100%|██████████| 390/390 [00:05<00:00, 74.70it/s]\n",
      "Collecting features: 100%|██████████| 79/79 [00:01<00:00, 71.55it/s]\n",
      " 10%|▉         | 6/62 [07:20<58:32, 62.72s/it]  "
     ]
    },
    {
     "name": "stdout",
     "output_type": "stream",
     "text": [
      "/hdd/backup_cluster_august_2023/Self-Supervised-Learning-with-Predictability-Minimization/Self-Supervised-Learning-with-Predictability-Minimization/trained_models/cl_lin_pred_min/4450okxr\n",
      "/hdd/backup_cluster_august_2023/Self-Supervised-Learning-with-Predictability-Minimization/Self-Supervised-Learning-with-Predictability-Minimization/trained_models/cl_lin_pred_min/4450okxr/cl_lin_pred_min-imagenet100-4450okxr-ep=399.ckpt\n"
     ]
    },
    {
     "name": "stderr",
     "output_type": "stream",
     "text": [
      "/home/david/.local/share/virtualenvs/Self-Supervised-Learning-with-Predictabili-RPXJKYD0/lib/python3.10/site-packages/umap/distances.py:1063: NumbaDeprecationWarning: The 'nopython' keyword argument was not supplied to the 'numba.jit' decorator. The implicit default value for this argument is currently False, but it will be changed to True in Numba 0.59.0. See https://numba.readthedocs.io/en/stable/reference/deprecation.html#deprecation-of-object-mode-fall-back-behaviour-when-using-jit for details.\n",
      "  @numba.jit()\n",
      "/home/david/.local/share/virtualenvs/Self-Supervised-Learning-with-Predictabili-RPXJKYD0/lib/python3.10/site-packages/umap/distances.py:1071: NumbaDeprecationWarning: The 'nopython' keyword argument was not supplied to the 'numba.jit' decorator. The implicit default value for this argument is currently False, but it will be changed to True in Numba 0.59.0. See https://numba.readthedocs.io/en/stable/reference/deprecation.html#deprecation-of-object-mode-fall-back-behaviour-when-using-jit for details.\n",
      "  @numba.jit()\n",
      "/home/david/.local/share/virtualenvs/Self-Supervised-Learning-with-Predictabili-RPXJKYD0/lib/python3.10/site-packages/umap/distances.py:1086: NumbaDeprecationWarning: The 'nopython' keyword argument was not supplied to the 'numba.jit' decorator. The implicit default value for this argument is currently False, but it will be changed to True in Numba 0.59.0. See https://numba.readthedocs.io/en/stable/reference/deprecation.html#deprecation-of-object-mode-fall-back-behaviour-when-using-jit for details.\n",
      "  @numba.jit()\n",
      "/home/david/.local/share/virtualenvs/Self-Supervised-Learning-with-Predictabili-RPXJKYD0/lib/python3.10/site-packages/umap/umap_.py:660: NumbaDeprecationWarning: The 'nopython' keyword argument was not supplied to the 'numba.jit' decorator. The implicit default value for this argument is currently False, but it will be changed to True in Numba 0.59.0. See https://numba.readthedocs.io/en/stable/reference/deprecation.html#deprecation-of-object-mode-fall-back-behaviour-when-using-jit for details.\n",
      "  @numba.jit()\n"
     ]
    },
    {
     "name": "stdout",
     "output_type": "stream",
     "text": [
      "{'name': 'cl_lin_pred_min-imagenet100', 'method': 'cl_lin_pred_min', 'backbone': {'name': 'resnet18', 'kwargs': {}}, 'method_kwargs': {'proj_hidden_dim': 2048, 'proj_output_dim': 128, 'mask_fraction': 0.5, 'lamb': 0.1, 'ridge_lambd': 0, 'proj_size': 3}, 'data': {'dataset': 'imagenet100', 'train_path': '/itet-stor/zdavid/net_scratch/data/ILSVRC2012_img_train_100', 'val_path': '/itet-stor/zdavid/net_scratch/data/ILSVRC2012_img_val_100', 'format': 'dali', 'num_workers': 4, 'no_labels': False, 'fraction': -1, 'num_classes': 100, 'num_large_crops': 2, 'num_small_crops': 0}, 'optimizer': {'name': 'lars', 'batch_size': 256, 'lr': 0.1, 'classifier_lr': 0.1, 'weight_decay': 0.0001, 'kwargs': {'clip_lr': True, 'eta': 0.02, 'exclude_bias_n_norm': True, 'momentum': 0.9}, 'exclude_bias_n_norm_wd': False}, 'scheduler': {'name': 'warmup_cosine', 'lr_decay_steps': None, 'min_lr': 0.0, 'warmup_start_lr': 3e-05, 'warmup_epochs': 10, 'interval': 'step'}, 'checkpoint': {'enabled': True, 'dir': 'trained_models', 'frequency': 1, 'keep_prev': False}, 'auto_resume': {'enabled': False, 'max_hours': 36}, 'max_epochs': 400, 'devices': [0], 'sync_batchnorm': True, 'accelerator': 'gpu', 'strategy': 'ddp', 'precision': 16, 'augmentations': [{'rrc': {'enabled': True, 'crop_min_scale': 0.08, 'crop_max_scale': 1.0}, 'color_jitter': {'prob': 0.8, 'brightness': 0.4, 'contrast': 0.4, 'saturation': 0.2, 'hue': 0.1}, 'grayscale': {'prob': 0.2}, 'gaussian_blur': {'prob': 1.0}, 'solarization': {'prob': 0.0}, 'equalization': {'prob': 0.0}, 'horizontal_flip': {'prob': 0.5}, 'crop_size': 224, 'num_crops': 1}, {'rrc': {'enabled': True, 'crop_min_scale': 0.08, 'crop_max_scale': 1.0}, 'color_jitter': {'prob': 0.8, 'brightness': 0.4, 'contrast': 0.4, 'saturation': 0.2, 'hue': 0.1}, 'grayscale': {'prob': 0.2}, 'gaussian_blur': {'prob': 0.1}, 'solarization': {'prob': 0.2}, 'equalization': {'prob': 0.0}, 'horizontal_flip': {'prob': 0.5}, 'crop_size': 224, 'num_crops': 1}], 'wandb': {'enabled': True, 'entity': None, 'project': 'solo-learn', 'offline': False}, 'dali': {'device': 'gpu', 'encode_indexes_into_labels': False}, 'auto_umap': {'enabled': False, 'dir': 'auto_umap', 'frequency': 1}, 'debug_augmentations': False, 'seed': 5, 'resume_from_checkpoint': None, 'num_nodes': 1, 'accumulate_grad_batches': 1, 'knn_eval': {'enabled': False, 'k': 20, 'distance_func': 'euclidean'}, 'performance': {'disable_channel_last': False}, 'wandb_run_id': '4450okxr'}\n"
     ]
    },
    {
     "name": "stderr",
     "output_type": "stream",
     "text": [
      "WARNING:root:Using scheduler_interval=step might generate issues when resuming a checkpoint.\n",
      "Collecting features:   0%|          | 0/989 [00:00<?, ?it/s]"
     ]
    },
    {
     "name": "stdout",
     "output_type": "stream",
     "text": [
      "{'name': 'cl_lin_pred_min-imagenet100', 'method': 'cl_lin_pred_min', 'backbone': {'name': 'resnet18', 'kwargs': {}}, 'method_kwargs': {'proj_hidden_dim': 2048, 'proj_output_dim': 128, 'mask_fraction': 0.5, 'lamb': 0.1, 'ridge_lambd': 0, 'proj_size': 3}, 'data': {'dataset': 'imagenet100', 'train_path': '/itet-stor/zdavid/net_scratch/data/ILSVRC2012_img_train_100', 'val_path': '/itet-stor/zdavid/net_scratch/data/ILSVRC2012_img_val_100', 'format': 'dali', 'num_workers': 4, 'no_labels': False, 'fraction': -1, 'num_classes': 100, 'num_large_crops': 2, 'num_small_crops': 0}, 'optimizer': {'name': 'lars', 'batch_size': 256, 'lr': 0.1, 'classifier_lr': 0.1, 'weight_decay': 0.0001, 'kwargs': {'clip_lr': True, 'eta': 0.02, 'exclude_bias_n_norm': True, 'momentum': 0.9}, 'exclude_bias_n_norm_wd': False}, 'scheduler': {'name': 'warmup_cosine', 'lr_decay_steps': None, 'min_lr': 0.0, 'warmup_start_lr': 3e-05, 'warmup_epochs': 10, 'interval': 'step'}, 'checkpoint': {'enabled': True, 'dir': 'trained_models', 'frequency': 1, 'keep_prev': False}, 'auto_resume': {'enabled': False, 'max_hours': 36}, 'max_epochs': 400, 'devices': [0], 'sync_batchnorm': True, 'accelerator': 'gpu', 'strategy': 'ddp', 'precision': 16, 'augmentations': [{'rrc': {'enabled': True, 'crop_min_scale': 0.08, 'crop_max_scale': 1.0}, 'color_jitter': {'prob': 0.8, 'brightness': 0.4, 'contrast': 0.4, 'saturation': 0.2, 'hue': 0.1}, 'grayscale': {'prob': 0.2}, 'gaussian_blur': {'prob': 1.0}, 'solarization': {'prob': 0.0}, 'equalization': {'prob': 0.0}, 'horizontal_flip': {'prob': 0.5}, 'crop_size': 224, 'num_crops': 1}, {'rrc': {'enabled': True, 'crop_min_scale': 0.08, 'crop_max_scale': 1.0}, 'color_jitter': {'prob': 0.8, 'brightness': 0.4, 'contrast': 0.4, 'saturation': 0.2, 'hue': 0.1}, 'grayscale': {'prob': 0.2}, 'gaussian_blur': {'prob': 0.1}, 'solarization': {'prob': 0.2}, 'equalization': {'prob': 0.0}, 'horizontal_flip': {'prob': 0.5}, 'crop_size': 224, 'num_crops': 1}], 'wandb': {'enabled': True, 'entity': None, 'project': 'solo-learn', 'offline': False}, 'dali': {'device': 'gpu', 'encode_indexes_into_labels': False}, 'auto_umap': {'enabled': False, 'dir': 'auto_umap', 'frequency': 1}, 'debug_augmentations': False, 'seed': 5, 'resume_from_checkpoint': None, 'num_nodes': 1, 'accumulate_grad_batches': 1, 'knn_eval': {'enabled': False, 'k': 20, 'distance_func': 'euclidean'}, 'performance': {'disable_channel_last': False}, 'wandb_run_id': '4450okxr'}\n",
      "CFG:  cl_lin_pred_min-imagenet100 4450okxr\n"
     ]
    },
    {
     "name": "stderr",
     "output_type": "stream",
     "text": [
      "Collecting features: 100%|██████████| 989/989 [01:05<00:00, 15.08it/s]\n",
      "Collecting features: 100%|██████████| 40/40 [00:03<00:00, 11.26it/s]\n",
      " 11%|█▏        | 7/62 [09:00<1:08:38, 74.88s/it]"
     ]
    },
    {
     "name": "stdout",
     "output_type": "stream",
     "text": [
      "/hdd/backup_cluster_august_2023/Self-Supervised-Learning-with-Predictability-Minimization/Self-Supervised-Learning-with-Predictability-Minimization/trained_models/cl_lin_pred_min/x6p8gwro\n",
      "/hdd/backup_cluster_august_2023/Self-Supervised-Learning-with-Predictability-Minimization/Self-Supervised-Learning-with-Predictability-Minimization/trained_models/cl_lin_pred_min/x6p8gwro/cl_lin_pred_min-imagenet100-x6p8gwro-ep=399.ckpt\n"
     ]
    },
    {
     "name": "stderr",
     "output_type": "stream",
     "text": [
      "/home/david/.local/share/virtualenvs/Self-Supervised-Learning-with-Predictabili-RPXJKYD0/lib/python3.10/site-packages/umap/distances.py:1063: NumbaDeprecationWarning: The 'nopython' keyword argument was not supplied to the 'numba.jit' decorator. The implicit default value for this argument is currently False, but it will be changed to True in Numba 0.59.0. See https://numba.readthedocs.io/en/stable/reference/deprecation.html#deprecation-of-object-mode-fall-back-behaviour-when-using-jit for details.\n",
      "  @numba.jit()\n",
      "/home/david/.local/share/virtualenvs/Self-Supervised-Learning-with-Predictabili-RPXJKYD0/lib/python3.10/site-packages/umap/distances.py:1071: NumbaDeprecationWarning: The 'nopython' keyword argument was not supplied to the 'numba.jit' decorator. The implicit default value for this argument is currently False, but it will be changed to True in Numba 0.59.0. See https://numba.readthedocs.io/en/stable/reference/deprecation.html#deprecation-of-object-mode-fall-back-behaviour-when-using-jit for details.\n",
      "  @numba.jit()\n",
      "/home/david/.local/share/virtualenvs/Self-Supervised-Learning-with-Predictabili-RPXJKYD0/lib/python3.10/site-packages/umap/distances.py:1086: NumbaDeprecationWarning: The 'nopython' keyword argument was not supplied to the 'numba.jit' decorator. The implicit default value for this argument is currently False, but it will be changed to True in Numba 0.59.0. See https://numba.readthedocs.io/en/stable/reference/deprecation.html#deprecation-of-object-mode-fall-back-behaviour-when-using-jit for details.\n",
      "  @numba.jit()\n",
      "/home/david/.local/share/virtualenvs/Self-Supervised-Learning-with-Predictabili-RPXJKYD0/lib/python3.10/site-packages/umap/umap_.py:660: NumbaDeprecationWarning: The 'nopython' keyword argument was not supplied to the 'numba.jit' decorator. The implicit default value for this argument is currently False, but it will be changed to True in Numba 0.59.0. See https://numba.readthedocs.io/en/stable/reference/deprecation.html#deprecation-of-object-mode-fall-back-behaviour-when-using-jit for details.\n",
      "  @numba.jit()\n"
     ]
    },
    {
     "name": "stdout",
     "output_type": "stream",
     "text": [
      "{'name': 'cl_lin_pred_min-imagenet100', 'method': 'cl_lin_pred_min', 'backbone': {'name': 'resnet18', 'kwargs': {}}, 'method_kwargs': {'proj_hidden_dim': 2048, 'proj_output_dim': 128, 'mask_fraction': 0.5, 'lamb': 0.225, 'ridge_lambd': 0, 'proj_size': 3}, 'data': {'dataset': 'imagenet100', 'train_path': '/itet-stor/zdavid/net_scratch/data/ILSVRC2012_img_train_100', 'val_path': '/itet-stor/zdavid/net_scratch/data/ILSVRC2012_img_val_100', 'format': 'dali', 'num_workers': 4, 'no_labels': False, 'fraction': -1, 'num_classes': 100, 'num_large_crops': 2, 'num_small_crops': 0}, 'optimizer': {'name': 'lars', 'batch_size': 256, 'lr': 0.3, 'classifier_lr': 0.1, 'weight_decay': 0.0001, 'kwargs': {'clip_lr': True, 'eta': 0.02, 'exclude_bias_n_norm': True, 'momentum': 0.9}, 'exclude_bias_n_norm_wd': False}, 'scheduler': {'name': 'warmup_cosine', 'lr_decay_steps': None, 'min_lr': 0.0, 'warmup_start_lr': 3e-05, 'warmup_epochs': 10, 'interval': 'step'}, 'checkpoint': {'enabled': True, 'dir': 'trained_models', 'frequency': 1, 'keep_prev': False}, 'auto_resume': {'enabled': False, 'max_hours': 36}, 'max_epochs': 400, 'devices': [0], 'sync_batchnorm': True, 'accelerator': 'gpu', 'strategy': 'ddp', 'precision': 16, 'augmentations': [{'rrc': {'enabled': True, 'crop_min_scale': 0.08, 'crop_max_scale': 1.0}, 'color_jitter': {'prob': 0.8, 'brightness': 0.4, 'contrast': 0.4, 'saturation': 0.2, 'hue': 0.1}, 'grayscale': {'prob': 0.2}, 'gaussian_blur': {'prob': 1.0}, 'solarization': {'prob': 0.0}, 'equalization': {'prob': 0.0}, 'horizontal_flip': {'prob': 0.5}, 'crop_size': 224, 'num_crops': 1}, {'rrc': {'enabled': True, 'crop_min_scale': 0.08, 'crop_max_scale': 1.0}, 'color_jitter': {'prob': 0.8, 'brightness': 0.4, 'contrast': 0.4, 'saturation': 0.2, 'hue': 0.1}, 'grayscale': {'prob': 0.2}, 'gaussian_blur': {'prob': 0.1}, 'solarization': {'prob': 0.2}, 'equalization': {'prob': 0.0}, 'horizontal_flip': {'prob': 0.5}, 'crop_size': 224, 'num_crops': 1}], 'wandb': {'enabled': True, 'entity': None, 'project': 'solo-learn', 'offline': False}, 'dali': {'device': 'gpu', 'encode_indexes_into_labels': False}, 'auto_umap': {'enabled': False, 'dir': 'auto_umap', 'frequency': 1}, 'debug_augmentations': False, 'seed': 5, 'resume_from_checkpoint': None, 'num_nodes': 1, 'accumulate_grad_batches': 1, 'knn_eval': {'enabled': False, 'k': 20, 'distance_func': 'euclidean'}, 'performance': {'disable_channel_last': False}, 'wandb_run_id': 'x6p8gwro'}\n"
     ]
    },
    {
     "name": "stderr",
     "output_type": "stream",
     "text": [
      "WARNING:root:Using scheduler_interval=step might generate issues when resuming a checkpoint.\n",
      "Collecting features:   0%|          | 0/989 [00:00<?, ?it/s]"
     ]
    },
    {
     "name": "stdout",
     "output_type": "stream",
     "text": [
      "{'name': 'cl_lin_pred_min-imagenet100', 'method': 'cl_lin_pred_min', 'backbone': {'name': 'resnet18', 'kwargs': {}}, 'method_kwargs': {'proj_hidden_dim': 2048, 'proj_output_dim': 128, 'mask_fraction': 0.5, 'lamb': 0.225, 'ridge_lambd': 0, 'proj_size': 3}, 'data': {'dataset': 'imagenet100', 'train_path': '/itet-stor/zdavid/net_scratch/data/ILSVRC2012_img_train_100', 'val_path': '/itet-stor/zdavid/net_scratch/data/ILSVRC2012_img_val_100', 'format': 'dali', 'num_workers': 4, 'no_labels': False, 'fraction': -1, 'num_classes': 100, 'num_large_crops': 2, 'num_small_crops': 0}, 'optimizer': {'name': 'lars', 'batch_size': 256, 'lr': 0.3, 'classifier_lr': 0.1, 'weight_decay': 0.0001, 'kwargs': {'clip_lr': True, 'eta': 0.02, 'exclude_bias_n_norm': True, 'momentum': 0.9}, 'exclude_bias_n_norm_wd': False}, 'scheduler': {'name': 'warmup_cosine', 'lr_decay_steps': None, 'min_lr': 0.0, 'warmup_start_lr': 3e-05, 'warmup_epochs': 10, 'interval': 'step'}, 'checkpoint': {'enabled': True, 'dir': 'trained_models', 'frequency': 1, 'keep_prev': False}, 'auto_resume': {'enabled': False, 'max_hours': 36}, 'max_epochs': 400, 'devices': [0], 'sync_batchnorm': True, 'accelerator': 'gpu', 'strategy': 'ddp', 'precision': 16, 'augmentations': [{'rrc': {'enabled': True, 'crop_min_scale': 0.08, 'crop_max_scale': 1.0}, 'color_jitter': {'prob': 0.8, 'brightness': 0.4, 'contrast': 0.4, 'saturation': 0.2, 'hue': 0.1}, 'grayscale': {'prob': 0.2}, 'gaussian_blur': {'prob': 1.0}, 'solarization': {'prob': 0.0}, 'equalization': {'prob': 0.0}, 'horizontal_flip': {'prob': 0.5}, 'crop_size': 224, 'num_crops': 1}, {'rrc': {'enabled': True, 'crop_min_scale': 0.08, 'crop_max_scale': 1.0}, 'color_jitter': {'prob': 0.8, 'brightness': 0.4, 'contrast': 0.4, 'saturation': 0.2, 'hue': 0.1}, 'grayscale': {'prob': 0.2}, 'gaussian_blur': {'prob': 0.1}, 'solarization': {'prob': 0.2}, 'equalization': {'prob': 0.0}, 'horizontal_flip': {'prob': 0.5}, 'crop_size': 224, 'num_crops': 1}], 'wandb': {'enabled': True, 'entity': None, 'project': 'solo-learn', 'offline': False}, 'dali': {'device': 'gpu', 'encode_indexes_into_labels': False}, 'auto_umap': {'enabled': False, 'dir': 'auto_umap', 'frequency': 1}, 'debug_augmentations': False, 'seed': 5, 'resume_from_checkpoint': None, 'num_nodes': 1, 'accumulate_grad_batches': 1, 'knn_eval': {'enabled': False, 'k': 20, 'distance_func': 'euclidean'}, 'performance': {'disable_channel_last': False}, 'wandb_run_id': 'x6p8gwro'}\n",
      "CFG:  cl_lin_pred_min-imagenet100 x6p8gwro\n"
     ]
    },
    {
     "name": "stderr",
     "output_type": "stream",
     "text": [
      "Collecting features: 100%|██████████| 989/989 [01:04<00:00, 15.23it/s]\n",
      "Collecting features: 100%|██████████| 40/40 [00:03<00:00, 11.78it/s]\n",
      " 13%|█▎        | 8/62 [10:40<1:14:26, 82.71s/it]"
     ]
    },
    {
     "name": "stdout",
     "output_type": "stream",
     "text": [
      "/hdd/backup_cluster_august_2023/Self-Supervised-Learning-with-Predictability-Minimization/Self-Supervised-Learning-with-Predictability-Minimization/trained_models/cl_lin_pred_min/vkd2mvlc\n",
      "/hdd/backup_cluster_august_2023/Self-Supervised-Learning-with-Predictability-Minimization/Self-Supervised-Learning-with-Predictability-Minimization/trained_models/cl_lin_pred_min/vkd2mvlc/cl_lin_pred_min-imagenet100-vkd2mvlc-ep=399.ckpt\n"
     ]
    },
    {
     "name": "stderr",
     "output_type": "stream",
     "text": [
      "/home/david/.local/share/virtualenvs/Self-Supervised-Learning-with-Predictabili-RPXJKYD0/lib/python3.10/site-packages/umap/distances.py:1063: NumbaDeprecationWarning: The 'nopython' keyword argument was not supplied to the 'numba.jit' decorator. The implicit default value for this argument is currently False, but it will be changed to True in Numba 0.59.0. See https://numba.readthedocs.io/en/stable/reference/deprecation.html#deprecation-of-object-mode-fall-back-behaviour-when-using-jit for details.\n",
      "  @numba.jit()\n",
      "/home/david/.local/share/virtualenvs/Self-Supervised-Learning-with-Predictabili-RPXJKYD0/lib/python3.10/site-packages/umap/distances.py:1071: NumbaDeprecationWarning: The 'nopython' keyword argument was not supplied to the 'numba.jit' decorator. The implicit default value for this argument is currently False, but it will be changed to True in Numba 0.59.0. See https://numba.readthedocs.io/en/stable/reference/deprecation.html#deprecation-of-object-mode-fall-back-behaviour-when-using-jit for details.\n",
      "  @numba.jit()\n",
      "/home/david/.local/share/virtualenvs/Self-Supervised-Learning-with-Predictabili-RPXJKYD0/lib/python3.10/site-packages/umap/distances.py:1086: NumbaDeprecationWarning: The 'nopython' keyword argument was not supplied to the 'numba.jit' decorator. The implicit default value for this argument is currently False, but it will be changed to True in Numba 0.59.0. See https://numba.readthedocs.io/en/stable/reference/deprecation.html#deprecation-of-object-mode-fall-back-behaviour-when-using-jit for details.\n",
      "  @numba.jit()\n",
      "/home/david/.local/share/virtualenvs/Self-Supervised-Learning-with-Predictabili-RPXJKYD0/lib/python3.10/site-packages/umap/umap_.py:660: NumbaDeprecationWarning: The 'nopython' keyword argument was not supplied to the 'numba.jit' decorator. The implicit default value for this argument is currently False, but it will be changed to True in Numba 0.59.0. See https://numba.readthedocs.io/en/stable/reference/deprecation.html#deprecation-of-object-mode-fall-back-behaviour-when-using-jit for details.\n",
      "  @numba.jit()\n"
     ]
    },
    {
     "name": "stdout",
     "output_type": "stream",
     "text": [
      "{'name': 'cl_lin_pred_min-imagenet100', 'method': 'cl_lin_pred_min', 'backbone': {'name': 'resnet18', 'kwargs': {}}, 'method_kwargs': {'proj_hidden_dim': 2048, 'proj_output_dim': 128, 'mask_fraction': 0.5, 'lamb': 0.175, 'ridge_lambd': 0, 'proj_size': 3}, 'data': {'dataset': 'imagenet100', 'train_path': '/itet-stor/zdavid/net_scratch/data/ILSVRC2012_img_train_100', 'val_path': '/itet-stor/zdavid/net_scratch/data/ILSVRC2012_img_val_100', 'format': 'dali', 'num_workers': 4, 'no_labels': False, 'fraction': -1, 'num_classes': 100, 'num_large_crops': 2, 'num_small_crops': 0}, 'optimizer': {'name': 'lars', 'batch_size': 256, 'lr': 0.3, 'classifier_lr': 0.1, 'weight_decay': 0.0001, 'kwargs': {'clip_lr': True, 'eta': 0.02, 'exclude_bias_n_norm': True, 'momentum': 0.9}, 'exclude_bias_n_norm_wd': False}, 'scheduler': {'name': 'warmup_cosine', 'lr_decay_steps': None, 'min_lr': 0.0, 'warmup_start_lr': 3e-05, 'warmup_epochs': 10, 'interval': 'step'}, 'checkpoint': {'enabled': True, 'dir': 'trained_models', 'frequency': 1, 'keep_prev': False}, 'auto_resume': {'enabled': False, 'max_hours': 36}, 'max_epochs': 400, 'devices': [0], 'sync_batchnorm': True, 'accelerator': 'gpu', 'strategy': 'ddp', 'precision': 16, 'augmentations': [{'rrc': {'enabled': True, 'crop_min_scale': 0.08, 'crop_max_scale': 1.0}, 'color_jitter': {'prob': 0.8, 'brightness': 0.4, 'contrast': 0.4, 'saturation': 0.2, 'hue': 0.1}, 'grayscale': {'prob': 0.2}, 'gaussian_blur': {'prob': 1.0}, 'solarization': {'prob': 0.0}, 'equalization': {'prob': 0.0}, 'horizontal_flip': {'prob': 0.5}, 'crop_size': 224, 'num_crops': 1}, {'rrc': {'enabled': True, 'crop_min_scale': 0.08, 'crop_max_scale': 1.0}, 'color_jitter': {'prob': 0.8, 'brightness': 0.4, 'contrast': 0.4, 'saturation': 0.2, 'hue': 0.1}, 'grayscale': {'prob': 0.2}, 'gaussian_blur': {'prob': 0.1}, 'solarization': {'prob': 0.2}, 'equalization': {'prob': 0.0}, 'horizontal_flip': {'prob': 0.5}, 'crop_size': 224, 'num_crops': 1}], 'wandb': {'enabled': True, 'entity': None, 'project': 'solo-learn', 'offline': False}, 'dali': {'device': 'gpu', 'encode_indexes_into_labels': False}, 'auto_umap': {'enabled': False, 'dir': 'auto_umap', 'frequency': 1}, 'debug_augmentations': False, 'seed': 5, 'resume_from_checkpoint': None, 'num_nodes': 1, 'accumulate_grad_batches': 1, 'knn_eval': {'enabled': False, 'k': 20, 'distance_func': 'euclidean'}, 'performance': {'disable_channel_last': False}, 'wandb_run_id': 'vkd2mvlc'}\n"
     ]
    },
    {
     "name": "stderr",
     "output_type": "stream",
     "text": [
      "WARNING:root:Using scheduler_interval=step might generate issues when resuming a checkpoint.\n",
      "Collecting features:   0%|          | 0/989 [00:00<?, ?it/s]"
     ]
    },
    {
     "name": "stdout",
     "output_type": "stream",
     "text": [
      "{'name': 'cl_lin_pred_min-imagenet100', 'method': 'cl_lin_pred_min', 'backbone': {'name': 'resnet18', 'kwargs': {}}, 'method_kwargs': {'proj_hidden_dim': 2048, 'proj_output_dim': 128, 'mask_fraction': 0.5, 'lamb': 0.175, 'ridge_lambd': 0, 'proj_size': 3}, 'data': {'dataset': 'imagenet100', 'train_path': '/itet-stor/zdavid/net_scratch/data/ILSVRC2012_img_train_100', 'val_path': '/itet-stor/zdavid/net_scratch/data/ILSVRC2012_img_val_100', 'format': 'dali', 'num_workers': 4, 'no_labels': False, 'fraction': -1, 'num_classes': 100, 'num_large_crops': 2, 'num_small_crops': 0}, 'optimizer': {'name': 'lars', 'batch_size': 256, 'lr': 0.3, 'classifier_lr': 0.1, 'weight_decay': 0.0001, 'kwargs': {'clip_lr': True, 'eta': 0.02, 'exclude_bias_n_norm': True, 'momentum': 0.9}, 'exclude_bias_n_norm_wd': False}, 'scheduler': {'name': 'warmup_cosine', 'lr_decay_steps': None, 'min_lr': 0.0, 'warmup_start_lr': 3e-05, 'warmup_epochs': 10, 'interval': 'step'}, 'checkpoint': {'enabled': True, 'dir': 'trained_models', 'frequency': 1, 'keep_prev': False}, 'auto_resume': {'enabled': False, 'max_hours': 36}, 'max_epochs': 400, 'devices': [0], 'sync_batchnorm': True, 'accelerator': 'gpu', 'strategy': 'ddp', 'precision': 16, 'augmentations': [{'rrc': {'enabled': True, 'crop_min_scale': 0.08, 'crop_max_scale': 1.0}, 'color_jitter': {'prob': 0.8, 'brightness': 0.4, 'contrast': 0.4, 'saturation': 0.2, 'hue': 0.1}, 'grayscale': {'prob': 0.2}, 'gaussian_blur': {'prob': 1.0}, 'solarization': {'prob': 0.0}, 'equalization': {'prob': 0.0}, 'horizontal_flip': {'prob': 0.5}, 'crop_size': 224, 'num_crops': 1}, {'rrc': {'enabled': True, 'crop_min_scale': 0.08, 'crop_max_scale': 1.0}, 'color_jitter': {'prob': 0.8, 'brightness': 0.4, 'contrast': 0.4, 'saturation': 0.2, 'hue': 0.1}, 'grayscale': {'prob': 0.2}, 'gaussian_blur': {'prob': 0.1}, 'solarization': {'prob': 0.2}, 'equalization': {'prob': 0.0}, 'horizontal_flip': {'prob': 0.5}, 'crop_size': 224, 'num_crops': 1}], 'wandb': {'enabled': True, 'entity': None, 'project': 'solo-learn', 'offline': False}, 'dali': {'device': 'gpu', 'encode_indexes_into_labels': False}, 'auto_umap': {'enabled': False, 'dir': 'auto_umap', 'frequency': 1}, 'debug_augmentations': False, 'seed': 5, 'resume_from_checkpoint': None, 'num_nodes': 1, 'accumulate_grad_batches': 1, 'knn_eval': {'enabled': False, 'k': 20, 'distance_func': 'euclidean'}, 'performance': {'disable_channel_last': False}, 'wandb_run_id': 'vkd2mvlc'}\n",
      "CFG:  cl_lin_pred_min-imagenet100 vkd2mvlc\n"
     ]
    },
    {
     "name": "stderr",
     "output_type": "stream",
     "text": [
      "Collecting features: 100%|██████████| 989/989 [01:04<00:00, 15.43it/s]\n",
      "Collecting features: 100%|██████████| 40/40 [00:03<00:00, 11.16it/s]\n",
      " 15%|█▍        | 9/62 [12:18<1:17:19, 87.53s/it]"
     ]
    },
    {
     "name": "stdout",
     "output_type": "stream",
     "text": [
      "/hdd/backup_cluster_august_2023/Self-Supervised-Learning-with-Predictability-Minimization/Self-Supervised-Learning-with-Predictability-Minimization/trained_models/cl_lin_pred_min/25jyy5nv\n",
      "/hdd/backup_cluster_august_2023/Self-Supervised-Learning-with-Predictability-Minimization/Self-Supervised-Learning-with-Predictability-Minimization/trained_models/cl_lin_pred_min/25jyy5nv/cl_lin_pred_min-imagenet100-25jyy5nv-ep=999.ckpt\n"
     ]
    },
    {
     "name": "stderr",
     "output_type": "stream",
     "text": [
      "/home/david/.local/share/virtualenvs/Self-Supervised-Learning-with-Predictabili-RPXJKYD0/lib/python3.10/site-packages/umap/distances.py:1063: NumbaDeprecationWarning: The 'nopython' keyword argument was not supplied to the 'numba.jit' decorator. The implicit default value for this argument is currently False, but it will be changed to True in Numba 0.59.0. See https://numba.readthedocs.io/en/stable/reference/deprecation.html#deprecation-of-object-mode-fall-back-behaviour-when-using-jit for details.\n",
      "  @numba.jit()\n",
      "/home/david/.local/share/virtualenvs/Self-Supervised-Learning-with-Predictabili-RPXJKYD0/lib/python3.10/site-packages/umap/distances.py:1071: NumbaDeprecationWarning: The 'nopython' keyword argument was not supplied to the 'numba.jit' decorator. The implicit default value for this argument is currently False, but it will be changed to True in Numba 0.59.0. See https://numba.readthedocs.io/en/stable/reference/deprecation.html#deprecation-of-object-mode-fall-back-behaviour-when-using-jit for details.\n",
      "  @numba.jit()\n",
      "/home/david/.local/share/virtualenvs/Self-Supervised-Learning-with-Predictabili-RPXJKYD0/lib/python3.10/site-packages/umap/distances.py:1086: NumbaDeprecationWarning: The 'nopython' keyword argument was not supplied to the 'numba.jit' decorator. The implicit default value for this argument is currently False, but it will be changed to True in Numba 0.59.0. See https://numba.readthedocs.io/en/stable/reference/deprecation.html#deprecation-of-object-mode-fall-back-behaviour-when-using-jit for details.\n",
      "  @numba.jit()\n",
      "/home/david/.local/share/virtualenvs/Self-Supervised-Learning-with-Predictabili-RPXJKYD0/lib/python3.10/site-packages/umap/umap_.py:660: NumbaDeprecationWarning: The 'nopython' keyword argument was not supplied to the 'numba.jit' decorator. The implicit default value for this argument is currently False, but it will be changed to True in Numba 0.59.0. See https://numba.readthedocs.io/en/stable/reference/deprecation.html#deprecation-of-object-mode-fall-back-behaviour-when-using-jit for details.\n",
      "  @numba.jit()\n"
     ]
    },
    {
     "name": "stdout",
     "output_type": "stream",
     "text": [
      "{'name': 'cl_lin_pred_min-imagenet100', 'method': 'cl_lin_pred_min', 'backbone': {'name': 'resnet18', 'kwargs': {}}, 'method_kwargs': {'proj_hidden_dim': 2048, 'proj_output_dim': 128, 'mask_fraction': 0.5, 'lamb': 0.2, 'ridge_lambd': 0, 'proj_size': 3}, 'data': {'dataset': 'imagenet100', 'train_path': '/itet-stor/zdavid/net_scratch/data/ILSVRC2012_img_train_100', 'val_path': '/itet-stor/zdavid/net_scratch/data/ILSVRC2012_img_val_100', 'format': 'dali', 'num_workers': 4, 'no_labels': False, 'fraction': -1, 'num_classes': 100, 'num_large_crops': 2, 'num_small_crops': 0}, 'optimizer': {'name': 'lars', 'batch_size': 256, 'lr': 0.3, 'classifier_lr': 0.1, 'weight_decay': 0.0001, 'kwargs': {'clip_lr': True, 'eta': 0.02, 'exclude_bias_n_norm': True, 'momentum': 0.9}, 'exclude_bias_n_norm_wd': False}, 'scheduler': {'name': 'warmup_cosine', 'lr_decay_steps': None, 'min_lr': 0.0, 'warmup_start_lr': 3e-05, 'warmup_epochs': 10, 'interval': 'step'}, 'checkpoint': {'enabled': True, 'dir': 'trained_models', 'frequency': 1, 'keep_prev': False}, 'auto_resume': {'enabled': False, 'max_hours': 36}, 'max_epochs': 1000, 'devices': [0], 'sync_batchnorm': True, 'accelerator': 'gpu', 'strategy': 'ddp', 'precision': 16, 'augmentations': [{'rrc': {'enabled': True, 'crop_min_scale': 0.08, 'crop_max_scale': 1.0}, 'color_jitter': {'prob': 0.8, 'brightness': 0.4, 'contrast': 0.4, 'saturation': 0.2, 'hue': 0.1}, 'grayscale': {'prob': 0.2}, 'gaussian_blur': {'prob': 1.0}, 'solarization': {'prob': 0.0}, 'equalization': {'prob': 0.0}, 'horizontal_flip': {'prob': 0.5}, 'crop_size': 224, 'num_crops': 1}, {'rrc': {'enabled': True, 'crop_min_scale': 0.08, 'crop_max_scale': 1.0}, 'color_jitter': {'prob': 0.8, 'brightness': 0.4, 'contrast': 0.4, 'saturation': 0.2, 'hue': 0.1}, 'grayscale': {'prob': 0.2}, 'gaussian_blur': {'prob': 0.1}, 'solarization': {'prob': 0.2}, 'equalization': {'prob': 0.0}, 'horizontal_flip': {'prob': 0.5}, 'crop_size': 224, 'num_crops': 1}], 'wandb': {'enabled': True, 'entity': None, 'project': 'solo-learn', 'offline': False}, 'dali': {'device': 'gpu', 'encode_indexes_into_labels': False}, 'auto_umap': {'enabled': False, 'dir': 'auto_umap', 'frequency': 1}, 'debug_augmentations': False, 'seed': 5, 'resume_from_checkpoint': None, 'num_nodes': 1, 'accumulate_grad_batches': 1, 'knn_eval': {'enabled': False, 'k': 20, 'distance_func': 'euclidean'}, 'performance': {'disable_channel_last': False}, 'wandb_run_id': '25jyy5nv'}\n"
     ]
    },
    {
     "name": "stderr",
     "output_type": "stream",
     "text": [
      "WARNING:root:Using scheduler_interval=step might generate issues when resuming a checkpoint.\n",
      "Collecting features:   0%|          | 0/989 [00:00<?, ?it/s]"
     ]
    },
    {
     "name": "stdout",
     "output_type": "stream",
     "text": [
      "{'name': 'cl_lin_pred_min-imagenet100', 'method': 'cl_lin_pred_min', 'backbone': {'name': 'resnet18', 'kwargs': {}}, 'method_kwargs': {'proj_hidden_dim': 2048, 'proj_output_dim': 128, 'mask_fraction': 0.5, 'lamb': 0.2, 'ridge_lambd': 0, 'proj_size': 3}, 'data': {'dataset': 'imagenet100', 'train_path': '/itet-stor/zdavid/net_scratch/data/ILSVRC2012_img_train_100', 'val_path': '/itet-stor/zdavid/net_scratch/data/ILSVRC2012_img_val_100', 'format': 'dali', 'num_workers': 4, 'no_labels': False, 'fraction': -1, 'num_classes': 100, 'num_large_crops': 2, 'num_small_crops': 0}, 'optimizer': {'name': 'lars', 'batch_size': 256, 'lr': 0.3, 'classifier_lr': 0.1, 'weight_decay': 0.0001, 'kwargs': {'clip_lr': True, 'eta': 0.02, 'exclude_bias_n_norm': True, 'momentum': 0.9}, 'exclude_bias_n_norm_wd': False}, 'scheduler': {'name': 'warmup_cosine', 'lr_decay_steps': None, 'min_lr': 0.0, 'warmup_start_lr': 3e-05, 'warmup_epochs': 10, 'interval': 'step'}, 'checkpoint': {'enabled': True, 'dir': 'trained_models', 'frequency': 1, 'keep_prev': False}, 'auto_resume': {'enabled': False, 'max_hours': 36}, 'max_epochs': 1000, 'devices': [0], 'sync_batchnorm': True, 'accelerator': 'gpu', 'strategy': 'ddp', 'precision': 16, 'augmentations': [{'rrc': {'enabled': True, 'crop_min_scale': 0.08, 'crop_max_scale': 1.0}, 'color_jitter': {'prob': 0.8, 'brightness': 0.4, 'contrast': 0.4, 'saturation': 0.2, 'hue': 0.1}, 'grayscale': {'prob': 0.2}, 'gaussian_blur': {'prob': 1.0}, 'solarization': {'prob': 0.0}, 'equalization': {'prob': 0.0}, 'horizontal_flip': {'prob': 0.5}, 'crop_size': 224, 'num_crops': 1}, {'rrc': {'enabled': True, 'crop_min_scale': 0.08, 'crop_max_scale': 1.0}, 'color_jitter': {'prob': 0.8, 'brightness': 0.4, 'contrast': 0.4, 'saturation': 0.2, 'hue': 0.1}, 'grayscale': {'prob': 0.2}, 'gaussian_blur': {'prob': 0.1}, 'solarization': {'prob': 0.2}, 'equalization': {'prob': 0.0}, 'horizontal_flip': {'prob': 0.5}, 'crop_size': 224, 'num_crops': 1}], 'wandb': {'enabled': True, 'entity': None, 'project': 'solo-learn', 'offline': False}, 'dali': {'device': 'gpu', 'encode_indexes_into_labels': False}, 'auto_umap': {'enabled': False, 'dir': 'auto_umap', 'frequency': 1}, 'debug_augmentations': False, 'seed': 5, 'resume_from_checkpoint': None, 'num_nodes': 1, 'accumulate_grad_batches': 1, 'knn_eval': {'enabled': False, 'k': 20, 'distance_func': 'euclidean'}, 'performance': {'disable_channel_last': False}, 'wandb_run_id': '25jyy5nv'}\n",
      "CFG:  cl_lin_pred_min-imagenet100 25jyy5nv\n"
     ]
    },
    {
     "name": "stderr",
     "output_type": "stream",
     "text": [
      "Collecting features: 100%|██████████| 989/989 [01:05<00:00, 15.15it/s]\n",
      "Collecting features: 100%|██████████| 40/40 [00:03<00:00, 11.44it/s]\n",
      " 16%|█▌        | 10/62 [13:57<1:19:05, 91.25s/it]"
     ]
    },
    {
     "name": "stdout",
     "output_type": "stream",
     "text": [
      "/hdd/backup_cluster_august_2023/Self-Supervised-Learning-with-Predictability-Minimization/Self-Supervised-Learning-with-Predictability-Minimization/trained_models/cl_lin_pred_min/3f0e8iva\n",
      "/hdd/backup_cluster_august_2023/Self-Supervised-Learning-with-Predictability-Minimization/Self-Supervised-Learning-with-Predictability-Minimization/trained_models/cl_lin_pred_min/3f0e8iva/cl_lin_pred_min-imagenet100-3f0e8iva-ep=399.ckpt\n"
     ]
    },
    {
     "name": "stderr",
     "output_type": "stream",
     "text": [
      "/home/david/.local/share/virtualenvs/Self-Supervised-Learning-with-Predictabili-RPXJKYD0/lib/python3.10/site-packages/umap/distances.py:1063: NumbaDeprecationWarning: The 'nopython' keyword argument was not supplied to the 'numba.jit' decorator. The implicit default value for this argument is currently False, but it will be changed to True in Numba 0.59.0. See https://numba.readthedocs.io/en/stable/reference/deprecation.html#deprecation-of-object-mode-fall-back-behaviour-when-using-jit for details.\n",
      "  @numba.jit()\n",
      "/home/david/.local/share/virtualenvs/Self-Supervised-Learning-with-Predictabili-RPXJKYD0/lib/python3.10/site-packages/umap/distances.py:1071: NumbaDeprecationWarning: The 'nopython' keyword argument was not supplied to the 'numba.jit' decorator. The implicit default value for this argument is currently False, but it will be changed to True in Numba 0.59.0. See https://numba.readthedocs.io/en/stable/reference/deprecation.html#deprecation-of-object-mode-fall-back-behaviour-when-using-jit for details.\n",
      "  @numba.jit()\n",
      "/home/david/.local/share/virtualenvs/Self-Supervised-Learning-with-Predictabili-RPXJKYD0/lib/python3.10/site-packages/umap/distances.py:1086: NumbaDeprecationWarning: The 'nopython' keyword argument was not supplied to the 'numba.jit' decorator. The implicit default value for this argument is currently False, but it will be changed to True in Numba 0.59.0. See https://numba.readthedocs.io/en/stable/reference/deprecation.html#deprecation-of-object-mode-fall-back-behaviour-when-using-jit for details.\n",
      "  @numba.jit()\n",
      "/home/david/.local/share/virtualenvs/Self-Supervised-Learning-with-Predictabili-RPXJKYD0/lib/python3.10/site-packages/umap/umap_.py:660: NumbaDeprecationWarning: The 'nopython' keyword argument was not supplied to the 'numba.jit' decorator. The implicit default value for this argument is currently False, but it will be changed to True in Numba 0.59.0. See https://numba.readthedocs.io/en/stable/reference/deprecation.html#deprecation-of-object-mode-fall-back-behaviour-when-using-jit for details.\n",
      "  @numba.jit()\n"
     ]
    },
    {
     "name": "stdout",
     "output_type": "stream",
     "text": [
      "{'name': 'cl_lin_pred_min-imagenet100', 'method': 'cl_lin_pred_min', 'backbone': {'name': 'resnet18', 'kwargs': {}}, 'method_kwargs': {'proj_hidden_dim': 2048, 'proj_output_dim': 128, 'mask_fraction': 0.5, 'lamb': 0.075, 'ridge_lambd': 0, 'proj_size': 3}, 'data': {'dataset': 'imagenet100', 'train_path': '/itet-stor/zdavid/net_scratch/data/ILSVRC2012_img_train_100', 'val_path': '/itet-stor/zdavid/net_scratch/data/ILSVRC2012_img_val_100', 'format': 'dali', 'num_workers': 4, 'no_labels': False, 'fraction': -1, 'num_classes': 100, 'num_large_crops': 2, 'num_small_crops': 0}, 'optimizer': {'name': 'lars', 'batch_size': 256, 'lr': 0.3, 'classifier_lr': 0.1, 'weight_decay': 0.0001, 'kwargs': {'clip_lr': True, 'eta': 0.02, 'exclude_bias_n_norm': True, 'momentum': 0.9}, 'exclude_bias_n_norm_wd': False}, 'scheduler': {'name': 'warmup_cosine', 'lr_decay_steps': None, 'min_lr': 0.0, 'warmup_start_lr': 3e-05, 'warmup_epochs': 10, 'interval': 'step'}, 'checkpoint': {'enabled': True, 'dir': 'trained_models', 'frequency': 1, 'keep_prev': False}, 'auto_resume': {'enabled': False, 'max_hours': 36}, 'max_epochs': 400, 'devices': [0], 'sync_batchnorm': True, 'accelerator': 'gpu', 'strategy': 'ddp', 'precision': 16, 'augmentations': [{'rrc': {'enabled': True, 'crop_min_scale': 0.08, 'crop_max_scale': 1.0}, 'color_jitter': {'prob': 0.8, 'brightness': 0.4, 'contrast': 0.4, 'saturation': 0.2, 'hue': 0.1}, 'grayscale': {'prob': 0.2}, 'gaussian_blur': {'prob': 1.0}, 'solarization': {'prob': 0.0}, 'equalization': {'prob': 0.0}, 'horizontal_flip': {'prob': 0.5}, 'crop_size': 224, 'num_crops': 1}, {'rrc': {'enabled': True, 'crop_min_scale': 0.08, 'crop_max_scale': 1.0}, 'color_jitter': {'prob': 0.8, 'brightness': 0.4, 'contrast': 0.4, 'saturation': 0.2, 'hue': 0.1}, 'grayscale': {'prob': 0.2}, 'gaussian_blur': {'prob': 0.1}, 'solarization': {'prob': 0.2}, 'equalization': {'prob': 0.0}, 'horizontal_flip': {'prob': 0.5}, 'crop_size': 224, 'num_crops': 1}], 'wandb': {'enabled': True, 'entity': None, 'project': 'solo-learn', 'offline': False}, 'dali': {'device': 'gpu', 'encode_indexes_into_labels': False}, 'auto_umap': {'enabled': False, 'dir': 'auto_umap', 'frequency': 1}, 'debug_augmentations': False, 'seed': 5, 'resume_from_checkpoint': None, 'num_nodes': 1, 'accumulate_grad_batches': 1, 'knn_eval': {'enabled': False, 'k': 20, 'distance_func': 'euclidean'}, 'performance': {'disable_channel_last': False}, 'wandb_run_id': '3f0e8iva'}\n"
     ]
    },
    {
     "name": "stderr",
     "output_type": "stream",
     "text": [
      "WARNING:root:Using scheduler_interval=step might generate issues when resuming a checkpoint.\n",
      "Collecting features:   0%|          | 0/989 [00:00<?, ?it/s]"
     ]
    },
    {
     "name": "stdout",
     "output_type": "stream",
     "text": [
      "{'name': 'cl_lin_pred_min-imagenet100', 'method': 'cl_lin_pred_min', 'backbone': {'name': 'resnet18', 'kwargs': {}}, 'method_kwargs': {'proj_hidden_dim': 2048, 'proj_output_dim': 128, 'mask_fraction': 0.5, 'lamb': 0.075, 'ridge_lambd': 0, 'proj_size': 3}, 'data': {'dataset': 'imagenet100', 'train_path': '/itet-stor/zdavid/net_scratch/data/ILSVRC2012_img_train_100', 'val_path': '/itet-stor/zdavid/net_scratch/data/ILSVRC2012_img_val_100', 'format': 'dali', 'num_workers': 4, 'no_labels': False, 'fraction': -1, 'num_classes': 100, 'num_large_crops': 2, 'num_small_crops': 0}, 'optimizer': {'name': 'lars', 'batch_size': 256, 'lr': 0.3, 'classifier_lr': 0.1, 'weight_decay': 0.0001, 'kwargs': {'clip_lr': True, 'eta': 0.02, 'exclude_bias_n_norm': True, 'momentum': 0.9}, 'exclude_bias_n_norm_wd': False}, 'scheduler': {'name': 'warmup_cosine', 'lr_decay_steps': None, 'min_lr': 0.0, 'warmup_start_lr': 3e-05, 'warmup_epochs': 10, 'interval': 'step'}, 'checkpoint': {'enabled': True, 'dir': 'trained_models', 'frequency': 1, 'keep_prev': False}, 'auto_resume': {'enabled': False, 'max_hours': 36}, 'max_epochs': 400, 'devices': [0], 'sync_batchnorm': True, 'accelerator': 'gpu', 'strategy': 'ddp', 'precision': 16, 'augmentations': [{'rrc': {'enabled': True, 'crop_min_scale': 0.08, 'crop_max_scale': 1.0}, 'color_jitter': {'prob': 0.8, 'brightness': 0.4, 'contrast': 0.4, 'saturation': 0.2, 'hue': 0.1}, 'grayscale': {'prob': 0.2}, 'gaussian_blur': {'prob': 1.0}, 'solarization': {'prob': 0.0}, 'equalization': {'prob': 0.0}, 'horizontal_flip': {'prob': 0.5}, 'crop_size': 224, 'num_crops': 1}, {'rrc': {'enabled': True, 'crop_min_scale': 0.08, 'crop_max_scale': 1.0}, 'color_jitter': {'prob': 0.8, 'brightness': 0.4, 'contrast': 0.4, 'saturation': 0.2, 'hue': 0.1}, 'grayscale': {'prob': 0.2}, 'gaussian_blur': {'prob': 0.1}, 'solarization': {'prob': 0.2}, 'equalization': {'prob': 0.0}, 'horizontal_flip': {'prob': 0.5}, 'crop_size': 224, 'num_crops': 1}], 'wandb': {'enabled': True, 'entity': None, 'project': 'solo-learn', 'offline': False}, 'dali': {'device': 'gpu', 'encode_indexes_into_labels': False}, 'auto_umap': {'enabled': False, 'dir': 'auto_umap', 'frequency': 1}, 'debug_augmentations': False, 'seed': 5, 'resume_from_checkpoint': None, 'num_nodes': 1, 'accumulate_grad_batches': 1, 'knn_eval': {'enabled': False, 'k': 20, 'distance_func': 'euclidean'}, 'performance': {'disable_channel_last': False}, 'wandb_run_id': '3f0e8iva'}\n",
      "CFG:  cl_lin_pred_min-imagenet100 3f0e8iva\n"
     ]
    },
    {
     "name": "stderr",
     "output_type": "stream",
     "text": [
      "Collecting features: 100%|██████████| 989/989 [01:05<00:00, 15.06it/s]\n",
      "Collecting features: 100%|██████████| 40/40 [00:03<00:00, 10.98it/s]\n",
      " 18%|█▊        | 11/62 [15:36<1:19:26, 93.47s/it]"
     ]
    },
    {
     "name": "stdout",
     "output_type": "stream",
     "text": [
      "/hdd/backup_cluster_august_2023/Self-Supervised-Learning-with-Predictability-Minimization/Self-Supervised-Learning-with-Predictability-Minimization/trained_models/cl_lin_pred_min/eoavbqp6\n",
      "/hdd/backup_cluster_august_2023/Self-Supervised-Learning-with-Predictability-Minimization/Self-Supervised-Learning-with-Predictability-Minimization/trained_models/cl_lin_pred_min/eoavbqp6/cl_lin_pred_min-imagenet100-eoavbqp6-ep=399.ckpt\n"
     ]
    },
    {
     "name": "stderr",
     "output_type": "stream",
     "text": [
      "/home/david/.local/share/virtualenvs/Self-Supervised-Learning-with-Predictabili-RPXJKYD0/lib/python3.10/site-packages/umap/distances.py:1063: NumbaDeprecationWarning: The 'nopython' keyword argument was not supplied to the 'numba.jit' decorator. The implicit default value for this argument is currently False, but it will be changed to True in Numba 0.59.0. See https://numba.readthedocs.io/en/stable/reference/deprecation.html#deprecation-of-object-mode-fall-back-behaviour-when-using-jit for details.\n",
      "  @numba.jit()\n",
      "/home/david/.local/share/virtualenvs/Self-Supervised-Learning-with-Predictabili-RPXJKYD0/lib/python3.10/site-packages/umap/distances.py:1071: NumbaDeprecationWarning: The 'nopython' keyword argument was not supplied to the 'numba.jit' decorator. The implicit default value for this argument is currently False, but it will be changed to True in Numba 0.59.0. See https://numba.readthedocs.io/en/stable/reference/deprecation.html#deprecation-of-object-mode-fall-back-behaviour-when-using-jit for details.\n",
      "  @numba.jit()\n",
      "/home/david/.local/share/virtualenvs/Self-Supervised-Learning-with-Predictabili-RPXJKYD0/lib/python3.10/site-packages/umap/distances.py:1086: NumbaDeprecationWarning: The 'nopython' keyword argument was not supplied to the 'numba.jit' decorator. The implicit default value for this argument is currently False, but it will be changed to True in Numba 0.59.0. See https://numba.readthedocs.io/en/stable/reference/deprecation.html#deprecation-of-object-mode-fall-back-behaviour-when-using-jit for details.\n",
      "  @numba.jit()\n",
      "/home/david/.local/share/virtualenvs/Self-Supervised-Learning-with-Predictabili-RPXJKYD0/lib/python3.10/site-packages/umap/umap_.py:660: NumbaDeprecationWarning: The 'nopython' keyword argument was not supplied to the 'numba.jit' decorator. The implicit default value for this argument is currently False, but it will be changed to True in Numba 0.59.0. See https://numba.readthedocs.io/en/stable/reference/deprecation.html#deprecation-of-object-mode-fall-back-behaviour-when-using-jit for details.\n",
      "  @numba.jit()\n"
     ]
    },
    {
     "name": "stdout",
     "output_type": "stream",
     "text": [
      "{'name': 'cl_lin_pred_min-imagenet100', 'method': 'cl_lin_pred_min', 'backbone': {'name': 'resnet18', 'kwargs': {}}, 'method_kwargs': {'proj_hidden_dim': 2048, 'proj_output_dim': 128, 'mask_fraction': 0.5, 'lamb': 0.15, 'ridge_lambd': 0, 'proj_size': 3}, 'data': {'dataset': 'imagenet100', 'train_path': '/itet-stor/zdavid/net_scratch/data/ILSVRC2012_img_train_100', 'val_path': '/itet-stor/zdavid/net_scratch/data/ILSVRC2012_img_val_100', 'format': 'dali', 'num_workers': 4, 'no_labels': False, 'fraction': -1, 'num_classes': 100, 'num_large_crops': 2, 'num_small_crops': 0}, 'optimizer': {'name': 'lars', 'batch_size': 256, 'lr': 0.3, 'classifier_lr': 0.1, 'weight_decay': 0.0001, 'kwargs': {'clip_lr': True, 'eta': 0.02, 'exclude_bias_n_norm': True, 'momentum': 0.9}, 'exclude_bias_n_norm_wd': False}, 'scheduler': {'name': 'warmup_cosine', 'lr_decay_steps': None, 'min_lr': 0.0, 'warmup_start_lr': 3e-05, 'warmup_epochs': 10, 'interval': 'step'}, 'checkpoint': {'enabled': True, 'dir': 'trained_models', 'frequency': 1, 'keep_prev': False}, 'auto_resume': {'enabled': False, 'max_hours': 36}, 'max_epochs': 400, 'devices': [0], 'sync_batchnorm': True, 'accelerator': 'gpu', 'strategy': 'ddp', 'precision': 16, 'augmentations': [{'rrc': {'enabled': True, 'crop_min_scale': 0.08, 'crop_max_scale': 1.0}, 'color_jitter': {'prob': 0.8, 'brightness': 0.4, 'contrast': 0.4, 'saturation': 0.2, 'hue': 0.1}, 'grayscale': {'prob': 0.2}, 'gaussian_blur': {'prob': 1.0}, 'solarization': {'prob': 0.0}, 'equalization': {'prob': 0.0}, 'horizontal_flip': {'prob': 0.5}, 'crop_size': 224, 'num_crops': 1}, {'rrc': {'enabled': True, 'crop_min_scale': 0.08, 'crop_max_scale': 1.0}, 'color_jitter': {'prob': 0.8, 'brightness': 0.4, 'contrast': 0.4, 'saturation': 0.2, 'hue': 0.1}, 'grayscale': {'prob': 0.2}, 'gaussian_blur': {'prob': 0.1}, 'solarization': {'prob': 0.2}, 'equalization': {'prob': 0.0}, 'horizontal_flip': {'prob': 0.5}, 'crop_size': 224, 'num_crops': 1}], 'wandb': {'enabled': True, 'entity': None, 'project': 'solo-learn', 'offline': False}, 'dali': {'device': 'gpu', 'encode_indexes_into_labels': False}, 'auto_umap': {'enabled': False, 'dir': 'auto_umap', 'frequency': 1}, 'debug_augmentations': False, 'seed': 5, 'resume_from_checkpoint': None, 'num_nodes': 1, 'accumulate_grad_batches': 1, 'knn_eval': {'enabled': False, 'k': 20, 'distance_func': 'euclidean'}, 'performance': {'disable_channel_last': False}, 'wandb_run_id': 'eoavbqp6'}\n"
     ]
    },
    {
     "name": "stderr",
     "output_type": "stream",
     "text": [
      "WARNING:root:Using scheduler_interval=step might generate issues when resuming a checkpoint.\n",
      "Collecting features:   0%|          | 0/989 [00:00<?, ?it/s]"
     ]
    },
    {
     "name": "stdout",
     "output_type": "stream",
     "text": [
      "{'name': 'cl_lin_pred_min-imagenet100', 'method': 'cl_lin_pred_min', 'backbone': {'name': 'resnet18', 'kwargs': {}}, 'method_kwargs': {'proj_hidden_dim': 2048, 'proj_output_dim': 128, 'mask_fraction': 0.5, 'lamb': 0.15, 'ridge_lambd': 0, 'proj_size': 3}, 'data': {'dataset': 'imagenet100', 'train_path': '/itet-stor/zdavid/net_scratch/data/ILSVRC2012_img_train_100', 'val_path': '/itet-stor/zdavid/net_scratch/data/ILSVRC2012_img_val_100', 'format': 'dali', 'num_workers': 4, 'no_labels': False, 'fraction': -1, 'num_classes': 100, 'num_large_crops': 2, 'num_small_crops': 0}, 'optimizer': {'name': 'lars', 'batch_size': 256, 'lr': 0.3, 'classifier_lr': 0.1, 'weight_decay': 0.0001, 'kwargs': {'clip_lr': True, 'eta': 0.02, 'exclude_bias_n_norm': True, 'momentum': 0.9}, 'exclude_bias_n_norm_wd': False}, 'scheduler': {'name': 'warmup_cosine', 'lr_decay_steps': None, 'min_lr': 0.0, 'warmup_start_lr': 3e-05, 'warmup_epochs': 10, 'interval': 'step'}, 'checkpoint': {'enabled': True, 'dir': 'trained_models', 'frequency': 1, 'keep_prev': False}, 'auto_resume': {'enabled': False, 'max_hours': 36}, 'max_epochs': 400, 'devices': [0], 'sync_batchnorm': True, 'accelerator': 'gpu', 'strategy': 'ddp', 'precision': 16, 'augmentations': [{'rrc': {'enabled': True, 'crop_min_scale': 0.08, 'crop_max_scale': 1.0}, 'color_jitter': {'prob': 0.8, 'brightness': 0.4, 'contrast': 0.4, 'saturation': 0.2, 'hue': 0.1}, 'grayscale': {'prob': 0.2}, 'gaussian_blur': {'prob': 1.0}, 'solarization': {'prob': 0.0}, 'equalization': {'prob': 0.0}, 'horizontal_flip': {'prob': 0.5}, 'crop_size': 224, 'num_crops': 1}, {'rrc': {'enabled': True, 'crop_min_scale': 0.08, 'crop_max_scale': 1.0}, 'color_jitter': {'prob': 0.8, 'brightness': 0.4, 'contrast': 0.4, 'saturation': 0.2, 'hue': 0.1}, 'grayscale': {'prob': 0.2}, 'gaussian_blur': {'prob': 0.1}, 'solarization': {'prob': 0.2}, 'equalization': {'prob': 0.0}, 'horizontal_flip': {'prob': 0.5}, 'crop_size': 224, 'num_crops': 1}], 'wandb': {'enabled': True, 'entity': None, 'project': 'solo-learn', 'offline': False}, 'dali': {'device': 'gpu', 'encode_indexes_into_labels': False}, 'auto_umap': {'enabled': False, 'dir': 'auto_umap', 'frequency': 1}, 'debug_augmentations': False, 'seed': 5, 'resume_from_checkpoint': None, 'num_nodes': 1, 'accumulate_grad_batches': 1, 'knn_eval': {'enabled': False, 'k': 20, 'distance_func': 'euclidean'}, 'performance': {'disable_channel_last': False}, 'wandb_run_id': 'eoavbqp6'}\n",
      "CFG:  cl_lin_pred_min-imagenet100 eoavbqp6\n"
     ]
    },
    {
     "name": "stderr",
     "output_type": "stream",
     "text": [
      "Collecting features: 100%|██████████| 989/989 [01:04<00:00, 15.29it/s]\n",
      "Collecting features: 100%|██████████| 40/40 [00:03<00:00, 11.51it/s]\n",
      " 19%|█▉        | 12/62 [17:12<1:18:39, 94.39s/it]"
     ]
    },
    {
     "name": "stdout",
     "output_type": "stream",
     "text": [
      "/hdd/backup_cluster_august_2023/Self-Supervised-Learning-with-Predictability-Minimization/Self-Supervised-Learning-with-Predictability-Minimization/trained_models/cl_lin_pred_min/jmp2p663\n",
      "/hdd/backup_cluster_august_2023/Self-Supervised-Learning-with-Predictability-Minimization/Self-Supervised-Learning-with-Predictability-Minimization/trained_models/cl_lin_pred_min/jmp2p663/cl_lin_pred_min-cifar10-jmp2p663-ep=999.ckpt\n"
     ]
    },
    {
     "name": "stderr",
     "output_type": "stream",
     "text": [
      "/home/david/.local/share/virtualenvs/Self-Supervised-Learning-with-Predictabili-RPXJKYD0/lib/python3.10/site-packages/umap/distances.py:1063: NumbaDeprecationWarning: The 'nopython' keyword argument was not supplied to the 'numba.jit' decorator. The implicit default value for this argument is currently False, but it will be changed to True in Numba 0.59.0. See https://numba.readthedocs.io/en/stable/reference/deprecation.html#deprecation-of-object-mode-fall-back-behaviour-when-using-jit for details.\n",
      "  @numba.jit()\n",
      "/home/david/.local/share/virtualenvs/Self-Supervised-Learning-with-Predictabili-RPXJKYD0/lib/python3.10/site-packages/umap/distances.py:1071: NumbaDeprecationWarning: The 'nopython' keyword argument was not supplied to the 'numba.jit' decorator. The implicit default value for this argument is currently False, but it will be changed to True in Numba 0.59.0. See https://numba.readthedocs.io/en/stable/reference/deprecation.html#deprecation-of-object-mode-fall-back-behaviour-when-using-jit for details.\n",
      "  @numba.jit()\n",
      "/home/david/.local/share/virtualenvs/Self-Supervised-Learning-with-Predictabili-RPXJKYD0/lib/python3.10/site-packages/umap/distances.py:1086: NumbaDeprecationWarning: The 'nopython' keyword argument was not supplied to the 'numba.jit' decorator. The implicit default value for this argument is currently False, but it will be changed to True in Numba 0.59.0. See https://numba.readthedocs.io/en/stable/reference/deprecation.html#deprecation-of-object-mode-fall-back-behaviour-when-using-jit for details.\n",
      "  @numba.jit()\n",
      "/home/david/.local/share/virtualenvs/Self-Supervised-Learning-with-Predictabili-RPXJKYD0/lib/python3.10/site-packages/umap/umap_.py:660: NumbaDeprecationWarning: The 'nopython' keyword argument was not supplied to the 'numba.jit' decorator. The implicit default value for this argument is currently False, but it will be changed to True in Numba 0.59.0. See https://numba.readthedocs.io/en/stable/reference/deprecation.html#deprecation-of-object-mode-fall-back-behaviour-when-using-jit for details.\n",
      "  @numba.jit()\n"
     ]
    },
    {
     "name": "stdout",
     "output_type": "stream",
     "text": [
      "{'name': 'cl_lin_pred_min-cifar10', 'method': 'cl_lin_pred_min', 'backbone': {'name': 'resnet18', 'kwargs': {}}, 'method_kwargs': {'proj_hidden_dim': 2048, 'proj_output_dim': 128, 'mask_fraction': 0.5, 'lamb': 0.0, 'ridge_lambd': 0, 'proj_size': 3}, 'data': {'dataset': 'cifar10', 'train_path': './datasets', 'val_path': './datasets', 'format': 'image_folder', 'num_workers': 4, 'no_labels': False, 'fraction': -1, 'num_classes': 10, 'num_large_crops': 2, 'num_small_crops': 0}, 'optimizer': {'name': 'lars', 'batch_size': 256, 'lr': 0.3, 'classifier_lr': 0.1, 'weight_decay': 0.0001, 'kwargs': {'clip_lr': True, 'eta': 0.02, 'exclude_bias_n_norm': True, 'momentum': 0.9}, 'exclude_bias_n_norm_wd': False}, 'scheduler': {'name': 'warmup_cosine', 'lr_decay_steps': None, 'min_lr': 0.0, 'warmup_start_lr': 3e-05, 'warmup_epochs': 10, 'interval': 'step'}, 'checkpoint': {'enabled': True, 'dir': 'trained_models', 'frequency': 1, 'keep_prev': False}, 'auto_resume': {'enabled': False, 'max_hours': 36}, 'max_epochs': 1000, 'devices': [0], 'sync_batchnorm': True, 'accelerator': 'gpu', 'strategy': 'ddp', 'precision': '16-mixed', 'augmentations': [{'rrc': {'enabled': True, 'crop_min_scale': 0.08, 'crop_max_scale': 1.0}, 'color_jitter': {'prob': 0.8, 'brightness': 0.4, 'contrast': 0.4, 'saturation': 0.2, 'hue': 0.1}, 'grayscale': {'prob': 0.2}, 'gaussian_blur': {'prob': 0.0}, 'solarization': {'prob': 0.0}, 'equalization': {'prob': 0.0}, 'horizontal_flip': {'prob': 0.5}, 'crop_size': 32, 'num_crops': 1}, {'rrc': {'enabled': True, 'crop_min_scale': 0.08, 'crop_max_scale': 1.0}, 'color_jitter': {'prob': 0.8, 'brightness': 0.4, 'contrast': 0.4, 'saturation': 0.2, 'hue': 0.1}, 'grayscale': {'prob': 0.2}, 'gaussian_blur': {'prob': 0.0}, 'solarization': {'prob': 0.2}, 'equalization': {'prob': 0.0}, 'horizontal_flip': {'prob': 0.5}, 'crop_size': 32, 'num_crops': 1}], 'wandb': {'enabled': True, 'entity': None, 'project': 'solo-learn', 'offline': False}, 'dali': {'device': 'gpu', 'encode_indexes_into_labels': False}, 'auto_umap': {'enabled': False, 'dir': 'auto_umap', 'frequency': 1}, 'debug_augmentations': False, 'seed': 5, 'resume_from_checkpoint': None, 'num_nodes': 1, 'accumulate_grad_batches': 1, 'knn_eval': {'enabled': False, 'k': 20, 'distance_func': 'euclidean'}, 'performance': {'disable_channel_last': False}, 'wandb_run_id': 'jmp2p663'}\n"
     ]
    },
    {
     "name": "stderr",
     "output_type": "stream",
     "text": [
      "WARNING:root:Using scheduler_interval=step might generate issues when resuming a checkpoint.\n"
     ]
    },
    {
     "name": "stdout",
     "output_type": "stream",
     "text": [
      "Files already downloaded and verified\n",
      "Files already downloaded and verified\n",
      "{'name': 'cl_lin_pred_min-cifar10', 'method': 'cl_lin_pred_min', 'backbone': {'name': 'resnet18', 'kwargs': {}}, 'method_kwargs': {'proj_hidden_dim': 2048, 'proj_output_dim': 128, 'mask_fraction': 0.5, 'lamb': 0.0, 'ridge_lambd': 0, 'proj_size': 3}, 'data': {'dataset': 'cifar10', 'train_path': './datasets', 'val_path': './datasets', 'format': 'image_folder', 'num_workers': 4, 'no_labels': False, 'fraction': -1, 'num_classes': 10, 'num_large_crops': 2, 'num_small_crops': 0}, 'optimizer': {'name': 'lars', 'batch_size': 256, 'lr': 0.3, 'classifier_lr': 0.1, 'weight_decay': 0.0001, 'kwargs': {'clip_lr': True, 'eta': 0.02, 'exclude_bias_n_norm': True, 'momentum': 0.9}, 'exclude_bias_n_norm_wd': False}, 'scheduler': {'name': 'warmup_cosine', 'lr_decay_steps': None, 'min_lr': 0.0, 'warmup_start_lr': 3e-05, 'warmup_epochs': 10, 'interval': 'step'}, 'checkpoint': {'enabled': True, 'dir': 'trained_models', 'frequency': 1, 'keep_prev': False}, 'auto_resume': {'enabled': False, 'max_hours': 36}, 'max_epochs': 1000, 'devices': [0], 'sync_batchnorm': True, 'accelerator': 'gpu', 'strategy': 'ddp', 'precision': '16-mixed', 'augmentations': [{'rrc': {'enabled': True, 'crop_min_scale': 0.08, 'crop_max_scale': 1.0}, 'color_jitter': {'prob': 0.8, 'brightness': 0.4, 'contrast': 0.4, 'saturation': 0.2, 'hue': 0.1}, 'grayscale': {'prob': 0.2}, 'gaussian_blur': {'prob': 0.0}, 'solarization': {'prob': 0.0}, 'equalization': {'prob': 0.0}, 'horizontal_flip': {'prob': 0.5}, 'crop_size': 32, 'num_crops': 1}, {'rrc': {'enabled': True, 'crop_min_scale': 0.08, 'crop_max_scale': 1.0}, 'color_jitter': {'prob': 0.8, 'brightness': 0.4, 'contrast': 0.4, 'saturation': 0.2, 'hue': 0.1}, 'grayscale': {'prob': 0.2}, 'gaussian_blur': {'prob': 0.0}, 'solarization': {'prob': 0.2}, 'equalization': {'prob': 0.0}, 'horizontal_flip': {'prob': 0.5}, 'crop_size': 32, 'num_crops': 1}], 'wandb': {'enabled': True, 'entity': None, 'project': 'solo-learn', 'offline': False}, 'dali': {'device': 'gpu', 'encode_indexes_into_labels': False}, 'auto_umap': {'enabled': False, 'dir': 'auto_umap', 'frequency': 1}, 'debug_augmentations': False, 'seed': 5, 'resume_from_checkpoint': None, 'num_nodes': 1, 'accumulate_grad_batches': 1, 'knn_eval': {'enabled': False, 'k': 20, 'distance_func': 'euclidean'}, 'performance': {'disable_channel_last': False}, 'wandb_run_id': 'jmp2p663'}\n",
      "CFG:  cl_lin_pred_min-cifar10 jmp2p663\n"
     ]
    },
    {
     "name": "stderr",
     "output_type": "stream",
     "text": [
      "Collecting features: 100%|██████████| 390/390 [00:05<00:00, 73.61it/s]\n",
      "Collecting features: 100%|██████████| 79/79 [00:01<00:00, 67.82it/s]\n",
      " 21%|██        | 13/62 [17:37<59:56, 73.40s/it]  "
     ]
    },
    {
     "name": "stdout",
     "output_type": "stream",
     "text": [
      "/hdd/backup_cluster_august_2023/Self-Supervised-Learning-with-Predictability-Minimization/Self-Supervised-Learning-with-Predictability-Minimization/trained_models/cl_lin_pred_min/th5iye5v\n",
      "/hdd/backup_cluster_august_2023/Self-Supervised-Learning-with-Predictability-Minimization/Self-Supervised-Learning-with-Predictability-Minimization/trained_models/cl_lin_pred_min/th5iye5v/cl_lin_pred_min-imagenet100-th5iye5v-ep=399.ckpt\n"
     ]
    },
    {
     "name": "stderr",
     "output_type": "stream",
     "text": [
      "/home/david/.local/share/virtualenvs/Self-Supervised-Learning-with-Predictabili-RPXJKYD0/lib/python3.10/site-packages/umap/distances.py:1063: NumbaDeprecationWarning: The 'nopython' keyword argument was not supplied to the 'numba.jit' decorator. The implicit default value for this argument is currently False, but it will be changed to True in Numba 0.59.0. See https://numba.readthedocs.io/en/stable/reference/deprecation.html#deprecation-of-object-mode-fall-back-behaviour-when-using-jit for details.\n",
      "  @numba.jit()\n",
      "/home/david/.local/share/virtualenvs/Self-Supervised-Learning-with-Predictabili-RPXJKYD0/lib/python3.10/site-packages/umap/distances.py:1071: NumbaDeprecationWarning: The 'nopython' keyword argument was not supplied to the 'numba.jit' decorator. The implicit default value for this argument is currently False, but it will be changed to True in Numba 0.59.0. See https://numba.readthedocs.io/en/stable/reference/deprecation.html#deprecation-of-object-mode-fall-back-behaviour-when-using-jit for details.\n",
      "  @numba.jit()\n",
      "/home/david/.local/share/virtualenvs/Self-Supervised-Learning-with-Predictabili-RPXJKYD0/lib/python3.10/site-packages/umap/distances.py:1086: NumbaDeprecationWarning: The 'nopython' keyword argument was not supplied to the 'numba.jit' decorator. The implicit default value for this argument is currently False, but it will be changed to True in Numba 0.59.0. See https://numba.readthedocs.io/en/stable/reference/deprecation.html#deprecation-of-object-mode-fall-back-behaviour-when-using-jit for details.\n",
      "  @numba.jit()\n",
      "/home/david/.local/share/virtualenvs/Self-Supervised-Learning-with-Predictabili-RPXJKYD0/lib/python3.10/site-packages/umap/umap_.py:660: NumbaDeprecationWarning: The 'nopython' keyword argument was not supplied to the 'numba.jit' decorator. The implicit default value for this argument is currently False, but it will be changed to True in Numba 0.59.0. See https://numba.readthedocs.io/en/stable/reference/deprecation.html#deprecation-of-object-mode-fall-back-behaviour-when-using-jit for details.\n",
      "  @numba.jit()\n"
     ]
    },
    {
     "name": "stdout",
     "output_type": "stream",
     "text": [
      "{'name': 'cl_lin_pred_min-imagenet100', 'method': 'cl_lin_pred_min', 'backbone': {'name': 'resnet18', 'kwargs': {}}, 'method_kwargs': {'proj_hidden_dim': 2048, 'proj_output_dim': 128, 'mask_fraction': 0.5, 'lamb': 0.05, 'ridge_lambd': 0, 'proj_size': 3}, 'data': {'dataset': 'imagenet100', 'train_path': '/itet-stor/zdavid/net_scratch/data/ILSVRC2012_img_train_100', 'val_path': '/itet-stor/zdavid/net_scratch/data/ILSVRC2012_img_val_100', 'format': 'dali', 'num_workers': 4, 'no_labels': False, 'fraction': -1, 'num_classes': 100, 'num_large_crops': 2, 'num_small_crops': 0}, 'optimizer': {'name': 'lars', 'batch_size': 256, 'lr': 0.3, 'classifier_lr': 0.1, 'weight_decay': 0.0001, 'kwargs': {'clip_lr': True, 'eta': 0.02, 'exclude_bias_n_norm': True, 'momentum': 0.9}, 'exclude_bias_n_norm_wd': False}, 'scheduler': {'name': 'warmup_cosine', 'lr_decay_steps': None, 'min_lr': 0.0, 'warmup_start_lr': 3e-05, 'warmup_epochs': 10, 'interval': 'step'}, 'checkpoint': {'enabled': True, 'dir': 'trained_models', 'frequency': 1, 'keep_prev': False}, 'auto_resume': {'enabled': False, 'max_hours': 36}, 'max_epochs': 400, 'devices': [0], 'sync_batchnorm': True, 'accelerator': 'gpu', 'strategy': 'ddp', 'precision': 16, 'augmentations': [{'rrc': {'enabled': True, 'crop_min_scale': 0.08, 'crop_max_scale': 1.0}, 'color_jitter': {'prob': 0.8, 'brightness': 0.4, 'contrast': 0.4, 'saturation': 0.2, 'hue': 0.1}, 'grayscale': {'prob': 0.2}, 'gaussian_blur': {'prob': 1.0}, 'solarization': {'prob': 0.0}, 'equalization': {'prob': 0.0}, 'horizontal_flip': {'prob': 0.5}, 'crop_size': 224, 'num_crops': 1}, {'rrc': {'enabled': True, 'crop_min_scale': 0.08, 'crop_max_scale': 1.0}, 'color_jitter': {'prob': 0.8, 'brightness': 0.4, 'contrast': 0.4, 'saturation': 0.2, 'hue': 0.1}, 'grayscale': {'prob': 0.2}, 'gaussian_blur': {'prob': 0.1}, 'solarization': {'prob': 0.2}, 'equalization': {'prob': 0.0}, 'horizontal_flip': {'prob': 0.5}, 'crop_size': 224, 'num_crops': 1}], 'wandb': {'enabled': True, 'entity': None, 'project': 'solo-learn', 'offline': False}, 'dali': {'device': 'gpu', 'encode_indexes_into_labels': False}, 'auto_umap': {'enabled': False, 'dir': 'auto_umap', 'frequency': 1}, 'debug_augmentations': False, 'seed': 5, 'resume_from_checkpoint': None, 'num_nodes': 1, 'accumulate_grad_batches': 1, 'knn_eval': {'enabled': False, 'k': 20, 'distance_func': 'euclidean'}, 'performance': {'disable_channel_last': False}, 'wandb_run_id': 'th5iye5v'}\n"
     ]
    },
    {
     "name": "stderr",
     "output_type": "stream",
     "text": [
      "WARNING:root:Using scheduler_interval=step might generate issues when resuming a checkpoint.\n",
      "Collecting features:   0%|          | 0/989 [00:00<?, ?it/s]"
     ]
    },
    {
     "name": "stdout",
     "output_type": "stream",
     "text": [
      "{'name': 'cl_lin_pred_min-imagenet100', 'method': 'cl_lin_pred_min', 'backbone': {'name': 'resnet18', 'kwargs': {}}, 'method_kwargs': {'proj_hidden_dim': 2048, 'proj_output_dim': 128, 'mask_fraction': 0.5, 'lamb': 0.05, 'ridge_lambd': 0, 'proj_size': 3}, 'data': {'dataset': 'imagenet100', 'train_path': '/itet-stor/zdavid/net_scratch/data/ILSVRC2012_img_train_100', 'val_path': '/itet-stor/zdavid/net_scratch/data/ILSVRC2012_img_val_100', 'format': 'dali', 'num_workers': 4, 'no_labels': False, 'fraction': -1, 'num_classes': 100, 'num_large_crops': 2, 'num_small_crops': 0}, 'optimizer': {'name': 'lars', 'batch_size': 256, 'lr': 0.3, 'classifier_lr': 0.1, 'weight_decay': 0.0001, 'kwargs': {'clip_lr': True, 'eta': 0.02, 'exclude_bias_n_norm': True, 'momentum': 0.9}, 'exclude_bias_n_norm_wd': False}, 'scheduler': {'name': 'warmup_cosine', 'lr_decay_steps': None, 'min_lr': 0.0, 'warmup_start_lr': 3e-05, 'warmup_epochs': 10, 'interval': 'step'}, 'checkpoint': {'enabled': True, 'dir': 'trained_models', 'frequency': 1, 'keep_prev': False}, 'auto_resume': {'enabled': False, 'max_hours': 36}, 'max_epochs': 400, 'devices': [0], 'sync_batchnorm': True, 'accelerator': 'gpu', 'strategy': 'ddp', 'precision': 16, 'augmentations': [{'rrc': {'enabled': True, 'crop_min_scale': 0.08, 'crop_max_scale': 1.0}, 'color_jitter': {'prob': 0.8, 'brightness': 0.4, 'contrast': 0.4, 'saturation': 0.2, 'hue': 0.1}, 'grayscale': {'prob': 0.2}, 'gaussian_blur': {'prob': 1.0}, 'solarization': {'prob': 0.0}, 'equalization': {'prob': 0.0}, 'horizontal_flip': {'prob': 0.5}, 'crop_size': 224, 'num_crops': 1}, {'rrc': {'enabled': True, 'crop_min_scale': 0.08, 'crop_max_scale': 1.0}, 'color_jitter': {'prob': 0.8, 'brightness': 0.4, 'contrast': 0.4, 'saturation': 0.2, 'hue': 0.1}, 'grayscale': {'prob': 0.2}, 'gaussian_blur': {'prob': 0.1}, 'solarization': {'prob': 0.2}, 'equalization': {'prob': 0.0}, 'horizontal_flip': {'prob': 0.5}, 'crop_size': 224, 'num_crops': 1}], 'wandb': {'enabled': True, 'entity': None, 'project': 'solo-learn', 'offline': False}, 'dali': {'device': 'gpu', 'encode_indexes_into_labels': False}, 'auto_umap': {'enabled': False, 'dir': 'auto_umap', 'frequency': 1}, 'debug_augmentations': False, 'seed': 5, 'resume_from_checkpoint': None, 'num_nodes': 1, 'accumulate_grad_batches': 1, 'knn_eval': {'enabled': False, 'k': 20, 'distance_func': 'euclidean'}, 'performance': {'disable_channel_last': False}, 'wandb_run_id': 'th5iye5v'}\n",
      "CFG:  cl_lin_pred_min-imagenet100 th5iye5v\n"
     ]
    },
    {
     "name": "stderr",
     "output_type": "stream",
     "text": [
      "Collecting features: 100%|██████████| 989/989 [01:03<00:00, 15.47it/s]\n",
      "Collecting features: 100%|██████████| 40/40 [00:04<00:00,  9.83it/s]\n",
      " 23%|██▎       | 14/62 [19:14<1:04:21, 80.46s/it]"
     ]
    },
    {
     "name": "stdout",
     "output_type": "stream",
     "text": [
      "/hdd/backup_cluster_august_2023/Self-Supervised-Learning-with-Predictability-Minimization/Self-Supervised-Learning-with-Predictability-Minimization/trained_models/cl_lin_pred_min/wgv332i9\n",
      "/hdd/backup_cluster_august_2023/Self-Supervised-Learning-with-Predictability-Minimization/Self-Supervised-Learning-with-Predictability-Minimization/trained_models/cl_lin_pred_min/wgv332i9/cl_lin_pred_min-imagenet100-wgv332i9-ep=399.ckpt\n"
     ]
    },
    {
     "name": "stderr",
     "output_type": "stream",
     "text": [
      "/home/david/.local/share/virtualenvs/Self-Supervised-Learning-with-Predictabili-RPXJKYD0/lib/python3.10/site-packages/umap/distances.py:1063: NumbaDeprecationWarning: The 'nopython' keyword argument was not supplied to the 'numba.jit' decorator. The implicit default value for this argument is currently False, but it will be changed to True in Numba 0.59.0. See https://numba.readthedocs.io/en/stable/reference/deprecation.html#deprecation-of-object-mode-fall-back-behaviour-when-using-jit for details.\n",
      "  @numba.jit()\n",
      "/home/david/.local/share/virtualenvs/Self-Supervised-Learning-with-Predictabili-RPXJKYD0/lib/python3.10/site-packages/umap/distances.py:1071: NumbaDeprecationWarning: The 'nopython' keyword argument was not supplied to the 'numba.jit' decorator. The implicit default value for this argument is currently False, but it will be changed to True in Numba 0.59.0. See https://numba.readthedocs.io/en/stable/reference/deprecation.html#deprecation-of-object-mode-fall-back-behaviour-when-using-jit for details.\n",
      "  @numba.jit()\n",
      "/home/david/.local/share/virtualenvs/Self-Supervised-Learning-with-Predictabili-RPXJKYD0/lib/python3.10/site-packages/umap/distances.py:1086: NumbaDeprecationWarning: The 'nopython' keyword argument was not supplied to the 'numba.jit' decorator. The implicit default value for this argument is currently False, but it will be changed to True in Numba 0.59.0. See https://numba.readthedocs.io/en/stable/reference/deprecation.html#deprecation-of-object-mode-fall-back-behaviour-when-using-jit for details.\n",
      "  @numba.jit()\n",
      "/home/david/.local/share/virtualenvs/Self-Supervised-Learning-with-Predictabili-RPXJKYD0/lib/python3.10/site-packages/umap/umap_.py:660: NumbaDeprecationWarning: The 'nopython' keyword argument was not supplied to the 'numba.jit' decorator. The implicit default value for this argument is currently False, but it will be changed to True in Numba 0.59.0. See https://numba.readthedocs.io/en/stable/reference/deprecation.html#deprecation-of-object-mode-fall-back-behaviour-when-using-jit for details.\n",
      "  @numba.jit()\n"
     ]
    },
    {
     "name": "stdout",
     "output_type": "stream",
     "text": [
      "{'name': 'cl_lin_pred_min-imagenet100', 'method': 'cl_lin_pred_min', 'backbone': {'name': 'resnet18', 'kwargs': {}}, 'method_kwargs': {'proj_hidden_dim': 2048, 'proj_output_dim': 128, 'mask_fraction': 0.5, 'lamb': 0.15, 'ridge_lambd': 0, 'proj_size': 3}, 'data': {'dataset': 'imagenet100', 'train_path': '/itet-stor/zdavid/net_scratch/data/ILSVRC2012_img_train_100', 'val_path': '/itet-stor/zdavid/net_scratch/data/ILSVRC2012_img_val_100', 'format': 'dali', 'num_workers': 4, 'no_labels': False, 'fraction': -1, 'num_classes': 100, 'num_large_crops': 2, 'num_small_crops': 0}, 'optimizer': {'name': 'lars', 'batch_size': 128, 'lr': 0.15, 'classifier_lr': 0.05, 'weight_decay': 0.0001, 'kwargs': {'clip_lr': True, 'eta': 0.02, 'exclude_bias_n_norm': True, 'momentum': 0.9}, 'exclude_bias_n_norm_wd': False}, 'scheduler': {'name': 'warmup_cosine', 'lr_decay_steps': None, 'min_lr': 0.0, 'warmup_start_lr': 3e-05, 'warmup_epochs': 10, 'interval': 'step'}, 'checkpoint': {'enabled': True, 'dir': 'trained_models', 'frequency': 1, 'keep_prev': False}, 'auto_resume': {'enabled': False, 'max_hours': 36}, 'max_epochs': 400, 'devices': [0], 'sync_batchnorm': True, 'accelerator': 'gpu', 'strategy': 'ddp', 'precision': 16, 'augmentations': [{'rrc': {'enabled': True, 'crop_min_scale': 0.08, 'crop_max_scale': 1.0}, 'color_jitter': {'prob': 0.8, 'brightness': 0.4, 'contrast': 0.4, 'saturation': 0.2, 'hue': 0.1}, 'grayscale': {'prob': 0.2}, 'gaussian_blur': {'prob': 1.0}, 'solarization': {'prob': 0.0}, 'equalization': {'prob': 0.0}, 'horizontal_flip': {'prob': 0.5}, 'crop_size': 224, 'num_crops': 1}, {'rrc': {'enabled': True, 'crop_min_scale': 0.08, 'crop_max_scale': 1.0}, 'color_jitter': {'prob': 0.8, 'brightness': 0.4, 'contrast': 0.4, 'saturation': 0.2, 'hue': 0.1}, 'grayscale': {'prob': 0.2}, 'gaussian_blur': {'prob': 0.1}, 'solarization': {'prob': 0.2}, 'equalization': {'prob': 0.0}, 'horizontal_flip': {'prob': 0.5}, 'crop_size': 224, 'num_crops': 1}], 'wandb': {'enabled': True, 'entity': None, 'project': 'solo-learn', 'offline': False}, 'dali': {'device': 'gpu', 'encode_indexes_into_labels': False}, 'auto_umap': {'enabled': False, 'dir': 'auto_umap', 'frequency': 1}, 'debug_augmentations': False, 'seed': 5, 'resume_from_checkpoint': None, 'num_nodes': 1, 'accumulate_grad_batches': 1, 'knn_eval': {'enabled': False, 'k': 20, 'distance_func': 'euclidean'}, 'performance': {'disable_channel_last': False}, 'wandb_run_id': 'wgv332i9'}\n"
     ]
    },
    {
     "name": "stderr",
     "output_type": "stream",
     "text": [
      "WARNING:root:Using scheduler_interval=step might generate issues when resuming a checkpoint.\n",
      "Collecting features:   0%|          | 0/989 [00:00<?, ?it/s]"
     ]
    },
    {
     "name": "stdout",
     "output_type": "stream",
     "text": [
      "{'name': 'cl_lin_pred_min-imagenet100', 'method': 'cl_lin_pred_min', 'backbone': {'name': 'resnet18', 'kwargs': {}}, 'method_kwargs': {'proj_hidden_dim': 2048, 'proj_output_dim': 128, 'mask_fraction': 0.5, 'lamb': 0.15, 'ridge_lambd': 0, 'proj_size': 3}, 'data': {'dataset': 'imagenet100', 'train_path': '/itet-stor/zdavid/net_scratch/data/ILSVRC2012_img_train_100', 'val_path': '/itet-stor/zdavid/net_scratch/data/ILSVRC2012_img_val_100', 'format': 'dali', 'num_workers': 4, 'no_labels': False, 'fraction': -1, 'num_classes': 100, 'num_large_crops': 2, 'num_small_crops': 0}, 'optimizer': {'name': 'lars', 'batch_size': 128, 'lr': 0.15, 'classifier_lr': 0.05, 'weight_decay': 0.0001, 'kwargs': {'clip_lr': True, 'eta': 0.02, 'exclude_bias_n_norm': True, 'momentum': 0.9}, 'exclude_bias_n_norm_wd': False}, 'scheduler': {'name': 'warmup_cosine', 'lr_decay_steps': None, 'min_lr': 0.0, 'warmup_start_lr': 3e-05, 'warmup_epochs': 10, 'interval': 'step'}, 'checkpoint': {'enabled': True, 'dir': 'trained_models', 'frequency': 1, 'keep_prev': False}, 'auto_resume': {'enabled': False, 'max_hours': 36}, 'max_epochs': 400, 'devices': [0], 'sync_batchnorm': True, 'accelerator': 'gpu', 'strategy': 'ddp', 'precision': 16, 'augmentations': [{'rrc': {'enabled': True, 'crop_min_scale': 0.08, 'crop_max_scale': 1.0}, 'color_jitter': {'prob': 0.8, 'brightness': 0.4, 'contrast': 0.4, 'saturation': 0.2, 'hue': 0.1}, 'grayscale': {'prob': 0.2}, 'gaussian_blur': {'prob': 1.0}, 'solarization': {'prob': 0.0}, 'equalization': {'prob': 0.0}, 'horizontal_flip': {'prob': 0.5}, 'crop_size': 224, 'num_crops': 1}, {'rrc': {'enabled': True, 'crop_min_scale': 0.08, 'crop_max_scale': 1.0}, 'color_jitter': {'prob': 0.8, 'brightness': 0.4, 'contrast': 0.4, 'saturation': 0.2, 'hue': 0.1}, 'grayscale': {'prob': 0.2}, 'gaussian_blur': {'prob': 0.1}, 'solarization': {'prob': 0.2}, 'equalization': {'prob': 0.0}, 'horizontal_flip': {'prob': 0.5}, 'crop_size': 224, 'num_crops': 1}], 'wandb': {'enabled': True, 'entity': None, 'project': 'solo-learn', 'offline': False}, 'dali': {'device': 'gpu', 'encode_indexes_into_labels': False}, 'auto_umap': {'enabled': False, 'dir': 'auto_umap', 'frequency': 1}, 'debug_augmentations': False, 'seed': 5, 'resume_from_checkpoint': None, 'num_nodes': 1, 'accumulate_grad_batches': 1, 'knn_eval': {'enabled': False, 'k': 20, 'distance_func': 'euclidean'}, 'performance': {'disable_channel_last': False}, 'wandb_run_id': 'wgv332i9'}\n",
      "CFG:  cl_lin_pred_min-imagenet100 wgv332i9\n"
     ]
    },
    {
     "name": "stderr",
     "output_type": "stream",
     "text": [
      "Collecting features: 100%|██████████| 989/989 [01:13<00:00, 13.37it/s]\n",
      "Collecting features: 100%|██████████| 40/40 [00:04<00:00,  8.28it/s]\n",
      " 24%|██▍       | 15/62 [21:04<1:10:01, 89.39s/it]"
     ]
    },
    {
     "name": "stdout",
     "output_type": "stream",
     "text": [
      "/hdd/backup_cluster_august_2023/Self-Supervised-Learning-with-Predictability-Minimization/Self-Supervised-Learning-with-Predictability-Minimization/trained_models/cl_lin_pred_min/ndf0kggr\n",
      "/hdd/backup_cluster_august_2023/Self-Supervised-Learning-with-Predictability-Minimization/Self-Supervised-Learning-with-Predictability-Minimization/trained_models/cl_lin_pred_min/ndf0kggr/cl_lin_pred_min-imagenet100-ndf0kggr-ep=399.ckpt\n"
     ]
    },
    {
     "name": "stderr",
     "output_type": "stream",
     "text": [
      "/home/david/.local/share/virtualenvs/Self-Supervised-Learning-with-Predictabili-RPXJKYD0/lib/python3.10/site-packages/umap/distances.py:1063: NumbaDeprecationWarning: The 'nopython' keyword argument was not supplied to the 'numba.jit' decorator. The implicit default value for this argument is currently False, but it will be changed to True in Numba 0.59.0. See https://numba.readthedocs.io/en/stable/reference/deprecation.html#deprecation-of-object-mode-fall-back-behaviour-when-using-jit for details.\n",
      "  @numba.jit()\n",
      "/home/david/.local/share/virtualenvs/Self-Supervised-Learning-with-Predictabili-RPXJKYD0/lib/python3.10/site-packages/umap/distances.py:1071: NumbaDeprecationWarning: The 'nopython' keyword argument was not supplied to the 'numba.jit' decorator. The implicit default value for this argument is currently False, but it will be changed to True in Numba 0.59.0. See https://numba.readthedocs.io/en/stable/reference/deprecation.html#deprecation-of-object-mode-fall-back-behaviour-when-using-jit for details.\n",
      "  @numba.jit()\n",
      "/home/david/.local/share/virtualenvs/Self-Supervised-Learning-with-Predictabili-RPXJKYD0/lib/python3.10/site-packages/umap/distances.py:1086: NumbaDeprecationWarning: The 'nopython' keyword argument was not supplied to the 'numba.jit' decorator. The implicit default value for this argument is currently False, but it will be changed to True in Numba 0.59.0. See https://numba.readthedocs.io/en/stable/reference/deprecation.html#deprecation-of-object-mode-fall-back-behaviour-when-using-jit for details.\n",
      "  @numba.jit()\n",
      "/home/david/.local/share/virtualenvs/Self-Supervised-Learning-with-Predictabili-RPXJKYD0/lib/python3.10/site-packages/umap/umap_.py:660: NumbaDeprecationWarning: The 'nopython' keyword argument was not supplied to the 'numba.jit' decorator. The implicit default value for this argument is currently False, but it will be changed to True in Numba 0.59.0. See https://numba.readthedocs.io/en/stable/reference/deprecation.html#deprecation-of-object-mode-fall-back-behaviour-when-using-jit for details.\n",
      "  @numba.jit()\n"
     ]
    },
    {
     "name": "stdout",
     "output_type": "stream",
     "text": [
      "{'name': 'cl_lin_pred_min-imagenet100', 'method': 'cl_lin_pred_min', 'backbone': {'name': 'resnet18', 'kwargs': {}}, 'method_kwargs': {'proj_hidden_dim': 2048, 'proj_output_dim': 128, 'mask_fraction': 0.5, 'lamb': 0.3, 'ridge_lambd': 0, 'proj_size': 3}, 'data': {'dataset': 'imagenet100', 'train_path': '/itet-stor/zdavid/net_scratch/data/ILSVRC2012_img_train_100', 'val_path': '/itet-stor/zdavid/net_scratch/data/ILSVRC2012_img_val_100', 'format': 'dali', 'num_workers': 4, 'no_labels': False, 'fraction': -1, 'num_classes': 100, 'num_large_crops': 2, 'num_small_crops': 0}, 'optimizer': {'name': 'lars', 'batch_size': 256, 'lr': 0.3, 'classifier_lr': 0.1, 'weight_decay': 0.0001, 'kwargs': {'clip_lr': True, 'eta': 0.02, 'exclude_bias_n_norm': True, 'momentum': 0.9}, 'exclude_bias_n_norm_wd': False}, 'scheduler': {'name': 'warmup_cosine', 'lr_decay_steps': None, 'min_lr': 0.0, 'warmup_start_lr': 3e-05, 'warmup_epochs': 10, 'interval': 'step'}, 'checkpoint': {'enabled': True, 'dir': 'trained_models', 'frequency': 1, 'keep_prev': False}, 'auto_resume': {'enabled': False, 'max_hours': 36}, 'max_epochs': 400, 'devices': [0], 'sync_batchnorm': True, 'accelerator': 'gpu', 'strategy': 'ddp', 'precision': 16, 'augmentations': [{'rrc': {'enabled': True, 'crop_min_scale': 0.08, 'crop_max_scale': 1.0}, 'color_jitter': {'prob': 0.8, 'brightness': 0.4, 'contrast': 0.4, 'saturation': 0.2, 'hue': 0.1}, 'grayscale': {'prob': 0.2}, 'gaussian_blur': {'prob': 1.0}, 'solarization': {'prob': 0.0}, 'equalization': {'prob': 0.0}, 'horizontal_flip': {'prob': 0.5}, 'crop_size': 224, 'num_crops': 1}, {'rrc': {'enabled': True, 'crop_min_scale': 0.08, 'crop_max_scale': 1.0}, 'color_jitter': {'prob': 0.8, 'brightness': 0.4, 'contrast': 0.4, 'saturation': 0.2, 'hue': 0.1}, 'grayscale': {'prob': 0.2}, 'gaussian_blur': {'prob': 0.1}, 'solarization': {'prob': 0.2}, 'equalization': {'prob': 0.0}, 'horizontal_flip': {'prob': 0.5}, 'crop_size': 224, 'num_crops': 1}], 'wandb': {'enabled': True, 'entity': None, 'project': 'solo-learn', 'offline': False}, 'dali': {'device': 'gpu', 'encode_indexes_into_labels': False}, 'auto_umap': {'enabled': False, 'dir': 'auto_umap', 'frequency': 1}, 'debug_augmentations': False, 'seed': 5, 'resume_from_checkpoint': None, 'num_nodes': 1, 'accumulate_grad_batches': 1, 'knn_eval': {'enabled': False, 'k': 20, 'distance_func': 'euclidean'}, 'performance': {'disable_channel_last': False}, 'wandb_run_id': 'ndf0kggr'}\n"
     ]
    },
    {
     "name": "stderr",
     "output_type": "stream",
     "text": [
      "WARNING:root:Using scheduler_interval=step might generate issues when resuming a checkpoint.\n",
      "Collecting features:   0%|          | 0/989 [00:00<?, ?it/s]"
     ]
    },
    {
     "name": "stdout",
     "output_type": "stream",
     "text": [
      "{'name': 'cl_lin_pred_min-imagenet100', 'method': 'cl_lin_pred_min', 'backbone': {'name': 'resnet18', 'kwargs': {}}, 'method_kwargs': {'proj_hidden_dim': 2048, 'proj_output_dim': 128, 'mask_fraction': 0.5, 'lamb': 0.3, 'ridge_lambd': 0, 'proj_size': 3}, 'data': {'dataset': 'imagenet100', 'train_path': '/itet-stor/zdavid/net_scratch/data/ILSVRC2012_img_train_100', 'val_path': '/itet-stor/zdavid/net_scratch/data/ILSVRC2012_img_val_100', 'format': 'dali', 'num_workers': 4, 'no_labels': False, 'fraction': -1, 'num_classes': 100, 'num_large_crops': 2, 'num_small_crops': 0}, 'optimizer': {'name': 'lars', 'batch_size': 256, 'lr': 0.3, 'classifier_lr': 0.1, 'weight_decay': 0.0001, 'kwargs': {'clip_lr': True, 'eta': 0.02, 'exclude_bias_n_norm': True, 'momentum': 0.9}, 'exclude_bias_n_norm_wd': False}, 'scheduler': {'name': 'warmup_cosine', 'lr_decay_steps': None, 'min_lr': 0.0, 'warmup_start_lr': 3e-05, 'warmup_epochs': 10, 'interval': 'step'}, 'checkpoint': {'enabled': True, 'dir': 'trained_models', 'frequency': 1, 'keep_prev': False}, 'auto_resume': {'enabled': False, 'max_hours': 36}, 'max_epochs': 400, 'devices': [0], 'sync_batchnorm': True, 'accelerator': 'gpu', 'strategy': 'ddp', 'precision': 16, 'augmentations': [{'rrc': {'enabled': True, 'crop_min_scale': 0.08, 'crop_max_scale': 1.0}, 'color_jitter': {'prob': 0.8, 'brightness': 0.4, 'contrast': 0.4, 'saturation': 0.2, 'hue': 0.1}, 'grayscale': {'prob': 0.2}, 'gaussian_blur': {'prob': 1.0}, 'solarization': {'prob': 0.0}, 'equalization': {'prob': 0.0}, 'horizontal_flip': {'prob': 0.5}, 'crop_size': 224, 'num_crops': 1}, {'rrc': {'enabled': True, 'crop_min_scale': 0.08, 'crop_max_scale': 1.0}, 'color_jitter': {'prob': 0.8, 'brightness': 0.4, 'contrast': 0.4, 'saturation': 0.2, 'hue': 0.1}, 'grayscale': {'prob': 0.2}, 'gaussian_blur': {'prob': 0.1}, 'solarization': {'prob': 0.2}, 'equalization': {'prob': 0.0}, 'horizontal_flip': {'prob': 0.5}, 'crop_size': 224, 'num_crops': 1}], 'wandb': {'enabled': True, 'entity': None, 'project': 'solo-learn', 'offline': False}, 'dali': {'device': 'gpu', 'encode_indexes_into_labels': False}, 'auto_umap': {'enabled': False, 'dir': 'auto_umap', 'frequency': 1}, 'debug_augmentations': False, 'seed': 5, 'resume_from_checkpoint': None, 'num_nodes': 1, 'accumulate_grad_batches': 1, 'knn_eval': {'enabled': False, 'k': 20, 'distance_func': 'euclidean'}, 'performance': {'disable_channel_last': False}, 'wandb_run_id': 'ndf0kggr'}\n",
      "CFG:  cl_lin_pred_min-imagenet100 ndf0kggr\n"
     ]
    },
    {
     "name": "stderr",
     "output_type": "stream",
     "text": [
      "Collecting features: 100%|██████████| 989/989 [01:30<00:00, 10.89it/s]\n",
      "/home/david/Programming/Self-Supervised-Learning-with-Predictability-Minimization/solo/utils/corr.py:54: RuntimeWarning: invalid value encountered in divide\n",
      "  data_standardized = (data - data.mean(0)) / data.std(0)\n",
      "Collecting features: 100%|██████████| 40/40 [00:04<00:00,  8.47it/s]\n",
      " 26%|██▌       | 16/62 [23:11<1:17:11, 100.69s/it]"
     ]
    },
    {
     "name": "stdout",
     "output_type": "stream",
     "text": [
      "/hdd/backup_cluster_august_2023/Self-Supervised-Learning-with-Predictability-Minimization/Self-Supervised-Learning-with-Predictability-Minimization/trained_models/cl_lin_pred_min/ediltapt\n",
      "/hdd/backup_cluster_august_2023/Self-Supervised-Learning-with-Predictability-Minimization/Self-Supervised-Learning-with-Predictability-Minimization/trained_models/cl_lin_pred_min/ediltapt/cl_lin_pred_min-imagenet100-ediltapt-ep=399.ckpt\n"
     ]
    },
    {
     "name": "stderr",
     "output_type": "stream",
     "text": [
      "/home/david/.local/share/virtualenvs/Self-Supervised-Learning-with-Predictabili-RPXJKYD0/lib/python3.10/site-packages/umap/distances.py:1063: NumbaDeprecationWarning: The 'nopython' keyword argument was not supplied to the 'numba.jit' decorator. The implicit default value for this argument is currently False, but it will be changed to True in Numba 0.59.0. See https://numba.readthedocs.io/en/stable/reference/deprecation.html#deprecation-of-object-mode-fall-back-behaviour-when-using-jit for details.\n",
      "  @numba.jit()\n",
      "/home/david/.local/share/virtualenvs/Self-Supervised-Learning-with-Predictabili-RPXJKYD0/lib/python3.10/site-packages/umap/distances.py:1071: NumbaDeprecationWarning: The 'nopython' keyword argument was not supplied to the 'numba.jit' decorator. The implicit default value for this argument is currently False, but it will be changed to True in Numba 0.59.0. See https://numba.readthedocs.io/en/stable/reference/deprecation.html#deprecation-of-object-mode-fall-back-behaviour-when-using-jit for details.\n",
      "  @numba.jit()\n",
      "/home/david/.local/share/virtualenvs/Self-Supervised-Learning-with-Predictabili-RPXJKYD0/lib/python3.10/site-packages/umap/distances.py:1086: NumbaDeprecationWarning: The 'nopython' keyword argument was not supplied to the 'numba.jit' decorator. The implicit default value for this argument is currently False, but it will be changed to True in Numba 0.59.0. See https://numba.readthedocs.io/en/stable/reference/deprecation.html#deprecation-of-object-mode-fall-back-behaviour-when-using-jit for details.\n",
      "  @numba.jit()\n",
      "/home/david/.local/share/virtualenvs/Self-Supervised-Learning-with-Predictabili-RPXJKYD0/lib/python3.10/site-packages/umap/umap_.py:660: NumbaDeprecationWarning: The 'nopython' keyword argument was not supplied to the 'numba.jit' decorator. The implicit default value for this argument is currently False, but it will be changed to True in Numba 0.59.0. See https://numba.readthedocs.io/en/stable/reference/deprecation.html#deprecation-of-object-mode-fall-back-behaviour-when-using-jit for details.\n",
      "  @numba.jit()\n"
     ]
    },
    {
     "name": "stdout",
     "output_type": "stream",
     "text": [
      "{'name': 'cl_lin_pred_min-imagenet100', 'method': 'cl_lin_pred_min', 'backbone': {'name': 'resnet18', 'kwargs': {}}, 'method_kwargs': {'proj_hidden_dim': 2048, 'proj_output_dim': 128, 'mask_fraction': 0.5, 'lamb': 0.15, 'ridge_lambd': 0, 'proj_size': 3}, 'data': {'dataset': 'imagenet100', 'train_path': '/itet-stor/zdavid/net_scratch/data/ILSVRC2012_img_train_100', 'val_path': '/itet-stor/zdavid/net_scratch/data/ILSVRC2012_img_val_100', 'format': 'dali', 'num_workers': 4, 'no_labels': False, 'fraction': -1, 'num_classes': 100, 'num_large_crops': 2, 'num_small_crops': 0}, 'optimizer': {'name': 'lars', 'batch_size': 256, 'lr': 0.3, 'classifier_lr': 0.1, 'weight_decay': 0.0001, 'kwargs': {'clip_lr': True, 'eta': 0.02, 'exclude_bias_n_norm': True, 'momentum': 0.9}, 'exclude_bias_n_norm_wd': False}, 'scheduler': {'name': 'warmup_cosine', 'lr_decay_steps': None, 'min_lr': 0.0, 'warmup_start_lr': 3e-05, 'warmup_epochs': 10, 'interval': 'step'}, 'checkpoint': {'enabled': True, 'dir': 'trained_models', 'frequency': 1, 'keep_prev': False}, 'auto_resume': {'enabled': False, 'max_hours': 36}, 'max_epochs': 400, 'devices': [0], 'sync_batchnorm': True, 'accelerator': 'gpu', 'strategy': 'ddp', 'precision': 16, 'augmentations': [{'rrc': {'enabled': True, 'crop_min_scale': 0.08, 'crop_max_scale': 1.0}, 'color_jitter': {'prob': 0.8, 'brightness': 0.4, 'contrast': 0.4, 'saturation': 0.2, 'hue': 0.1}, 'grayscale': {'prob': 0.2}, 'gaussian_blur': {'prob': 1.0}, 'solarization': {'prob': 0.0}, 'equalization': {'prob': 0.0}, 'horizontal_flip': {'prob': 0.5}, 'crop_size': 224, 'num_crops': 1}, {'rrc': {'enabled': True, 'crop_min_scale': 0.08, 'crop_max_scale': 1.0}, 'color_jitter': {'prob': 0.8, 'brightness': 0.4, 'contrast': 0.4, 'saturation': 0.2, 'hue': 0.1}, 'grayscale': {'prob': 0.2}, 'gaussian_blur': {'prob': 0.1}, 'solarization': {'prob': 0.2}, 'equalization': {'prob': 0.0}, 'horizontal_flip': {'prob': 0.5}, 'crop_size': 224, 'num_crops': 1}], 'wandb': {'enabled': True, 'entity': None, 'project': 'solo-learn', 'offline': False}, 'dali': {'device': 'gpu', 'encode_indexes_into_labels': False}, 'auto_umap': {'enabled': False, 'dir': 'auto_umap', 'frequency': 1}, 'debug_augmentations': False, 'seed': 5, 'resume_from_checkpoint': None, 'num_nodes': 1, 'accumulate_grad_batches': 1, 'knn_eval': {'enabled': False, 'k': 20, 'distance_func': 'euclidean'}, 'performance': {'disable_channel_last': False}, 'wandb_run_id': 'ediltapt'}\n"
     ]
    },
    {
     "name": "stderr",
     "output_type": "stream",
     "text": [
      "WARNING:root:Using scheduler_interval=step might generate issues when resuming a checkpoint.\n",
      "Collecting features:   0%|          | 0/989 [00:00<?, ?it/s]"
     ]
    },
    {
     "name": "stdout",
     "output_type": "stream",
     "text": [
      "{'name': 'cl_lin_pred_min-imagenet100', 'method': 'cl_lin_pred_min', 'backbone': {'name': 'resnet18', 'kwargs': {}}, 'method_kwargs': {'proj_hidden_dim': 2048, 'proj_output_dim': 128, 'mask_fraction': 0.5, 'lamb': 0.15, 'ridge_lambd': 0, 'proj_size': 3}, 'data': {'dataset': 'imagenet100', 'train_path': '/itet-stor/zdavid/net_scratch/data/ILSVRC2012_img_train_100', 'val_path': '/itet-stor/zdavid/net_scratch/data/ILSVRC2012_img_val_100', 'format': 'dali', 'num_workers': 4, 'no_labels': False, 'fraction': -1, 'num_classes': 100, 'num_large_crops': 2, 'num_small_crops': 0}, 'optimizer': {'name': 'lars', 'batch_size': 256, 'lr': 0.3, 'classifier_lr': 0.1, 'weight_decay': 0.0001, 'kwargs': {'clip_lr': True, 'eta': 0.02, 'exclude_bias_n_norm': True, 'momentum': 0.9}, 'exclude_bias_n_norm_wd': False}, 'scheduler': {'name': 'warmup_cosine', 'lr_decay_steps': None, 'min_lr': 0.0, 'warmup_start_lr': 3e-05, 'warmup_epochs': 10, 'interval': 'step'}, 'checkpoint': {'enabled': True, 'dir': 'trained_models', 'frequency': 1, 'keep_prev': False}, 'auto_resume': {'enabled': False, 'max_hours': 36}, 'max_epochs': 400, 'devices': [0], 'sync_batchnorm': True, 'accelerator': 'gpu', 'strategy': 'ddp', 'precision': 16, 'augmentations': [{'rrc': {'enabled': True, 'crop_min_scale': 0.08, 'crop_max_scale': 1.0}, 'color_jitter': {'prob': 0.8, 'brightness': 0.4, 'contrast': 0.4, 'saturation': 0.2, 'hue': 0.1}, 'grayscale': {'prob': 0.2}, 'gaussian_blur': {'prob': 1.0}, 'solarization': {'prob': 0.0}, 'equalization': {'prob': 0.0}, 'horizontal_flip': {'prob': 0.5}, 'crop_size': 224, 'num_crops': 1}, {'rrc': {'enabled': True, 'crop_min_scale': 0.08, 'crop_max_scale': 1.0}, 'color_jitter': {'prob': 0.8, 'brightness': 0.4, 'contrast': 0.4, 'saturation': 0.2, 'hue': 0.1}, 'grayscale': {'prob': 0.2}, 'gaussian_blur': {'prob': 0.1}, 'solarization': {'prob': 0.2}, 'equalization': {'prob': 0.0}, 'horizontal_flip': {'prob': 0.5}, 'crop_size': 224, 'num_crops': 1}], 'wandb': {'enabled': True, 'entity': None, 'project': 'solo-learn', 'offline': False}, 'dali': {'device': 'gpu', 'encode_indexes_into_labels': False}, 'auto_umap': {'enabled': False, 'dir': 'auto_umap', 'frequency': 1}, 'debug_augmentations': False, 'seed': 5, 'resume_from_checkpoint': None, 'num_nodes': 1, 'accumulate_grad_batches': 1, 'knn_eval': {'enabled': False, 'k': 20, 'distance_func': 'euclidean'}, 'performance': {'disable_channel_last': False}, 'wandb_run_id': 'ediltapt'}\n",
      "CFG:  cl_lin_pred_min-imagenet100 ediltapt\n"
     ]
    },
    {
     "name": "stderr",
     "output_type": "stream",
     "text": [
      "Collecting features: 100%|██████████| 989/989 [01:28<00:00, 11.23it/s]\n",
      "Collecting features: 100%|██████████| 40/40 [00:04<00:00,  8.18it/s]\n",
      " 27%|██▋       | 17/62 [25:16<1:20:51, 107.81s/it]"
     ]
    },
    {
     "name": "stdout",
     "output_type": "stream",
     "text": [
      "/hdd/backup_cluster_august_2023/Self-Supervised-Learning-with-Predictability-Minimization/Self-Supervised-Learning-with-Predictability-Minimization/trained_models/cl_lin_pred_min/cej8x0bm\n",
      "/hdd/backup_cluster_august_2023/Self-Supervised-Learning-with-Predictability-Minimization/Self-Supervised-Learning-with-Predictability-Minimization/trained_models/cl_lin_pred_min/cej8x0bm/cl_lin_pred_min-imagenet100-cej8x0bm-ep=399.ckpt\n"
     ]
    },
    {
     "name": "stderr",
     "output_type": "stream",
     "text": [
      "/home/david/.local/share/virtualenvs/Self-Supervised-Learning-with-Predictabili-RPXJKYD0/lib/python3.10/site-packages/umap/distances.py:1063: NumbaDeprecationWarning: The 'nopython' keyword argument was not supplied to the 'numba.jit' decorator. The implicit default value for this argument is currently False, but it will be changed to True in Numba 0.59.0. See https://numba.readthedocs.io/en/stable/reference/deprecation.html#deprecation-of-object-mode-fall-back-behaviour-when-using-jit for details.\n",
      "  @numba.jit()\n",
      "/home/david/.local/share/virtualenvs/Self-Supervised-Learning-with-Predictabili-RPXJKYD0/lib/python3.10/site-packages/umap/distances.py:1071: NumbaDeprecationWarning: The 'nopython' keyword argument was not supplied to the 'numba.jit' decorator. The implicit default value for this argument is currently False, but it will be changed to True in Numba 0.59.0. See https://numba.readthedocs.io/en/stable/reference/deprecation.html#deprecation-of-object-mode-fall-back-behaviour-when-using-jit for details.\n",
      "  @numba.jit()\n",
      "/home/david/.local/share/virtualenvs/Self-Supervised-Learning-with-Predictabili-RPXJKYD0/lib/python3.10/site-packages/umap/distances.py:1086: NumbaDeprecationWarning: The 'nopython' keyword argument was not supplied to the 'numba.jit' decorator. The implicit default value for this argument is currently False, but it will be changed to True in Numba 0.59.0. See https://numba.readthedocs.io/en/stable/reference/deprecation.html#deprecation-of-object-mode-fall-back-behaviour-when-using-jit for details.\n",
      "  @numba.jit()\n",
      "/home/david/.local/share/virtualenvs/Self-Supervised-Learning-with-Predictabili-RPXJKYD0/lib/python3.10/site-packages/umap/umap_.py:660: NumbaDeprecationWarning: The 'nopython' keyword argument was not supplied to the 'numba.jit' decorator. The implicit default value for this argument is currently False, but it will be changed to True in Numba 0.59.0. See https://numba.readthedocs.io/en/stable/reference/deprecation.html#deprecation-of-object-mode-fall-back-behaviour-when-using-jit for details.\n",
      "  @numba.jit()\n"
     ]
    },
    {
     "name": "stdout",
     "output_type": "stream",
     "text": [
      "{'name': 'cl_lin_pred_min-imagenet100', 'method': 'cl_lin_pred_min', 'backbone': {'name': 'resnet18', 'kwargs': {}}, 'method_kwargs': {'proj_hidden_dim': 2048, 'proj_output_dim': 128, 'mask_fraction': 0.5, 'lamb': 0.6, 'ridge_lambd': 0, 'proj_size': 3}, 'data': {'dataset': 'imagenet100', 'train_path': '/itet-stor/zdavid/net_scratch/data/ILSVRC2012_img_train_100', 'val_path': '/itet-stor/zdavid/net_scratch/data/ILSVRC2012_img_val_100', 'format': 'dali', 'num_workers': 4, 'no_labels': False, 'fraction': -1, 'num_classes': 100, 'num_large_crops': 2, 'num_small_crops': 0}, 'optimizer': {'name': 'lars', 'batch_size': 256, 'lr': 0.3, 'classifier_lr': 0.1, 'weight_decay': 0.0001, 'kwargs': {'clip_lr': True, 'eta': 0.02, 'exclude_bias_n_norm': True, 'momentum': 0.9}, 'exclude_bias_n_norm_wd': False}, 'scheduler': {'name': 'warmup_cosine', 'lr_decay_steps': None, 'min_lr': 0.0, 'warmup_start_lr': 3e-05, 'warmup_epochs': 10, 'interval': 'step'}, 'checkpoint': {'enabled': True, 'dir': 'trained_models', 'frequency': 1, 'keep_prev': False}, 'auto_resume': {'enabled': False, 'max_hours': 36}, 'max_epochs': 400, 'devices': [0], 'sync_batchnorm': True, 'accelerator': 'gpu', 'strategy': 'ddp', 'precision': 16, 'augmentations': [{'rrc': {'enabled': True, 'crop_min_scale': 0.08, 'crop_max_scale': 1.0}, 'color_jitter': {'prob': 0.8, 'brightness': 0.4, 'contrast': 0.4, 'saturation': 0.2, 'hue': 0.1}, 'grayscale': {'prob': 0.2}, 'gaussian_blur': {'prob': 1.0}, 'solarization': {'prob': 0.0}, 'equalization': {'prob': 0.0}, 'horizontal_flip': {'prob': 0.5}, 'crop_size': 224, 'num_crops': 1}, {'rrc': {'enabled': True, 'crop_min_scale': 0.08, 'crop_max_scale': 1.0}, 'color_jitter': {'prob': 0.8, 'brightness': 0.4, 'contrast': 0.4, 'saturation': 0.2, 'hue': 0.1}, 'grayscale': {'prob': 0.2}, 'gaussian_blur': {'prob': 0.1}, 'solarization': {'prob': 0.2}, 'equalization': {'prob': 0.0}, 'horizontal_flip': {'prob': 0.5}, 'crop_size': 224, 'num_crops': 1}], 'wandb': {'enabled': True, 'entity': None, 'project': 'solo-learn', 'offline': False}, 'dali': {'device': 'gpu', 'encode_indexes_into_labels': False}, 'auto_umap': {'enabled': False, 'dir': 'auto_umap', 'frequency': 1}, 'debug_augmentations': False, 'seed': 5, 'resume_from_checkpoint': None, 'num_nodes': 1, 'accumulate_grad_batches': 1, 'knn_eval': {'enabled': False, 'k': 20, 'distance_func': 'euclidean'}, 'performance': {'disable_channel_last': False}, 'wandb_run_id': 'cej8x0bm'}\n"
     ]
    },
    {
     "name": "stderr",
     "output_type": "stream",
     "text": [
      "WARNING:root:Using scheduler_interval=step might generate issues when resuming a checkpoint.\n",
      "Collecting features:   0%|          | 0/989 [00:00<?, ?it/s]"
     ]
    },
    {
     "name": "stdout",
     "output_type": "stream",
     "text": [
      "{'name': 'cl_lin_pred_min-imagenet100', 'method': 'cl_lin_pred_min', 'backbone': {'name': 'resnet18', 'kwargs': {}}, 'method_kwargs': {'proj_hidden_dim': 2048, 'proj_output_dim': 128, 'mask_fraction': 0.5, 'lamb': 0.6, 'ridge_lambd': 0, 'proj_size': 3}, 'data': {'dataset': 'imagenet100', 'train_path': '/itet-stor/zdavid/net_scratch/data/ILSVRC2012_img_train_100', 'val_path': '/itet-stor/zdavid/net_scratch/data/ILSVRC2012_img_val_100', 'format': 'dali', 'num_workers': 4, 'no_labels': False, 'fraction': -1, 'num_classes': 100, 'num_large_crops': 2, 'num_small_crops': 0}, 'optimizer': {'name': 'lars', 'batch_size': 256, 'lr': 0.3, 'classifier_lr': 0.1, 'weight_decay': 0.0001, 'kwargs': {'clip_lr': True, 'eta': 0.02, 'exclude_bias_n_norm': True, 'momentum': 0.9}, 'exclude_bias_n_norm_wd': False}, 'scheduler': {'name': 'warmup_cosine', 'lr_decay_steps': None, 'min_lr': 0.0, 'warmup_start_lr': 3e-05, 'warmup_epochs': 10, 'interval': 'step'}, 'checkpoint': {'enabled': True, 'dir': 'trained_models', 'frequency': 1, 'keep_prev': False}, 'auto_resume': {'enabled': False, 'max_hours': 36}, 'max_epochs': 400, 'devices': [0], 'sync_batchnorm': True, 'accelerator': 'gpu', 'strategy': 'ddp', 'precision': 16, 'augmentations': [{'rrc': {'enabled': True, 'crop_min_scale': 0.08, 'crop_max_scale': 1.0}, 'color_jitter': {'prob': 0.8, 'brightness': 0.4, 'contrast': 0.4, 'saturation': 0.2, 'hue': 0.1}, 'grayscale': {'prob': 0.2}, 'gaussian_blur': {'prob': 1.0}, 'solarization': {'prob': 0.0}, 'equalization': {'prob': 0.0}, 'horizontal_flip': {'prob': 0.5}, 'crop_size': 224, 'num_crops': 1}, {'rrc': {'enabled': True, 'crop_min_scale': 0.08, 'crop_max_scale': 1.0}, 'color_jitter': {'prob': 0.8, 'brightness': 0.4, 'contrast': 0.4, 'saturation': 0.2, 'hue': 0.1}, 'grayscale': {'prob': 0.2}, 'gaussian_blur': {'prob': 0.1}, 'solarization': {'prob': 0.2}, 'equalization': {'prob': 0.0}, 'horizontal_flip': {'prob': 0.5}, 'crop_size': 224, 'num_crops': 1}], 'wandb': {'enabled': True, 'entity': None, 'project': 'solo-learn', 'offline': False}, 'dali': {'device': 'gpu', 'encode_indexes_into_labels': False}, 'auto_umap': {'enabled': False, 'dir': 'auto_umap', 'frequency': 1}, 'debug_augmentations': False, 'seed': 5, 'resume_from_checkpoint': None, 'num_nodes': 1, 'accumulate_grad_batches': 1, 'knn_eval': {'enabled': False, 'k': 20, 'distance_func': 'euclidean'}, 'performance': {'disable_channel_last': False}, 'wandb_run_id': 'cej8x0bm'}\n",
      "CFG:  cl_lin_pred_min-imagenet100 cej8x0bm\n"
     ]
    },
    {
     "name": "stderr",
     "output_type": "stream",
     "text": [
      "Collecting features: 100%|██████████| 989/989 [01:34<00:00, 10.45it/s]\n",
      "Collecting features: 100%|██████████| 40/40 [00:04<00:00,  8.10it/s]\n",
      " 29%|██▉       | 18/62 [27:27<1:24:09, 114.77s/it]"
     ]
    },
    {
     "name": "stdout",
     "output_type": "stream",
     "text": [
      "/hdd/backup_cluster_august_2023/Self-Supervised-Learning-with-Predictability-Minimization/Self-Supervised-Learning-with-Predictability-Minimization/trained_models/cl_lin_pred_min/0f1kbywn\n",
      "/hdd/backup_cluster_august_2023/Self-Supervised-Learning-with-Predictability-Minimization/Self-Supervised-Learning-with-Predictability-Minimization/trained_models/cl_lin_pred_min/0f1kbywn/cl_lin_pred_min-cifar10-0f1kbywn-ep=999.ckpt\n"
     ]
    },
    {
     "name": "stderr",
     "output_type": "stream",
     "text": [
      "/home/david/.local/share/virtualenvs/Self-Supervised-Learning-with-Predictabili-RPXJKYD0/lib/python3.10/site-packages/umap/distances.py:1063: NumbaDeprecationWarning: The 'nopython' keyword argument was not supplied to the 'numba.jit' decorator. The implicit default value for this argument is currently False, but it will be changed to True in Numba 0.59.0. See https://numba.readthedocs.io/en/stable/reference/deprecation.html#deprecation-of-object-mode-fall-back-behaviour-when-using-jit for details.\n",
      "  @numba.jit()\n",
      "/home/david/.local/share/virtualenvs/Self-Supervised-Learning-with-Predictabili-RPXJKYD0/lib/python3.10/site-packages/umap/distances.py:1071: NumbaDeprecationWarning: The 'nopython' keyword argument was not supplied to the 'numba.jit' decorator. The implicit default value for this argument is currently False, but it will be changed to True in Numba 0.59.0. See https://numba.readthedocs.io/en/stable/reference/deprecation.html#deprecation-of-object-mode-fall-back-behaviour-when-using-jit for details.\n",
      "  @numba.jit()\n",
      "/home/david/.local/share/virtualenvs/Self-Supervised-Learning-with-Predictabili-RPXJKYD0/lib/python3.10/site-packages/umap/distances.py:1086: NumbaDeprecationWarning: The 'nopython' keyword argument was not supplied to the 'numba.jit' decorator. The implicit default value for this argument is currently False, but it will be changed to True in Numba 0.59.0. See https://numba.readthedocs.io/en/stable/reference/deprecation.html#deprecation-of-object-mode-fall-back-behaviour-when-using-jit for details.\n",
      "  @numba.jit()\n",
      "/home/david/.local/share/virtualenvs/Self-Supervised-Learning-with-Predictabili-RPXJKYD0/lib/python3.10/site-packages/umap/umap_.py:660: NumbaDeprecationWarning: The 'nopython' keyword argument was not supplied to the 'numba.jit' decorator. The implicit default value for this argument is currently False, but it will be changed to True in Numba 0.59.0. See https://numba.readthedocs.io/en/stable/reference/deprecation.html#deprecation-of-object-mode-fall-back-behaviour-when-using-jit for details.\n",
      "  @numba.jit()\n"
     ]
    },
    {
     "name": "stdout",
     "output_type": "stream",
     "text": [
      "{'name': 'cl_lin_pred_min-cifar10', 'method': 'cl_lin_pred_min', 'backbone': {'name': 'resnet18', 'kwargs': {}}, 'method_kwargs': {'proj_hidden_dim': 2048, 'proj_output_dim': 128, 'mask_fraction': 0.5, 'lamb': 0.2, 'ridge_lambd': 0, 'proj_size': 3}, 'data': {'dataset': 'cifar10', 'train_path': './datasets', 'val_path': './datasets', 'format': 'image_folder', 'num_workers': 4, 'no_labels': False, 'fraction': -1, 'num_classes': 10, 'num_large_crops': 2, 'num_small_crops': 0}, 'optimizer': {'name': 'lars', 'batch_size': 256, 'lr': 0.3, 'classifier_lr': 0.1, 'weight_decay': 0.0001, 'kwargs': {'clip_lr': True, 'eta': 0.02, 'exclude_bias_n_norm': True, 'momentum': 0.9}, 'exclude_bias_n_norm_wd': False}, 'scheduler': {'name': 'warmup_cosine', 'lr_decay_steps': None, 'min_lr': 0.0, 'warmup_start_lr': 3e-05, 'warmup_epochs': 10, 'interval': 'step'}, 'checkpoint': {'enabled': True, 'dir': 'trained_models', 'frequency': 1, 'keep_prev': False}, 'auto_resume': {'enabled': False, 'max_hours': 36}, 'max_epochs': 1000, 'devices': [0], 'sync_batchnorm': True, 'accelerator': 'gpu', 'strategy': 'ddp', 'precision': '16-mixed', 'augmentations': [{'rrc': {'enabled': True, 'crop_min_scale': 0.08, 'crop_max_scale': 1.0}, 'color_jitter': {'prob': 0.8, 'brightness': 0.4, 'contrast': 0.4, 'saturation': 0.2, 'hue': 0.1}, 'grayscale': {'prob': 0.2}, 'gaussian_blur': {'prob': 0.0}, 'solarization': {'prob': 0.0}, 'equalization': {'prob': 0.0}, 'horizontal_flip': {'prob': 0.5}, 'crop_size': 32, 'num_crops': 1}, {'rrc': {'enabled': True, 'crop_min_scale': 0.08, 'crop_max_scale': 1.0}, 'color_jitter': {'prob': 0.8, 'brightness': 0.4, 'contrast': 0.4, 'saturation': 0.2, 'hue': 0.1}, 'grayscale': {'prob': 0.2}, 'gaussian_blur': {'prob': 0.0}, 'solarization': {'prob': 0.2}, 'equalization': {'prob': 0.0}, 'horizontal_flip': {'prob': 0.5}, 'crop_size': 32, 'num_crops': 1}], 'wandb': {'enabled': True, 'entity': None, 'project': 'solo-learn', 'offline': False}, 'dali': {'device': 'gpu', 'encode_indexes_into_labels': False}, 'auto_umap': {'enabled': False, 'dir': 'auto_umap', 'frequency': 1}, 'debug_augmentations': False, 'seed': 5, 'resume_from_checkpoint': None, 'num_nodes': 1, 'accumulate_grad_batches': 1, 'knn_eval': {'enabled': False, 'k': 20, 'distance_func': 'euclidean'}, 'performance': {'disable_channel_last': False}, 'wandb_run_id': '0f1kbywn'}\n"
     ]
    },
    {
     "name": "stderr",
     "output_type": "stream",
     "text": [
      "WARNING:root:Using scheduler_interval=step might generate issues when resuming a checkpoint.\n"
     ]
    },
    {
     "name": "stdout",
     "output_type": "stream",
     "text": [
      "Files already downloaded and verified\n",
      "Files already downloaded and verified\n",
      "{'name': 'cl_lin_pred_min-cifar10', 'method': 'cl_lin_pred_min', 'backbone': {'name': 'resnet18', 'kwargs': {}}, 'method_kwargs': {'proj_hidden_dim': 2048, 'proj_output_dim': 128, 'mask_fraction': 0.5, 'lamb': 0.2, 'ridge_lambd': 0, 'proj_size': 3}, 'data': {'dataset': 'cifar10', 'train_path': './datasets', 'val_path': './datasets', 'format': 'image_folder', 'num_workers': 4, 'no_labels': False, 'fraction': -1, 'num_classes': 10, 'num_large_crops': 2, 'num_small_crops': 0}, 'optimizer': {'name': 'lars', 'batch_size': 256, 'lr': 0.3, 'classifier_lr': 0.1, 'weight_decay': 0.0001, 'kwargs': {'clip_lr': True, 'eta': 0.02, 'exclude_bias_n_norm': True, 'momentum': 0.9}, 'exclude_bias_n_norm_wd': False}, 'scheduler': {'name': 'warmup_cosine', 'lr_decay_steps': None, 'min_lr': 0.0, 'warmup_start_lr': 3e-05, 'warmup_epochs': 10, 'interval': 'step'}, 'checkpoint': {'enabled': True, 'dir': 'trained_models', 'frequency': 1, 'keep_prev': False}, 'auto_resume': {'enabled': False, 'max_hours': 36}, 'max_epochs': 1000, 'devices': [0], 'sync_batchnorm': True, 'accelerator': 'gpu', 'strategy': 'ddp', 'precision': '16-mixed', 'augmentations': [{'rrc': {'enabled': True, 'crop_min_scale': 0.08, 'crop_max_scale': 1.0}, 'color_jitter': {'prob': 0.8, 'brightness': 0.4, 'contrast': 0.4, 'saturation': 0.2, 'hue': 0.1}, 'grayscale': {'prob': 0.2}, 'gaussian_blur': {'prob': 0.0}, 'solarization': {'prob': 0.0}, 'equalization': {'prob': 0.0}, 'horizontal_flip': {'prob': 0.5}, 'crop_size': 32, 'num_crops': 1}, {'rrc': {'enabled': True, 'crop_min_scale': 0.08, 'crop_max_scale': 1.0}, 'color_jitter': {'prob': 0.8, 'brightness': 0.4, 'contrast': 0.4, 'saturation': 0.2, 'hue': 0.1}, 'grayscale': {'prob': 0.2}, 'gaussian_blur': {'prob': 0.0}, 'solarization': {'prob': 0.2}, 'equalization': {'prob': 0.0}, 'horizontal_flip': {'prob': 0.5}, 'crop_size': 32, 'num_crops': 1}], 'wandb': {'enabled': True, 'entity': None, 'project': 'solo-learn', 'offline': False}, 'dali': {'device': 'gpu', 'encode_indexes_into_labels': False}, 'auto_umap': {'enabled': False, 'dir': 'auto_umap', 'frequency': 1}, 'debug_augmentations': False, 'seed': 5, 'resume_from_checkpoint': None, 'num_nodes': 1, 'accumulate_grad_batches': 1, 'knn_eval': {'enabled': False, 'k': 20, 'distance_func': 'euclidean'}, 'performance': {'disable_channel_last': False}, 'wandb_run_id': '0f1kbywn'}\n",
      "CFG:  cl_lin_pred_min-cifar10 0f1kbywn\n"
     ]
    },
    {
     "name": "stderr",
     "output_type": "stream",
     "text": [
      "Collecting features: 100%|██████████| 390/390 [00:05<00:00, 74.23it/s]\n",
      "Collecting features: 100%|██████████| 79/79 [00:01<00:00, 68.87it/s]\n",
      " 31%|███       | 19/62 [27:52<1:02:58, 87.87s/it] "
     ]
    },
    {
     "name": "stdout",
     "output_type": "stream",
     "text": [
      "/hdd/backup_cluster_august_2023/Self-Supervised-Learning-with-Predictability-Minimization/Self-Supervised-Learning-with-Predictability-Minimization/trained_models/cl_lin_pred_min/t7e941rb\n",
      "/hdd/backup_cluster_august_2023/Self-Supervised-Learning-with-Predictability-Minimization/Self-Supervised-Learning-with-Predictability-Minimization/trained_models/cl_lin_pred_min/t7e941rb/cl_lin_pred_min-imagenet100-t7e941rb-ep=399.ckpt\n"
     ]
    },
    {
     "name": "stderr",
     "output_type": "stream",
     "text": [
      "/home/david/.local/share/virtualenvs/Self-Supervised-Learning-with-Predictabili-RPXJKYD0/lib/python3.10/site-packages/umap/distances.py:1063: NumbaDeprecationWarning: The 'nopython' keyword argument was not supplied to the 'numba.jit' decorator. The implicit default value for this argument is currently False, but it will be changed to True in Numba 0.59.0. See https://numba.readthedocs.io/en/stable/reference/deprecation.html#deprecation-of-object-mode-fall-back-behaviour-when-using-jit for details.\n",
      "  @numba.jit()\n",
      "/home/david/.local/share/virtualenvs/Self-Supervised-Learning-with-Predictabili-RPXJKYD0/lib/python3.10/site-packages/umap/distances.py:1071: NumbaDeprecationWarning: The 'nopython' keyword argument was not supplied to the 'numba.jit' decorator. The implicit default value for this argument is currently False, but it will be changed to True in Numba 0.59.0. See https://numba.readthedocs.io/en/stable/reference/deprecation.html#deprecation-of-object-mode-fall-back-behaviour-when-using-jit for details.\n",
      "  @numba.jit()\n",
      "/home/david/.local/share/virtualenvs/Self-Supervised-Learning-with-Predictabili-RPXJKYD0/lib/python3.10/site-packages/umap/distances.py:1086: NumbaDeprecationWarning: The 'nopython' keyword argument was not supplied to the 'numba.jit' decorator. The implicit default value for this argument is currently False, but it will be changed to True in Numba 0.59.0. See https://numba.readthedocs.io/en/stable/reference/deprecation.html#deprecation-of-object-mode-fall-back-behaviour-when-using-jit for details.\n",
      "  @numba.jit()\n",
      "/home/david/.local/share/virtualenvs/Self-Supervised-Learning-with-Predictabili-RPXJKYD0/lib/python3.10/site-packages/umap/umap_.py:660: NumbaDeprecationWarning: The 'nopython' keyword argument was not supplied to the 'numba.jit' decorator. The implicit default value for this argument is currently False, but it will be changed to True in Numba 0.59.0. See https://numba.readthedocs.io/en/stable/reference/deprecation.html#deprecation-of-object-mode-fall-back-behaviour-when-using-jit for details.\n",
      "  @numba.jit()\n"
     ]
    },
    {
     "name": "stdout",
     "output_type": "stream",
     "text": [
      "{'name': 'cl_lin_pred_min-imagenet100', 'method': 'cl_lin_pred_min', 'backbone': {'name': 'resnet18', 'kwargs': {}}, 'method_kwargs': {'proj_hidden_dim': 2048, 'proj_output_dim': 128, 'mask_fraction': 0.5, 'lamb': 0.2, 'ridge_lambd': 0, 'proj_size': 3}, 'data': {'dataset': 'imagenet100', 'train_path': '/itet-stor/zdavid/net_scratch/data/ILSVRC2012_img_train_100', 'val_path': '/itet-stor/zdavid/net_scratch/data/ILSVRC2012_img_val_100', 'format': 'dali', 'num_workers': 4, 'no_labels': False, 'fraction': -1, 'num_classes': 100, 'num_large_crops': 2, 'num_small_crops': 0}, 'optimizer': {'name': 'lars', 'batch_size': 256, 'lr': 0.3, 'classifier_lr': 0.1, 'weight_decay': 0.0001, 'kwargs': {'clip_lr': True, 'eta': 0.02, 'exclude_bias_n_norm': True, 'momentum': 0.9}, 'exclude_bias_n_norm_wd': False}, 'scheduler': {'name': 'warmup_cosine', 'lr_decay_steps': None, 'min_lr': 0.0, 'warmup_start_lr': 3e-05, 'warmup_epochs': 10, 'interval': 'step'}, 'checkpoint': {'enabled': True, 'dir': 'trained_models', 'frequency': 1, 'keep_prev': False}, 'auto_resume': {'enabled': False, 'max_hours': 36}, 'max_epochs': 400, 'devices': [0], 'sync_batchnorm': True, 'accelerator': 'gpu', 'strategy': 'ddp', 'precision': 16, 'augmentations': [{'rrc': {'enabled': True, 'crop_min_scale': 0.08, 'crop_max_scale': 1.0}, 'color_jitter': {'prob': 0.8, 'brightness': 0.4, 'contrast': 0.4, 'saturation': 0.2, 'hue': 0.1}, 'grayscale': {'prob': 0.2}, 'gaussian_blur': {'prob': 1.0}, 'solarization': {'prob': 0.0}, 'equalization': {'prob': 0.0}, 'horizontal_flip': {'prob': 0.5}, 'crop_size': 224, 'num_crops': 1}, {'rrc': {'enabled': True, 'crop_min_scale': 0.08, 'crop_max_scale': 1.0}, 'color_jitter': {'prob': 0.8, 'brightness': 0.4, 'contrast': 0.4, 'saturation': 0.2, 'hue': 0.1}, 'grayscale': {'prob': 0.2}, 'gaussian_blur': {'prob': 0.1}, 'solarization': {'prob': 0.2}, 'equalization': {'prob': 0.0}, 'horizontal_flip': {'prob': 0.5}, 'crop_size': 224, 'num_crops': 1}], 'wandb': {'enabled': True, 'entity': None, 'project': 'solo-learn', 'offline': False}, 'dali': {'device': 'gpu', 'encode_indexes_into_labels': False}, 'auto_umap': {'enabled': False, 'dir': 'auto_umap', 'frequency': 1}, 'debug_augmentations': False, 'seed': 5, 'resume_from_checkpoint': None, 'num_nodes': 1, 'accumulate_grad_batches': 1, 'knn_eval': {'enabled': False, 'k': 20, 'distance_func': 'euclidean'}, 'performance': {'disable_channel_last': False}, 'wandb_run_id': 't7e941rb'}\n"
     ]
    },
    {
     "name": "stderr",
     "output_type": "stream",
     "text": [
      "WARNING:root:Using scheduler_interval=step might generate issues when resuming a checkpoint.\n",
      "Collecting features:   0%|          | 0/989 [00:00<?, ?it/s]"
     ]
    },
    {
     "name": "stdout",
     "output_type": "stream",
     "text": [
      "{'name': 'cl_lin_pred_min-imagenet100', 'method': 'cl_lin_pred_min', 'backbone': {'name': 'resnet18', 'kwargs': {}}, 'method_kwargs': {'proj_hidden_dim': 2048, 'proj_output_dim': 128, 'mask_fraction': 0.5, 'lamb': 0.2, 'ridge_lambd': 0, 'proj_size': 3}, 'data': {'dataset': 'imagenet100', 'train_path': '/itet-stor/zdavid/net_scratch/data/ILSVRC2012_img_train_100', 'val_path': '/itet-stor/zdavid/net_scratch/data/ILSVRC2012_img_val_100', 'format': 'dali', 'num_workers': 4, 'no_labels': False, 'fraction': -1, 'num_classes': 100, 'num_large_crops': 2, 'num_small_crops': 0}, 'optimizer': {'name': 'lars', 'batch_size': 256, 'lr': 0.3, 'classifier_lr': 0.1, 'weight_decay': 0.0001, 'kwargs': {'clip_lr': True, 'eta': 0.02, 'exclude_bias_n_norm': True, 'momentum': 0.9}, 'exclude_bias_n_norm_wd': False}, 'scheduler': {'name': 'warmup_cosine', 'lr_decay_steps': None, 'min_lr': 0.0, 'warmup_start_lr': 3e-05, 'warmup_epochs': 10, 'interval': 'step'}, 'checkpoint': {'enabled': True, 'dir': 'trained_models', 'frequency': 1, 'keep_prev': False}, 'auto_resume': {'enabled': False, 'max_hours': 36}, 'max_epochs': 400, 'devices': [0], 'sync_batchnorm': True, 'accelerator': 'gpu', 'strategy': 'ddp', 'precision': 16, 'augmentations': [{'rrc': {'enabled': True, 'crop_min_scale': 0.08, 'crop_max_scale': 1.0}, 'color_jitter': {'prob': 0.8, 'brightness': 0.4, 'contrast': 0.4, 'saturation': 0.2, 'hue': 0.1}, 'grayscale': {'prob': 0.2}, 'gaussian_blur': {'prob': 1.0}, 'solarization': {'prob': 0.0}, 'equalization': {'prob': 0.0}, 'horizontal_flip': {'prob': 0.5}, 'crop_size': 224, 'num_crops': 1}, {'rrc': {'enabled': True, 'crop_min_scale': 0.08, 'crop_max_scale': 1.0}, 'color_jitter': {'prob': 0.8, 'brightness': 0.4, 'contrast': 0.4, 'saturation': 0.2, 'hue': 0.1}, 'grayscale': {'prob': 0.2}, 'gaussian_blur': {'prob': 0.1}, 'solarization': {'prob': 0.2}, 'equalization': {'prob': 0.0}, 'horizontal_flip': {'prob': 0.5}, 'crop_size': 224, 'num_crops': 1}], 'wandb': {'enabled': True, 'entity': None, 'project': 'solo-learn', 'offline': False}, 'dali': {'device': 'gpu', 'encode_indexes_into_labels': False}, 'auto_umap': {'enabled': False, 'dir': 'auto_umap', 'frequency': 1}, 'debug_augmentations': False, 'seed': 5, 'resume_from_checkpoint': None, 'num_nodes': 1, 'accumulate_grad_batches': 1, 'knn_eval': {'enabled': False, 'k': 20, 'distance_func': 'euclidean'}, 'performance': {'disable_channel_last': False}, 'wandb_run_id': 't7e941rb'}\n",
      "CFG:  cl_lin_pred_min-imagenet100 t7e941rb\n"
     ]
    },
    {
     "name": "stderr",
     "output_type": "stream",
     "text": [
      "Collecting features: 100%|██████████| 989/989 [01:36<00:00, 10.21it/s]\n",
      "Collecting features: 100%|██████████| 40/40 [00:03<00:00, 10.51it/s]\n",
      " 32%|███▏      | 20/62 [30:04<1:10:45, 101.09s/it]"
     ]
    },
    {
     "name": "stdout",
     "output_type": "stream",
     "text": [
      "/hdd/backup_cluster_august_2023/Self-Supervised-Learning-with-Predictability-Minimization/Self-Supervised-Learning-with-Predictability-Minimization/trained_models/cl_lin_pred_min/c7vzbg9t\n",
      "/hdd/backup_cluster_august_2023/Self-Supervised-Learning-with-Predictability-Minimization/Self-Supervised-Learning-with-Predictability-Minimization/trained_models/cl_lin_pred_min/c7vzbg9t/cl_lin_pred_min-imagenet100-c7vzbg9t-ep=399.ckpt\n"
     ]
    },
    {
     "name": "stderr",
     "output_type": "stream",
     "text": [
      "/home/david/.local/share/virtualenvs/Self-Supervised-Learning-with-Predictabili-RPXJKYD0/lib/python3.10/site-packages/umap/distances.py:1063: NumbaDeprecationWarning: The 'nopython' keyword argument was not supplied to the 'numba.jit' decorator. The implicit default value for this argument is currently False, but it will be changed to True in Numba 0.59.0. See https://numba.readthedocs.io/en/stable/reference/deprecation.html#deprecation-of-object-mode-fall-back-behaviour-when-using-jit for details.\n",
      "  @numba.jit()\n",
      "/home/david/.local/share/virtualenvs/Self-Supervised-Learning-with-Predictabili-RPXJKYD0/lib/python3.10/site-packages/umap/distances.py:1071: NumbaDeprecationWarning: The 'nopython' keyword argument was not supplied to the 'numba.jit' decorator. The implicit default value for this argument is currently False, but it will be changed to True in Numba 0.59.0. See https://numba.readthedocs.io/en/stable/reference/deprecation.html#deprecation-of-object-mode-fall-back-behaviour-when-using-jit for details.\n",
      "  @numba.jit()\n",
      "/home/david/.local/share/virtualenvs/Self-Supervised-Learning-with-Predictabili-RPXJKYD0/lib/python3.10/site-packages/umap/distances.py:1086: NumbaDeprecationWarning: The 'nopython' keyword argument was not supplied to the 'numba.jit' decorator. The implicit default value for this argument is currently False, but it will be changed to True in Numba 0.59.0. See https://numba.readthedocs.io/en/stable/reference/deprecation.html#deprecation-of-object-mode-fall-back-behaviour-when-using-jit for details.\n",
      "  @numba.jit()\n",
      "/home/david/.local/share/virtualenvs/Self-Supervised-Learning-with-Predictabili-RPXJKYD0/lib/python3.10/site-packages/umap/umap_.py:660: NumbaDeprecationWarning: The 'nopython' keyword argument was not supplied to the 'numba.jit' decorator. The implicit default value for this argument is currently False, but it will be changed to True in Numba 0.59.0. See https://numba.readthedocs.io/en/stable/reference/deprecation.html#deprecation-of-object-mode-fall-back-behaviour-when-using-jit for details.\n",
      "  @numba.jit()\n"
     ]
    },
    {
     "name": "stdout",
     "output_type": "stream",
     "text": [
      "{'name': 'cl_lin_pred_min-imagenet100', 'method': 'cl_lin_pred_min', 'backbone': {'name': 'resnet18', 'kwargs': {}}, 'method_kwargs': {'proj_hidden_dim': 2048, 'proj_output_dim': 128, 'mask_fraction': 0.5, 'lamb': 0.125, 'ridge_lambd': 0, 'proj_size': 3}, 'data': {'dataset': 'imagenet100', 'train_path': '/itet-stor/zdavid/net_scratch/data/ILSVRC2012_img_train_100', 'val_path': '/itet-stor/zdavid/net_scratch/data/ILSVRC2012_img_val_100', 'format': 'dali', 'num_workers': 4, 'no_labels': False, 'fraction': -1, 'num_classes': 100, 'num_large_crops': 2, 'num_small_crops': 0}, 'optimizer': {'name': 'lars', 'batch_size': 256, 'lr': 0.3, 'classifier_lr': 0.1, 'weight_decay': 0.0001, 'kwargs': {'clip_lr': True, 'eta': 0.02, 'exclude_bias_n_norm': True, 'momentum': 0.9}, 'exclude_bias_n_norm_wd': False}, 'scheduler': {'name': 'warmup_cosine', 'lr_decay_steps': None, 'min_lr': 0.0, 'warmup_start_lr': 3e-05, 'warmup_epochs': 10, 'interval': 'step'}, 'checkpoint': {'enabled': True, 'dir': 'trained_models', 'frequency': 1, 'keep_prev': False}, 'auto_resume': {'enabled': False, 'max_hours': 36}, 'max_epochs': 400, 'devices': [0], 'sync_batchnorm': True, 'accelerator': 'gpu', 'strategy': 'ddp', 'precision': 16, 'augmentations': [{'rrc': {'enabled': True, 'crop_min_scale': 0.08, 'crop_max_scale': 1.0}, 'color_jitter': {'prob': 0.8, 'brightness': 0.4, 'contrast': 0.4, 'saturation': 0.2, 'hue': 0.1}, 'grayscale': {'prob': 0.2}, 'gaussian_blur': {'prob': 1.0}, 'solarization': {'prob': 0.0}, 'equalization': {'prob': 0.0}, 'horizontal_flip': {'prob': 0.5}, 'crop_size': 224, 'num_crops': 1}, {'rrc': {'enabled': True, 'crop_min_scale': 0.08, 'crop_max_scale': 1.0}, 'color_jitter': {'prob': 0.8, 'brightness': 0.4, 'contrast': 0.4, 'saturation': 0.2, 'hue': 0.1}, 'grayscale': {'prob': 0.2}, 'gaussian_blur': {'prob': 0.1}, 'solarization': {'prob': 0.2}, 'equalization': {'prob': 0.0}, 'horizontal_flip': {'prob': 0.5}, 'crop_size': 224, 'num_crops': 1}], 'wandb': {'enabled': True, 'entity': None, 'project': 'solo-learn', 'offline': False}, 'dali': {'device': 'gpu', 'encode_indexes_into_labels': False}, 'auto_umap': {'enabled': False, 'dir': 'auto_umap', 'frequency': 1}, 'debug_augmentations': False, 'seed': 5, 'resume_from_checkpoint': None, 'num_nodes': 1, 'accumulate_grad_batches': 1, 'knn_eval': {'enabled': False, 'k': 20, 'distance_func': 'euclidean'}, 'performance': {'disable_channel_last': False}, 'wandb_run_id': 'c7vzbg9t'}\n"
     ]
    },
    {
     "name": "stderr",
     "output_type": "stream",
     "text": [
      "WARNING:root:Using scheduler_interval=step might generate issues when resuming a checkpoint.\n",
      "Collecting features:   0%|          | 0/989 [00:00<?, ?it/s]"
     ]
    },
    {
     "name": "stdout",
     "output_type": "stream",
     "text": [
      "{'name': 'cl_lin_pred_min-imagenet100', 'method': 'cl_lin_pred_min', 'backbone': {'name': 'resnet18', 'kwargs': {}}, 'method_kwargs': {'proj_hidden_dim': 2048, 'proj_output_dim': 128, 'mask_fraction': 0.5, 'lamb': 0.125, 'ridge_lambd': 0, 'proj_size': 3}, 'data': {'dataset': 'imagenet100', 'train_path': '/itet-stor/zdavid/net_scratch/data/ILSVRC2012_img_train_100', 'val_path': '/itet-stor/zdavid/net_scratch/data/ILSVRC2012_img_val_100', 'format': 'dali', 'num_workers': 4, 'no_labels': False, 'fraction': -1, 'num_classes': 100, 'num_large_crops': 2, 'num_small_crops': 0}, 'optimizer': {'name': 'lars', 'batch_size': 256, 'lr': 0.3, 'classifier_lr': 0.1, 'weight_decay': 0.0001, 'kwargs': {'clip_lr': True, 'eta': 0.02, 'exclude_bias_n_norm': True, 'momentum': 0.9}, 'exclude_bias_n_norm_wd': False}, 'scheduler': {'name': 'warmup_cosine', 'lr_decay_steps': None, 'min_lr': 0.0, 'warmup_start_lr': 3e-05, 'warmup_epochs': 10, 'interval': 'step'}, 'checkpoint': {'enabled': True, 'dir': 'trained_models', 'frequency': 1, 'keep_prev': False}, 'auto_resume': {'enabled': False, 'max_hours': 36}, 'max_epochs': 400, 'devices': [0], 'sync_batchnorm': True, 'accelerator': 'gpu', 'strategy': 'ddp', 'precision': 16, 'augmentations': [{'rrc': {'enabled': True, 'crop_min_scale': 0.08, 'crop_max_scale': 1.0}, 'color_jitter': {'prob': 0.8, 'brightness': 0.4, 'contrast': 0.4, 'saturation': 0.2, 'hue': 0.1}, 'grayscale': {'prob': 0.2}, 'gaussian_blur': {'prob': 1.0}, 'solarization': {'prob': 0.0}, 'equalization': {'prob': 0.0}, 'horizontal_flip': {'prob': 0.5}, 'crop_size': 224, 'num_crops': 1}, {'rrc': {'enabled': True, 'crop_min_scale': 0.08, 'crop_max_scale': 1.0}, 'color_jitter': {'prob': 0.8, 'brightness': 0.4, 'contrast': 0.4, 'saturation': 0.2, 'hue': 0.1}, 'grayscale': {'prob': 0.2}, 'gaussian_blur': {'prob': 0.1}, 'solarization': {'prob': 0.2}, 'equalization': {'prob': 0.0}, 'horizontal_flip': {'prob': 0.5}, 'crop_size': 224, 'num_crops': 1}], 'wandb': {'enabled': True, 'entity': None, 'project': 'solo-learn', 'offline': False}, 'dali': {'device': 'gpu', 'encode_indexes_into_labels': False}, 'auto_umap': {'enabled': False, 'dir': 'auto_umap', 'frequency': 1}, 'debug_augmentations': False, 'seed': 5, 'resume_from_checkpoint': None, 'num_nodes': 1, 'accumulate_grad_batches': 1, 'knn_eval': {'enabled': False, 'k': 20, 'distance_func': 'euclidean'}, 'performance': {'disable_channel_last': False}, 'wandb_run_id': 'c7vzbg9t'}\n",
      "CFG:  cl_lin_pred_min-imagenet100 c7vzbg9t\n"
     ]
    },
    {
     "name": "stderr",
     "output_type": "stream",
     "text": [
      "Collecting features: 100%|██████████| 989/989 [01:16<00:00, 12.93it/s]\n",
      "Collecting features: 100%|██████████| 40/40 [00:03<00:00, 10.64it/s]\n",
      " 34%|███▍      | 21/62 [31:55<1:11:10, 104.16s/it]"
     ]
    },
    {
     "name": "stdout",
     "output_type": "stream",
     "text": [
      "/hdd/backup_cluster_august_2023/Self-Supervised-Learning-with-Predictability-Minimization/Self-Supervised-Learning-with-Predictability-Minimization/trained_models/cl_lin_pred_min/2ji3gyu1\n",
      "/hdd/backup_cluster_august_2023/Self-Supervised-Learning-with-Predictability-Minimization/Self-Supervised-Learning-with-Predictability-Minimization/trained_models/cl_lin_pred_min/2ji3gyu1/cl_lin_pred_min-cifar10-2ji3gyu1-ep=999.ckpt\n"
     ]
    },
    {
     "name": "stderr",
     "output_type": "stream",
     "text": [
      "/home/david/.local/share/virtualenvs/Self-Supervised-Learning-with-Predictabili-RPXJKYD0/lib/python3.10/site-packages/umap/distances.py:1063: NumbaDeprecationWarning: The 'nopython' keyword argument was not supplied to the 'numba.jit' decorator. The implicit default value for this argument is currently False, but it will be changed to True in Numba 0.59.0. See https://numba.readthedocs.io/en/stable/reference/deprecation.html#deprecation-of-object-mode-fall-back-behaviour-when-using-jit for details.\n",
      "  @numba.jit()\n",
      "/home/david/.local/share/virtualenvs/Self-Supervised-Learning-with-Predictabili-RPXJKYD0/lib/python3.10/site-packages/umap/distances.py:1071: NumbaDeprecationWarning: The 'nopython' keyword argument was not supplied to the 'numba.jit' decorator. The implicit default value for this argument is currently False, but it will be changed to True in Numba 0.59.0. See https://numba.readthedocs.io/en/stable/reference/deprecation.html#deprecation-of-object-mode-fall-back-behaviour-when-using-jit for details.\n",
      "  @numba.jit()\n",
      "/home/david/.local/share/virtualenvs/Self-Supervised-Learning-with-Predictabili-RPXJKYD0/lib/python3.10/site-packages/umap/distances.py:1086: NumbaDeprecationWarning: The 'nopython' keyword argument was not supplied to the 'numba.jit' decorator. The implicit default value for this argument is currently False, but it will be changed to True in Numba 0.59.0. See https://numba.readthedocs.io/en/stable/reference/deprecation.html#deprecation-of-object-mode-fall-back-behaviour-when-using-jit for details.\n",
      "  @numba.jit()\n",
      "/home/david/.local/share/virtualenvs/Self-Supervised-Learning-with-Predictabili-RPXJKYD0/lib/python3.10/site-packages/umap/umap_.py:660: NumbaDeprecationWarning: The 'nopython' keyword argument was not supplied to the 'numba.jit' decorator. The implicit default value for this argument is currently False, but it will be changed to True in Numba 0.59.0. See https://numba.readthedocs.io/en/stable/reference/deprecation.html#deprecation-of-object-mode-fall-back-behaviour-when-using-jit for details.\n",
      "  @numba.jit()\n"
     ]
    },
    {
     "name": "stdout",
     "output_type": "stream",
     "text": [
      "{'name': 'cl_lin_pred_min-cifar10', 'method': 'cl_lin_pred_min', 'backbone': {'name': 'resnet18', 'kwargs': {}}, 'method_kwargs': {'proj_hidden_dim': 2048, 'proj_output_dim': 128, 'mask_fraction': 0.5, 'lamb': 0.15, 'ridge_lambd': 0, 'proj_size': 3}, 'data': {'dataset': 'cifar10', 'train_path': './datasets', 'val_path': './datasets', 'format': 'image_folder', 'num_workers': 4, 'no_labels': False, 'fraction': -1, 'num_classes': 10, 'num_large_crops': 2, 'num_small_crops': 0}, 'optimizer': {'name': 'lars', 'batch_size': 512, 'lr': 0.6, 'classifier_lr': 0.2, 'weight_decay': 0.0001, 'kwargs': {'clip_lr': True, 'eta': 0.02, 'exclude_bias_n_norm': True, 'momentum': 0.9}, 'exclude_bias_n_norm_wd': False}, 'scheduler': {'name': 'warmup_cosine', 'lr_decay_steps': None, 'min_lr': 0.0, 'warmup_start_lr': 3e-05, 'warmup_epochs': 10, 'interval': 'step'}, 'checkpoint': {'enabled': True, 'dir': 'trained_models', 'frequency': 1, 'keep_prev': False}, 'auto_resume': {'enabled': False, 'max_hours': 36}, 'max_epochs': 1000, 'devices': [0], 'sync_batchnorm': True, 'accelerator': 'gpu', 'strategy': 'ddp', 'precision': 16, 'augmentations': [{'rrc': {'enabled': True, 'crop_min_scale': 0.08, 'crop_max_scale': 1.0}, 'color_jitter': {'prob': 0.8, 'brightness': 0.4, 'contrast': 0.4, 'saturation': 0.2, 'hue': 0.1}, 'grayscale': {'prob': 0.2}, 'gaussian_blur': {'prob': 0.0}, 'solarization': {'prob': 0.0}, 'equalization': {'prob': 0.0}, 'horizontal_flip': {'prob': 0.5}, 'crop_size': 32, 'num_crops': 1}, {'rrc': {'enabled': True, 'crop_min_scale': 0.08, 'crop_max_scale': 1.0}, 'color_jitter': {'prob': 0.8, 'brightness': 0.4, 'contrast': 0.4, 'saturation': 0.2, 'hue': 0.1}, 'grayscale': {'prob': 0.2}, 'gaussian_blur': {'prob': 0.0}, 'solarization': {'prob': 0.2}, 'equalization': {'prob': 0.0}, 'horizontal_flip': {'prob': 0.5}, 'crop_size': 32, 'num_crops': 1}], 'wandb': {'enabled': True, 'entity': None, 'project': 'solo-learn', 'offline': False}, 'dali': {'device': 'gpu', 'encode_indexes_into_labels': False}, 'auto_umap': {'enabled': False, 'dir': 'auto_umap', 'frequency': 1}, 'debug_augmentations': False, 'seed': 5, 'resume_from_checkpoint': None, 'num_nodes': 1, 'accumulate_grad_batches': 1, 'knn_eval': {'enabled': False, 'k': 20, 'distance_func': 'euclidean'}, 'performance': {'disable_channel_last': False}, 'wandb_run_id': '2ji3gyu1'}\n"
     ]
    },
    {
     "name": "stderr",
     "output_type": "stream",
     "text": [
      "WARNING:root:Using scheduler_interval=step might generate issues when resuming a checkpoint.\n"
     ]
    },
    {
     "name": "stdout",
     "output_type": "stream",
     "text": [
      "Files already downloaded and verified\n",
      "Files already downloaded and verified\n",
      "{'name': 'cl_lin_pred_min-cifar10', 'method': 'cl_lin_pred_min', 'backbone': {'name': 'resnet18', 'kwargs': {}}, 'method_kwargs': {'proj_hidden_dim': 2048, 'proj_output_dim': 128, 'mask_fraction': 0.5, 'lamb': 0.15, 'ridge_lambd': 0, 'proj_size': 3}, 'data': {'dataset': 'cifar10', 'train_path': './datasets', 'val_path': './datasets', 'format': 'image_folder', 'num_workers': 4, 'no_labels': False, 'fraction': -1, 'num_classes': 10, 'num_large_crops': 2, 'num_small_crops': 0}, 'optimizer': {'name': 'lars', 'batch_size': 512, 'lr': 0.6, 'classifier_lr': 0.2, 'weight_decay': 0.0001, 'kwargs': {'clip_lr': True, 'eta': 0.02, 'exclude_bias_n_norm': True, 'momentum': 0.9}, 'exclude_bias_n_norm_wd': False}, 'scheduler': {'name': 'warmup_cosine', 'lr_decay_steps': None, 'min_lr': 0.0, 'warmup_start_lr': 3e-05, 'warmup_epochs': 10, 'interval': 'step'}, 'checkpoint': {'enabled': True, 'dir': 'trained_models', 'frequency': 1, 'keep_prev': False}, 'auto_resume': {'enabled': False, 'max_hours': 36}, 'max_epochs': 1000, 'devices': [0], 'sync_batchnorm': True, 'accelerator': 'gpu', 'strategy': 'ddp', 'precision': 16, 'augmentations': [{'rrc': {'enabled': True, 'crop_min_scale': 0.08, 'crop_max_scale': 1.0}, 'color_jitter': {'prob': 0.8, 'brightness': 0.4, 'contrast': 0.4, 'saturation': 0.2, 'hue': 0.1}, 'grayscale': {'prob': 0.2}, 'gaussian_blur': {'prob': 0.0}, 'solarization': {'prob': 0.0}, 'equalization': {'prob': 0.0}, 'horizontal_flip': {'prob': 0.5}, 'crop_size': 32, 'num_crops': 1}, {'rrc': {'enabled': True, 'crop_min_scale': 0.08, 'crop_max_scale': 1.0}, 'color_jitter': {'prob': 0.8, 'brightness': 0.4, 'contrast': 0.4, 'saturation': 0.2, 'hue': 0.1}, 'grayscale': {'prob': 0.2}, 'gaussian_blur': {'prob': 0.0}, 'solarization': {'prob': 0.2}, 'equalization': {'prob': 0.0}, 'horizontal_flip': {'prob': 0.5}, 'crop_size': 32, 'num_crops': 1}], 'wandb': {'enabled': True, 'entity': None, 'project': 'solo-learn', 'offline': False}, 'dali': {'device': 'gpu', 'encode_indexes_into_labels': False}, 'auto_umap': {'enabled': False, 'dir': 'auto_umap', 'frequency': 1}, 'debug_augmentations': False, 'seed': 5, 'resume_from_checkpoint': None, 'num_nodes': 1, 'accumulate_grad_batches': 1, 'knn_eval': {'enabled': False, 'k': 20, 'distance_func': 'euclidean'}, 'performance': {'disable_channel_last': False}, 'wandb_run_id': '2ji3gyu1'}\n",
      "CFG:  cl_lin_pred_min-cifar10 2ji3gyu1\n"
     ]
    },
    {
     "name": "stderr",
     "output_type": "stream",
     "text": [
      "Collecting features: 100%|██████████| 390/390 [00:05<00:00, 73.56it/s]\n",
      "Collecting features: 100%|██████████| 79/79 [00:01<00:00, 66.46it/s]\n",
      " 35%|███▌      | 22/62 [32:20<53:38, 80.47s/it]   "
     ]
    },
    {
     "name": "stdout",
     "output_type": "stream",
     "text": [
      "/hdd/backup_cluster_august_2023/Self-Supervised-Learning-with-Predictability-Minimization/Self-Supervised-Learning-with-Predictability-Minimization/trained_models/cl_lin_pred_min/znm1ny4g\n",
      "/hdd/backup_cluster_august_2023/Self-Supervised-Learning-with-Predictability-Minimization/Self-Supervised-Learning-with-Predictability-Minimization/trained_models/cl_lin_pred_min/znm1ny4g/cl_lin_pred_min-imagenet100-znm1ny4g-ep=399.ckpt\n"
     ]
    },
    {
     "name": "stderr",
     "output_type": "stream",
     "text": [
      "/home/david/.local/share/virtualenvs/Self-Supervised-Learning-with-Predictabili-RPXJKYD0/lib/python3.10/site-packages/umap/distances.py:1063: NumbaDeprecationWarning: The 'nopython' keyword argument was not supplied to the 'numba.jit' decorator. The implicit default value for this argument is currently False, but it will be changed to True in Numba 0.59.0. See https://numba.readthedocs.io/en/stable/reference/deprecation.html#deprecation-of-object-mode-fall-back-behaviour-when-using-jit for details.\n",
      "  @numba.jit()\n",
      "/home/david/.local/share/virtualenvs/Self-Supervised-Learning-with-Predictabili-RPXJKYD0/lib/python3.10/site-packages/umap/distances.py:1071: NumbaDeprecationWarning: The 'nopython' keyword argument was not supplied to the 'numba.jit' decorator. The implicit default value for this argument is currently False, but it will be changed to True in Numba 0.59.0. See https://numba.readthedocs.io/en/stable/reference/deprecation.html#deprecation-of-object-mode-fall-back-behaviour-when-using-jit for details.\n",
      "  @numba.jit()\n",
      "/home/david/.local/share/virtualenvs/Self-Supervised-Learning-with-Predictabili-RPXJKYD0/lib/python3.10/site-packages/umap/distances.py:1086: NumbaDeprecationWarning: The 'nopython' keyword argument was not supplied to the 'numba.jit' decorator. The implicit default value for this argument is currently False, but it will be changed to True in Numba 0.59.0. See https://numba.readthedocs.io/en/stable/reference/deprecation.html#deprecation-of-object-mode-fall-back-behaviour-when-using-jit for details.\n",
      "  @numba.jit()\n",
      "/home/david/.local/share/virtualenvs/Self-Supervised-Learning-with-Predictabili-RPXJKYD0/lib/python3.10/site-packages/umap/umap_.py:660: NumbaDeprecationWarning: The 'nopython' keyword argument was not supplied to the 'numba.jit' decorator. The implicit default value for this argument is currently False, but it will be changed to True in Numba 0.59.0. See https://numba.readthedocs.io/en/stable/reference/deprecation.html#deprecation-of-object-mode-fall-back-behaviour-when-using-jit for details.\n",
      "  @numba.jit()\n"
     ]
    },
    {
     "name": "stdout",
     "output_type": "stream",
     "text": [
      "{'name': 'cl_lin_pred_min-imagenet100', 'method': 'cl_lin_pred_min', 'backbone': {'name': 'resnet18', 'kwargs': {}}, 'method_kwargs': {'proj_hidden_dim': 2048, 'proj_output_dim': 128, 'mask_fraction': 0.5, 'lamb': 0.1, 'ridge_lambd': 0, 'proj_size': 3}, 'data': {'dataset': 'imagenet100', 'train_path': '/itet-stor/zdavid/net_scratch/data/ILSVRC2012_img_train_100', 'val_path': '/itet-stor/zdavid/net_scratch/data/ILSVRC2012_img_val_100', 'format': 'dali', 'num_workers': 4, 'no_labels': False, 'fraction': -1, 'num_classes': 100, 'num_large_crops': 2, 'num_small_crops': 0}, 'optimizer': {'name': 'lars', 'batch_size': 256, 'lr': 0.6, 'classifier_lr': 0.1, 'weight_decay': 0.0001, 'kwargs': {'clip_lr': True, 'eta': 0.02, 'exclude_bias_n_norm': True, 'momentum': 0.9}, 'exclude_bias_n_norm_wd': False}, 'scheduler': {'name': 'warmup_cosine', 'lr_decay_steps': None, 'min_lr': 0.0, 'warmup_start_lr': 3e-05, 'warmup_epochs': 10, 'interval': 'step'}, 'checkpoint': {'enabled': True, 'dir': 'trained_models', 'frequency': 1, 'keep_prev': False}, 'auto_resume': {'enabled': False, 'max_hours': 36}, 'max_epochs': 400, 'devices': [0], 'sync_batchnorm': True, 'accelerator': 'gpu', 'strategy': 'ddp', 'precision': 16, 'augmentations': [{'rrc': {'enabled': True, 'crop_min_scale': 0.08, 'crop_max_scale': 1.0}, 'color_jitter': {'prob': 0.8, 'brightness': 0.4, 'contrast': 0.4, 'saturation': 0.2, 'hue': 0.1}, 'grayscale': {'prob': 0.2}, 'gaussian_blur': {'prob': 1.0}, 'solarization': {'prob': 0.0}, 'equalization': {'prob': 0.0}, 'horizontal_flip': {'prob': 0.5}, 'crop_size': 224, 'num_crops': 1}, {'rrc': {'enabled': True, 'crop_min_scale': 0.08, 'crop_max_scale': 1.0}, 'color_jitter': {'prob': 0.8, 'brightness': 0.4, 'contrast': 0.4, 'saturation': 0.2, 'hue': 0.1}, 'grayscale': {'prob': 0.2}, 'gaussian_blur': {'prob': 0.1}, 'solarization': {'prob': 0.2}, 'equalization': {'prob': 0.0}, 'horizontal_flip': {'prob': 0.5}, 'crop_size': 224, 'num_crops': 1}], 'wandb': {'enabled': True, 'entity': None, 'project': 'solo-learn', 'offline': False}, 'dali': {'device': 'gpu', 'encode_indexes_into_labels': False}, 'auto_umap': {'enabled': False, 'dir': 'auto_umap', 'frequency': 1}, 'debug_augmentations': False, 'seed': 5, 'resume_from_checkpoint': None, 'num_nodes': 1, 'accumulate_grad_batches': 1, 'knn_eval': {'enabled': False, 'k': 20, 'distance_func': 'euclidean'}, 'performance': {'disable_channel_last': False}, 'wandb_run_id': 'znm1ny4g'}\n"
     ]
    },
    {
     "name": "stderr",
     "output_type": "stream",
     "text": [
      "WARNING:root:Using scheduler_interval=step might generate issues when resuming a checkpoint.\n",
      "Collecting features:   0%|          | 0/989 [00:00<?, ?it/s]"
     ]
    },
    {
     "name": "stdout",
     "output_type": "stream",
     "text": [
      "{'name': 'cl_lin_pred_min-imagenet100', 'method': 'cl_lin_pred_min', 'backbone': {'name': 'resnet18', 'kwargs': {}}, 'method_kwargs': {'proj_hidden_dim': 2048, 'proj_output_dim': 128, 'mask_fraction': 0.5, 'lamb': 0.1, 'ridge_lambd': 0, 'proj_size': 3}, 'data': {'dataset': 'imagenet100', 'train_path': '/itet-stor/zdavid/net_scratch/data/ILSVRC2012_img_train_100', 'val_path': '/itet-stor/zdavid/net_scratch/data/ILSVRC2012_img_val_100', 'format': 'dali', 'num_workers': 4, 'no_labels': False, 'fraction': -1, 'num_classes': 100, 'num_large_crops': 2, 'num_small_crops': 0}, 'optimizer': {'name': 'lars', 'batch_size': 256, 'lr': 0.6, 'classifier_lr': 0.1, 'weight_decay': 0.0001, 'kwargs': {'clip_lr': True, 'eta': 0.02, 'exclude_bias_n_norm': True, 'momentum': 0.9}, 'exclude_bias_n_norm_wd': False}, 'scheduler': {'name': 'warmup_cosine', 'lr_decay_steps': None, 'min_lr': 0.0, 'warmup_start_lr': 3e-05, 'warmup_epochs': 10, 'interval': 'step'}, 'checkpoint': {'enabled': True, 'dir': 'trained_models', 'frequency': 1, 'keep_prev': False}, 'auto_resume': {'enabled': False, 'max_hours': 36}, 'max_epochs': 400, 'devices': [0], 'sync_batchnorm': True, 'accelerator': 'gpu', 'strategy': 'ddp', 'precision': 16, 'augmentations': [{'rrc': {'enabled': True, 'crop_min_scale': 0.08, 'crop_max_scale': 1.0}, 'color_jitter': {'prob': 0.8, 'brightness': 0.4, 'contrast': 0.4, 'saturation': 0.2, 'hue': 0.1}, 'grayscale': {'prob': 0.2}, 'gaussian_blur': {'prob': 1.0}, 'solarization': {'prob': 0.0}, 'equalization': {'prob': 0.0}, 'horizontal_flip': {'prob': 0.5}, 'crop_size': 224, 'num_crops': 1}, {'rrc': {'enabled': True, 'crop_min_scale': 0.08, 'crop_max_scale': 1.0}, 'color_jitter': {'prob': 0.8, 'brightness': 0.4, 'contrast': 0.4, 'saturation': 0.2, 'hue': 0.1}, 'grayscale': {'prob': 0.2}, 'gaussian_blur': {'prob': 0.1}, 'solarization': {'prob': 0.2}, 'equalization': {'prob': 0.0}, 'horizontal_flip': {'prob': 0.5}, 'crop_size': 224, 'num_crops': 1}], 'wandb': {'enabled': True, 'entity': None, 'project': 'solo-learn', 'offline': False}, 'dali': {'device': 'gpu', 'encode_indexes_into_labels': False}, 'auto_umap': {'enabled': False, 'dir': 'auto_umap', 'frequency': 1}, 'debug_augmentations': False, 'seed': 5, 'resume_from_checkpoint': None, 'num_nodes': 1, 'accumulate_grad_batches': 1, 'knn_eval': {'enabled': False, 'k': 20, 'distance_func': 'euclidean'}, 'performance': {'disable_channel_last': False}, 'wandb_run_id': 'znm1ny4g'}\n",
      "CFG:  cl_lin_pred_min-imagenet100 znm1ny4g\n"
     ]
    },
    {
     "name": "stderr",
     "output_type": "stream",
     "text": [
      "Collecting features: 100%|██████████| 989/989 [01:11<00:00, 13.80it/s]\n",
      "Collecting features: 100%|██████████| 40/40 [00:03<00:00, 10.23it/s]\n",
      " 37%|███▋      | 23/62 [34:07<57:24, 88.32s/it]"
     ]
    },
    {
     "name": "stdout",
     "output_type": "stream",
     "text": [
      "/hdd/backup_cluster_august_2023/Self-Supervised-Learning-with-Predictability-Minimization/Self-Supervised-Learning-with-Predictability-Minimization/trained_models/cl_lin_pred_min/6ri2n99z\n",
      "/hdd/backup_cluster_august_2023/Self-Supervised-Learning-with-Predictability-Minimization/Self-Supervised-Learning-with-Predictability-Minimization/trained_models/cl_lin_pred_min/6ri2n99z/cl_lin_pred_min-cifar100-6ri2n99z-ep=999.ckpt\n"
     ]
    },
    {
     "name": "stderr",
     "output_type": "stream",
     "text": [
      "/home/david/.local/share/virtualenvs/Self-Supervised-Learning-with-Predictabili-RPXJKYD0/lib/python3.10/site-packages/umap/distances.py:1063: NumbaDeprecationWarning: The 'nopython' keyword argument was not supplied to the 'numba.jit' decorator. The implicit default value for this argument is currently False, but it will be changed to True in Numba 0.59.0. See https://numba.readthedocs.io/en/stable/reference/deprecation.html#deprecation-of-object-mode-fall-back-behaviour-when-using-jit for details.\n",
      "  @numba.jit()\n",
      "/home/david/.local/share/virtualenvs/Self-Supervised-Learning-with-Predictabili-RPXJKYD0/lib/python3.10/site-packages/umap/distances.py:1071: NumbaDeprecationWarning: The 'nopython' keyword argument was not supplied to the 'numba.jit' decorator. The implicit default value for this argument is currently False, but it will be changed to True in Numba 0.59.0. See https://numba.readthedocs.io/en/stable/reference/deprecation.html#deprecation-of-object-mode-fall-back-behaviour-when-using-jit for details.\n",
      "  @numba.jit()\n",
      "/home/david/.local/share/virtualenvs/Self-Supervised-Learning-with-Predictabili-RPXJKYD0/lib/python3.10/site-packages/umap/distances.py:1086: NumbaDeprecationWarning: The 'nopython' keyword argument was not supplied to the 'numba.jit' decorator. The implicit default value for this argument is currently False, but it will be changed to True in Numba 0.59.0. See https://numba.readthedocs.io/en/stable/reference/deprecation.html#deprecation-of-object-mode-fall-back-behaviour-when-using-jit for details.\n",
      "  @numba.jit()\n",
      "/home/david/.local/share/virtualenvs/Self-Supervised-Learning-with-Predictabili-RPXJKYD0/lib/python3.10/site-packages/umap/umap_.py:660: NumbaDeprecationWarning: The 'nopython' keyword argument was not supplied to the 'numba.jit' decorator. The implicit default value for this argument is currently False, but it will be changed to True in Numba 0.59.0. See https://numba.readthedocs.io/en/stable/reference/deprecation.html#deprecation-of-object-mode-fall-back-behaviour-when-using-jit for details.\n",
      "  @numba.jit()\n"
     ]
    },
    {
     "name": "stdout",
     "output_type": "stream",
     "text": [
      "{'name': 'cl_lin_pred_min-cifar100', 'method': 'cl_lin_pred_min', 'backbone': {'name': 'resnet18', 'kwargs': {}}, 'method_kwargs': {'proj_hidden_dim': 2048, 'proj_output_dim': 128, 'mask_fraction': 0.5, 'lamb': 0.21, 'ridge_lambd': 0, 'proj_size': 3}, 'data': {'dataset': 'cifar100', 'train_path': './datasets', 'val_path': './datasets', 'format': 'image_folder', 'num_workers': 4, 'no_labels': False, 'fraction': -1, 'num_classes': 100, 'num_large_crops': 2, 'num_small_crops': 0}, 'optimizer': {'name': 'lars', 'batch_size': 256, 'lr': 0.3, 'classifier_lr': 0.1, 'weight_decay': 0.0001, 'kwargs': {'clip_lr': True, 'eta': 0.02, 'exclude_bias_n_norm': True, 'momentum': 0.9}, 'exclude_bias_n_norm_wd': False}, 'scheduler': {'name': 'warmup_cosine', 'lr_decay_steps': None, 'min_lr': 0.0, 'warmup_start_lr': 3e-05, 'warmup_epochs': 10, 'interval': 'step'}, 'checkpoint': {'enabled': True, 'dir': 'trained_models', 'frequency': 1, 'keep_prev': False}, 'auto_resume': {'enabled': False, 'max_hours': 36}, 'max_epochs': 1000, 'devices': [0], 'sync_batchnorm': True, 'accelerator': 'gpu', 'strategy': 'ddp', 'precision': 32, 'augmentations': [{'rrc': {'enabled': True, 'crop_min_scale': 0.08, 'crop_max_scale': 1.0}, 'color_jitter': {'prob': 0.8, 'brightness': 0.4, 'contrast': 0.4, 'saturation': 0.2, 'hue': 0.1}, 'grayscale': {'prob': 0.2}, 'gaussian_blur': {'prob': 0.0}, 'solarization': {'prob': 0.0}, 'equalization': {'prob': 0.0}, 'horizontal_flip': {'prob': 0.5}, 'crop_size': 32, 'num_crops': 1}, {'rrc': {'enabled': True, 'crop_min_scale': 0.08, 'crop_max_scale': 1.0}, 'color_jitter': {'prob': 0.8, 'brightness': 0.4, 'contrast': 0.4, 'saturation': 0.2, 'hue': 0.1}, 'grayscale': {'prob': 0.2}, 'gaussian_blur': {'prob': 0.0}, 'solarization': {'prob': 0.2}, 'equalization': {'prob': 0.0}, 'horizontal_flip': {'prob': 0.5}, 'crop_size': 32, 'num_crops': 1}], 'wandb': {'enabled': True, 'entity': None, 'project': 'solo-learn', 'offline': False}, 'dali': {'device': 'gpu', 'encode_indexes_into_labels': False}, 'auto_umap': {'enabled': False, 'dir': 'auto_umap', 'frequency': 1}, 'debug_augmentations': False, 'seed': 5, 'resume_from_checkpoint': None, 'num_nodes': 1, 'accumulate_grad_batches': 1, 'knn_eval': {'enabled': False, 'k': 20, 'distance_func': 'euclidean'}, 'performance': {'disable_channel_last': False}, 'wandb_run_id': '6ri2n99z'}\n"
     ]
    },
    {
     "name": "stderr",
     "output_type": "stream",
     "text": [
      "WARNING:root:Using scheduler_interval=step might generate issues when resuming a checkpoint.\n"
     ]
    },
    {
     "name": "stdout",
     "output_type": "stream",
     "text": [
      "Files already downloaded and verified\n",
      "Files already downloaded and verified\n",
      "{'name': 'cl_lin_pred_min-cifar100', 'method': 'cl_lin_pred_min', 'backbone': {'name': 'resnet18', 'kwargs': {}}, 'method_kwargs': {'proj_hidden_dim': 2048, 'proj_output_dim': 128, 'mask_fraction': 0.5, 'lamb': 0.21, 'ridge_lambd': 0, 'proj_size': 3}, 'data': {'dataset': 'cifar100', 'train_path': './datasets', 'val_path': './datasets', 'format': 'image_folder', 'num_workers': 4, 'no_labels': False, 'fraction': -1, 'num_classes': 100, 'num_large_crops': 2, 'num_small_crops': 0}, 'optimizer': {'name': 'lars', 'batch_size': 256, 'lr': 0.3, 'classifier_lr': 0.1, 'weight_decay': 0.0001, 'kwargs': {'clip_lr': True, 'eta': 0.02, 'exclude_bias_n_norm': True, 'momentum': 0.9}, 'exclude_bias_n_norm_wd': False}, 'scheduler': {'name': 'warmup_cosine', 'lr_decay_steps': None, 'min_lr': 0.0, 'warmup_start_lr': 3e-05, 'warmup_epochs': 10, 'interval': 'step'}, 'checkpoint': {'enabled': True, 'dir': 'trained_models', 'frequency': 1, 'keep_prev': False}, 'auto_resume': {'enabled': False, 'max_hours': 36}, 'max_epochs': 1000, 'devices': [0], 'sync_batchnorm': True, 'accelerator': 'gpu', 'strategy': 'ddp', 'precision': 32, 'augmentations': [{'rrc': {'enabled': True, 'crop_min_scale': 0.08, 'crop_max_scale': 1.0}, 'color_jitter': {'prob': 0.8, 'brightness': 0.4, 'contrast': 0.4, 'saturation': 0.2, 'hue': 0.1}, 'grayscale': {'prob': 0.2}, 'gaussian_blur': {'prob': 0.0}, 'solarization': {'prob': 0.0}, 'equalization': {'prob': 0.0}, 'horizontal_flip': {'prob': 0.5}, 'crop_size': 32, 'num_crops': 1}, {'rrc': {'enabled': True, 'crop_min_scale': 0.08, 'crop_max_scale': 1.0}, 'color_jitter': {'prob': 0.8, 'brightness': 0.4, 'contrast': 0.4, 'saturation': 0.2, 'hue': 0.1}, 'grayscale': {'prob': 0.2}, 'gaussian_blur': {'prob': 0.0}, 'solarization': {'prob': 0.2}, 'equalization': {'prob': 0.0}, 'horizontal_flip': {'prob': 0.5}, 'crop_size': 32, 'num_crops': 1}], 'wandb': {'enabled': True, 'entity': None, 'project': 'solo-learn', 'offline': False}, 'dali': {'device': 'gpu', 'encode_indexes_into_labels': False}, 'auto_umap': {'enabled': False, 'dir': 'auto_umap', 'frequency': 1}, 'debug_augmentations': False, 'seed': 5, 'resume_from_checkpoint': None, 'num_nodes': 1, 'accumulate_grad_batches': 1, 'knn_eval': {'enabled': False, 'k': 20, 'distance_func': 'euclidean'}, 'performance': {'disable_channel_last': False}, 'wandb_run_id': '6ri2n99z'}\n",
      "CFG:  cl_lin_pred_min-cifar100 6ri2n99z\n"
     ]
    },
    {
     "name": "stderr",
     "output_type": "stream",
     "text": [
      "Collecting features: 100%|██████████| 390/390 [00:05<00:00, 73.30it/s]\n",
      "Collecting features: 100%|██████████| 79/79 [00:01<00:00, 65.57it/s]\n",
      " 39%|███▊      | 24/62 [34:33<44:02, 69.53s/it]"
     ]
    },
    {
     "name": "stdout",
     "output_type": "stream",
     "text": [
      "/hdd/backup_cluster_august_2023/Self-Supervised-Learning-with-Predictability-Minimization/Self-Supervised-Learning-with-Predictability-Minimization/trained_models/cl_lin_pred_min/rq3fl24b\n",
      "/hdd/backup_cluster_august_2023/Self-Supervised-Learning-with-Predictability-Minimization/Self-Supervised-Learning-with-Predictability-Minimization/trained_models/cl_lin_pred_min/rq3fl24b/cl_lin_pred_min-imagenet100-rq3fl24b-ep=999.ckpt\n"
     ]
    },
    {
     "name": "stderr",
     "output_type": "stream",
     "text": [
      "/home/david/.local/share/virtualenvs/Self-Supervised-Learning-with-Predictabili-RPXJKYD0/lib/python3.10/site-packages/umap/distances.py:1063: NumbaDeprecationWarning: The 'nopython' keyword argument was not supplied to the 'numba.jit' decorator. The implicit default value for this argument is currently False, but it will be changed to True in Numba 0.59.0. See https://numba.readthedocs.io/en/stable/reference/deprecation.html#deprecation-of-object-mode-fall-back-behaviour-when-using-jit for details.\n",
      "  @numba.jit()\n",
      "/home/david/.local/share/virtualenvs/Self-Supervised-Learning-with-Predictabili-RPXJKYD0/lib/python3.10/site-packages/umap/distances.py:1071: NumbaDeprecationWarning: The 'nopython' keyword argument was not supplied to the 'numba.jit' decorator. The implicit default value for this argument is currently False, but it will be changed to True in Numba 0.59.0. See https://numba.readthedocs.io/en/stable/reference/deprecation.html#deprecation-of-object-mode-fall-back-behaviour-when-using-jit for details.\n",
      "  @numba.jit()\n",
      "/home/david/.local/share/virtualenvs/Self-Supervised-Learning-with-Predictabili-RPXJKYD0/lib/python3.10/site-packages/umap/distances.py:1086: NumbaDeprecationWarning: The 'nopython' keyword argument was not supplied to the 'numba.jit' decorator. The implicit default value for this argument is currently False, but it will be changed to True in Numba 0.59.0. See https://numba.readthedocs.io/en/stable/reference/deprecation.html#deprecation-of-object-mode-fall-back-behaviour-when-using-jit for details.\n",
      "  @numba.jit()\n",
      "/home/david/.local/share/virtualenvs/Self-Supervised-Learning-with-Predictabili-RPXJKYD0/lib/python3.10/site-packages/umap/umap_.py:660: NumbaDeprecationWarning: The 'nopython' keyword argument was not supplied to the 'numba.jit' decorator. The implicit default value for this argument is currently False, but it will be changed to True in Numba 0.59.0. See https://numba.readthedocs.io/en/stable/reference/deprecation.html#deprecation-of-object-mode-fall-back-behaviour-when-using-jit for details.\n",
      "  @numba.jit()\n"
     ]
    },
    {
     "name": "stdout",
     "output_type": "stream",
     "text": [
      "{'name': 'cl_lin_pred_min-imagenet100', 'method': 'cl_lin_pred_min', 'backbone': {'name': 'resnet18', 'kwargs': {}}, 'method_kwargs': {'proj_hidden_dim': 2048, 'proj_output_dim': 128, 'mask_fraction': 0.5, 'lamb': 0.3, 'ridge_lambd': 0, 'proj_size': 3}, 'data': {'dataset': 'imagenet100', 'train_path': '/itet-stor/zdavid/net_scratch/data/ILSVRC2012_img_train_100', 'val_path': '/itet-stor/zdavid/net_scratch/data/ILSVRC2012_img_val_100', 'format': 'dali', 'num_workers': 4, 'no_labels': False, 'fraction': -1, 'num_classes': 100, 'num_large_crops': 2, 'num_small_crops': 0}, 'optimizer': {'name': 'lars', 'batch_size': 256, 'lr': 0.6, 'classifier_lr': 0.2, 'weight_decay': 0.0001, 'kwargs': {'clip_lr': True, 'eta': 0.02, 'exclude_bias_n_norm': True, 'momentum': 0.9}, 'exclude_bias_n_norm_wd': False}, 'scheduler': {'name': 'warmup_cosine', 'lr_decay_steps': None, 'min_lr': 0.0, 'warmup_start_lr': 3e-05, 'warmup_epochs': 10, 'interval': 'step'}, 'checkpoint': {'enabled': True, 'dir': 'trained_models', 'frequency': 1, 'keep_prev': False}, 'auto_resume': {'enabled': False, 'max_hours': 36}, 'max_epochs': 1000, 'devices': [0, 1], 'sync_batchnorm': True, 'accelerator': 'gpu', 'strategy': 'ddp', 'precision': 16, 'augmentations': [{'rrc': {'enabled': True, 'crop_min_scale': 0.08, 'crop_max_scale': 1.0}, 'color_jitter': {'prob': 0.8, 'brightness': 0.4, 'contrast': 0.4, 'saturation': 0.2, 'hue': 0.1}, 'grayscale': {'prob': 0.2}, 'gaussian_blur': {'prob': 1.0}, 'solarization': {'prob': 0.0}, 'equalization': {'prob': 0.0}, 'horizontal_flip': {'prob': 0.5}, 'crop_size': 224, 'num_crops': 1}, {'rrc': {'enabled': True, 'crop_min_scale': 0.08, 'crop_max_scale': 1.0}, 'color_jitter': {'prob': 0.8, 'brightness': 0.4, 'contrast': 0.4, 'saturation': 0.2, 'hue': 0.1}, 'grayscale': {'prob': 0.2}, 'gaussian_blur': {'prob': 0.1}, 'solarization': {'prob': 0.2}, 'equalization': {'prob': 0.0}, 'horizontal_flip': {'prob': 0.5}, 'crop_size': 224, 'num_crops': 1}], 'wandb': {'enabled': True, 'entity': None, 'project': 'solo-learn', 'offline': False}, 'dali': {'device': 'gpu', 'encode_indexes_into_labels': False}, 'auto_umap': {'enabled': False, 'dir': 'auto_umap', 'frequency': 1}, 'debug_augmentations': False, 'seed': 5, 'resume_from_checkpoint': None, 'num_nodes': 1, 'accumulate_grad_batches': 1, 'knn_eval': {'enabled': False, 'k': 20, 'distance_func': 'euclidean'}, 'performance': {'disable_channel_last': False}, 'wandb_run_id': 'rq3fl24b'}\n"
     ]
    },
    {
     "name": "stderr",
     "output_type": "stream",
     "text": [
      "WARNING:root:Using scheduler_interval=step might generate issues when resuming a checkpoint.\n",
      "Collecting features:   0%|          | 0/989 [00:00<?, ?it/s]"
     ]
    },
    {
     "name": "stdout",
     "output_type": "stream",
     "text": [
      "{'name': 'cl_lin_pred_min-imagenet100', 'method': 'cl_lin_pred_min', 'backbone': {'name': 'resnet18', 'kwargs': {}}, 'method_kwargs': {'proj_hidden_dim': 2048, 'proj_output_dim': 128, 'mask_fraction': 0.5, 'lamb': 0.3, 'ridge_lambd': 0, 'proj_size': 3}, 'data': {'dataset': 'imagenet100', 'train_path': '/itet-stor/zdavid/net_scratch/data/ILSVRC2012_img_train_100', 'val_path': '/itet-stor/zdavid/net_scratch/data/ILSVRC2012_img_val_100', 'format': 'dali', 'num_workers': 4, 'no_labels': False, 'fraction': -1, 'num_classes': 100, 'num_large_crops': 2, 'num_small_crops': 0}, 'optimizer': {'name': 'lars', 'batch_size': 256, 'lr': 0.6, 'classifier_lr': 0.2, 'weight_decay': 0.0001, 'kwargs': {'clip_lr': True, 'eta': 0.02, 'exclude_bias_n_norm': True, 'momentum': 0.9}, 'exclude_bias_n_norm_wd': False}, 'scheduler': {'name': 'warmup_cosine', 'lr_decay_steps': None, 'min_lr': 0.0, 'warmup_start_lr': 3e-05, 'warmup_epochs': 10, 'interval': 'step'}, 'checkpoint': {'enabled': True, 'dir': 'trained_models', 'frequency': 1, 'keep_prev': False}, 'auto_resume': {'enabled': False, 'max_hours': 36}, 'max_epochs': 1000, 'devices': [0, 1], 'sync_batchnorm': True, 'accelerator': 'gpu', 'strategy': 'ddp', 'precision': 16, 'augmentations': [{'rrc': {'enabled': True, 'crop_min_scale': 0.08, 'crop_max_scale': 1.0}, 'color_jitter': {'prob': 0.8, 'brightness': 0.4, 'contrast': 0.4, 'saturation': 0.2, 'hue': 0.1}, 'grayscale': {'prob': 0.2}, 'gaussian_blur': {'prob': 1.0}, 'solarization': {'prob': 0.0}, 'equalization': {'prob': 0.0}, 'horizontal_flip': {'prob': 0.5}, 'crop_size': 224, 'num_crops': 1}, {'rrc': {'enabled': True, 'crop_min_scale': 0.08, 'crop_max_scale': 1.0}, 'color_jitter': {'prob': 0.8, 'brightness': 0.4, 'contrast': 0.4, 'saturation': 0.2, 'hue': 0.1}, 'grayscale': {'prob': 0.2}, 'gaussian_blur': {'prob': 0.1}, 'solarization': {'prob': 0.2}, 'equalization': {'prob': 0.0}, 'horizontal_flip': {'prob': 0.5}, 'crop_size': 224, 'num_crops': 1}], 'wandb': {'enabled': True, 'entity': None, 'project': 'solo-learn', 'offline': False}, 'dali': {'device': 'gpu', 'encode_indexes_into_labels': False}, 'auto_umap': {'enabled': False, 'dir': 'auto_umap', 'frequency': 1}, 'debug_augmentations': False, 'seed': 5, 'resume_from_checkpoint': None, 'num_nodes': 1, 'accumulate_grad_batches': 1, 'knn_eval': {'enabled': False, 'k': 20, 'distance_func': 'euclidean'}, 'performance': {'disable_channel_last': False}, 'wandb_run_id': 'rq3fl24b'}\n",
      "CFG:  cl_lin_pred_min-imagenet100 rq3fl24b\n"
     ]
    },
    {
     "name": "stderr",
     "output_type": "stream",
     "text": [
      "Collecting features: 100%|██████████| 989/989 [01:24<00:00, 11.69it/s]\n",
      "/home/david/Programming/Self-Supervised-Learning-with-Predictability-Minimization/solo/utils/corr.py:54: RuntimeWarning: invalid value encountered in divide\n",
      "  data_standardized = (data - data.mean(0)) / data.std(0)\n",
      "Collecting features: 100%|██████████| 40/40 [00:04<00:00,  9.24it/s]\n",
      " 40%|████      | 25/62 [36:34<52:28, 85.09s/it]"
     ]
    },
    {
     "name": "stdout",
     "output_type": "stream",
     "text": [
      "/hdd/backup_cluster_august_2023/Self-Supervised-Learning-with-Predictability-Minimization/Self-Supervised-Learning-with-Predictability-Minimization/trained_models/cl_lin_pred_min/b6a1rjjd\n",
      "/hdd/backup_cluster_august_2023/Self-Supervised-Learning-with-Predictability-Minimization/Self-Supervised-Learning-with-Predictability-Minimization/trained_models/cl_lin_pred_min/b6a1rjjd/cl_lin_pred_min-imagenet100-b6a1rjjd-ep=999.ckpt\n"
     ]
    },
    {
     "name": "stderr",
     "output_type": "stream",
     "text": [
      "/home/david/.local/share/virtualenvs/Self-Supervised-Learning-with-Predictabili-RPXJKYD0/lib/python3.10/site-packages/umap/distances.py:1063: NumbaDeprecationWarning: The 'nopython' keyword argument was not supplied to the 'numba.jit' decorator. The implicit default value for this argument is currently False, but it will be changed to True in Numba 0.59.0. See https://numba.readthedocs.io/en/stable/reference/deprecation.html#deprecation-of-object-mode-fall-back-behaviour-when-using-jit for details.\n",
      "  @numba.jit()\n",
      "/home/david/.local/share/virtualenvs/Self-Supervised-Learning-with-Predictabili-RPXJKYD0/lib/python3.10/site-packages/umap/distances.py:1071: NumbaDeprecationWarning: The 'nopython' keyword argument was not supplied to the 'numba.jit' decorator. The implicit default value for this argument is currently False, but it will be changed to True in Numba 0.59.0. See https://numba.readthedocs.io/en/stable/reference/deprecation.html#deprecation-of-object-mode-fall-back-behaviour-when-using-jit for details.\n",
      "  @numba.jit()\n",
      "/home/david/.local/share/virtualenvs/Self-Supervised-Learning-with-Predictabili-RPXJKYD0/lib/python3.10/site-packages/umap/distances.py:1086: NumbaDeprecationWarning: The 'nopython' keyword argument was not supplied to the 'numba.jit' decorator. The implicit default value for this argument is currently False, but it will be changed to True in Numba 0.59.0. See https://numba.readthedocs.io/en/stable/reference/deprecation.html#deprecation-of-object-mode-fall-back-behaviour-when-using-jit for details.\n",
      "  @numba.jit()\n",
      "/home/david/.local/share/virtualenvs/Self-Supervised-Learning-with-Predictabili-RPXJKYD0/lib/python3.10/site-packages/umap/umap_.py:660: NumbaDeprecationWarning: The 'nopython' keyword argument was not supplied to the 'numba.jit' decorator. The implicit default value for this argument is currently False, but it will be changed to True in Numba 0.59.0. See https://numba.readthedocs.io/en/stable/reference/deprecation.html#deprecation-of-object-mode-fall-back-behaviour-when-using-jit for details.\n",
      "  @numba.jit()\n"
     ]
    },
    {
     "name": "stdout",
     "output_type": "stream",
     "text": [
      "{'name': 'cl_lin_pred_min-imagenet100', 'method': 'cl_lin_pred_min', 'backbone': {'name': 'resnet18', 'kwargs': {}}, 'method_kwargs': {'proj_hidden_dim': 2048, 'proj_output_dim': 128, 'mask_fraction': 0.5, 'lamb': 0.1, 'ridge_lambd': 0, 'proj_size': 3}, 'data': {'dataset': 'imagenet100', 'train_path': '/itet-stor/zdavid/net_scratch/data/ILSVRC2012_img_train_100', 'val_path': '/itet-stor/zdavid/net_scratch/data/ILSVRC2012_img_val_100', 'format': 'dali', 'num_workers': 4, 'no_labels': False, 'fraction': -1, 'num_classes': 100, 'num_large_crops': 2, 'num_small_crops': 0}, 'optimizer': {'name': 'lars', 'batch_size': 256, 'lr': 0.6, 'classifier_lr': 0.2, 'weight_decay': 0.0001, 'kwargs': {'clip_lr': True, 'eta': 0.02, 'exclude_bias_n_norm': True, 'momentum': 0.9}, 'exclude_bias_n_norm_wd': False}, 'scheduler': {'name': 'warmup_cosine', 'lr_decay_steps': None, 'min_lr': 0.0, 'warmup_start_lr': 3e-05, 'warmup_epochs': 10, 'interval': 'step'}, 'checkpoint': {'enabled': True, 'dir': 'trained_models', 'frequency': 1, 'keep_prev': False}, 'auto_resume': {'enabled': False, 'max_hours': 36}, 'max_epochs': 1000, 'devices': [0, 1], 'sync_batchnorm': True, 'accelerator': 'gpu', 'strategy': 'ddp', 'precision': 16, 'augmentations': [{'rrc': {'enabled': True, 'crop_min_scale': 0.08, 'crop_max_scale': 1.0}, 'color_jitter': {'prob': 0.8, 'brightness': 0.4, 'contrast': 0.4, 'saturation': 0.2, 'hue': 0.1}, 'grayscale': {'prob': 0.2}, 'gaussian_blur': {'prob': 1.0}, 'solarization': {'prob': 0.0}, 'equalization': {'prob': 0.0}, 'horizontal_flip': {'prob': 0.5}, 'crop_size': 224, 'num_crops': 1}, {'rrc': {'enabled': True, 'crop_min_scale': 0.08, 'crop_max_scale': 1.0}, 'color_jitter': {'prob': 0.8, 'brightness': 0.4, 'contrast': 0.4, 'saturation': 0.2, 'hue': 0.1}, 'grayscale': {'prob': 0.2}, 'gaussian_blur': {'prob': 0.1}, 'solarization': {'prob': 0.2}, 'equalization': {'prob': 0.0}, 'horizontal_flip': {'prob': 0.5}, 'crop_size': 224, 'num_crops': 1}], 'wandb': {'enabled': True, 'entity': None, 'project': 'solo-learn', 'offline': False}, 'dali': {'device': 'gpu', 'encode_indexes_into_labels': False}, 'auto_umap': {'enabled': False, 'dir': 'auto_umap', 'frequency': 1}, 'debug_augmentations': False, 'seed': 5, 'resume_from_checkpoint': None, 'num_nodes': 1, 'accumulate_grad_batches': 1, 'knn_eval': {'enabled': False, 'k': 20, 'distance_func': 'euclidean'}, 'performance': {'disable_channel_last': False}, 'wandb_run_id': 'b6a1rjjd'}\n"
     ]
    },
    {
     "name": "stderr",
     "output_type": "stream",
     "text": [
      "WARNING:root:Using scheduler_interval=step might generate issues when resuming a checkpoint.\n",
      "Collecting features:   0%|          | 0/989 [00:00<?, ?it/s]"
     ]
    },
    {
     "name": "stdout",
     "output_type": "stream",
     "text": [
      "{'name': 'cl_lin_pred_min-imagenet100', 'method': 'cl_lin_pred_min', 'backbone': {'name': 'resnet18', 'kwargs': {}}, 'method_kwargs': {'proj_hidden_dim': 2048, 'proj_output_dim': 128, 'mask_fraction': 0.5, 'lamb': 0.1, 'ridge_lambd': 0, 'proj_size': 3}, 'data': {'dataset': 'imagenet100', 'train_path': '/itet-stor/zdavid/net_scratch/data/ILSVRC2012_img_train_100', 'val_path': '/itet-stor/zdavid/net_scratch/data/ILSVRC2012_img_val_100', 'format': 'dali', 'num_workers': 4, 'no_labels': False, 'fraction': -1, 'num_classes': 100, 'num_large_crops': 2, 'num_small_crops': 0}, 'optimizer': {'name': 'lars', 'batch_size': 256, 'lr': 0.6, 'classifier_lr': 0.2, 'weight_decay': 0.0001, 'kwargs': {'clip_lr': True, 'eta': 0.02, 'exclude_bias_n_norm': True, 'momentum': 0.9}, 'exclude_bias_n_norm_wd': False}, 'scheduler': {'name': 'warmup_cosine', 'lr_decay_steps': None, 'min_lr': 0.0, 'warmup_start_lr': 3e-05, 'warmup_epochs': 10, 'interval': 'step'}, 'checkpoint': {'enabled': True, 'dir': 'trained_models', 'frequency': 1, 'keep_prev': False}, 'auto_resume': {'enabled': False, 'max_hours': 36}, 'max_epochs': 1000, 'devices': [0, 1], 'sync_batchnorm': True, 'accelerator': 'gpu', 'strategy': 'ddp', 'precision': 16, 'augmentations': [{'rrc': {'enabled': True, 'crop_min_scale': 0.08, 'crop_max_scale': 1.0}, 'color_jitter': {'prob': 0.8, 'brightness': 0.4, 'contrast': 0.4, 'saturation': 0.2, 'hue': 0.1}, 'grayscale': {'prob': 0.2}, 'gaussian_blur': {'prob': 1.0}, 'solarization': {'prob': 0.0}, 'equalization': {'prob': 0.0}, 'horizontal_flip': {'prob': 0.5}, 'crop_size': 224, 'num_crops': 1}, {'rrc': {'enabled': True, 'crop_min_scale': 0.08, 'crop_max_scale': 1.0}, 'color_jitter': {'prob': 0.8, 'brightness': 0.4, 'contrast': 0.4, 'saturation': 0.2, 'hue': 0.1}, 'grayscale': {'prob': 0.2}, 'gaussian_blur': {'prob': 0.1}, 'solarization': {'prob': 0.2}, 'equalization': {'prob': 0.0}, 'horizontal_flip': {'prob': 0.5}, 'crop_size': 224, 'num_crops': 1}], 'wandb': {'enabled': True, 'entity': None, 'project': 'solo-learn', 'offline': False}, 'dali': {'device': 'gpu', 'encode_indexes_into_labels': False}, 'auto_umap': {'enabled': False, 'dir': 'auto_umap', 'frequency': 1}, 'debug_augmentations': False, 'seed': 5, 'resume_from_checkpoint': None, 'num_nodes': 1, 'accumulate_grad_batches': 1, 'knn_eval': {'enabled': False, 'k': 20, 'distance_func': 'euclidean'}, 'performance': {'disable_channel_last': False}, 'wandb_run_id': 'b6a1rjjd'}\n",
      "CFG:  cl_lin_pred_min-imagenet100 b6a1rjjd\n"
     ]
    },
    {
     "name": "stderr",
     "output_type": "stream",
     "text": [
      "Collecting features: 100%|██████████| 989/989 [01:18<00:00, 12.57it/s]\n",
      "Collecting features: 100%|██████████| 40/40 [00:04<00:00,  9.69it/s]\n",
      " 42%|████▏     | 26/62 [38:28<56:16, 93.78s/it]"
     ]
    },
    {
     "name": "stdout",
     "output_type": "stream",
     "text": [
      "/hdd/backup_cluster_august_2023/Self-Supervised-Learning-with-Predictability-Minimization/Self-Supervised-Learning-with-Predictability-Minimization/trained_models/cl_lin_pred_min/cw2gznyp\n",
      "/hdd/backup_cluster_august_2023/Self-Supervised-Learning-with-Predictability-Minimization/Self-Supervised-Learning-with-Predictability-Minimization/trained_models/cl_lin_pred_min/cw2gznyp/cl_lin_pred_min-imagenet100-cw2gznyp-ep=399.ckpt\n"
     ]
    },
    {
     "name": "stderr",
     "output_type": "stream",
     "text": [
      "/home/david/.local/share/virtualenvs/Self-Supervised-Learning-with-Predictabili-RPXJKYD0/lib/python3.10/site-packages/umap/distances.py:1063: NumbaDeprecationWarning: The 'nopython' keyword argument was not supplied to the 'numba.jit' decorator. The implicit default value for this argument is currently False, but it will be changed to True in Numba 0.59.0. See https://numba.readthedocs.io/en/stable/reference/deprecation.html#deprecation-of-object-mode-fall-back-behaviour-when-using-jit for details.\n",
      "  @numba.jit()\n",
      "/home/david/.local/share/virtualenvs/Self-Supervised-Learning-with-Predictabili-RPXJKYD0/lib/python3.10/site-packages/umap/distances.py:1071: NumbaDeprecationWarning: The 'nopython' keyword argument was not supplied to the 'numba.jit' decorator. The implicit default value for this argument is currently False, but it will be changed to True in Numba 0.59.0. See https://numba.readthedocs.io/en/stable/reference/deprecation.html#deprecation-of-object-mode-fall-back-behaviour-when-using-jit for details.\n",
      "  @numba.jit()\n",
      "/home/david/.local/share/virtualenvs/Self-Supervised-Learning-with-Predictabili-RPXJKYD0/lib/python3.10/site-packages/umap/distances.py:1086: NumbaDeprecationWarning: The 'nopython' keyword argument was not supplied to the 'numba.jit' decorator. The implicit default value for this argument is currently False, but it will be changed to True in Numba 0.59.0. See https://numba.readthedocs.io/en/stable/reference/deprecation.html#deprecation-of-object-mode-fall-back-behaviour-when-using-jit for details.\n",
      "  @numba.jit()\n",
      "/home/david/.local/share/virtualenvs/Self-Supervised-Learning-with-Predictabili-RPXJKYD0/lib/python3.10/site-packages/umap/umap_.py:660: NumbaDeprecationWarning: The 'nopython' keyword argument was not supplied to the 'numba.jit' decorator. The implicit default value for this argument is currently False, but it will be changed to True in Numba 0.59.0. See https://numba.readthedocs.io/en/stable/reference/deprecation.html#deprecation-of-object-mode-fall-back-behaviour-when-using-jit for details.\n",
      "  @numba.jit()\n"
     ]
    },
    {
     "name": "stdout",
     "output_type": "stream",
     "text": [
      "{'name': 'cl_lin_pred_min-imagenet100', 'method': 'cl_lin_pred_min', 'backbone': {'name': 'resnet18', 'kwargs': {}}, 'method_kwargs': {'proj_hidden_dim': 2048, 'proj_output_dim': 128, 'mask_fraction': 0.5, 'lamb': 0.6, 'ridge_lambd': 0, 'proj_size': 3}, 'data': {'dataset': 'imagenet100', 'train_path': '/itet-stor/zdavid/net_scratch/data/ILSVRC2012_img_train_100', 'val_path': '/itet-stor/zdavid/net_scratch/data/ILSVRC2012_img_val_100', 'format': 'dali', 'num_workers': 4, 'no_labels': False, 'fraction': -1, 'num_classes': 100, 'num_large_crops': 2, 'num_small_crops': 0}, 'optimizer': {'name': 'lars', 'batch_size': 256, 'lr': 0.3, 'classifier_lr': 0.1, 'weight_decay': 0.0001, 'kwargs': {'clip_lr': True, 'eta': 0.02, 'exclude_bias_n_norm': True, 'momentum': 0.9}, 'exclude_bias_n_norm_wd': False}, 'scheduler': {'name': 'warmup_cosine', 'lr_decay_steps': None, 'min_lr': 0.0, 'warmup_start_lr': 3e-05, 'warmup_epochs': 10, 'interval': 'step'}, 'checkpoint': {'enabled': True, 'dir': 'trained_models', 'frequency': 1, 'keep_prev': False}, 'auto_resume': {'enabled': False, 'max_hours': 36}, 'max_epochs': 400, 'devices': [0], 'sync_batchnorm': True, 'accelerator': 'gpu', 'strategy': 'ddp', 'precision': 16, 'augmentations': [{'rrc': {'enabled': True, 'crop_min_scale': 0.08, 'crop_max_scale': 1.0}, 'color_jitter': {'prob': 0.8, 'brightness': 0.4, 'contrast': 0.4, 'saturation': 0.2, 'hue': 0.1}, 'grayscale': {'prob': 0.2}, 'gaussian_blur': {'prob': 1.0}, 'solarization': {'prob': 0.0}, 'equalization': {'prob': 0.0}, 'horizontal_flip': {'prob': 0.5}, 'crop_size': 224, 'num_crops': 1}, {'rrc': {'enabled': True, 'crop_min_scale': 0.08, 'crop_max_scale': 1.0}, 'color_jitter': {'prob': 0.8, 'brightness': 0.4, 'contrast': 0.4, 'saturation': 0.2, 'hue': 0.1}, 'grayscale': {'prob': 0.2}, 'gaussian_blur': {'prob': 0.1}, 'solarization': {'prob': 0.2}, 'equalization': {'prob': 0.0}, 'horizontal_flip': {'prob': 0.5}, 'crop_size': 224, 'num_crops': 1}], 'wandb': {'enabled': True, 'entity': None, 'project': 'solo-learn', 'offline': False}, 'dali': {'device': 'gpu', 'encode_indexes_into_labels': False}, 'auto_umap': {'enabled': False, 'dir': 'auto_umap', 'frequency': 1}, 'debug_augmentations': False, 'seed': 5, 'resume_from_checkpoint': None, 'num_nodes': 1, 'accumulate_grad_batches': 1, 'knn_eval': {'enabled': False, 'k': 20, 'distance_func': 'euclidean'}, 'performance': {'disable_channel_last': False}, 'wandb_run_id': 'cw2gznyp'}\n"
     ]
    },
    {
     "name": "stderr",
     "output_type": "stream",
     "text": [
      "WARNING:root:Using scheduler_interval=step might generate issues when resuming a checkpoint.\n",
      "Collecting features:   0%|          | 0/989 [00:00<?, ?it/s]"
     ]
    },
    {
     "name": "stdout",
     "output_type": "stream",
     "text": [
      "{'name': 'cl_lin_pred_min-imagenet100', 'method': 'cl_lin_pred_min', 'backbone': {'name': 'resnet18', 'kwargs': {}}, 'method_kwargs': {'proj_hidden_dim': 2048, 'proj_output_dim': 128, 'mask_fraction': 0.5, 'lamb': 0.6, 'ridge_lambd': 0, 'proj_size': 3}, 'data': {'dataset': 'imagenet100', 'train_path': '/itet-stor/zdavid/net_scratch/data/ILSVRC2012_img_train_100', 'val_path': '/itet-stor/zdavid/net_scratch/data/ILSVRC2012_img_val_100', 'format': 'dali', 'num_workers': 4, 'no_labels': False, 'fraction': -1, 'num_classes': 100, 'num_large_crops': 2, 'num_small_crops': 0}, 'optimizer': {'name': 'lars', 'batch_size': 256, 'lr': 0.3, 'classifier_lr': 0.1, 'weight_decay': 0.0001, 'kwargs': {'clip_lr': True, 'eta': 0.02, 'exclude_bias_n_norm': True, 'momentum': 0.9}, 'exclude_bias_n_norm_wd': False}, 'scheduler': {'name': 'warmup_cosine', 'lr_decay_steps': None, 'min_lr': 0.0, 'warmup_start_lr': 3e-05, 'warmup_epochs': 10, 'interval': 'step'}, 'checkpoint': {'enabled': True, 'dir': 'trained_models', 'frequency': 1, 'keep_prev': False}, 'auto_resume': {'enabled': False, 'max_hours': 36}, 'max_epochs': 400, 'devices': [0], 'sync_batchnorm': True, 'accelerator': 'gpu', 'strategy': 'ddp', 'precision': 16, 'augmentations': [{'rrc': {'enabled': True, 'crop_min_scale': 0.08, 'crop_max_scale': 1.0}, 'color_jitter': {'prob': 0.8, 'brightness': 0.4, 'contrast': 0.4, 'saturation': 0.2, 'hue': 0.1}, 'grayscale': {'prob': 0.2}, 'gaussian_blur': {'prob': 1.0}, 'solarization': {'prob': 0.0}, 'equalization': {'prob': 0.0}, 'horizontal_flip': {'prob': 0.5}, 'crop_size': 224, 'num_crops': 1}, {'rrc': {'enabled': True, 'crop_min_scale': 0.08, 'crop_max_scale': 1.0}, 'color_jitter': {'prob': 0.8, 'brightness': 0.4, 'contrast': 0.4, 'saturation': 0.2, 'hue': 0.1}, 'grayscale': {'prob': 0.2}, 'gaussian_blur': {'prob': 0.1}, 'solarization': {'prob': 0.2}, 'equalization': {'prob': 0.0}, 'horizontal_flip': {'prob': 0.5}, 'crop_size': 224, 'num_crops': 1}], 'wandb': {'enabled': True, 'entity': None, 'project': 'solo-learn', 'offline': False}, 'dali': {'device': 'gpu', 'encode_indexes_into_labels': False}, 'auto_umap': {'enabled': False, 'dir': 'auto_umap', 'frequency': 1}, 'debug_augmentations': False, 'seed': 5, 'resume_from_checkpoint': None, 'num_nodes': 1, 'accumulate_grad_batches': 1, 'knn_eval': {'enabled': False, 'k': 20, 'distance_func': 'euclidean'}, 'performance': {'disable_channel_last': False}, 'wandb_run_id': 'cw2gznyp'}\n",
      "CFG:  cl_lin_pred_min-imagenet100 cw2gznyp\n"
     ]
    },
    {
     "name": "stderr",
     "output_type": "stream",
     "text": [
      "Collecting features: 100%|██████████| 989/989 [01:15<00:00, 13.04it/s]\n",
      "Collecting features: 100%|██████████| 40/40 [00:03<00:00, 10.74it/s]\n",
      " 44%|████▎     | 27/62 [40:22<58:11, 99.77s/it]"
     ]
    },
    {
     "name": "stdout",
     "output_type": "stream",
     "text": [
      "/hdd/backup_cluster_august_2023/Self-Supervised-Learning-with-Predictability-Minimization/Self-Supervised-Learning-with-Predictability-Minimization/trained_models/cl_lin_pred_min/czl1e2vs\n",
      "/hdd/backup_cluster_august_2023/Self-Supervised-Learning-with-Predictability-Minimization/Self-Supervised-Learning-with-Predictability-Minimization/trained_models/cl_lin_pred_min/czl1e2vs/cl_lin_pred_min-imagenet100-czl1e2vs-ep=399.ckpt\n"
     ]
    },
    {
     "name": "stderr",
     "output_type": "stream",
     "text": [
      "/home/david/.local/share/virtualenvs/Self-Supervised-Learning-with-Predictabili-RPXJKYD0/lib/python3.10/site-packages/umap/distances.py:1063: NumbaDeprecationWarning: The 'nopython' keyword argument was not supplied to the 'numba.jit' decorator. The implicit default value for this argument is currently False, but it will be changed to True in Numba 0.59.0. See https://numba.readthedocs.io/en/stable/reference/deprecation.html#deprecation-of-object-mode-fall-back-behaviour-when-using-jit for details.\n",
      "  @numba.jit()\n",
      "/home/david/.local/share/virtualenvs/Self-Supervised-Learning-with-Predictabili-RPXJKYD0/lib/python3.10/site-packages/umap/distances.py:1071: NumbaDeprecationWarning: The 'nopython' keyword argument was not supplied to the 'numba.jit' decorator. The implicit default value for this argument is currently False, but it will be changed to True in Numba 0.59.0. See https://numba.readthedocs.io/en/stable/reference/deprecation.html#deprecation-of-object-mode-fall-back-behaviour-when-using-jit for details.\n",
      "  @numba.jit()\n",
      "/home/david/.local/share/virtualenvs/Self-Supervised-Learning-with-Predictabili-RPXJKYD0/lib/python3.10/site-packages/umap/distances.py:1086: NumbaDeprecationWarning: The 'nopython' keyword argument was not supplied to the 'numba.jit' decorator. The implicit default value for this argument is currently False, but it will be changed to True in Numba 0.59.0. See https://numba.readthedocs.io/en/stable/reference/deprecation.html#deprecation-of-object-mode-fall-back-behaviour-when-using-jit for details.\n",
      "  @numba.jit()\n",
      "/home/david/.local/share/virtualenvs/Self-Supervised-Learning-with-Predictabili-RPXJKYD0/lib/python3.10/site-packages/umap/umap_.py:660: NumbaDeprecationWarning: The 'nopython' keyword argument was not supplied to the 'numba.jit' decorator. The implicit default value for this argument is currently False, but it will be changed to True in Numba 0.59.0. See https://numba.readthedocs.io/en/stable/reference/deprecation.html#deprecation-of-object-mode-fall-back-behaviour-when-using-jit for details.\n",
      "  @numba.jit()\n"
     ]
    },
    {
     "name": "stdout",
     "output_type": "stream",
     "text": [
      "{'name': 'cl_lin_pred_min-imagenet100', 'method': 'cl_lin_pred_min', 'backbone': {'name': 'resnet18', 'kwargs': {}}, 'method_kwargs': {'proj_hidden_dim': 2048, 'proj_output_dim': 128, 'mask_fraction': 0.5, 'lamb': 0.1, 'ridge_lambd': 0, 'proj_size': 3}, 'data': {'dataset': 'imagenet100', 'train_path': '/itet-stor/zdavid/net_scratch/data/ILSVRC2012_img_train_100', 'val_path': '/itet-stor/zdavid/net_scratch/data/ILSVRC2012_img_val_100', 'format': 'dali', 'num_workers': 4, 'no_labels': False, 'fraction': -1, 'num_classes': 100, 'num_large_crops': 2, 'num_small_crops': 0}, 'optimizer': {'name': 'lars', 'batch_size': 256, 'lr': 0.3, 'classifier_lr': 0.1, 'weight_decay': 0.0001, 'kwargs': {'clip_lr': True, 'eta': 0.02, 'exclude_bias_n_norm': True, 'momentum': 0.9}, 'exclude_bias_n_norm_wd': False}, 'scheduler': {'name': 'warmup_cosine', 'lr_decay_steps': None, 'min_lr': 0.0, 'warmup_start_lr': 3e-05, 'warmup_epochs': 10, 'interval': 'step'}, 'checkpoint': {'enabled': True, 'dir': 'trained_models', 'frequency': 1, 'keep_prev': False}, 'auto_resume': {'enabled': False, 'max_hours': 36}, 'max_epochs': 400, 'devices': [0], 'sync_batchnorm': True, 'accelerator': 'gpu', 'strategy': 'ddp', 'precision': 16, 'augmentations': [{'rrc': {'enabled': True, 'crop_min_scale': 0.08, 'crop_max_scale': 1.0}, 'color_jitter': {'prob': 0.8, 'brightness': 0.4, 'contrast': 0.4, 'saturation': 0.2, 'hue': 0.1}, 'grayscale': {'prob': 0.2}, 'gaussian_blur': {'prob': 1.0}, 'solarization': {'prob': 0.0}, 'equalization': {'prob': 0.0}, 'horizontal_flip': {'prob': 0.5}, 'crop_size': 224, 'num_crops': 1}, {'rrc': {'enabled': True, 'crop_min_scale': 0.08, 'crop_max_scale': 1.0}, 'color_jitter': {'prob': 0.8, 'brightness': 0.4, 'contrast': 0.4, 'saturation': 0.2, 'hue': 0.1}, 'grayscale': {'prob': 0.2}, 'gaussian_blur': {'prob': 0.1}, 'solarization': {'prob': 0.2}, 'equalization': {'prob': 0.0}, 'horizontal_flip': {'prob': 0.5}, 'crop_size': 224, 'num_crops': 1}], 'wandb': {'enabled': True, 'entity': None, 'project': 'solo-learn', 'offline': False}, 'dali': {'device': 'gpu', 'encode_indexes_into_labels': False}, 'auto_umap': {'enabled': False, 'dir': 'auto_umap', 'frequency': 1}, 'debug_augmentations': False, 'seed': 5, 'resume_from_checkpoint': None, 'num_nodes': 1, 'accumulate_grad_batches': 1, 'knn_eval': {'enabled': False, 'k': 20, 'distance_func': 'euclidean'}, 'performance': {'disable_channel_last': False}, 'wandb_run_id': 'czl1e2vs'}\n"
     ]
    },
    {
     "name": "stderr",
     "output_type": "stream",
     "text": [
      "WARNING:root:Using scheduler_interval=step might generate issues when resuming a checkpoint.\n",
      "Collecting features:   0%|          | 0/989 [00:00<?, ?it/s]"
     ]
    },
    {
     "name": "stdout",
     "output_type": "stream",
     "text": [
      "{'name': 'cl_lin_pred_min-imagenet100', 'method': 'cl_lin_pred_min', 'backbone': {'name': 'resnet18', 'kwargs': {}}, 'method_kwargs': {'proj_hidden_dim': 2048, 'proj_output_dim': 128, 'mask_fraction': 0.5, 'lamb': 0.1, 'ridge_lambd': 0, 'proj_size': 3}, 'data': {'dataset': 'imagenet100', 'train_path': '/itet-stor/zdavid/net_scratch/data/ILSVRC2012_img_train_100', 'val_path': '/itet-stor/zdavid/net_scratch/data/ILSVRC2012_img_val_100', 'format': 'dali', 'num_workers': 4, 'no_labels': False, 'fraction': -1, 'num_classes': 100, 'num_large_crops': 2, 'num_small_crops': 0}, 'optimizer': {'name': 'lars', 'batch_size': 256, 'lr': 0.3, 'classifier_lr': 0.1, 'weight_decay': 0.0001, 'kwargs': {'clip_lr': True, 'eta': 0.02, 'exclude_bias_n_norm': True, 'momentum': 0.9}, 'exclude_bias_n_norm_wd': False}, 'scheduler': {'name': 'warmup_cosine', 'lr_decay_steps': None, 'min_lr': 0.0, 'warmup_start_lr': 3e-05, 'warmup_epochs': 10, 'interval': 'step'}, 'checkpoint': {'enabled': True, 'dir': 'trained_models', 'frequency': 1, 'keep_prev': False}, 'auto_resume': {'enabled': False, 'max_hours': 36}, 'max_epochs': 400, 'devices': [0], 'sync_batchnorm': True, 'accelerator': 'gpu', 'strategy': 'ddp', 'precision': 16, 'augmentations': [{'rrc': {'enabled': True, 'crop_min_scale': 0.08, 'crop_max_scale': 1.0}, 'color_jitter': {'prob': 0.8, 'brightness': 0.4, 'contrast': 0.4, 'saturation': 0.2, 'hue': 0.1}, 'grayscale': {'prob': 0.2}, 'gaussian_blur': {'prob': 1.0}, 'solarization': {'prob': 0.0}, 'equalization': {'prob': 0.0}, 'horizontal_flip': {'prob': 0.5}, 'crop_size': 224, 'num_crops': 1}, {'rrc': {'enabled': True, 'crop_min_scale': 0.08, 'crop_max_scale': 1.0}, 'color_jitter': {'prob': 0.8, 'brightness': 0.4, 'contrast': 0.4, 'saturation': 0.2, 'hue': 0.1}, 'grayscale': {'prob': 0.2}, 'gaussian_blur': {'prob': 0.1}, 'solarization': {'prob': 0.2}, 'equalization': {'prob': 0.0}, 'horizontal_flip': {'prob': 0.5}, 'crop_size': 224, 'num_crops': 1}], 'wandb': {'enabled': True, 'entity': None, 'project': 'solo-learn', 'offline': False}, 'dali': {'device': 'gpu', 'encode_indexes_into_labels': False}, 'auto_umap': {'enabled': False, 'dir': 'auto_umap', 'frequency': 1}, 'debug_augmentations': False, 'seed': 5, 'resume_from_checkpoint': None, 'num_nodes': 1, 'accumulate_grad_batches': 1, 'knn_eval': {'enabled': False, 'k': 20, 'distance_func': 'euclidean'}, 'performance': {'disable_channel_last': False}, 'wandb_run_id': 'czl1e2vs'}\n",
      "CFG:  cl_lin_pred_min-imagenet100 czl1e2vs\n"
     ]
    },
    {
     "name": "stderr",
     "output_type": "stream",
     "text": [
      "Collecting features: 100%|██████████| 989/989 [01:11<00:00, 13.90it/s]\n",
      "Collecting features: 100%|██████████| 40/40 [00:04<00:00,  9.88it/s]\n",
      " 45%|████▌     | 28/62 [42:08<57:39, 101.76s/it]"
     ]
    },
    {
     "name": "stdout",
     "output_type": "stream",
     "text": [
      "/hdd/backup_cluster_august_2023/Self-Supervised-Learning-with-Predictability-Minimization/Self-Supervised-Learning-with-Predictability-Minimization/trained_models/cl_lin_pred_min/fko9gigm\n",
      "/hdd/backup_cluster_august_2023/Self-Supervised-Learning-with-Predictability-Minimization/Self-Supervised-Learning-with-Predictability-Minimization/trained_models/cl_lin_pred_min/fko9gigm/cl_lin_pred_min-cifar10-fko9gigm-ep=999.ckpt\n"
     ]
    },
    {
     "name": "stderr",
     "output_type": "stream",
     "text": [
      "/home/david/.local/share/virtualenvs/Self-Supervised-Learning-with-Predictabili-RPXJKYD0/lib/python3.10/site-packages/umap/distances.py:1063: NumbaDeprecationWarning: The 'nopython' keyword argument was not supplied to the 'numba.jit' decorator. The implicit default value for this argument is currently False, but it will be changed to True in Numba 0.59.0. See https://numba.readthedocs.io/en/stable/reference/deprecation.html#deprecation-of-object-mode-fall-back-behaviour-when-using-jit for details.\n",
      "  @numba.jit()\n",
      "/home/david/.local/share/virtualenvs/Self-Supervised-Learning-with-Predictabili-RPXJKYD0/lib/python3.10/site-packages/umap/distances.py:1071: NumbaDeprecationWarning: The 'nopython' keyword argument was not supplied to the 'numba.jit' decorator. The implicit default value for this argument is currently False, but it will be changed to True in Numba 0.59.0. See https://numba.readthedocs.io/en/stable/reference/deprecation.html#deprecation-of-object-mode-fall-back-behaviour-when-using-jit for details.\n",
      "  @numba.jit()\n",
      "/home/david/.local/share/virtualenvs/Self-Supervised-Learning-with-Predictabili-RPXJKYD0/lib/python3.10/site-packages/umap/distances.py:1086: NumbaDeprecationWarning: The 'nopython' keyword argument was not supplied to the 'numba.jit' decorator. The implicit default value for this argument is currently False, but it will be changed to True in Numba 0.59.0. See https://numba.readthedocs.io/en/stable/reference/deprecation.html#deprecation-of-object-mode-fall-back-behaviour-when-using-jit for details.\n",
      "  @numba.jit()\n",
      "/home/david/.local/share/virtualenvs/Self-Supervised-Learning-with-Predictabili-RPXJKYD0/lib/python3.10/site-packages/umap/umap_.py:660: NumbaDeprecationWarning: The 'nopython' keyword argument was not supplied to the 'numba.jit' decorator. The implicit default value for this argument is currently False, but it will be changed to True in Numba 0.59.0. See https://numba.readthedocs.io/en/stable/reference/deprecation.html#deprecation-of-object-mode-fall-back-behaviour-when-using-jit for details.\n",
      "  @numba.jit()\n"
     ]
    },
    {
     "name": "stdout",
     "output_type": "stream",
     "text": [
      "{'name': 'cl_lin_pred_min-cifar10', 'method': 'cl_lin_pred_min', 'backbone': {'name': 'resnet18', 'kwargs': {}}, 'method_kwargs': {'proj_hidden_dim': 2048, 'proj_output_dim': 128, 'mask_fraction': 0.5, 'lamb': 0.2, 'ridge_lambd': 0, 'proj_size': 3}, 'data': {'dataset': 'cifar10', 'train_path': './datasets', 'val_path': './datasets', 'format': 'image_folder', 'num_workers': 4, 'no_labels': False, 'fraction': -1, 'num_classes': 10, 'num_large_crops': 2, 'num_small_crops': 0}, 'optimizer': {'name': 'lars', 'batch_size': 256, 'lr': 0.6, 'classifier_lr': 0.2, 'weight_decay': 0.0001, 'kwargs': {'clip_lr': True, 'eta': 0.02, 'exclude_bias_n_norm': True, 'momentum': 0.9}, 'exclude_bias_n_norm_wd': False}, 'scheduler': {'name': 'warmup_cosine', 'lr_decay_steps': None, 'min_lr': 0.0, 'warmup_start_lr': 3e-05, 'warmup_epochs': 10, 'interval': 'step'}, 'checkpoint': {'enabled': True, 'dir': 'trained_models', 'frequency': 1, 'keep_prev': False}, 'auto_resume': {'enabled': False, 'max_hours': 36}, 'max_epochs': 1000, 'devices': [0, 1], 'sync_batchnorm': True, 'accelerator': 'gpu', 'strategy': 'ddp', 'precision': '16-mixed', 'augmentations': [{'rrc': {'enabled': True, 'crop_min_scale': 0.08, 'crop_max_scale': 1.0}, 'color_jitter': {'prob': 0.8, 'brightness': 0.4, 'contrast': 0.4, 'saturation': 0.2, 'hue': 0.1}, 'grayscale': {'prob': 0.2}, 'gaussian_blur': {'prob': 0.0}, 'solarization': {'prob': 0.0}, 'equalization': {'prob': 0.0}, 'horizontal_flip': {'prob': 0.5}, 'crop_size': 32, 'num_crops': 1}, {'rrc': {'enabled': True, 'crop_min_scale': 0.08, 'crop_max_scale': 1.0}, 'color_jitter': {'prob': 0.8, 'brightness': 0.4, 'contrast': 0.4, 'saturation': 0.2, 'hue': 0.1}, 'grayscale': {'prob': 0.2}, 'gaussian_blur': {'prob': 0.0}, 'solarization': {'prob': 0.2}, 'equalization': {'prob': 0.0}, 'horizontal_flip': {'prob': 0.5}, 'crop_size': 32, 'num_crops': 1}], 'wandb': {'enabled': True, 'entity': None, 'project': 'solo-learn', 'offline': False}, 'dali': {'device': 'gpu', 'encode_indexes_into_labels': False}, 'auto_umap': {'enabled': False, 'dir': 'auto_umap', 'frequency': 1}, 'debug_augmentations': False, 'seed': 5, 'resume_from_checkpoint': None, 'num_nodes': 1, 'accumulate_grad_batches': 1, 'knn_eval': {'enabled': False, 'k': 20, 'distance_func': 'euclidean'}, 'performance': {'disable_channel_last': False}, 'wandb_run_id': 'fko9gigm'}\n"
     ]
    },
    {
     "name": "stderr",
     "output_type": "stream",
     "text": [
      "WARNING:root:Using scheduler_interval=step might generate issues when resuming a checkpoint.\n"
     ]
    },
    {
     "name": "stdout",
     "output_type": "stream",
     "text": [
      "Files already downloaded and verified\n",
      "Files already downloaded and verified\n",
      "{'name': 'cl_lin_pred_min-cifar10', 'method': 'cl_lin_pred_min', 'backbone': {'name': 'resnet18', 'kwargs': {}}, 'method_kwargs': {'proj_hidden_dim': 2048, 'proj_output_dim': 128, 'mask_fraction': 0.5, 'lamb': 0.2, 'ridge_lambd': 0, 'proj_size': 3}, 'data': {'dataset': 'cifar10', 'train_path': './datasets', 'val_path': './datasets', 'format': 'image_folder', 'num_workers': 4, 'no_labels': False, 'fraction': -1, 'num_classes': 10, 'num_large_crops': 2, 'num_small_crops': 0}, 'optimizer': {'name': 'lars', 'batch_size': 256, 'lr': 0.6, 'classifier_lr': 0.2, 'weight_decay': 0.0001, 'kwargs': {'clip_lr': True, 'eta': 0.02, 'exclude_bias_n_norm': True, 'momentum': 0.9}, 'exclude_bias_n_norm_wd': False}, 'scheduler': {'name': 'warmup_cosine', 'lr_decay_steps': None, 'min_lr': 0.0, 'warmup_start_lr': 3e-05, 'warmup_epochs': 10, 'interval': 'step'}, 'checkpoint': {'enabled': True, 'dir': 'trained_models', 'frequency': 1, 'keep_prev': False}, 'auto_resume': {'enabled': False, 'max_hours': 36}, 'max_epochs': 1000, 'devices': [0, 1], 'sync_batchnorm': True, 'accelerator': 'gpu', 'strategy': 'ddp', 'precision': '16-mixed', 'augmentations': [{'rrc': {'enabled': True, 'crop_min_scale': 0.08, 'crop_max_scale': 1.0}, 'color_jitter': {'prob': 0.8, 'brightness': 0.4, 'contrast': 0.4, 'saturation': 0.2, 'hue': 0.1}, 'grayscale': {'prob': 0.2}, 'gaussian_blur': {'prob': 0.0}, 'solarization': {'prob': 0.0}, 'equalization': {'prob': 0.0}, 'horizontal_flip': {'prob': 0.5}, 'crop_size': 32, 'num_crops': 1}, {'rrc': {'enabled': True, 'crop_min_scale': 0.08, 'crop_max_scale': 1.0}, 'color_jitter': {'prob': 0.8, 'brightness': 0.4, 'contrast': 0.4, 'saturation': 0.2, 'hue': 0.1}, 'grayscale': {'prob': 0.2}, 'gaussian_blur': {'prob': 0.0}, 'solarization': {'prob': 0.2}, 'equalization': {'prob': 0.0}, 'horizontal_flip': {'prob': 0.5}, 'crop_size': 32, 'num_crops': 1}], 'wandb': {'enabled': True, 'entity': None, 'project': 'solo-learn', 'offline': False}, 'dali': {'device': 'gpu', 'encode_indexes_into_labels': False}, 'auto_umap': {'enabled': False, 'dir': 'auto_umap', 'frequency': 1}, 'debug_augmentations': False, 'seed': 5, 'resume_from_checkpoint': None, 'num_nodes': 1, 'accumulate_grad_batches': 1, 'knn_eval': {'enabled': False, 'k': 20, 'distance_func': 'euclidean'}, 'performance': {'disable_channel_last': False}, 'wandb_run_id': 'fko9gigm'}\n",
      "CFG:  cl_lin_pred_min-cifar10 fko9gigm\n"
     ]
    },
    {
     "name": "stderr",
     "output_type": "stream",
     "text": [
      "Collecting features: 100%|██████████| 390/390 [00:05<00:00, 72.92it/s]\n",
      "Collecting features: 100%|██████████| 79/79 [00:01<00:00, 65.07it/s]\n",
      " 47%|████▋     | 29/62 [42:33<43:21, 78.83s/it] "
     ]
    },
    {
     "name": "stdout",
     "output_type": "stream",
     "text": [
      "/hdd/backup_cluster_august_2023/Self-Supervised-Learning-with-Predictability-Minimization/Self-Supervised-Learning-with-Predictability-Minimization/trained_models/cl_lin_pred_min/5lpx244e\n",
      "/hdd/backup_cluster_august_2023/Self-Supervised-Learning-with-Predictability-Minimization/Self-Supervised-Learning-with-Predictability-Minimization/trained_models/cl_lin_pred_min/5lpx244e/cl_lin_pred_min-imagenet100-5lpx244e-ep=999.ckpt\n"
     ]
    },
    {
     "name": "stderr",
     "output_type": "stream",
     "text": [
      "/home/david/.local/share/virtualenvs/Self-Supervised-Learning-with-Predictabili-RPXJKYD0/lib/python3.10/site-packages/umap/distances.py:1063: NumbaDeprecationWarning: The 'nopython' keyword argument was not supplied to the 'numba.jit' decorator. The implicit default value for this argument is currently False, but it will be changed to True in Numba 0.59.0. See https://numba.readthedocs.io/en/stable/reference/deprecation.html#deprecation-of-object-mode-fall-back-behaviour-when-using-jit for details.\n",
      "  @numba.jit()\n",
      "/home/david/.local/share/virtualenvs/Self-Supervised-Learning-with-Predictabili-RPXJKYD0/lib/python3.10/site-packages/umap/distances.py:1071: NumbaDeprecationWarning: The 'nopython' keyword argument was not supplied to the 'numba.jit' decorator. The implicit default value for this argument is currently False, but it will be changed to True in Numba 0.59.0. See https://numba.readthedocs.io/en/stable/reference/deprecation.html#deprecation-of-object-mode-fall-back-behaviour-when-using-jit for details.\n",
      "  @numba.jit()\n",
      "/home/david/.local/share/virtualenvs/Self-Supervised-Learning-with-Predictabili-RPXJKYD0/lib/python3.10/site-packages/umap/distances.py:1086: NumbaDeprecationWarning: The 'nopython' keyword argument was not supplied to the 'numba.jit' decorator. The implicit default value for this argument is currently False, but it will be changed to True in Numba 0.59.0. See https://numba.readthedocs.io/en/stable/reference/deprecation.html#deprecation-of-object-mode-fall-back-behaviour-when-using-jit for details.\n",
      "  @numba.jit()\n",
      "/home/david/.local/share/virtualenvs/Self-Supervised-Learning-with-Predictabili-RPXJKYD0/lib/python3.10/site-packages/umap/umap_.py:660: NumbaDeprecationWarning: The 'nopython' keyword argument was not supplied to the 'numba.jit' decorator. The implicit default value for this argument is currently False, but it will be changed to True in Numba 0.59.0. See https://numba.readthedocs.io/en/stable/reference/deprecation.html#deprecation-of-object-mode-fall-back-behaviour-when-using-jit for details.\n",
      "  @numba.jit()\n"
     ]
    },
    {
     "name": "stdout",
     "output_type": "stream",
     "text": [
      "{'name': 'cl_lin_pred_min-imagenet100', 'method': 'cl_lin_pred_min', 'backbone': {'name': 'resnet18', 'kwargs': {}}, 'method_kwargs': {'proj_hidden_dim': 2048, 'proj_output_dim': 128, 'mask_fraction': 0.5, 'lamb': 0.15, 'ridge_lambd': 0, 'proj_size': 3}, 'data': {'dataset': 'imagenet100', 'train_path': '/itet-stor/zdavid/net_scratch/data/ILSVRC2012_img_train_100', 'val_path': '/itet-stor/zdavid/net_scratch/data/ILSVRC2012_img_val_100', 'format': 'dali', 'num_workers': 4, 'no_labels': False, 'fraction': -1, 'num_classes': 100, 'num_large_crops': 2, 'num_small_crops': 0}, 'optimizer': {'name': 'lars', 'batch_size': 256, 'lr': 0.6, 'classifier_lr': 0.2, 'weight_decay': 0.0001, 'kwargs': {'clip_lr': True, 'eta': 0.02, 'exclude_bias_n_norm': True, 'momentum': 0.9}, 'exclude_bias_n_norm_wd': False}, 'scheduler': {'name': 'warmup_cosine', 'lr_decay_steps': None, 'min_lr': 0.0, 'warmup_start_lr': 3e-05, 'warmup_epochs': 10, 'interval': 'step'}, 'checkpoint': {'enabled': True, 'dir': 'trained_models', 'frequency': 1, 'keep_prev': False}, 'auto_resume': {'enabled': False, 'max_hours': 36}, 'max_epochs': 1000, 'devices': [0, 1], 'sync_batchnorm': True, 'accelerator': 'gpu', 'strategy': 'ddp', 'precision': 16, 'augmentations': [{'rrc': {'enabled': True, 'crop_min_scale': 0.08, 'crop_max_scale': 1.0}, 'color_jitter': {'prob': 0.8, 'brightness': 0.4, 'contrast': 0.4, 'saturation': 0.2, 'hue': 0.1}, 'grayscale': {'prob': 0.2}, 'gaussian_blur': {'prob': 1.0}, 'solarization': {'prob': 0.0}, 'equalization': {'prob': 0.0}, 'horizontal_flip': {'prob': 0.5}, 'crop_size': 224, 'num_crops': 1}, {'rrc': {'enabled': True, 'crop_min_scale': 0.08, 'crop_max_scale': 1.0}, 'color_jitter': {'prob': 0.8, 'brightness': 0.4, 'contrast': 0.4, 'saturation': 0.2, 'hue': 0.1}, 'grayscale': {'prob': 0.2}, 'gaussian_blur': {'prob': 0.1}, 'solarization': {'prob': 0.2}, 'equalization': {'prob': 0.0}, 'horizontal_flip': {'prob': 0.5}, 'crop_size': 224, 'num_crops': 1}], 'wandb': {'enabled': True, 'entity': None, 'project': 'solo-learn', 'offline': False}, 'dali': {'device': 'gpu', 'encode_indexes_into_labels': False}, 'auto_umap': {'enabled': False, 'dir': 'auto_umap', 'frequency': 1}, 'debug_augmentations': False, 'seed': 5, 'resume_from_checkpoint': None, 'num_nodes': 1, 'accumulate_grad_batches': 1, 'knn_eval': {'enabled': False, 'k': 20, 'distance_func': 'euclidean'}, 'performance': {'disable_channel_last': False}, 'wandb_run_id': '5lpx244e'}\n"
     ]
    },
    {
     "name": "stderr",
     "output_type": "stream",
     "text": [
      "WARNING:root:Using scheduler_interval=step might generate issues when resuming a checkpoint.\n",
      "Collecting features:   0%|          | 0/989 [00:00<?, ?it/s]"
     ]
    },
    {
     "name": "stdout",
     "output_type": "stream",
     "text": [
      "{'name': 'cl_lin_pred_min-imagenet100', 'method': 'cl_lin_pred_min', 'backbone': {'name': 'resnet18', 'kwargs': {}}, 'method_kwargs': {'proj_hidden_dim': 2048, 'proj_output_dim': 128, 'mask_fraction': 0.5, 'lamb': 0.15, 'ridge_lambd': 0, 'proj_size': 3}, 'data': {'dataset': 'imagenet100', 'train_path': '/itet-stor/zdavid/net_scratch/data/ILSVRC2012_img_train_100', 'val_path': '/itet-stor/zdavid/net_scratch/data/ILSVRC2012_img_val_100', 'format': 'dali', 'num_workers': 4, 'no_labels': False, 'fraction': -1, 'num_classes': 100, 'num_large_crops': 2, 'num_small_crops': 0}, 'optimizer': {'name': 'lars', 'batch_size': 256, 'lr': 0.6, 'classifier_lr': 0.2, 'weight_decay': 0.0001, 'kwargs': {'clip_lr': True, 'eta': 0.02, 'exclude_bias_n_norm': True, 'momentum': 0.9}, 'exclude_bias_n_norm_wd': False}, 'scheduler': {'name': 'warmup_cosine', 'lr_decay_steps': None, 'min_lr': 0.0, 'warmup_start_lr': 3e-05, 'warmup_epochs': 10, 'interval': 'step'}, 'checkpoint': {'enabled': True, 'dir': 'trained_models', 'frequency': 1, 'keep_prev': False}, 'auto_resume': {'enabled': False, 'max_hours': 36}, 'max_epochs': 1000, 'devices': [0, 1], 'sync_batchnorm': True, 'accelerator': 'gpu', 'strategy': 'ddp', 'precision': 16, 'augmentations': [{'rrc': {'enabled': True, 'crop_min_scale': 0.08, 'crop_max_scale': 1.0}, 'color_jitter': {'prob': 0.8, 'brightness': 0.4, 'contrast': 0.4, 'saturation': 0.2, 'hue': 0.1}, 'grayscale': {'prob': 0.2}, 'gaussian_blur': {'prob': 1.0}, 'solarization': {'prob': 0.0}, 'equalization': {'prob': 0.0}, 'horizontal_flip': {'prob': 0.5}, 'crop_size': 224, 'num_crops': 1}, {'rrc': {'enabled': True, 'crop_min_scale': 0.08, 'crop_max_scale': 1.0}, 'color_jitter': {'prob': 0.8, 'brightness': 0.4, 'contrast': 0.4, 'saturation': 0.2, 'hue': 0.1}, 'grayscale': {'prob': 0.2}, 'gaussian_blur': {'prob': 0.1}, 'solarization': {'prob': 0.2}, 'equalization': {'prob': 0.0}, 'horizontal_flip': {'prob': 0.5}, 'crop_size': 224, 'num_crops': 1}], 'wandb': {'enabled': True, 'entity': None, 'project': 'solo-learn', 'offline': False}, 'dali': {'device': 'gpu', 'encode_indexes_into_labels': False}, 'auto_umap': {'enabled': False, 'dir': 'auto_umap', 'frequency': 1}, 'debug_augmentations': False, 'seed': 5, 'resume_from_checkpoint': None, 'num_nodes': 1, 'accumulate_grad_batches': 1, 'knn_eval': {'enabled': False, 'k': 20, 'distance_func': 'euclidean'}, 'performance': {'disable_channel_last': False}, 'wandb_run_id': '5lpx244e'}\n",
      "CFG:  cl_lin_pred_min-imagenet100 5lpx244e\n"
     ]
    },
    {
     "name": "stderr",
     "output_type": "stream",
     "text": [
      "Collecting features: 100%|██████████| 989/989 [01:19<00:00, 12.39it/s]\n",
      "Collecting features: 100%|██████████| 40/40 [00:03<00:00, 10.08it/s]\n",
      " 48%|████▊     | 30/62 [44:29<47:56, 89.90s/it]"
     ]
    },
    {
     "name": "stdout",
     "output_type": "stream",
     "text": [
      "/hdd/backup_cluster_august_2023/Self-Supervised-Learning-with-Predictability-Minimization/Self-Supervised-Learning-with-Predictability-Minimization/trained_models/mocov3/62kaptx2\n",
      "/hdd/backup_cluster_august_2023/Self-Supervised-Learning-with-Predictability-Minimization/Self-Supervised-Learning-with-Predictability-Minimization/trained_models/mocov3/62kaptx2/mocov3-imagenet100-62kaptx2-ep=399.ckpt\n"
     ]
    },
    {
     "name": "stderr",
     "output_type": "stream",
     "text": [
      "/home/david/.local/share/virtualenvs/Self-Supervised-Learning-with-Predictabili-RPXJKYD0/lib/python3.10/site-packages/umap/distances.py:1063: NumbaDeprecationWarning: The 'nopython' keyword argument was not supplied to the 'numba.jit' decorator. The implicit default value for this argument is currently False, but it will be changed to True in Numba 0.59.0. See https://numba.readthedocs.io/en/stable/reference/deprecation.html#deprecation-of-object-mode-fall-back-behaviour-when-using-jit for details.\n",
      "  @numba.jit()\n",
      "/home/david/.local/share/virtualenvs/Self-Supervised-Learning-with-Predictabili-RPXJKYD0/lib/python3.10/site-packages/umap/distances.py:1071: NumbaDeprecationWarning: The 'nopython' keyword argument was not supplied to the 'numba.jit' decorator. The implicit default value for this argument is currently False, but it will be changed to True in Numba 0.59.0. See https://numba.readthedocs.io/en/stable/reference/deprecation.html#deprecation-of-object-mode-fall-back-behaviour-when-using-jit for details.\n",
      "  @numba.jit()\n",
      "/home/david/.local/share/virtualenvs/Self-Supervised-Learning-with-Predictabili-RPXJKYD0/lib/python3.10/site-packages/umap/distances.py:1086: NumbaDeprecationWarning: The 'nopython' keyword argument was not supplied to the 'numba.jit' decorator. The implicit default value for this argument is currently False, but it will be changed to True in Numba 0.59.0. See https://numba.readthedocs.io/en/stable/reference/deprecation.html#deprecation-of-object-mode-fall-back-behaviour-when-using-jit for details.\n",
      "  @numba.jit()\n",
      "/home/david/.local/share/virtualenvs/Self-Supervised-Learning-with-Predictabili-RPXJKYD0/lib/python3.10/site-packages/umap/umap_.py:660: NumbaDeprecationWarning: The 'nopython' keyword argument was not supplied to the 'numba.jit' decorator. The implicit default value for this argument is currently False, but it will be changed to True in Numba 0.59.0. See https://numba.readthedocs.io/en/stable/reference/deprecation.html#deprecation-of-object-mode-fall-back-behaviour-when-using-jit for details.\n",
      "  @numba.jit()\n"
     ]
    },
    {
     "name": "stdout",
     "output_type": "stream",
     "text": [
      "{'name': 'mocov3-imagenet100', 'method': 'mocov3', 'backbone': {'name': 'resnet18', 'kwargs': {}}, 'method_kwargs': {'proj_hidden_dim': 4096, 'proj_output_dim': 256, 'pred_hidden_dim': 4096, 'temperature': 0.2}, 'momentum': {'base_tau': 0.99, 'final_tau': 1.0, 'classifier': False}, 'data': {'dataset': 'imagenet100', 'train_path': '/itet-stor/zdavid/net_scratch/data/ILSVRC2012_img_train_100', 'val_path': '/itet-stor/zdavid/net_scratch/data/ILSVRC2012_img_val_100', 'format': 'dali', 'num_workers': 4, 'no_labels': False, 'fraction': -1, 'num_classes': 100, 'num_large_crops': 2, 'num_small_crops': 0}, 'optimizer': {'name': 'lars', 'batch_size': 128, 'lr': 0.3, 'classifier_lr': 0.3, 'weight_decay': 1e-06, 'kwargs': {'clip_lr': True, 'eta': 0.02, 'exclude_bias_n_norm': True, 'momentum': 0.9}, 'exclude_bias_n_norm_wd': False}, 'scheduler': {'name': 'warmup_cosine', 'lr_decay_steps': None, 'min_lr': 0.0, 'warmup_start_lr': 3e-05, 'warmup_epochs': 10, 'interval': 'step'}, 'checkpoint': {'enabled': True, 'dir': 'trained_models', 'frequency': 1, 'keep_prev': False}, 'auto_resume': {'enabled': True, 'max_hours': 36}, 'max_epochs': 400, 'devices': [0, 1], 'sync_batchnorm': True, 'accelerator': 'gpu', 'strategy': 'ddp', 'precision': 16, 'augmentations': [{'rrc': {'enabled': True, 'crop_min_scale': 0.08, 'crop_max_scale': 1.0}, 'color_jitter': {'prob': 0.8, 'brightness': 0.4, 'contrast': 0.4, 'saturation': 0.2, 'hue': 0.1}, 'grayscale': {'prob': 0.2}, 'gaussian_blur': {'prob': 1.0}, 'solarization': {'prob': 0.0}, 'equalization': {'prob': 0.0}, 'horizontal_flip': {'prob': 0.5}, 'crop_size': 224, 'num_crops': 1}, {'rrc': {'enabled': True, 'crop_min_scale': 0.08, 'crop_max_scale': 1.0}, 'color_jitter': {'prob': 0.8, 'brightness': 0.4, 'contrast': 0.4, 'saturation': 0.2, 'hue': 0.1}, 'grayscale': {'prob': 0.2}, 'gaussian_blur': {'prob': 0.1}, 'solarization': {'prob': 0.2}, 'equalization': {'prob': 0.0}, 'horizontal_flip': {'prob': 0.5}, 'crop_size': 224, 'num_crops': 1}], 'wandb': {'enabled': True, 'entity': None, 'project': 'solo-learn', 'offline': False}, 'dali': {'device': 'gpu', 'encode_indexes_into_labels': False}, 'auto_umap': {'enabled': False, 'dir': 'auto_umap', 'frequency': 1}, 'debug_augmentations': False, 'seed': 5, 'resume_from_checkpoint': None, 'num_nodes': 1, 'accumulate_grad_batches': 1, 'knn_eval': {'enabled': False, 'k': 20, 'distance_func': 'euclidean'}, 'performance': {'disable_channel_last': False}, 'wandb_run_id': '62kaptx2'}\n"
     ]
    },
    {
     "name": "stderr",
     "output_type": "stream",
     "text": [
      "WARNING:root:Using scheduler_interval=step might generate issues when resuming a checkpoint.\n"
     ]
    },
    {
     "name": "stdout",
     "output_type": "stream",
     "text": [
      "{'name': 'mocov3-imagenet100', 'method': 'mocov3', 'backbone': {'name': 'resnet18', 'kwargs': {}}, 'method_kwargs': {'proj_hidden_dim': 4096, 'proj_output_dim': 256, 'pred_hidden_dim': 4096, 'temperature': 0.2}, 'momentum': {'base_tau': 0.99, 'final_tau': 1.0, 'classifier': False}, 'data': {'dataset': 'imagenet100', 'train_path': '/itet-stor/zdavid/net_scratch/data/ILSVRC2012_img_train_100', 'val_path': '/itet-stor/zdavid/net_scratch/data/ILSVRC2012_img_val_100', 'format': 'dali', 'num_workers': 4, 'no_labels': False, 'fraction': -1, 'num_classes': 100, 'num_large_crops': 2, 'num_small_crops': 0}, 'optimizer': {'name': 'lars', 'batch_size': 128, 'lr': 0.3, 'classifier_lr': 0.3, 'weight_decay': 1e-06, 'kwargs': {'clip_lr': True, 'eta': 0.02, 'exclude_bias_n_norm': True, 'momentum': 0.9}, 'exclude_bias_n_norm_wd': False}, 'scheduler': {'name': 'warmup_cosine', 'lr_decay_steps': None, 'min_lr': 0.0, 'warmup_start_lr': 3e-05, 'warmup_epochs': 10, 'interval': 'step'}, 'checkpoint': {'enabled': True, 'dir': 'trained_models', 'frequency': 1, 'keep_prev': False}, 'auto_resume': {'enabled': True, 'max_hours': 36}, 'max_epochs': 400, 'devices': [0, 1], 'sync_batchnorm': True, 'accelerator': 'gpu', 'strategy': 'ddp', 'precision': 16, 'augmentations': [{'rrc': {'enabled': True, 'crop_min_scale': 0.08, 'crop_max_scale': 1.0}, 'color_jitter': {'prob': 0.8, 'brightness': 0.4, 'contrast': 0.4, 'saturation': 0.2, 'hue': 0.1}, 'grayscale': {'prob': 0.2}, 'gaussian_blur': {'prob': 1.0}, 'solarization': {'prob': 0.0}, 'equalization': {'prob': 0.0}, 'horizontal_flip': {'prob': 0.5}, 'crop_size': 224, 'num_crops': 1}, {'rrc': {'enabled': True, 'crop_min_scale': 0.08, 'crop_max_scale': 1.0}, 'color_jitter': {'prob': 0.8, 'brightness': 0.4, 'contrast': 0.4, 'saturation': 0.2, 'hue': 0.1}, 'grayscale': {'prob': 0.2}, 'gaussian_blur': {'prob': 0.1}, 'solarization': {'prob': 0.2}, 'equalization': {'prob': 0.0}, 'horizontal_flip': {'prob': 0.5}, 'crop_size': 224, 'num_crops': 1}], 'wandb': {'enabled': True, 'entity': None, 'project': 'solo-learn', 'offline': False}, 'dali': {'device': 'gpu', 'encode_indexes_into_labels': False}, 'auto_umap': {'enabled': False, 'dir': 'auto_umap', 'frequency': 1}, 'debug_augmentations': False, 'seed': 5, 'resume_from_checkpoint': None, 'num_nodes': 1, 'accumulate_grad_batches': 1, 'knn_eval': {'enabled': False, 'k': 20, 'distance_func': 'euclidean'}, 'performance': {'disable_channel_last': False}, 'wandb_run_id': '62kaptx2'}\n",
      "CFG:  mocov3-imagenet100 62kaptx2\n"
     ]
    },
    {
     "name": "stderr",
     "output_type": "stream",
     "text": [
      "Collecting features: 100%|██████████| 989/989 [01:16<00:00, 12.97it/s]\n",
      "Collecting features: 100%|██████████| 40/40 [00:03<00:00, 10.62it/s]\n",
      " 50%|█████     | 31/62 [46:21<49:49, 96.42s/it]"
     ]
    },
    {
     "name": "stdout",
     "output_type": "stream",
     "text": [
      "/hdd/backup_cluster_august_2023/Self-Supervised-Learning-with-Predictability-Minimization/Self-Supervised-Learning-with-Predictability-Minimization/trained_models/mocov3/d3e2qopt\n",
      "/hdd/backup_cluster_august_2023/Self-Supervised-Learning-with-Predictability-Minimization/Self-Supervised-Learning-with-Predictability-Minimization/trained_models/mocov3/d3e2qopt/mocov3-cifar10-d3e2qopt-ep=999.ckpt\n"
     ]
    },
    {
     "name": "stderr",
     "output_type": "stream",
     "text": [
      "/home/david/.local/share/virtualenvs/Self-Supervised-Learning-with-Predictabili-RPXJKYD0/lib/python3.10/site-packages/umap/distances.py:1063: NumbaDeprecationWarning: The 'nopython' keyword argument was not supplied to the 'numba.jit' decorator. The implicit default value for this argument is currently False, but it will be changed to True in Numba 0.59.0. See https://numba.readthedocs.io/en/stable/reference/deprecation.html#deprecation-of-object-mode-fall-back-behaviour-when-using-jit for details.\n",
      "  @numba.jit()\n",
      "/home/david/.local/share/virtualenvs/Self-Supervised-Learning-with-Predictabili-RPXJKYD0/lib/python3.10/site-packages/umap/distances.py:1071: NumbaDeprecationWarning: The 'nopython' keyword argument was not supplied to the 'numba.jit' decorator. The implicit default value for this argument is currently False, but it will be changed to True in Numba 0.59.0. See https://numba.readthedocs.io/en/stable/reference/deprecation.html#deprecation-of-object-mode-fall-back-behaviour-when-using-jit for details.\n",
      "  @numba.jit()\n",
      "/home/david/.local/share/virtualenvs/Self-Supervised-Learning-with-Predictabili-RPXJKYD0/lib/python3.10/site-packages/umap/distances.py:1086: NumbaDeprecationWarning: The 'nopython' keyword argument was not supplied to the 'numba.jit' decorator. The implicit default value for this argument is currently False, but it will be changed to True in Numba 0.59.0. See https://numba.readthedocs.io/en/stable/reference/deprecation.html#deprecation-of-object-mode-fall-back-behaviour-when-using-jit for details.\n",
      "  @numba.jit()\n",
      "/home/david/.local/share/virtualenvs/Self-Supervised-Learning-with-Predictabili-RPXJKYD0/lib/python3.10/site-packages/umap/umap_.py:660: NumbaDeprecationWarning: The 'nopython' keyword argument was not supplied to the 'numba.jit' decorator. The implicit default value for this argument is currently False, but it will be changed to True in Numba 0.59.0. See https://numba.readthedocs.io/en/stable/reference/deprecation.html#deprecation-of-object-mode-fall-back-behaviour-when-using-jit for details.\n",
      "  @numba.jit()\n"
     ]
    },
    {
     "name": "stdout",
     "output_type": "stream",
     "text": [
      "{'name': 'mocov3-cifar10', 'method': 'mocov3', 'backbone': {'name': 'resnet18', 'kwargs': {}}, 'method_kwargs': {'proj_hidden_dim': 4096, 'proj_output_dim': 256, 'pred_hidden_dim': 4096, 'temperature': 0.2}, 'momentum': {'base_tau': 0.99, 'final_tau': 1.0, 'classifier': False}, 'data': {'dataset': 'cifar10', 'train_path': './datasets', 'val_path': './datasets', 'format': 'image_folder', 'num_workers': 4, 'no_labels': False, 'fraction': -1, 'num_classes': 10, 'num_large_crops': 2, 'num_small_crops': 0}, 'optimizer': {'name': 'lars', 'batch_size': 256, 'lr': 0.3, 'classifier_lr': 0.3, 'weight_decay': 1e-06, 'kwargs': {'clip_lr': True, 'eta': 0.02, 'exclude_bias_n_norm': True, 'momentum': 0.9}, 'exclude_bias_n_norm_wd': False}, 'scheduler': {'name': 'warmup_cosine', 'lr_decay_steps': None, 'min_lr': 0.0, 'warmup_start_lr': 3e-05, 'warmup_epochs': 10, 'interval': 'step'}, 'checkpoint': {'enabled': True, 'dir': 'trained_models', 'frequency': 1, 'keep_prev': False}, 'auto_resume': {'enabled': True, 'max_hours': 36}, 'max_epochs': 1000, 'devices': [0], 'sync_batchnorm': True, 'accelerator': 'gpu', 'strategy': 'ddp', 'precision': 16, 'augmentations': [{'rrc': {'enabled': True, 'crop_min_scale': 0.08, 'crop_max_scale': 1.0}, 'color_jitter': {'prob': 0.8, 'brightness': 0.4, 'contrast': 0.4, 'saturation': 0.2, 'hue': 0.1}, 'grayscale': {'prob': 0.2}, 'gaussian_blur': {'prob': 0.0}, 'solarization': {'prob': 0.0}, 'equalization': {'prob': 0.0}, 'horizontal_flip': {'prob': 0.5}, 'crop_size': 32, 'num_crops': 1}, {'rrc': {'enabled': True, 'crop_min_scale': 0.08, 'crop_max_scale': 1.0}, 'color_jitter': {'prob': 0.8, 'brightness': 0.4, 'contrast': 0.4, 'saturation': 0.2, 'hue': 0.1}, 'grayscale': {'prob': 0.2}, 'gaussian_blur': {'prob': 0.0}, 'solarization': {'prob': 0.2}, 'equalization': {'prob': 0.0}, 'horizontal_flip': {'prob': 0.5}, 'crop_size': 32, 'num_crops': 1}], 'wandb': {'enabled': True, 'entity': None, 'project': 'solo-learn', 'offline': False}, 'dali': {'device': 'gpu', 'encode_indexes_into_labels': False}, 'auto_umap': {'enabled': False, 'dir': 'auto_umap', 'frequency': 1}, 'debug_augmentations': False, 'seed': 5, 'resume_from_checkpoint': None, 'num_nodes': 1, 'accumulate_grad_batches': 1, 'knn_eval': {'enabled': False, 'k': 20, 'distance_func': 'euclidean'}, 'performance': {'disable_channel_last': False}, 'wandb_run_id': 'd3e2qopt'}\n"
     ]
    },
    {
     "name": "stderr",
     "output_type": "stream",
     "text": [
      "WARNING:root:Using scheduler_interval=step might generate issues when resuming a checkpoint.\n"
     ]
    },
    {
     "name": "stdout",
     "output_type": "stream",
     "text": [
      "Files already downloaded and verified\n",
      "Files already downloaded and verified\n",
      "{'name': 'mocov3-cifar10', 'method': 'mocov3', 'backbone': {'name': 'resnet18', 'kwargs': {}}, 'method_kwargs': {'proj_hidden_dim': 4096, 'proj_output_dim': 256, 'pred_hidden_dim': 4096, 'temperature': 0.2}, 'momentum': {'base_tau': 0.99, 'final_tau': 1.0, 'classifier': False}, 'data': {'dataset': 'cifar10', 'train_path': './datasets', 'val_path': './datasets', 'format': 'image_folder', 'num_workers': 4, 'no_labels': False, 'fraction': -1, 'num_classes': 10, 'num_large_crops': 2, 'num_small_crops': 0}, 'optimizer': {'name': 'lars', 'batch_size': 256, 'lr': 0.3, 'classifier_lr': 0.3, 'weight_decay': 1e-06, 'kwargs': {'clip_lr': True, 'eta': 0.02, 'exclude_bias_n_norm': True, 'momentum': 0.9}, 'exclude_bias_n_norm_wd': False}, 'scheduler': {'name': 'warmup_cosine', 'lr_decay_steps': None, 'min_lr': 0.0, 'warmup_start_lr': 3e-05, 'warmup_epochs': 10, 'interval': 'step'}, 'checkpoint': {'enabled': True, 'dir': 'trained_models', 'frequency': 1, 'keep_prev': False}, 'auto_resume': {'enabled': True, 'max_hours': 36}, 'max_epochs': 1000, 'devices': [0], 'sync_batchnorm': True, 'accelerator': 'gpu', 'strategy': 'ddp', 'precision': 16, 'augmentations': [{'rrc': {'enabled': True, 'crop_min_scale': 0.08, 'crop_max_scale': 1.0}, 'color_jitter': {'prob': 0.8, 'brightness': 0.4, 'contrast': 0.4, 'saturation': 0.2, 'hue': 0.1}, 'grayscale': {'prob': 0.2}, 'gaussian_blur': {'prob': 0.0}, 'solarization': {'prob': 0.0}, 'equalization': {'prob': 0.0}, 'horizontal_flip': {'prob': 0.5}, 'crop_size': 32, 'num_crops': 1}, {'rrc': {'enabled': True, 'crop_min_scale': 0.08, 'crop_max_scale': 1.0}, 'color_jitter': {'prob': 0.8, 'brightness': 0.4, 'contrast': 0.4, 'saturation': 0.2, 'hue': 0.1}, 'grayscale': {'prob': 0.2}, 'gaussian_blur': {'prob': 0.0}, 'solarization': {'prob': 0.2}, 'equalization': {'prob': 0.0}, 'horizontal_flip': {'prob': 0.5}, 'crop_size': 32, 'num_crops': 1}], 'wandb': {'enabled': True, 'entity': None, 'project': 'solo-learn', 'offline': False}, 'dali': {'device': 'gpu', 'encode_indexes_into_labels': False}, 'auto_umap': {'enabled': False, 'dir': 'auto_umap', 'frequency': 1}, 'debug_augmentations': False, 'seed': 5, 'resume_from_checkpoint': None, 'num_nodes': 1, 'accumulate_grad_batches': 1, 'knn_eval': {'enabled': False, 'k': 20, 'distance_func': 'euclidean'}, 'performance': {'disable_channel_last': False}, 'wandb_run_id': 'd3e2qopt'}\n",
      "CFG:  mocov3-cifar10 d3e2qopt\n"
     ]
    },
    {
     "name": "stderr",
     "output_type": "stream",
     "text": [
      "Collecting features: 100%|██████████| 390/390 [00:05<00:00, 73.24it/s]\n",
      "Collecting features: 100%|██████████| 79/79 [00:01<00:00, 65.05it/s]\n",
      " 52%|█████▏    | 32/62 [46:46<37:34, 75.16s/it]"
     ]
    },
    {
     "name": "stdout",
     "output_type": "stream",
     "text": [
      "/hdd/backup_cluster_august_2023/Self-Supervised-Learning-with-Predictability-Minimization/Self-Supervised-Learning-with-Predictability-Minimization/trained_models/mocov3/f2sw89sq\n",
      "/hdd/backup_cluster_august_2023/Self-Supervised-Learning-with-Predictability-Minimization/Self-Supervised-Learning-with-Predictability-Minimization/trained_models/mocov3/f2sw89sq/mocov3-cifar100-f2sw89sq-ep=999.ckpt\n"
     ]
    },
    {
     "name": "stderr",
     "output_type": "stream",
     "text": [
      "/home/david/.local/share/virtualenvs/Self-Supervised-Learning-with-Predictabili-RPXJKYD0/lib/python3.10/site-packages/umap/distances.py:1063: NumbaDeprecationWarning: The 'nopython' keyword argument was not supplied to the 'numba.jit' decorator. The implicit default value for this argument is currently False, but it will be changed to True in Numba 0.59.0. See https://numba.readthedocs.io/en/stable/reference/deprecation.html#deprecation-of-object-mode-fall-back-behaviour-when-using-jit for details.\n",
      "  @numba.jit()\n",
      "/home/david/.local/share/virtualenvs/Self-Supervised-Learning-with-Predictabili-RPXJKYD0/lib/python3.10/site-packages/umap/distances.py:1071: NumbaDeprecationWarning: The 'nopython' keyword argument was not supplied to the 'numba.jit' decorator. The implicit default value for this argument is currently False, but it will be changed to True in Numba 0.59.0. See https://numba.readthedocs.io/en/stable/reference/deprecation.html#deprecation-of-object-mode-fall-back-behaviour-when-using-jit for details.\n",
      "  @numba.jit()\n",
      "/home/david/.local/share/virtualenvs/Self-Supervised-Learning-with-Predictabili-RPXJKYD0/lib/python3.10/site-packages/umap/distances.py:1086: NumbaDeprecationWarning: The 'nopython' keyword argument was not supplied to the 'numba.jit' decorator. The implicit default value for this argument is currently False, but it will be changed to True in Numba 0.59.0. See https://numba.readthedocs.io/en/stable/reference/deprecation.html#deprecation-of-object-mode-fall-back-behaviour-when-using-jit for details.\n",
      "  @numba.jit()\n",
      "/home/david/.local/share/virtualenvs/Self-Supervised-Learning-with-Predictabili-RPXJKYD0/lib/python3.10/site-packages/umap/umap_.py:660: NumbaDeprecationWarning: The 'nopython' keyword argument was not supplied to the 'numba.jit' decorator. The implicit default value for this argument is currently False, but it will be changed to True in Numba 0.59.0. See https://numba.readthedocs.io/en/stable/reference/deprecation.html#deprecation-of-object-mode-fall-back-behaviour-when-using-jit for details.\n",
      "  @numba.jit()\n"
     ]
    },
    {
     "name": "stdout",
     "output_type": "stream",
     "text": [
      "{'name': 'mocov3-cifar100', 'method': 'mocov3', 'backbone': {'name': 'resnet18', 'kwargs': {}}, 'method_kwargs': {'proj_hidden_dim': 4096, 'proj_output_dim': 256, 'pred_hidden_dim': 4096, 'temperature': 0.2}, 'momentum': {'base_tau': 0.99, 'final_tau': 1.0, 'classifier': False}, 'data': {'dataset': 'cifar100', 'train_path': './datasets', 'val_path': './datasets', 'format': 'image_folder', 'num_workers': 4, 'no_labels': False, 'fraction': -1, 'num_classes': 100, 'num_large_crops': 2, 'num_small_crops': 0}, 'optimizer': {'name': 'lars', 'batch_size': 256, 'lr': 0.3, 'classifier_lr': 0.3, 'weight_decay': 1e-06, 'kwargs': {'clip_lr': True, 'eta': 0.02, 'exclude_bias_n_norm': True, 'momentum': 0.9}, 'exclude_bias_n_norm_wd': False}, 'scheduler': {'name': 'warmup_cosine', 'lr_decay_steps': None, 'min_lr': 0.0, 'warmup_start_lr': 3e-05, 'warmup_epochs': 10, 'interval': 'step'}, 'checkpoint': {'enabled': True, 'dir': 'trained_models', 'frequency': 1, 'keep_prev': False}, 'auto_resume': {'enabled': True, 'max_hours': 36}, 'max_epochs': 1000, 'devices': [0], 'sync_batchnorm': True, 'accelerator': 'gpu', 'strategy': 'ddp', 'precision': 16, 'augmentations': [{'rrc': {'enabled': True, 'crop_min_scale': 0.08, 'crop_max_scale': 1.0}, 'color_jitter': {'prob': 0.8, 'brightness': 0.4, 'contrast': 0.4, 'saturation': 0.2, 'hue': 0.1}, 'grayscale': {'prob': 0.2}, 'gaussian_blur': {'prob': 0.0}, 'solarization': {'prob': 0.0}, 'equalization': {'prob': 0.0}, 'horizontal_flip': {'prob': 0.5}, 'crop_size': 32, 'num_crops': 1}, {'rrc': {'enabled': True, 'crop_min_scale': 0.08, 'crop_max_scale': 1.0}, 'color_jitter': {'prob': 0.8, 'brightness': 0.4, 'contrast': 0.4, 'saturation': 0.2, 'hue': 0.1}, 'grayscale': {'prob': 0.2}, 'gaussian_blur': {'prob': 0.0}, 'solarization': {'prob': 0.2}, 'equalization': {'prob': 0.0}, 'horizontal_flip': {'prob': 0.5}, 'crop_size': 32, 'num_crops': 1}], 'wandb': {'enabled': True, 'entity': None, 'project': 'solo-learn', 'offline': False}, 'dali': {'device': 'gpu', 'encode_indexes_into_labels': False}, 'auto_umap': {'enabled': False, 'dir': 'auto_umap', 'frequency': 1}, 'debug_augmentations': False, 'seed': 5, 'resume_from_checkpoint': None, 'num_nodes': 1, 'accumulate_grad_batches': 1, 'knn_eval': {'enabled': False, 'k': 20, 'distance_func': 'euclidean'}, 'performance': {'disable_channel_last': False}, 'wandb_run_id': 'f2sw89sq'}\n"
     ]
    },
    {
     "name": "stderr",
     "output_type": "stream",
     "text": [
      "WARNING:root:Using scheduler_interval=step might generate issues when resuming a checkpoint.\n"
     ]
    },
    {
     "name": "stdout",
     "output_type": "stream",
     "text": [
      "Files already downloaded and verified\n",
      "Files already downloaded and verified\n",
      "{'name': 'mocov3-cifar100', 'method': 'mocov3', 'backbone': {'name': 'resnet18', 'kwargs': {}}, 'method_kwargs': {'proj_hidden_dim': 4096, 'proj_output_dim': 256, 'pred_hidden_dim': 4096, 'temperature': 0.2}, 'momentum': {'base_tau': 0.99, 'final_tau': 1.0, 'classifier': False}, 'data': {'dataset': 'cifar100', 'train_path': './datasets', 'val_path': './datasets', 'format': 'image_folder', 'num_workers': 4, 'no_labels': False, 'fraction': -1, 'num_classes': 100, 'num_large_crops': 2, 'num_small_crops': 0}, 'optimizer': {'name': 'lars', 'batch_size': 256, 'lr': 0.3, 'classifier_lr': 0.3, 'weight_decay': 1e-06, 'kwargs': {'clip_lr': True, 'eta': 0.02, 'exclude_bias_n_norm': True, 'momentum': 0.9}, 'exclude_bias_n_norm_wd': False}, 'scheduler': {'name': 'warmup_cosine', 'lr_decay_steps': None, 'min_lr': 0.0, 'warmup_start_lr': 3e-05, 'warmup_epochs': 10, 'interval': 'step'}, 'checkpoint': {'enabled': True, 'dir': 'trained_models', 'frequency': 1, 'keep_prev': False}, 'auto_resume': {'enabled': True, 'max_hours': 36}, 'max_epochs': 1000, 'devices': [0], 'sync_batchnorm': True, 'accelerator': 'gpu', 'strategy': 'ddp', 'precision': 16, 'augmentations': [{'rrc': {'enabled': True, 'crop_min_scale': 0.08, 'crop_max_scale': 1.0}, 'color_jitter': {'prob': 0.8, 'brightness': 0.4, 'contrast': 0.4, 'saturation': 0.2, 'hue': 0.1}, 'grayscale': {'prob': 0.2}, 'gaussian_blur': {'prob': 0.0}, 'solarization': {'prob': 0.0}, 'equalization': {'prob': 0.0}, 'horizontal_flip': {'prob': 0.5}, 'crop_size': 32, 'num_crops': 1}, {'rrc': {'enabled': True, 'crop_min_scale': 0.08, 'crop_max_scale': 1.0}, 'color_jitter': {'prob': 0.8, 'brightness': 0.4, 'contrast': 0.4, 'saturation': 0.2, 'hue': 0.1}, 'grayscale': {'prob': 0.2}, 'gaussian_blur': {'prob': 0.0}, 'solarization': {'prob': 0.2}, 'equalization': {'prob': 0.0}, 'horizontal_flip': {'prob': 0.5}, 'crop_size': 32, 'num_crops': 1}], 'wandb': {'enabled': True, 'entity': None, 'project': 'solo-learn', 'offline': False}, 'dali': {'device': 'gpu', 'encode_indexes_into_labels': False}, 'auto_umap': {'enabled': False, 'dir': 'auto_umap', 'frequency': 1}, 'debug_augmentations': False, 'seed': 5, 'resume_from_checkpoint': None, 'num_nodes': 1, 'accumulate_grad_batches': 1, 'knn_eval': {'enabled': False, 'k': 20, 'distance_func': 'euclidean'}, 'performance': {'disable_channel_last': False}, 'wandb_run_id': 'f2sw89sq'}\n",
      "CFG:  mocov3-cifar100 f2sw89sq\n"
     ]
    },
    {
     "name": "stderr",
     "output_type": "stream",
     "text": [
      "Collecting features: 100%|██████████| 390/390 [00:05<00:00, 73.81it/s]\n",
      "Collecting features: 100%|██████████| 79/79 [00:01<00:00, 67.51it/s]\n",
      " 53%|█████▎    | 33/62 [47:12<29:08, 60.29s/it]"
     ]
    },
    {
     "name": "stdout",
     "output_type": "stream",
     "text": [
      "/hdd/backup_cluster_august_2023/Self-Supervised-Learning-with-Predictability-Minimization/Self-Supervised-Learning-with-Predictability-Minimization/trained_models/mocov3/1vnlapw9\n",
      "/hdd/backup_cluster_august_2023/Self-Supervised-Learning-with-Predictability-Minimization/Self-Supervised-Learning-with-Predictability-Minimization/trained_models/mocov3/1vnlapw9/mocov3-imagenet100-1vnlapw9-ep=399.ckpt\n"
     ]
    },
    {
     "name": "stderr",
     "output_type": "stream",
     "text": [
      "/home/david/.local/share/virtualenvs/Self-Supervised-Learning-with-Predictabili-RPXJKYD0/lib/python3.10/site-packages/umap/distances.py:1063: NumbaDeprecationWarning: The 'nopython' keyword argument was not supplied to the 'numba.jit' decorator. The implicit default value for this argument is currently False, but it will be changed to True in Numba 0.59.0. See https://numba.readthedocs.io/en/stable/reference/deprecation.html#deprecation-of-object-mode-fall-back-behaviour-when-using-jit for details.\n",
      "  @numba.jit()\n",
      "/home/david/.local/share/virtualenvs/Self-Supervised-Learning-with-Predictabili-RPXJKYD0/lib/python3.10/site-packages/umap/distances.py:1071: NumbaDeprecationWarning: The 'nopython' keyword argument was not supplied to the 'numba.jit' decorator. The implicit default value for this argument is currently False, but it will be changed to True in Numba 0.59.0. See https://numba.readthedocs.io/en/stable/reference/deprecation.html#deprecation-of-object-mode-fall-back-behaviour-when-using-jit for details.\n",
      "  @numba.jit()\n",
      "/home/david/.local/share/virtualenvs/Self-Supervised-Learning-with-Predictabili-RPXJKYD0/lib/python3.10/site-packages/umap/distances.py:1086: NumbaDeprecationWarning: The 'nopython' keyword argument was not supplied to the 'numba.jit' decorator. The implicit default value for this argument is currently False, but it will be changed to True in Numba 0.59.0. See https://numba.readthedocs.io/en/stable/reference/deprecation.html#deprecation-of-object-mode-fall-back-behaviour-when-using-jit for details.\n",
      "  @numba.jit()\n",
      "/home/david/.local/share/virtualenvs/Self-Supervised-Learning-with-Predictabili-RPXJKYD0/lib/python3.10/site-packages/umap/umap_.py:660: NumbaDeprecationWarning: The 'nopython' keyword argument was not supplied to the 'numba.jit' decorator. The implicit default value for this argument is currently False, but it will be changed to True in Numba 0.59.0. See https://numba.readthedocs.io/en/stable/reference/deprecation.html#deprecation-of-object-mode-fall-back-behaviour-when-using-jit for details.\n",
      "  @numba.jit()\n"
     ]
    },
    {
     "name": "stdout",
     "output_type": "stream",
     "text": [
      "{'name': 'mocov3-imagenet100', 'method': 'mocov3', 'backbone': {'name': 'resnet18', 'kwargs': {}}, 'method_kwargs': {'proj_hidden_dim': 4096, 'proj_output_dim': 256, 'pred_hidden_dim': 4096, 'temperature': 0.2}, 'momentum': {'base_tau': 0.99, 'final_tau': 1.0, 'classifier': False}, 'data': {'dataset': 'imagenet100', 'train_path': '/itet-stor/zdavid/net_scratch/data/ILSVRC2012_img_train_100', 'val_path': '/itet-stor/zdavid/net_scratch/data/ILSVRC2012_img_val_100', 'format': 'dali', 'num_workers': 4, 'no_labels': False, 'fraction': -1, 'num_classes': 100, 'num_large_crops': 2, 'num_small_crops': 0}, 'optimizer': {'name': 'lars', 'batch_size': 128, 'lr': 0.3, 'classifier_lr': 0.3, 'weight_decay': 1e-06, 'kwargs': {'clip_lr': True, 'eta': 0.02, 'exclude_bias_n_norm': True, 'momentum': 0.9}, 'exclude_bias_n_norm_wd': False}, 'scheduler': {'name': 'warmup_cosine', 'lr_decay_steps': None, 'min_lr': 0.0, 'warmup_start_lr': 3e-05, 'warmup_epochs': 10, 'interval': 'step'}, 'checkpoint': {'enabled': True, 'dir': 'trained_models', 'frequency': 1, 'keep_prev': False}, 'auto_resume': {'enabled': True, 'max_hours': 36}, 'max_epochs': 400, 'devices': [0, 1], 'sync_batchnorm': True, 'accelerator': 'gpu', 'strategy': 'ddp', 'precision': 16, 'augmentations': [{'rrc': {'enabled': True, 'crop_min_scale': 0.08, 'crop_max_scale': 1.0}, 'color_jitter': {'prob': 0.8, 'brightness': 0.4, 'contrast': 0.4, 'saturation': 0.2, 'hue': 0.1}, 'grayscale': {'prob': 0.2}, 'gaussian_blur': {'prob': 1.0}, 'solarization': {'prob': 0.0}, 'equalization': {'prob': 0.0}, 'horizontal_flip': {'prob': 0.5}, 'crop_size': 224, 'num_crops': 1}, {'rrc': {'enabled': True, 'crop_min_scale': 0.08, 'crop_max_scale': 1.0}, 'color_jitter': {'prob': 0.8, 'brightness': 0.4, 'contrast': 0.4, 'saturation': 0.2, 'hue': 0.1}, 'grayscale': {'prob': 0.2}, 'gaussian_blur': {'prob': 0.1}, 'solarization': {'prob': 0.2}, 'equalization': {'prob': 0.0}, 'horizontal_flip': {'prob': 0.5}, 'crop_size': 224, 'num_crops': 1}], 'wandb': {'enabled': True, 'entity': None, 'project': 'solo-learn', 'offline': False}, 'dali': {'device': 'gpu', 'encode_indexes_into_labels': False}, 'auto_umap': {'enabled': False, 'dir': 'auto_umap', 'frequency': 1}, 'debug_augmentations': False, 'seed': 5, 'resume_from_checkpoint': None, 'num_nodes': 1, 'accumulate_grad_batches': 1, 'knn_eval': {'enabled': False, 'k': 20, 'distance_func': 'euclidean'}, 'performance': {'disable_channel_last': False}, 'wandb_run_id': '1vnlapw9'}\n"
     ]
    },
    {
     "name": "stderr",
     "output_type": "stream",
     "text": [
      "WARNING:root:Using scheduler_interval=step might generate issues when resuming a checkpoint.\n"
     ]
    },
    {
     "name": "stdout",
     "output_type": "stream",
     "text": [
      "{'name': 'mocov3-imagenet100', 'method': 'mocov3', 'backbone': {'name': 'resnet18', 'kwargs': {}}, 'method_kwargs': {'proj_hidden_dim': 4096, 'proj_output_dim': 256, 'pred_hidden_dim': 4096, 'temperature': 0.2}, 'momentum': {'base_tau': 0.99, 'final_tau': 1.0, 'classifier': False}, 'data': {'dataset': 'imagenet100', 'train_path': '/itet-stor/zdavid/net_scratch/data/ILSVRC2012_img_train_100', 'val_path': '/itet-stor/zdavid/net_scratch/data/ILSVRC2012_img_val_100', 'format': 'dali', 'num_workers': 4, 'no_labels': False, 'fraction': -1, 'num_classes': 100, 'num_large_crops': 2, 'num_small_crops': 0}, 'optimizer': {'name': 'lars', 'batch_size': 128, 'lr': 0.3, 'classifier_lr': 0.3, 'weight_decay': 1e-06, 'kwargs': {'clip_lr': True, 'eta': 0.02, 'exclude_bias_n_norm': True, 'momentum': 0.9}, 'exclude_bias_n_norm_wd': False}, 'scheduler': {'name': 'warmup_cosine', 'lr_decay_steps': None, 'min_lr': 0.0, 'warmup_start_lr': 3e-05, 'warmup_epochs': 10, 'interval': 'step'}, 'checkpoint': {'enabled': True, 'dir': 'trained_models', 'frequency': 1, 'keep_prev': False}, 'auto_resume': {'enabled': True, 'max_hours': 36}, 'max_epochs': 400, 'devices': [0, 1], 'sync_batchnorm': True, 'accelerator': 'gpu', 'strategy': 'ddp', 'precision': 16, 'augmentations': [{'rrc': {'enabled': True, 'crop_min_scale': 0.08, 'crop_max_scale': 1.0}, 'color_jitter': {'prob': 0.8, 'brightness': 0.4, 'contrast': 0.4, 'saturation': 0.2, 'hue': 0.1}, 'grayscale': {'prob': 0.2}, 'gaussian_blur': {'prob': 1.0}, 'solarization': {'prob': 0.0}, 'equalization': {'prob': 0.0}, 'horizontal_flip': {'prob': 0.5}, 'crop_size': 224, 'num_crops': 1}, {'rrc': {'enabled': True, 'crop_min_scale': 0.08, 'crop_max_scale': 1.0}, 'color_jitter': {'prob': 0.8, 'brightness': 0.4, 'contrast': 0.4, 'saturation': 0.2, 'hue': 0.1}, 'grayscale': {'prob': 0.2}, 'gaussian_blur': {'prob': 0.1}, 'solarization': {'prob': 0.2}, 'equalization': {'prob': 0.0}, 'horizontal_flip': {'prob': 0.5}, 'crop_size': 224, 'num_crops': 1}], 'wandb': {'enabled': True, 'entity': None, 'project': 'solo-learn', 'offline': False}, 'dali': {'device': 'gpu', 'encode_indexes_into_labels': False}, 'auto_umap': {'enabled': False, 'dir': 'auto_umap', 'frequency': 1}, 'debug_augmentations': False, 'seed': 5, 'resume_from_checkpoint': None, 'num_nodes': 1, 'accumulate_grad_batches': 1, 'knn_eval': {'enabled': False, 'k': 20, 'distance_func': 'euclidean'}, 'performance': {'disable_channel_last': False}, 'wandb_run_id': '1vnlapw9'}\n",
      "CFG:  mocov3-imagenet100 1vnlapw9\n"
     ]
    },
    {
     "name": "stderr",
     "output_type": "stream",
     "text": [
      "Collecting features: 100%|██████████| 989/989 [01:14<00:00, 13.23it/s]\n",
      "Collecting features: 100%|██████████| 40/40 [00:03<00:00, 10.88it/s]\n",
      " 55%|█████▍    | 34/62 [49:03<35:14, 75.50s/it]"
     ]
    },
    {
     "name": "stdout",
     "output_type": "stream",
     "text": [
      "/hdd/backup_cluster_august_2023/Self-Supervised-Learning-with-Predictability-Minimization/Self-Supervised-Learning-with-Predictability-Minimization/trained_models/mocov3/6ctmjq2e\n",
      "/hdd/backup_cluster_august_2023/Self-Supervised-Learning-with-Predictability-Minimization/Self-Supervised-Learning-with-Predictability-Minimization/trained_models/mocov3/6ctmjq2e/mocov3-cifar100-6ctmjq2e-ep=999.ckpt\n"
     ]
    },
    {
     "name": "stderr",
     "output_type": "stream",
     "text": [
      "/home/david/.local/share/virtualenvs/Self-Supervised-Learning-with-Predictabili-RPXJKYD0/lib/python3.10/site-packages/umap/distances.py:1063: NumbaDeprecationWarning: The 'nopython' keyword argument was not supplied to the 'numba.jit' decorator. The implicit default value for this argument is currently False, but it will be changed to True in Numba 0.59.0. See https://numba.readthedocs.io/en/stable/reference/deprecation.html#deprecation-of-object-mode-fall-back-behaviour-when-using-jit for details.\n",
      "  @numba.jit()\n",
      "/home/david/.local/share/virtualenvs/Self-Supervised-Learning-with-Predictabili-RPXJKYD0/lib/python3.10/site-packages/umap/distances.py:1071: NumbaDeprecationWarning: The 'nopython' keyword argument was not supplied to the 'numba.jit' decorator. The implicit default value for this argument is currently False, but it will be changed to True in Numba 0.59.0. See https://numba.readthedocs.io/en/stable/reference/deprecation.html#deprecation-of-object-mode-fall-back-behaviour-when-using-jit for details.\n",
      "  @numba.jit()\n",
      "/home/david/.local/share/virtualenvs/Self-Supervised-Learning-with-Predictabili-RPXJKYD0/lib/python3.10/site-packages/umap/distances.py:1086: NumbaDeprecationWarning: The 'nopython' keyword argument was not supplied to the 'numba.jit' decorator. The implicit default value for this argument is currently False, but it will be changed to True in Numba 0.59.0. See https://numba.readthedocs.io/en/stable/reference/deprecation.html#deprecation-of-object-mode-fall-back-behaviour-when-using-jit for details.\n",
      "  @numba.jit()\n",
      "/home/david/.local/share/virtualenvs/Self-Supervised-Learning-with-Predictabili-RPXJKYD0/lib/python3.10/site-packages/umap/umap_.py:660: NumbaDeprecationWarning: The 'nopython' keyword argument was not supplied to the 'numba.jit' decorator. The implicit default value for this argument is currently False, but it will be changed to True in Numba 0.59.0. See https://numba.readthedocs.io/en/stable/reference/deprecation.html#deprecation-of-object-mode-fall-back-behaviour-when-using-jit for details.\n",
      "  @numba.jit()\n"
     ]
    },
    {
     "name": "stdout",
     "output_type": "stream",
     "text": [
      "{'name': 'mocov3-cifar100', 'method': 'mocov3', 'backbone': {'name': 'resnet18', 'kwargs': {}}, 'method_kwargs': {'proj_hidden_dim': 4096, 'proj_output_dim': 256, 'pred_hidden_dim': 4096, 'temperature': 0.2}, 'momentum': {'base_tau': 0.99, 'final_tau': 1.0, 'classifier': False}, 'data': {'dataset': 'cifar100', 'train_path': './datasets', 'val_path': './datasets', 'format': 'image_folder', 'num_workers': 4, 'no_labels': False, 'fraction': -1, 'num_classes': 100, 'num_large_crops': 2, 'num_small_crops': 0}, 'optimizer': {'name': 'lars', 'batch_size': 256, 'lr': 0.3, 'classifier_lr': 0.3, 'weight_decay': 1e-06, 'kwargs': {'clip_lr': True, 'eta': 0.02, 'exclude_bias_n_norm': True, 'momentum': 0.9}, 'exclude_bias_n_norm_wd': False}, 'scheduler': {'name': 'warmup_cosine', 'lr_decay_steps': None, 'min_lr': 0.0, 'warmup_start_lr': 3e-05, 'warmup_epochs': 10, 'interval': 'step'}, 'checkpoint': {'enabled': True, 'dir': 'trained_models', 'frequency': 1, 'keep_prev': False}, 'auto_resume': {'enabled': True, 'max_hours': 36}, 'max_epochs': 1000, 'devices': [0], 'sync_batchnorm': True, 'accelerator': 'gpu', 'strategy': 'ddp', 'precision': 16, 'augmentations': [{'rrc': {'enabled': True, 'crop_min_scale': 0.08, 'crop_max_scale': 1.0}, 'color_jitter': {'prob': 0.8, 'brightness': 0.4, 'contrast': 0.4, 'saturation': 0.2, 'hue': 0.1}, 'grayscale': {'prob': 0.2}, 'gaussian_blur': {'prob': 0.0}, 'solarization': {'prob': 0.0}, 'equalization': {'prob': 0.0}, 'horizontal_flip': {'prob': 0.5}, 'crop_size': 32, 'num_crops': 1}, {'rrc': {'enabled': True, 'crop_min_scale': 0.08, 'crop_max_scale': 1.0}, 'color_jitter': {'prob': 0.8, 'brightness': 0.4, 'contrast': 0.4, 'saturation': 0.2, 'hue': 0.1}, 'grayscale': {'prob': 0.2}, 'gaussian_blur': {'prob': 0.0}, 'solarization': {'prob': 0.2}, 'equalization': {'prob': 0.0}, 'horizontal_flip': {'prob': 0.5}, 'crop_size': 32, 'num_crops': 1}], 'wandb': {'enabled': True, 'entity': None, 'project': 'solo-learn', 'offline': False}, 'dali': {'device': 'gpu', 'encode_indexes_into_labels': False}, 'auto_umap': {'enabled': False, 'dir': 'auto_umap', 'frequency': 1}, 'debug_augmentations': False, 'seed': 5, 'resume_from_checkpoint': None, 'num_nodes': 1, 'accumulate_grad_batches': 1, 'knn_eval': {'enabled': False, 'k': 20, 'distance_func': 'euclidean'}, 'performance': {'disable_channel_last': False}, 'wandb_run_id': '6ctmjq2e'}\n"
     ]
    },
    {
     "name": "stderr",
     "output_type": "stream",
     "text": [
      "WARNING:root:Using scheduler_interval=step might generate issues when resuming a checkpoint.\n"
     ]
    },
    {
     "name": "stdout",
     "output_type": "stream",
     "text": [
      "Files already downloaded and verified\n",
      "Files already downloaded and verified\n",
      "{'name': 'mocov3-cifar100', 'method': 'mocov3', 'backbone': {'name': 'resnet18', 'kwargs': {}}, 'method_kwargs': {'proj_hidden_dim': 4096, 'proj_output_dim': 256, 'pred_hidden_dim': 4096, 'temperature': 0.2}, 'momentum': {'base_tau': 0.99, 'final_tau': 1.0, 'classifier': False}, 'data': {'dataset': 'cifar100', 'train_path': './datasets', 'val_path': './datasets', 'format': 'image_folder', 'num_workers': 4, 'no_labels': False, 'fraction': -1, 'num_classes': 100, 'num_large_crops': 2, 'num_small_crops': 0}, 'optimizer': {'name': 'lars', 'batch_size': 256, 'lr': 0.3, 'classifier_lr': 0.3, 'weight_decay': 1e-06, 'kwargs': {'clip_lr': True, 'eta': 0.02, 'exclude_bias_n_norm': True, 'momentum': 0.9}, 'exclude_bias_n_norm_wd': False}, 'scheduler': {'name': 'warmup_cosine', 'lr_decay_steps': None, 'min_lr': 0.0, 'warmup_start_lr': 3e-05, 'warmup_epochs': 10, 'interval': 'step'}, 'checkpoint': {'enabled': True, 'dir': 'trained_models', 'frequency': 1, 'keep_prev': False}, 'auto_resume': {'enabled': True, 'max_hours': 36}, 'max_epochs': 1000, 'devices': [0], 'sync_batchnorm': True, 'accelerator': 'gpu', 'strategy': 'ddp', 'precision': 16, 'augmentations': [{'rrc': {'enabled': True, 'crop_min_scale': 0.08, 'crop_max_scale': 1.0}, 'color_jitter': {'prob': 0.8, 'brightness': 0.4, 'contrast': 0.4, 'saturation': 0.2, 'hue': 0.1}, 'grayscale': {'prob': 0.2}, 'gaussian_blur': {'prob': 0.0}, 'solarization': {'prob': 0.0}, 'equalization': {'prob': 0.0}, 'horizontal_flip': {'prob': 0.5}, 'crop_size': 32, 'num_crops': 1}, {'rrc': {'enabled': True, 'crop_min_scale': 0.08, 'crop_max_scale': 1.0}, 'color_jitter': {'prob': 0.8, 'brightness': 0.4, 'contrast': 0.4, 'saturation': 0.2, 'hue': 0.1}, 'grayscale': {'prob': 0.2}, 'gaussian_blur': {'prob': 0.0}, 'solarization': {'prob': 0.2}, 'equalization': {'prob': 0.0}, 'horizontal_flip': {'prob': 0.5}, 'crop_size': 32, 'num_crops': 1}], 'wandb': {'enabled': True, 'entity': None, 'project': 'solo-learn', 'offline': False}, 'dali': {'device': 'gpu', 'encode_indexes_into_labels': False}, 'auto_umap': {'enabled': False, 'dir': 'auto_umap', 'frequency': 1}, 'debug_augmentations': False, 'seed': 5, 'resume_from_checkpoint': None, 'num_nodes': 1, 'accumulate_grad_batches': 1, 'knn_eval': {'enabled': False, 'k': 20, 'distance_func': 'euclidean'}, 'performance': {'disable_channel_last': False}, 'wandb_run_id': '6ctmjq2e'}\n",
      "CFG:  mocov3-cifar100 6ctmjq2e\n"
     ]
    },
    {
     "name": "stderr",
     "output_type": "stream",
     "text": [
      "Collecting features: 100%|██████████| 390/390 [00:05<00:00, 73.51it/s]\n",
      "Collecting features: 100%|██████████| 79/79 [00:01<00:00, 64.82it/s]\n",
      " 56%|█████▋    | 35/62 [49:29<27:21, 60.79s/it]"
     ]
    },
    {
     "name": "stdout",
     "output_type": "stream",
     "text": [
      "/hdd/backup_cluster_august_2023/Self-Supervised-Learning-with-Predictability-Minimization/Self-Supervised-Learning-with-Predictability-Minimization/trained_models/mocov3/onqz6ldk\n",
      "/hdd/backup_cluster_august_2023/Self-Supervised-Learning-with-Predictability-Minimization/Self-Supervised-Learning-with-Predictability-Minimization/trained_models/mocov3/onqz6ldk/mocov3-cifar10-onqz6ldk-ep=999.ckpt\n"
     ]
    },
    {
     "name": "stderr",
     "output_type": "stream",
     "text": [
      "/home/david/.local/share/virtualenvs/Self-Supervised-Learning-with-Predictabili-RPXJKYD0/lib/python3.10/site-packages/umap/distances.py:1063: NumbaDeprecationWarning: The 'nopython' keyword argument was not supplied to the 'numba.jit' decorator. The implicit default value for this argument is currently False, but it will be changed to True in Numba 0.59.0. See https://numba.readthedocs.io/en/stable/reference/deprecation.html#deprecation-of-object-mode-fall-back-behaviour-when-using-jit for details.\n",
      "  @numba.jit()\n",
      "/home/david/.local/share/virtualenvs/Self-Supervised-Learning-with-Predictabili-RPXJKYD0/lib/python3.10/site-packages/umap/distances.py:1071: NumbaDeprecationWarning: The 'nopython' keyword argument was not supplied to the 'numba.jit' decorator. The implicit default value for this argument is currently False, but it will be changed to True in Numba 0.59.0. See https://numba.readthedocs.io/en/stable/reference/deprecation.html#deprecation-of-object-mode-fall-back-behaviour-when-using-jit for details.\n",
      "  @numba.jit()\n",
      "/home/david/.local/share/virtualenvs/Self-Supervised-Learning-with-Predictabili-RPXJKYD0/lib/python3.10/site-packages/umap/distances.py:1086: NumbaDeprecationWarning: The 'nopython' keyword argument was not supplied to the 'numba.jit' decorator. The implicit default value for this argument is currently False, but it will be changed to True in Numba 0.59.0. See https://numba.readthedocs.io/en/stable/reference/deprecation.html#deprecation-of-object-mode-fall-back-behaviour-when-using-jit for details.\n",
      "  @numba.jit()\n",
      "/home/david/.local/share/virtualenvs/Self-Supervised-Learning-with-Predictabili-RPXJKYD0/lib/python3.10/site-packages/umap/umap_.py:660: NumbaDeprecationWarning: The 'nopython' keyword argument was not supplied to the 'numba.jit' decorator. The implicit default value for this argument is currently False, but it will be changed to True in Numba 0.59.0. See https://numba.readthedocs.io/en/stable/reference/deprecation.html#deprecation-of-object-mode-fall-back-behaviour-when-using-jit for details.\n",
      "  @numba.jit()\n"
     ]
    },
    {
     "name": "stdout",
     "output_type": "stream",
     "text": [
      "{'name': 'mocov3-cifar10', 'method': 'mocov3', 'backbone': {'name': 'resnet18', 'kwargs': {}}, 'method_kwargs': {'proj_hidden_dim': 4096, 'proj_output_dim': 256, 'pred_hidden_dim': 4096, 'temperature': 0.2}, 'momentum': {'base_tau': 0.99, 'final_tau': 1.0, 'classifier': False}, 'data': {'dataset': 'cifar10', 'train_path': './datasets', 'val_path': './datasets', 'format': 'image_folder', 'num_workers': 4, 'no_labels': False, 'fraction': -1, 'num_classes': 10, 'num_large_crops': 2, 'num_small_crops': 0}, 'optimizer': {'name': 'lars', 'batch_size': 256, 'lr': 0.3, 'classifier_lr': 0.3, 'weight_decay': 1e-06, 'kwargs': {'clip_lr': True, 'eta': 0.02, 'exclude_bias_n_norm': True, 'momentum': 0.9}, 'exclude_bias_n_norm_wd': False}, 'scheduler': {'name': 'warmup_cosine', 'lr_decay_steps': None, 'min_lr': 0.0, 'warmup_start_lr': 3e-05, 'warmup_epochs': 10, 'interval': 'step'}, 'checkpoint': {'enabled': True, 'dir': 'trained_models', 'frequency': 1, 'keep_prev': False}, 'auto_resume': {'enabled': True, 'max_hours': 36}, 'max_epochs': 1000, 'devices': [0], 'sync_batchnorm': True, 'accelerator': 'gpu', 'strategy': 'ddp', 'precision': 16, 'augmentations': [{'rrc': {'enabled': True, 'crop_min_scale': 0.08, 'crop_max_scale': 1.0}, 'color_jitter': {'prob': 0.8, 'brightness': 0.4, 'contrast': 0.4, 'saturation': 0.2, 'hue': 0.1}, 'grayscale': {'prob': 0.2}, 'gaussian_blur': {'prob': 0.0}, 'solarization': {'prob': 0.0}, 'equalization': {'prob': 0.0}, 'horizontal_flip': {'prob': 0.5}, 'crop_size': 32, 'num_crops': 1}, {'rrc': {'enabled': True, 'crop_min_scale': 0.08, 'crop_max_scale': 1.0}, 'color_jitter': {'prob': 0.8, 'brightness': 0.4, 'contrast': 0.4, 'saturation': 0.2, 'hue': 0.1}, 'grayscale': {'prob': 0.2}, 'gaussian_blur': {'prob': 0.0}, 'solarization': {'prob': 0.2}, 'equalization': {'prob': 0.0}, 'horizontal_flip': {'prob': 0.5}, 'crop_size': 32, 'num_crops': 1}], 'wandb': {'enabled': True, 'entity': None, 'project': 'solo-learn', 'offline': False}, 'dali': {'device': 'gpu', 'encode_indexes_into_labels': False}, 'auto_umap': {'enabled': False, 'dir': 'auto_umap', 'frequency': 1}, 'debug_augmentations': False, 'seed': 5, 'resume_from_checkpoint': None, 'num_nodes': 1, 'accumulate_grad_batches': 1, 'knn_eval': {'enabled': False, 'k': 20, 'distance_func': 'euclidean'}, 'performance': {'disable_channel_last': False}, 'wandb_run_id': 'onqz6ldk'}\n"
     ]
    },
    {
     "name": "stderr",
     "output_type": "stream",
     "text": [
      "WARNING:root:Using scheduler_interval=step might generate issues when resuming a checkpoint.\n"
     ]
    },
    {
     "name": "stdout",
     "output_type": "stream",
     "text": [
      "Files already downloaded and verified\n",
      "Files already downloaded and verified\n",
      "{'name': 'mocov3-cifar10', 'method': 'mocov3', 'backbone': {'name': 'resnet18', 'kwargs': {}}, 'method_kwargs': {'proj_hidden_dim': 4096, 'proj_output_dim': 256, 'pred_hidden_dim': 4096, 'temperature': 0.2}, 'momentum': {'base_tau': 0.99, 'final_tau': 1.0, 'classifier': False}, 'data': {'dataset': 'cifar10', 'train_path': './datasets', 'val_path': './datasets', 'format': 'image_folder', 'num_workers': 4, 'no_labels': False, 'fraction': -1, 'num_classes': 10, 'num_large_crops': 2, 'num_small_crops': 0}, 'optimizer': {'name': 'lars', 'batch_size': 256, 'lr': 0.3, 'classifier_lr': 0.3, 'weight_decay': 1e-06, 'kwargs': {'clip_lr': True, 'eta': 0.02, 'exclude_bias_n_norm': True, 'momentum': 0.9}, 'exclude_bias_n_norm_wd': False}, 'scheduler': {'name': 'warmup_cosine', 'lr_decay_steps': None, 'min_lr': 0.0, 'warmup_start_lr': 3e-05, 'warmup_epochs': 10, 'interval': 'step'}, 'checkpoint': {'enabled': True, 'dir': 'trained_models', 'frequency': 1, 'keep_prev': False}, 'auto_resume': {'enabled': True, 'max_hours': 36}, 'max_epochs': 1000, 'devices': [0], 'sync_batchnorm': True, 'accelerator': 'gpu', 'strategy': 'ddp', 'precision': 16, 'augmentations': [{'rrc': {'enabled': True, 'crop_min_scale': 0.08, 'crop_max_scale': 1.0}, 'color_jitter': {'prob': 0.8, 'brightness': 0.4, 'contrast': 0.4, 'saturation': 0.2, 'hue': 0.1}, 'grayscale': {'prob': 0.2}, 'gaussian_blur': {'prob': 0.0}, 'solarization': {'prob': 0.0}, 'equalization': {'prob': 0.0}, 'horizontal_flip': {'prob': 0.5}, 'crop_size': 32, 'num_crops': 1}, {'rrc': {'enabled': True, 'crop_min_scale': 0.08, 'crop_max_scale': 1.0}, 'color_jitter': {'prob': 0.8, 'brightness': 0.4, 'contrast': 0.4, 'saturation': 0.2, 'hue': 0.1}, 'grayscale': {'prob': 0.2}, 'gaussian_blur': {'prob': 0.0}, 'solarization': {'prob': 0.2}, 'equalization': {'prob': 0.0}, 'horizontal_flip': {'prob': 0.5}, 'crop_size': 32, 'num_crops': 1}], 'wandb': {'enabled': True, 'entity': None, 'project': 'solo-learn', 'offline': False}, 'dali': {'device': 'gpu', 'encode_indexes_into_labels': False}, 'auto_umap': {'enabled': False, 'dir': 'auto_umap', 'frequency': 1}, 'debug_augmentations': False, 'seed': 5, 'resume_from_checkpoint': None, 'num_nodes': 1, 'accumulate_grad_batches': 1, 'knn_eval': {'enabled': False, 'k': 20, 'distance_func': 'euclidean'}, 'performance': {'disable_channel_last': False}, 'wandb_run_id': 'onqz6ldk'}\n",
      "CFG:  mocov3-cifar10 onqz6ldk\n"
     ]
    },
    {
     "name": "stderr",
     "output_type": "stream",
     "text": [
      "Collecting features: 100%|██████████| 390/390 [00:05<00:00, 73.99it/s]\n",
      "Collecting features: 100%|██████████| 79/79 [00:01<00:00, 66.12it/s]\n",
      " 58%|█████▊    | 36/62 [49:56<21:50, 50.40s/it]"
     ]
    },
    {
     "name": "stdout",
     "output_type": "stream",
     "text": [
      "/hdd/backup_cluster_august_2023/Self-Supervised-Learning-with-Predictability-Minimization/Self-Supervised-Learning-with-Predictability-Minimization/trained_models/barlow_twins/439p1boi\n",
      "/hdd/backup_cluster_august_2023/Self-Supervised-Learning-with-Predictability-Minimization/Self-Supervised-Learning-with-Predictability-Minimization/trained_models/barlow_twins/439p1boi/barlow_twins-imagenet100-439p1boi-ep=399.ckpt\n"
     ]
    },
    {
     "name": "stderr",
     "output_type": "stream",
     "text": [
      "/home/david/.local/share/virtualenvs/Self-Supervised-Learning-with-Predictabili-RPXJKYD0/lib/python3.10/site-packages/umap/distances.py:1063: NumbaDeprecationWarning: The 'nopython' keyword argument was not supplied to the 'numba.jit' decorator. The implicit default value for this argument is currently False, but it will be changed to True in Numba 0.59.0. See https://numba.readthedocs.io/en/stable/reference/deprecation.html#deprecation-of-object-mode-fall-back-behaviour-when-using-jit for details.\n",
      "  @numba.jit()\n",
      "/home/david/.local/share/virtualenvs/Self-Supervised-Learning-with-Predictabili-RPXJKYD0/lib/python3.10/site-packages/umap/distances.py:1071: NumbaDeprecationWarning: The 'nopython' keyword argument was not supplied to the 'numba.jit' decorator. The implicit default value for this argument is currently False, but it will be changed to True in Numba 0.59.0. See https://numba.readthedocs.io/en/stable/reference/deprecation.html#deprecation-of-object-mode-fall-back-behaviour-when-using-jit for details.\n",
      "  @numba.jit()\n",
      "/home/david/.local/share/virtualenvs/Self-Supervised-Learning-with-Predictabili-RPXJKYD0/lib/python3.10/site-packages/umap/distances.py:1086: NumbaDeprecationWarning: The 'nopython' keyword argument was not supplied to the 'numba.jit' decorator. The implicit default value for this argument is currently False, but it will be changed to True in Numba 0.59.0. See https://numba.readthedocs.io/en/stable/reference/deprecation.html#deprecation-of-object-mode-fall-back-behaviour-when-using-jit for details.\n",
      "  @numba.jit()\n",
      "/home/david/.local/share/virtualenvs/Self-Supervised-Learning-with-Predictabili-RPXJKYD0/lib/python3.10/site-packages/umap/umap_.py:660: NumbaDeprecationWarning: The 'nopython' keyword argument was not supplied to the 'numba.jit' decorator. The implicit default value for this argument is currently False, but it will be changed to True in Numba 0.59.0. See https://numba.readthedocs.io/en/stable/reference/deprecation.html#deprecation-of-object-mode-fall-back-behaviour-when-using-jit for details.\n",
      "  @numba.jit()\n"
     ]
    },
    {
     "name": "stdout",
     "output_type": "stream",
     "text": [
      "{'name': 'barlow_twins-imagenet100', 'method': 'barlow_twins', 'backbone': {'name': 'resnet18', 'kwargs': {}}, 'method_kwargs': {'proj_hidden_dim': 2048, 'proj_output_dim': 2048, 'scale_loss': 0.1, 'lamb': 0.0051}, 'data': {'dataset': 'imagenet100', 'train_path': '/itet-stor/zdavid/net_scratch/data/ILSVRC2012_img_train_100', 'val_path': '/itet-stor/zdavid/net_scratch/data/ILSVRC2012_img_val_100', 'format': 'dali', 'num_workers': 4, 'no_labels': False, 'fraction': -1, 'num_classes': 100, 'num_large_crops': 2, 'num_small_crops': 0}, 'optimizer': {'name': 'lars', 'batch_size': 128, 'lr': 0.3, 'classifier_lr': 0.1, 'weight_decay': 0.0001, 'kwargs': {'clip_lr': True, 'eta': 0.02, 'exclude_bias_n_norm': True, 'momentum': 0.9}, 'exclude_bias_n_norm_wd': False}, 'scheduler': {'name': 'warmup_cosine', 'lr_decay_steps': None, 'min_lr': 0.0, 'warmup_start_lr': 3e-05, 'warmup_epochs': 10, 'interval': 'step'}, 'checkpoint': {'enabled': True, 'dir': 'trained_models', 'frequency': 1, 'keep_prev': False}, 'auto_resume': {'enabled': True, 'max_hours': 36}, 'max_epochs': 400, 'devices': [0, 1], 'sync_batchnorm': True, 'accelerator': 'gpu', 'strategy': 'ddp', 'precision': 16, 'augmentations': [{'rrc': {'enabled': True, 'crop_min_scale': 0.08, 'crop_max_scale': 1.0}, 'color_jitter': {'prob': 0.8, 'brightness': 0.4, 'contrast': 0.4, 'saturation': 0.2, 'hue': 0.1}, 'grayscale': {'prob': 0.2}, 'gaussian_blur': {'prob': 1.0}, 'solarization': {'prob': 0.0}, 'equalization': {'prob': 0.0}, 'horizontal_flip': {'prob': 0.5}, 'crop_size': 224, 'num_crops': 1}, {'rrc': {'enabled': True, 'crop_min_scale': 0.08, 'crop_max_scale': 1.0}, 'color_jitter': {'prob': 0.8, 'brightness': 0.4, 'contrast': 0.4, 'saturation': 0.2, 'hue': 0.1}, 'grayscale': {'prob': 0.2}, 'gaussian_blur': {'prob': 0.1}, 'solarization': {'prob': 0.2}, 'equalization': {'prob': 0.0}, 'horizontal_flip': {'prob': 0.5}, 'crop_size': 224, 'num_crops': 1}], 'wandb': {'enabled': True, 'entity': None, 'project': 'solo-learn', 'offline': False}, 'dali': {'device': 'gpu', 'encode_indexes_into_labels': False}, 'auto_umap': {'enabled': False, 'dir': 'auto_umap', 'frequency': 1}, 'debug_augmentations': False, 'seed': 5, 'resume_from_checkpoint': None, 'num_nodes': 1, 'accumulate_grad_batches': 1, 'knn_eval': {'enabled': False, 'k': 20, 'distance_func': 'euclidean'}, 'performance': {'disable_channel_last': False}, 'wandb_run_id': '439p1boi'}\n"
     ]
    },
    {
     "name": "stderr",
     "output_type": "stream",
     "text": [
      "WARNING:root:Using scheduler_interval=step might generate issues when resuming a checkpoint.\n",
      "Collecting features:   0%|          | 0/989 [00:00<?, ?it/s]"
     ]
    },
    {
     "name": "stdout",
     "output_type": "stream",
     "text": [
      "{'name': 'barlow_twins-imagenet100', 'method': 'barlow_twins', 'backbone': {'name': 'resnet18', 'kwargs': {}}, 'method_kwargs': {'proj_hidden_dim': 2048, 'proj_output_dim': 2048, 'scale_loss': 0.1, 'lamb': 0.0051}, 'data': {'dataset': 'imagenet100', 'train_path': '/itet-stor/zdavid/net_scratch/data/ILSVRC2012_img_train_100', 'val_path': '/itet-stor/zdavid/net_scratch/data/ILSVRC2012_img_val_100', 'format': 'dali', 'num_workers': 4, 'no_labels': False, 'fraction': -1, 'num_classes': 100, 'num_large_crops': 2, 'num_small_crops': 0}, 'optimizer': {'name': 'lars', 'batch_size': 128, 'lr': 0.3, 'classifier_lr': 0.1, 'weight_decay': 0.0001, 'kwargs': {'clip_lr': True, 'eta': 0.02, 'exclude_bias_n_norm': True, 'momentum': 0.9}, 'exclude_bias_n_norm_wd': False}, 'scheduler': {'name': 'warmup_cosine', 'lr_decay_steps': None, 'min_lr': 0.0, 'warmup_start_lr': 3e-05, 'warmup_epochs': 10, 'interval': 'step'}, 'checkpoint': {'enabled': True, 'dir': 'trained_models', 'frequency': 1, 'keep_prev': False}, 'auto_resume': {'enabled': True, 'max_hours': 36}, 'max_epochs': 400, 'devices': [0, 1], 'sync_batchnorm': True, 'accelerator': 'gpu', 'strategy': 'ddp', 'precision': 16, 'augmentations': [{'rrc': {'enabled': True, 'crop_min_scale': 0.08, 'crop_max_scale': 1.0}, 'color_jitter': {'prob': 0.8, 'brightness': 0.4, 'contrast': 0.4, 'saturation': 0.2, 'hue': 0.1}, 'grayscale': {'prob': 0.2}, 'gaussian_blur': {'prob': 1.0}, 'solarization': {'prob': 0.0}, 'equalization': {'prob': 0.0}, 'horizontal_flip': {'prob': 0.5}, 'crop_size': 224, 'num_crops': 1}, {'rrc': {'enabled': True, 'crop_min_scale': 0.08, 'crop_max_scale': 1.0}, 'color_jitter': {'prob': 0.8, 'brightness': 0.4, 'contrast': 0.4, 'saturation': 0.2, 'hue': 0.1}, 'grayscale': {'prob': 0.2}, 'gaussian_blur': {'prob': 0.1}, 'solarization': {'prob': 0.2}, 'equalization': {'prob': 0.0}, 'horizontal_flip': {'prob': 0.5}, 'crop_size': 224, 'num_crops': 1}], 'wandb': {'enabled': True, 'entity': None, 'project': 'solo-learn', 'offline': False}, 'dali': {'device': 'gpu', 'encode_indexes_into_labels': False}, 'auto_umap': {'enabled': False, 'dir': 'auto_umap', 'frequency': 1}, 'debug_augmentations': False, 'seed': 5, 'resume_from_checkpoint': None, 'num_nodes': 1, 'accumulate_grad_batches': 1, 'knn_eval': {'enabled': False, 'k': 20, 'distance_func': 'euclidean'}, 'performance': {'disable_channel_last': False}, 'wandb_run_id': '439p1boi'}\n",
      "CFG:  barlow_twins-imagenet100 439p1boi\n"
     ]
    },
    {
     "name": "stderr",
     "output_type": "stream",
     "text": [
      "Collecting features: 100%|██████████| 989/989 [01:10<00:00, 13.94it/s]\n",
      "Collecting features: 100%|██████████| 40/40 [00:03<00:00, 10.74it/s]\n",
      " 60%|█████▉    | 37/62 [51:43<28:10, 67.63s/it]"
     ]
    },
    {
     "name": "stdout",
     "output_type": "stream",
     "text": [
      "/hdd/backup_cluster_august_2023/Self-Supervised-Learning-with-Predictability-Minimization/Self-Supervised-Learning-with-Predictability-Minimization/trained_models/barlow_twins/66w0odub\n",
      "/hdd/backup_cluster_august_2023/Self-Supervised-Learning-with-Predictability-Minimization/Self-Supervised-Learning-with-Predictability-Minimization/trained_models/barlow_twins/66w0odub/barlow_twins-cifar10-66w0odub-ep=999.ckpt\n"
     ]
    },
    {
     "name": "stderr",
     "output_type": "stream",
     "text": [
      "/home/david/.local/share/virtualenvs/Self-Supervised-Learning-with-Predictabili-RPXJKYD0/lib/python3.10/site-packages/umap/distances.py:1063: NumbaDeprecationWarning: The 'nopython' keyword argument was not supplied to the 'numba.jit' decorator. The implicit default value for this argument is currently False, but it will be changed to True in Numba 0.59.0. See https://numba.readthedocs.io/en/stable/reference/deprecation.html#deprecation-of-object-mode-fall-back-behaviour-when-using-jit for details.\n",
      "  @numba.jit()\n",
      "/home/david/.local/share/virtualenvs/Self-Supervised-Learning-with-Predictabili-RPXJKYD0/lib/python3.10/site-packages/umap/distances.py:1071: NumbaDeprecationWarning: The 'nopython' keyword argument was not supplied to the 'numba.jit' decorator. The implicit default value for this argument is currently False, but it will be changed to True in Numba 0.59.0. See https://numba.readthedocs.io/en/stable/reference/deprecation.html#deprecation-of-object-mode-fall-back-behaviour-when-using-jit for details.\n",
      "  @numba.jit()\n",
      "/home/david/.local/share/virtualenvs/Self-Supervised-Learning-with-Predictabili-RPXJKYD0/lib/python3.10/site-packages/umap/distances.py:1086: NumbaDeprecationWarning: The 'nopython' keyword argument was not supplied to the 'numba.jit' decorator. The implicit default value for this argument is currently False, but it will be changed to True in Numba 0.59.0. See https://numba.readthedocs.io/en/stable/reference/deprecation.html#deprecation-of-object-mode-fall-back-behaviour-when-using-jit for details.\n",
      "  @numba.jit()\n",
      "/home/david/.local/share/virtualenvs/Self-Supervised-Learning-with-Predictabili-RPXJKYD0/lib/python3.10/site-packages/umap/umap_.py:660: NumbaDeprecationWarning: The 'nopython' keyword argument was not supplied to the 'numba.jit' decorator. The implicit default value for this argument is currently False, but it will be changed to True in Numba 0.59.0. See https://numba.readthedocs.io/en/stable/reference/deprecation.html#deprecation-of-object-mode-fall-back-behaviour-when-using-jit for details.\n",
      "  @numba.jit()\n"
     ]
    },
    {
     "name": "stdout",
     "output_type": "stream",
     "text": [
      "{'name': 'barlow_twins-cifar10', 'method': 'barlow_twins', 'backbone': {'name': 'resnet18', 'kwargs': {}}, 'method_kwargs': {'proj_hidden_dim': 2048, 'proj_output_dim': 2048, 'scale_loss': 0.1, 'lamb': 0.0051}, 'data': {'dataset': 'cifar10', 'train_path': './datasets', 'val_path': './datasets', 'format': 'image_folder', 'num_workers': 4, 'no_labels': False, 'fraction': -1, 'num_classes': 10, 'num_large_crops': 2, 'num_small_crops': 0}, 'optimizer': {'name': 'lars', 'batch_size': 256, 'lr': 0.3, 'classifier_lr': 0.1, 'weight_decay': 0.0001, 'kwargs': {'clip_lr': True, 'eta': 0.02, 'exclude_bias_n_norm': True, 'momentum': 0.9}, 'exclude_bias_n_norm_wd': False}, 'scheduler': {'name': 'warmup_cosine', 'lr_decay_steps': None, 'min_lr': 0.0, 'warmup_start_lr': 3e-05, 'warmup_epochs': 10, 'interval': 'step'}, 'checkpoint': {'enabled': True, 'dir': 'trained_models', 'frequency': 1, 'keep_prev': False}, 'auto_resume': {'enabled': True, 'max_hours': 36}, 'max_epochs': 1000, 'devices': [0], 'sync_batchnorm': True, 'accelerator': 'gpu', 'strategy': 'ddp', 'precision': 16, 'augmentations': [{'rrc': {'enabled': True, 'crop_min_scale': 0.08, 'crop_max_scale': 1.0}, 'color_jitter': {'prob': 0.8, 'brightness': 0.4, 'contrast': 0.4, 'saturation': 0.2, 'hue': 0.1}, 'grayscale': {'prob': 0.2}, 'gaussian_blur': {'prob': 0.0}, 'solarization': {'prob': 0.0}, 'equalization': {'prob': 0.0}, 'horizontal_flip': {'prob': 0.5}, 'crop_size': 32, 'num_crops': 1}, {'rrc': {'enabled': True, 'crop_min_scale': 0.08, 'crop_max_scale': 1.0}, 'color_jitter': {'prob': 0.8, 'brightness': 0.4, 'contrast': 0.4, 'saturation': 0.2, 'hue': 0.1}, 'grayscale': {'prob': 0.2}, 'gaussian_blur': {'prob': 0.0}, 'solarization': {'prob': 0.2}, 'equalization': {'prob': 0.0}, 'horizontal_flip': {'prob': 0.5}, 'crop_size': 32, 'num_crops': 1}], 'wandb': {'enabled': True, 'entity': None, 'project': 'solo-learn', 'offline': False}, 'dali': {'device': 'gpu', 'encode_indexes_into_labels': False}, 'auto_umap': {'enabled': False, 'dir': 'auto_umap', 'frequency': 1}, 'debug_augmentations': False, 'seed': 5, 'resume_from_checkpoint': None, 'num_nodes': 1, 'accumulate_grad_batches': 1, 'knn_eval': {'enabled': False, 'k': 20, 'distance_func': 'euclidean'}, 'performance': {'disable_channel_last': False}, 'wandb_run_id': '66w0odub'}\n"
     ]
    },
    {
     "name": "stderr",
     "output_type": "stream",
     "text": [
      "WARNING:root:Using scheduler_interval=step might generate issues when resuming a checkpoint.\n"
     ]
    },
    {
     "name": "stdout",
     "output_type": "stream",
     "text": [
      "Files already downloaded and verified\n",
      "Files already downloaded and verified\n",
      "{'name': 'barlow_twins-cifar10', 'method': 'barlow_twins', 'backbone': {'name': 'resnet18', 'kwargs': {}}, 'method_kwargs': {'proj_hidden_dim': 2048, 'proj_output_dim': 2048, 'scale_loss': 0.1, 'lamb': 0.0051}, 'data': {'dataset': 'cifar10', 'train_path': './datasets', 'val_path': './datasets', 'format': 'image_folder', 'num_workers': 4, 'no_labels': False, 'fraction': -1, 'num_classes': 10, 'num_large_crops': 2, 'num_small_crops': 0}, 'optimizer': {'name': 'lars', 'batch_size': 256, 'lr': 0.3, 'classifier_lr': 0.1, 'weight_decay': 0.0001, 'kwargs': {'clip_lr': True, 'eta': 0.02, 'exclude_bias_n_norm': True, 'momentum': 0.9}, 'exclude_bias_n_norm_wd': False}, 'scheduler': {'name': 'warmup_cosine', 'lr_decay_steps': None, 'min_lr': 0.0, 'warmup_start_lr': 3e-05, 'warmup_epochs': 10, 'interval': 'step'}, 'checkpoint': {'enabled': True, 'dir': 'trained_models', 'frequency': 1, 'keep_prev': False}, 'auto_resume': {'enabled': True, 'max_hours': 36}, 'max_epochs': 1000, 'devices': [0], 'sync_batchnorm': True, 'accelerator': 'gpu', 'strategy': 'ddp', 'precision': 16, 'augmentations': [{'rrc': {'enabled': True, 'crop_min_scale': 0.08, 'crop_max_scale': 1.0}, 'color_jitter': {'prob': 0.8, 'brightness': 0.4, 'contrast': 0.4, 'saturation': 0.2, 'hue': 0.1}, 'grayscale': {'prob': 0.2}, 'gaussian_blur': {'prob': 0.0}, 'solarization': {'prob': 0.0}, 'equalization': {'prob': 0.0}, 'horizontal_flip': {'prob': 0.5}, 'crop_size': 32, 'num_crops': 1}, {'rrc': {'enabled': True, 'crop_min_scale': 0.08, 'crop_max_scale': 1.0}, 'color_jitter': {'prob': 0.8, 'brightness': 0.4, 'contrast': 0.4, 'saturation': 0.2, 'hue': 0.1}, 'grayscale': {'prob': 0.2}, 'gaussian_blur': {'prob': 0.0}, 'solarization': {'prob': 0.2}, 'equalization': {'prob': 0.0}, 'horizontal_flip': {'prob': 0.5}, 'crop_size': 32, 'num_crops': 1}], 'wandb': {'enabled': True, 'entity': None, 'project': 'solo-learn', 'offline': False}, 'dali': {'device': 'gpu', 'encode_indexes_into_labels': False}, 'auto_umap': {'enabled': False, 'dir': 'auto_umap', 'frequency': 1}, 'debug_augmentations': False, 'seed': 5, 'resume_from_checkpoint': None, 'num_nodes': 1, 'accumulate_grad_batches': 1, 'knn_eval': {'enabled': False, 'k': 20, 'distance_func': 'euclidean'}, 'performance': {'disable_channel_last': False}, 'wandb_run_id': '66w0odub'}\n",
      "CFG:  barlow_twins-cifar10 66w0odub\n"
     ]
    },
    {
     "name": "stderr",
     "output_type": "stream",
     "text": [
      "Collecting features: 100%|██████████| 390/390 [00:05<00:00, 73.15it/s]\n",
      "Collecting features: 100%|██████████| 79/79 [00:01<00:00, 65.08it/s]\n",
      " 61%|██████▏   | 38/62 [52:08<21:55, 54.83s/it]"
     ]
    },
    {
     "name": "stdout",
     "output_type": "stream",
     "text": [
      "/hdd/backup_cluster_august_2023/Self-Supervised-Learning-with-Predictability-Minimization/Self-Supervised-Learning-with-Predictability-Minimization/trained_models/barlow_twins/my30vqpk\n",
      "/hdd/backup_cluster_august_2023/Self-Supervised-Learning-with-Predictability-Minimization/Self-Supervised-Learning-with-Predictability-Minimization/trained_models/barlow_twins/my30vqpk/barlow_twins-cifar10-my30vqpk-ep=999.ckpt\n"
     ]
    },
    {
     "name": "stderr",
     "output_type": "stream",
     "text": [
      "/home/david/.local/share/virtualenvs/Self-Supervised-Learning-with-Predictabili-RPXJKYD0/lib/python3.10/site-packages/umap/distances.py:1063: NumbaDeprecationWarning: The 'nopython' keyword argument was not supplied to the 'numba.jit' decorator. The implicit default value for this argument is currently False, but it will be changed to True in Numba 0.59.0. See https://numba.readthedocs.io/en/stable/reference/deprecation.html#deprecation-of-object-mode-fall-back-behaviour-when-using-jit for details.\n",
      "  @numba.jit()\n",
      "/home/david/.local/share/virtualenvs/Self-Supervised-Learning-with-Predictabili-RPXJKYD0/lib/python3.10/site-packages/umap/distances.py:1071: NumbaDeprecationWarning: The 'nopython' keyword argument was not supplied to the 'numba.jit' decorator. The implicit default value for this argument is currently False, but it will be changed to True in Numba 0.59.0. See https://numba.readthedocs.io/en/stable/reference/deprecation.html#deprecation-of-object-mode-fall-back-behaviour-when-using-jit for details.\n",
      "  @numba.jit()\n",
      "/home/david/.local/share/virtualenvs/Self-Supervised-Learning-with-Predictabili-RPXJKYD0/lib/python3.10/site-packages/umap/distances.py:1086: NumbaDeprecationWarning: The 'nopython' keyword argument was not supplied to the 'numba.jit' decorator. The implicit default value for this argument is currently False, but it will be changed to True in Numba 0.59.0. See https://numba.readthedocs.io/en/stable/reference/deprecation.html#deprecation-of-object-mode-fall-back-behaviour-when-using-jit for details.\n",
      "  @numba.jit()\n",
      "/home/david/.local/share/virtualenvs/Self-Supervised-Learning-with-Predictabili-RPXJKYD0/lib/python3.10/site-packages/umap/umap_.py:660: NumbaDeprecationWarning: The 'nopython' keyword argument was not supplied to the 'numba.jit' decorator. The implicit default value for this argument is currently False, but it will be changed to True in Numba 0.59.0. See https://numba.readthedocs.io/en/stable/reference/deprecation.html#deprecation-of-object-mode-fall-back-behaviour-when-using-jit for details.\n",
      "  @numba.jit()\n"
     ]
    },
    {
     "name": "stdout",
     "output_type": "stream",
     "text": [
      "{'name': 'barlow_twins-cifar10', 'method': 'barlow_twins', 'backbone': {'name': 'resnet18', 'kwargs': {}}, 'method_kwargs': {'proj_hidden_dim': 2048, 'proj_output_dim': 2048, 'scale_loss': 0.1, 'lamb': 0.0051}, 'data': {'dataset': 'cifar10', 'train_path': './datasets', 'val_path': './datasets', 'format': 'image_folder', 'num_workers': 4, 'no_labels': False, 'fraction': -1, 'num_classes': 10, 'num_large_crops': 2, 'num_small_crops': 0}, 'optimizer': {'name': 'lars', 'batch_size': 256, 'lr': 0.3, 'classifier_lr': 0.1, 'weight_decay': 0.0001, 'kwargs': {'clip_lr': True, 'eta': 0.02, 'exclude_bias_n_norm': True, 'momentum': 0.9}, 'exclude_bias_n_norm_wd': False}, 'scheduler': {'name': 'warmup_cosine', 'lr_decay_steps': None, 'min_lr': 0.0, 'warmup_start_lr': 3e-05, 'warmup_epochs': 10, 'interval': 'step'}, 'checkpoint': {'enabled': True, 'dir': 'trained_models', 'frequency': 1, 'keep_prev': False}, 'auto_resume': {'enabled': True, 'max_hours': 36}, 'max_epochs': 1000, 'devices': [0], 'sync_batchnorm': True, 'accelerator': 'gpu', 'strategy': 'ddp', 'precision': 16, 'augmentations': [{'rrc': {'enabled': True, 'crop_min_scale': 0.08, 'crop_max_scale': 1.0}, 'color_jitter': {'prob': 0.8, 'brightness': 0.4, 'contrast': 0.4, 'saturation': 0.2, 'hue': 0.1}, 'grayscale': {'prob': 0.2}, 'gaussian_blur': {'prob': 0.0}, 'solarization': {'prob': 0.0}, 'equalization': {'prob': 0.0}, 'horizontal_flip': {'prob': 0.5}, 'crop_size': 32, 'num_crops': 1}, {'rrc': {'enabled': True, 'crop_min_scale': 0.08, 'crop_max_scale': 1.0}, 'color_jitter': {'prob': 0.8, 'brightness': 0.4, 'contrast': 0.4, 'saturation': 0.2, 'hue': 0.1}, 'grayscale': {'prob': 0.2}, 'gaussian_blur': {'prob': 0.0}, 'solarization': {'prob': 0.2}, 'equalization': {'prob': 0.0}, 'horizontal_flip': {'prob': 0.5}, 'crop_size': 32, 'num_crops': 1}], 'wandb': {'enabled': True, 'entity': None, 'project': 'solo-learn', 'offline': False}, 'dali': {'device': 'gpu', 'encode_indexes_into_labels': False}, 'auto_umap': {'enabled': False, 'dir': 'auto_umap', 'frequency': 1}, 'debug_augmentations': False, 'seed': 5, 'resume_from_checkpoint': None, 'num_nodes': 1, 'accumulate_grad_batches': 1, 'knn_eval': {'enabled': False, 'k': 20, 'distance_func': 'euclidean'}, 'performance': {'disable_channel_last': False}, 'wandb_run_id': 'my30vqpk'}\n"
     ]
    },
    {
     "name": "stderr",
     "output_type": "stream",
     "text": [
      "WARNING:root:Using scheduler_interval=step might generate issues when resuming a checkpoint.\n"
     ]
    },
    {
     "name": "stdout",
     "output_type": "stream",
     "text": [
      "Files already downloaded and verified\n",
      "Files already downloaded and verified\n",
      "{'name': 'barlow_twins-cifar10', 'method': 'barlow_twins', 'backbone': {'name': 'resnet18', 'kwargs': {}}, 'method_kwargs': {'proj_hidden_dim': 2048, 'proj_output_dim': 2048, 'scale_loss': 0.1, 'lamb': 0.0051}, 'data': {'dataset': 'cifar10', 'train_path': './datasets', 'val_path': './datasets', 'format': 'image_folder', 'num_workers': 4, 'no_labels': False, 'fraction': -1, 'num_classes': 10, 'num_large_crops': 2, 'num_small_crops': 0}, 'optimizer': {'name': 'lars', 'batch_size': 256, 'lr': 0.3, 'classifier_lr': 0.1, 'weight_decay': 0.0001, 'kwargs': {'clip_lr': True, 'eta': 0.02, 'exclude_bias_n_norm': True, 'momentum': 0.9}, 'exclude_bias_n_norm_wd': False}, 'scheduler': {'name': 'warmup_cosine', 'lr_decay_steps': None, 'min_lr': 0.0, 'warmup_start_lr': 3e-05, 'warmup_epochs': 10, 'interval': 'step'}, 'checkpoint': {'enabled': True, 'dir': 'trained_models', 'frequency': 1, 'keep_prev': False}, 'auto_resume': {'enabled': True, 'max_hours': 36}, 'max_epochs': 1000, 'devices': [0], 'sync_batchnorm': True, 'accelerator': 'gpu', 'strategy': 'ddp', 'precision': 16, 'augmentations': [{'rrc': {'enabled': True, 'crop_min_scale': 0.08, 'crop_max_scale': 1.0}, 'color_jitter': {'prob': 0.8, 'brightness': 0.4, 'contrast': 0.4, 'saturation': 0.2, 'hue': 0.1}, 'grayscale': {'prob': 0.2}, 'gaussian_blur': {'prob': 0.0}, 'solarization': {'prob': 0.0}, 'equalization': {'prob': 0.0}, 'horizontal_flip': {'prob': 0.5}, 'crop_size': 32, 'num_crops': 1}, {'rrc': {'enabled': True, 'crop_min_scale': 0.08, 'crop_max_scale': 1.0}, 'color_jitter': {'prob': 0.8, 'brightness': 0.4, 'contrast': 0.4, 'saturation': 0.2, 'hue': 0.1}, 'grayscale': {'prob': 0.2}, 'gaussian_blur': {'prob': 0.0}, 'solarization': {'prob': 0.2}, 'equalization': {'prob': 0.0}, 'horizontal_flip': {'prob': 0.5}, 'crop_size': 32, 'num_crops': 1}], 'wandb': {'enabled': True, 'entity': None, 'project': 'solo-learn', 'offline': False}, 'dali': {'device': 'gpu', 'encode_indexes_into_labels': False}, 'auto_umap': {'enabled': False, 'dir': 'auto_umap', 'frequency': 1}, 'debug_augmentations': False, 'seed': 5, 'resume_from_checkpoint': None, 'num_nodes': 1, 'accumulate_grad_batches': 1, 'knn_eval': {'enabled': False, 'k': 20, 'distance_func': 'euclidean'}, 'performance': {'disable_channel_last': False}, 'wandb_run_id': 'my30vqpk'}\n",
      "CFG:  barlow_twins-cifar10 my30vqpk\n"
     ]
    },
    {
     "name": "stderr",
     "output_type": "stream",
     "text": [
      "Collecting features: 100%|██████████| 390/390 [00:05<00:00, 73.02it/s]\n",
      "Collecting features: 100%|██████████| 79/79 [00:01<00:00, 65.40it/s]\n",
      " 63%|██████▎   | 39/62 [52:34<17:42, 46.21s/it]"
     ]
    },
    {
     "name": "stdout",
     "output_type": "stream",
     "text": [
      "/hdd/backup_cluster_august_2023/Self-Supervised-Learning-with-Predictability-Minimization/Self-Supervised-Learning-with-Predictability-Minimization/trained_models/barlow_twins/gkyyt0r7\n",
      "/hdd/backup_cluster_august_2023/Self-Supervised-Learning-with-Predictability-Minimization/Self-Supervised-Learning-with-Predictability-Minimization/trained_models/barlow_twins/gkyyt0r7/barlow_twins-cifar100-gkyyt0r7-ep=999.ckpt\n"
     ]
    },
    {
     "name": "stderr",
     "output_type": "stream",
     "text": [
      "/home/david/.local/share/virtualenvs/Self-Supervised-Learning-with-Predictabili-RPXJKYD0/lib/python3.10/site-packages/umap/distances.py:1063: NumbaDeprecationWarning: The 'nopython' keyword argument was not supplied to the 'numba.jit' decorator. The implicit default value for this argument is currently False, but it will be changed to True in Numba 0.59.0. See https://numba.readthedocs.io/en/stable/reference/deprecation.html#deprecation-of-object-mode-fall-back-behaviour-when-using-jit for details.\n",
      "  @numba.jit()\n",
      "/home/david/.local/share/virtualenvs/Self-Supervised-Learning-with-Predictabili-RPXJKYD0/lib/python3.10/site-packages/umap/distances.py:1071: NumbaDeprecationWarning: The 'nopython' keyword argument was not supplied to the 'numba.jit' decorator. The implicit default value for this argument is currently False, but it will be changed to True in Numba 0.59.0. See https://numba.readthedocs.io/en/stable/reference/deprecation.html#deprecation-of-object-mode-fall-back-behaviour-when-using-jit for details.\n",
      "  @numba.jit()\n",
      "/home/david/.local/share/virtualenvs/Self-Supervised-Learning-with-Predictabili-RPXJKYD0/lib/python3.10/site-packages/umap/distances.py:1086: NumbaDeprecationWarning: The 'nopython' keyword argument was not supplied to the 'numba.jit' decorator. The implicit default value for this argument is currently False, but it will be changed to True in Numba 0.59.0. See https://numba.readthedocs.io/en/stable/reference/deprecation.html#deprecation-of-object-mode-fall-back-behaviour-when-using-jit for details.\n",
      "  @numba.jit()\n",
      "/home/david/.local/share/virtualenvs/Self-Supervised-Learning-with-Predictabili-RPXJKYD0/lib/python3.10/site-packages/umap/umap_.py:660: NumbaDeprecationWarning: The 'nopython' keyword argument was not supplied to the 'numba.jit' decorator. The implicit default value for this argument is currently False, but it will be changed to True in Numba 0.59.0. See https://numba.readthedocs.io/en/stable/reference/deprecation.html#deprecation-of-object-mode-fall-back-behaviour-when-using-jit for details.\n",
      "  @numba.jit()\n"
     ]
    },
    {
     "name": "stdout",
     "output_type": "stream",
     "text": [
      "{'name': 'barlow_twins-cifar100', 'method': 'barlow_twins', 'backbone': {'name': 'resnet18', 'kwargs': {}}, 'method_kwargs': {'proj_hidden_dim': 2048, 'proj_output_dim': 2048, 'scale_loss': 0.1, 'lamb': 0.0051}, 'data': {'dataset': 'cifar100', 'train_path': './datasets', 'val_path': './datasets', 'format': 'image_folder', 'num_workers': 4, 'no_labels': False, 'fraction': -1, 'num_classes': 100, 'num_large_crops': 2, 'num_small_crops': 0}, 'optimizer': {'name': 'lars', 'batch_size': 256, 'lr': 0.3, 'classifier_lr': 0.1, 'weight_decay': 0.0001, 'kwargs': {'clip_lr': True, 'eta': 0.02, 'exclude_bias_n_norm': True, 'momentum': 0.9}, 'exclude_bias_n_norm_wd': False}, 'scheduler': {'name': 'warmup_cosine', 'lr_decay_steps': None, 'min_lr': 0.0, 'warmup_start_lr': 3e-05, 'warmup_epochs': 10, 'interval': 'step'}, 'checkpoint': {'enabled': True, 'dir': 'trained_models', 'frequency': 1, 'keep_prev': False}, 'auto_resume': {'enabled': True, 'max_hours': 36}, 'max_epochs': 1000, 'devices': [0], 'sync_batchnorm': True, 'accelerator': 'gpu', 'strategy': 'ddp', 'precision': 16, 'augmentations': [{'rrc': {'enabled': True, 'crop_min_scale': 0.08, 'crop_max_scale': 1.0}, 'color_jitter': {'prob': 0.8, 'brightness': 0.4, 'contrast': 0.4, 'saturation': 0.2, 'hue': 0.1}, 'grayscale': {'prob': 0.2}, 'gaussian_blur': {'prob': 0.0}, 'solarization': {'prob': 0.0}, 'equalization': {'prob': 0.0}, 'horizontal_flip': {'prob': 0.5}, 'crop_size': 32, 'num_crops': 1}, {'rrc': {'enabled': True, 'crop_min_scale': 0.08, 'crop_max_scale': 1.0}, 'color_jitter': {'prob': 0.8, 'brightness': 0.4, 'contrast': 0.4, 'saturation': 0.2, 'hue': 0.1}, 'grayscale': {'prob': 0.2}, 'gaussian_blur': {'prob': 0.0}, 'solarization': {'prob': 0.2}, 'equalization': {'prob': 0.0}, 'horizontal_flip': {'prob': 0.5}, 'crop_size': 32, 'num_crops': 1}], 'wandb': {'enabled': True, 'entity': None, 'project': 'solo-learn', 'offline': False}, 'dali': {'device': 'gpu', 'encode_indexes_into_labels': False}, 'auto_umap': {'enabled': False, 'dir': 'auto_umap', 'frequency': 1}, 'debug_augmentations': False, 'seed': 5, 'resume_from_checkpoint': None, 'num_nodes': 1, 'accumulate_grad_batches': 1, 'knn_eval': {'enabled': False, 'k': 20, 'distance_func': 'euclidean'}, 'performance': {'disable_channel_last': False}, 'wandb_run_id': 'gkyyt0r7'}\n"
     ]
    },
    {
     "name": "stderr",
     "output_type": "stream",
     "text": [
      "WARNING:root:Using scheduler_interval=step might generate issues when resuming a checkpoint.\n"
     ]
    },
    {
     "name": "stdout",
     "output_type": "stream",
     "text": [
      "Files already downloaded and verified\n",
      "Files already downloaded and verified\n",
      "{'name': 'barlow_twins-cifar100', 'method': 'barlow_twins', 'backbone': {'name': 'resnet18', 'kwargs': {}}, 'method_kwargs': {'proj_hidden_dim': 2048, 'proj_output_dim': 2048, 'scale_loss': 0.1, 'lamb': 0.0051}, 'data': {'dataset': 'cifar100', 'train_path': './datasets', 'val_path': './datasets', 'format': 'image_folder', 'num_workers': 4, 'no_labels': False, 'fraction': -1, 'num_classes': 100, 'num_large_crops': 2, 'num_small_crops': 0}, 'optimizer': {'name': 'lars', 'batch_size': 256, 'lr': 0.3, 'classifier_lr': 0.1, 'weight_decay': 0.0001, 'kwargs': {'clip_lr': True, 'eta': 0.02, 'exclude_bias_n_norm': True, 'momentum': 0.9}, 'exclude_bias_n_norm_wd': False}, 'scheduler': {'name': 'warmup_cosine', 'lr_decay_steps': None, 'min_lr': 0.0, 'warmup_start_lr': 3e-05, 'warmup_epochs': 10, 'interval': 'step'}, 'checkpoint': {'enabled': True, 'dir': 'trained_models', 'frequency': 1, 'keep_prev': False}, 'auto_resume': {'enabled': True, 'max_hours': 36}, 'max_epochs': 1000, 'devices': [0], 'sync_batchnorm': True, 'accelerator': 'gpu', 'strategy': 'ddp', 'precision': 16, 'augmentations': [{'rrc': {'enabled': True, 'crop_min_scale': 0.08, 'crop_max_scale': 1.0}, 'color_jitter': {'prob': 0.8, 'brightness': 0.4, 'contrast': 0.4, 'saturation': 0.2, 'hue': 0.1}, 'grayscale': {'prob': 0.2}, 'gaussian_blur': {'prob': 0.0}, 'solarization': {'prob': 0.0}, 'equalization': {'prob': 0.0}, 'horizontal_flip': {'prob': 0.5}, 'crop_size': 32, 'num_crops': 1}, {'rrc': {'enabled': True, 'crop_min_scale': 0.08, 'crop_max_scale': 1.0}, 'color_jitter': {'prob': 0.8, 'brightness': 0.4, 'contrast': 0.4, 'saturation': 0.2, 'hue': 0.1}, 'grayscale': {'prob': 0.2}, 'gaussian_blur': {'prob': 0.0}, 'solarization': {'prob': 0.2}, 'equalization': {'prob': 0.0}, 'horizontal_flip': {'prob': 0.5}, 'crop_size': 32, 'num_crops': 1}], 'wandb': {'enabled': True, 'entity': None, 'project': 'solo-learn', 'offline': False}, 'dali': {'device': 'gpu', 'encode_indexes_into_labels': False}, 'auto_umap': {'enabled': False, 'dir': 'auto_umap', 'frequency': 1}, 'debug_augmentations': False, 'seed': 5, 'resume_from_checkpoint': None, 'num_nodes': 1, 'accumulate_grad_batches': 1, 'knn_eval': {'enabled': False, 'k': 20, 'distance_func': 'euclidean'}, 'performance': {'disable_channel_last': False}, 'wandb_run_id': 'gkyyt0r7'}\n",
      "CFG:  barlow_twins-cifar100 gkyyt0r7\n"
     ]
    },
    {
     "name": "stderr",
     "output_type": "stream",
     "text": [
      "Collecting features: 100%|██████████| 390/390 [00:05<00:00, 73.20it/s]\n",
      "Collecting features: 100%|██████████| 79/79 [00:01<00:00, 66.44it/s]\n",
      " 65%|██████▍   | 40/62 [53:00<14:39, 39.96s/it]"
     ]
    },
    {
     "name": "stdout",
     "output_type": "stream",
     "text": [
      "/hdd/backup_cluster_august_2023/Self-Supervised-Learning-with-Predictability-Minimization/Self-Supervised-Learning-with-Predictability-Minimization/trained_models/barlow_twins/mw1brkzw\n",
      "/hdd/backup_cluster_august_2023/Self-Supervised-Learning-with-Predictability-Minimization/Self-Supervised-Learning-with-Predictability-Minimization/trained_models/barlow_twins/mw1brkzw/barlow_twins-imagenet100-mw1brkzw-ep=399.ckpt\n"
     ]
    },
    {
     "name": "stderr",
     "output_type": "stream",
     "text": [
      "/home/david/.local/share/virtualenvs/Self-Supervised-Learning-with-Predictabili-RPXJKYD0/lib/python3.10/site-packages/umap/distances.py:1063: NumbaDeprecationWarning: The 'nopython' keyword argument was not supplied to the 'numba.jit' decorator. The implicit default value for this argument is currently False, but it will be changed to True in Numba 0.59.0. See https://numba.readthedocs.io/en/stable/reference/deprecation.html#deprecation-of-object-mode-fall-back-behaviour-when-using-jit for details.\n",
      "  @numba.jit()\n",
      "/home/david/.local/share/virtualenvs/Self-Supervised-Learning-with-Predictabili-RPXJKYD0/lib/python3.10/site-packages/umap/distances.py:1071: NumbaDeprecationWarning: The 'nopython' keyword argument was not supplied to the 'numba.jit' decorator. The implicit default value for this argument is currently False, but it will be changed to True in Numba 0.59.0. See https://numba.readthedocs.io/en/stable/reference/deprecation.html#deprecation-of-object-mode-fall-back-behaviour-when-using-jit for details.\n",
      "  @numba.jit()\n",
      "/home/david/.local/share/virtualenvs/Self-Supervised-Learning-with-Predictabili-RPXJKYD0/lib/python3.10/site-packages/umap/distances.py:1086: NumbaDeprecationWarning: The 'nopython' keyword argument was not supplied to the 'numba.jit' decorator. The implicit default value for this argument is currently False, but it will be changed to True in Numba 0.59.0. See https://numba.readthedocs.io/en/stable/reference/deprecation.html#deprecation-of-object-mode-fall-back-behaviour-when-using-jit for details.\n",
      "  @numba.jit()\n",
      "/home/david/.local/share/virtualenvs/Self-Supervised-Learning-with-Predictabili-RPXJKYD0/lib/python3.10/site-packages/umap/umap_.py:660: NumbaDeprecationWarning: The 'nopython' keyword argument was not supplied to the 'numba.jit' decorator. The implicit default value for this argument is currently False, but it will be changed to True in Numba 0.59.0. See https://numba.readthedocs.io/en/stable/reference/deprecation.html#deprecation-of-object-mode-fall-back-behaviour-when-using-jit for details.\n",
      "  @numba.jit()\n"
     ]
    },
    {
     "name": "stdout",
     "output_type": "stream",
     "text": [
      "{'name': 'barlow_twins-imagenet100', 'method': 'barlow_twins', 'backbone': {'name': 'resnet18', 'kwargs': {}}, 'method_kwargs': {'proj_hidden_dim': 2048, 'proj_output_dim': 2048, 'scale_loss': 0.1, 'lamb': 0.0051}, 'data': {'dataset': 'imagenet100', 'train_path': '/itet-stor/zdavid/net_scratch/data/ILSVRC2012_img_train_100', 'val_path': '/itet-stor/zdavid/net_scratch/data/ILSVRC2012_img_val_100', 'format': 'dali', 'num_workers': 4, 'no_labels': False, 'fraction': -1, 'num_classes': 100, 'num_large_crops': 2, 'num_small_crops': 0}, 'optimizer': {'name': 'lars', 'batch_size': 128, 'lr': 0.3, 'classifier_lr': 0.1, 'weight_decay': 0.0001, 'kwargs': {'clip_lr': True, 'eta': 0.02, 'exclude_bias_n_norm': True, 'momentum': 0.9}, 'exclude_bias_n_norm_wd': False}, 'scheduler': {'name': 'warmup_cosine', 'lr_decay_steps': None, 'min_lr': 0.0, 'warmup_start_lr': 3e-05, 'warmup_epochs': 10, 'interval': 'step'}, 'checkpoint': {'enabled': True, 'dir': 'trained_models', 'frequency': 1, 'keep_prev': False}, 'auto_resume': {'enabled': True, 'max_hours': 36}, 'max_epochs': 400, 'devices': [0, 1], 'sync_batchnorm': True, 'accelerator': 'gpu', 'strategy': 'ddp', 'precision': 16, 'augmentations': [{'rrc': {'enabled': True, 'crop_min_scale': 0.08, 'crop_max_scale': 1.0}, 'color_jitter': {'prob': 0.8, 'brightness': 0.4, 'contrast': 0.4, 'saturation': 0.2, 'hue': 0.1}, 'grayscale': {'prob': 0.2}, 'gaussian_blur': {'prob': 1.0}, 'solarization': {'prob': 0.0}, 'equalization': {'prob': 0.0}, 'horizontal_flip': {'prob': 0.5}, 'crop_size': 224, 'num_crops': 1}, {'rrc': {'enabled': True, 'crop_min_scale': 0.08, 'crop_max_scale': 1.0}, 'color_jitter': {'prob': 0.8, 'brightness': 0.4, 'contrast': 0.4, 'saturation': 0.2, 'hue': 0.1}, 'grayscale': {'prob': 0.2}, 'gaussian_blur': {'prob': 0.1}, 'solarization': {'prob': 0.2}, 'equalization': {'prob': 0.0}, 'horizontal_flip': {'prob': 0.5}, 'crop_size': 224, 'num_crops': 1}], 'wandb': {'enabled': True, 'entity': None, 'project': 'solo-learn', 'offline': False}, 'dali': {'device': 'gpu', 'encode_indexes_into_labels': False}, 'auto_umap': {'enabled': False, 'dir': 'auto_umap', 'frequency': 1}, 'debug_augmentations': False, 'seed': 5, 'resume_from_checkpoint': None, 'num_nodes': 1, 'accumulate_grad_batches': 1, 'knn_eval': {'enabled': False, 'k': 20, 'distance_func': 'euclidean'}, 'performance': {'disable_channel_last': False}, 'wandb_run_id': 'mw1brkzw'}\n"
     ]
    },
    {
     "name": "stderr",
     "output_type": "stream",
     "text": [
      "WARNING:root:Using scheduler_interval=step might generate issues when resuming a checkpoint.\n",
      "Collecting features:   0%|          | 0/989 [00:00<?, ?it/s]"
     ]
    },
    {
     "name": "stdout",
     "output_type": "stream",
     "text": [
      "{'name': 'barlow_twins-imagenet100', 'method': 'barlow_twins', 'backbone': {'name': 'resnet18', 'kwargs': {}}, 'method_kwargs': {'proj_hidden_dim': 2048, 'proj_output_dim': 2048, 'scale_loss': 0.1, 'lamb': 0.0051}, 'data': {'dataset': 'imagenet100', 'train_path': '/itet-stor/zdavid/net_scratch/data/ILSVRC2012_img_train_100', 'val_path': '/itet-stor/zdavid/net_scratch/data/ILSVRC2012_img_val_100', 'format': 'dali', 'num_workers': 4, 'no_labels': False, 'fraction': -1, 'num_classes': 100, 'num_large_crops': 2, 'num_small_crops': 0}, 'optimizer': {'name': 'lars', 'batch_size': 128, 'lr': 0.3, 'classifier_lr': 0.1, 'weight_decay': 0.0001, 'kwargs': {'clip_lr': True, 'eta': 0.02, 'exclude_bias_n_norm': True, 'momentum': 0.9}, 'exclude_bias_n_norm_wd': False}, 'scheduler': {'name': 'warmup_cosine', 'lr_decay_steps': None, 'min_lr': 0.0, 'warmup_start_lr': 3e-05, 'warmup_epochs': 10, 'interval': 'step'}, 'checkpoint': {'enabled': True, 'dir': 'trained_models', 'frequency': 1, 'keep_prev': False}, 'auto_resume': {'enabled': True, 'max_hours': 36}, 'max_epochs': 400, 'devices': [0, 1], 'sync_batchnorm': True, 'accelerator': 'gpu', 'strategy': 'ddp', 'precision': 16, 'augmentations': [{'rrc': {'enabled': True, 'crop_min_scale': 0.08, 'crop_max_scale': 1.0}, 'color_jitter': {'prob': 0.8, 'brightness': 0.4, 'contrast': 0.4, 'saturation': 0.2, 'hue': 0.1}, 'grayscale': {'prob': 0.2}, 'gaussian_blur': {'prob': 1.0}, 'solarization': {'prob': 0.0}, 'equalization': {'prob': 0.0}, 'horizontal_flip': {'prob': 0.5}, 'crop_size': 224, 'num_crops': 1}, {'rrc': {'enabled': True, 'crop_min_scale': 0.08, 'crop_max_scale': 1.0}, 'color_jitter': {'prob': 0.8, 'brightness': 0.4, 'contrast': 0.4, 'saturation': 0.2, 'hue': 0.1}, 'grayscale': {'prob': 0.2}, 'gaussian_blur': {'prob': 0.1}, 'solarization': {'prob': 0.2}, 'equalization': {'prob': 0.0}, 'horizontal_flip': {'prob': 0.5}, 'crop_size': 224, 'num_crops': 1}], 'wandb': {'enabled': True, 'entity': None, 'project': 'solo-learn', 'offline': False}, 'dali': {'device': 'gpu', 'encode_indexes_into_labels': False}, 'auto_umap': {'enabled': False, 'dir': 'auto_umap', 'frequency': 1}, 'debug_augmentations': False, 'seed': 5, 'resume_from_checkpoint': None, 'num_nodes': 1, 'accumulate_grad_batches': 1, 'knn_eval': {'enabled': False, 'k': 20, 'distance_func': 'euclidean'}, 'performance': {'disable_channel_last': False}, 'wandb_run_id': 'mw1brkzw'}\n",
      "CFG:  barlow_twins-imagenet100 mw1brkzw\n"
     ]
    },
    {
     "name": "stderr",
     "output_type": "stream",
     "text": [
      "Collecting features: 100%|██████████| 989/989 [01:06<00:00, 14.86it/s]\n",
      "Collecting features: 100%|██████████| 40/40 [00:03<00:00, 10.90it/s]\n",
      " 66%|██████▌   | 41/62 [54:41<20:27, 58.44s/it]"
     ]
    },
    {
     "name": "stdout",
     "output_type": "stream",
     "text": [
      "/hdd/backup_cluster_august_2023/Self-Supervised-Learning-with-Predictability-Minimization/Self-Supervised-Learning-with-Predictability-Minimization/trained_models/barlow_twins/krn1yxsb\n",
      "/hdd/backup_cluster_august_2023/Self-Supervised-Learning-with-Predictability-Minimization/Self-Supervised-Learning-with-Predictability-Minimization/trained_models/barlow_twins/krn1yxsb/barlow_twins-cifar100-krn1yxsb-ep=999.ckpt\n"
     ]
    },
    {
     "name": "stderr",
     "output_type": "stream",
     "text": [
      "/home/david/.local/share/virtualenvs/Self-Supervised-Learning-with-Predictabili-RPXJKYD0/lib/python3.10/site-packages/umap/distances.py:1063: NumbaDeprecationWarning: The 'nopython' keyword argument was not supplied to the 'numba.jit' decorator. The implicit default value for this argument is currently False, but it will be changed to True in Numba 0.59.0. See https://numba.readthedocs.io/en/stable/reference/deprecation.html#deprecation-of-object-mode-fall-back-behaviour-when-using-jit for details.\n",
      "  @numba.jit()\n",
      "/home/david/.local/share/virtualenvs/Self-Supervised-Learning-with-Predictabili-RPXJKYD0/lib/python3.10/site-packages/umap/distances.py:1071: NumbaDeprecationWarning: The 'nopython' keyword argument was not supplied to the 'numba.jit' decorator. The implicit default value for this argument is currently False, but it will be changed to True in Numba 0.59.0. See https://numba.readthedocs.io/en/stable/reference/deprecation.html#deprecation-of-object-mode-fall-back-behaviour-when-using-jit for details.\n",
      "  @numba.jit()\n",
      "/home/david/.local/share/virtualenvs/Self-Supervised-Learning-with-Predictabili-RPXJKYD0/lib/python3.10/site-packages/umap/distances.py:1086: NumbaDeprecationWarning: The 'nopython' keyword argument was not supplied to the 'numba.jit' decorator. The implicit default value for this argument is currently False, but it will be changed to True in Numba 0.59.0. See https://numba.readthedocs.io/en/stable/reference/deprecation.html#deprecation-of-object-mode-fall-back-behaviour-when-using-jit for details.\n",
      "  @numba.jit()\n",
      "/home/david/.local/share/virtualenvs/Self-Supervised-Learning-with-Predictabili-RPXJKYD0/lib/python3.10/site-packages/umap/umap_.py:660: NumbaDeprecationWarning: The 'nopython' keyword argument was not supplied to the 'numba.jit' decorator. The implicit default value for this argument is currently False, but it will be changed to True in Numba 0.59.0. See https://numba.readthedocs.io/en/stable/reference/deprecation.html#deprecation-of-object-mode-fall-back-behaviour-when-using-jit for details.\n",
      "  @numba.jit()\n"
     ]
    },
    {
     "name": "stdout",
     "output_type": "stream",
     "text": [
      "{'name': 'barlow_twins-cifar100', 'method': 'barlow_twins', 'backbone': {'name': 'resnet18', 'kwargs': {}}, 'method_kwargs': {'proj_hidden_dim': 2048, 'proj_output_dim': 2048, 'scale_loss': 0.1, 'lamb': 0.0051}, 'data': {'dataset': 'cifar100', 'train_path': './datasets', 'val_path': './datasets', 'format': 'image_folder', 'num_workers': 4, 'no_labels': False, 'fraction': -1, 'num_classes': 100, 'num_large_crops': 2, 'num_small_crops': 0}, 'optimizer': {'name': 'lars', 'batch_size': 256, 'lr': 0.3, 'classifier_lr': 0.1, 'weight_decay': 0.0001, 'kwargs': {'clip_lr': True, 'eta': 0.02, 'exclude_bias_n_norm': True, 'momentum': 0.9}, 'exclude_bias_n_norm_wd': False}, 'scheduler': {'name': 'warmup_cosine', 'lr_decay_steps': None, 'min_lr': 0.0, 'warmup_start_lr': 3e-05, 'warmup_epochs': 10, 'interval': 'step'}, 'checkpoint': {'enabled': True, 'dir': 'trained_models', 'frequency': 1, 'keep_prev': False}, 'auto_resume': {'enabled': True, 'max_hours': 36}, 'max_epochs': 1000, 'devices': [0], 'sync_batchnorm': True, 'accelerator': 'gpu', 'strategy': 'ddp', 'precision': 16, 'augmentations': [{'rrc': {'enabled': True, 'crop_min_scale': 0.08, 'crop_max_scale': 1.0}, 'color_jitter': {'prob': 0.8, 'brightness': 0.4, 'contrast': 0.4, 'saturation': 0.2, 'hue': 0.1}, 'grayscale': {'prob': 0.2}, 'gaussian_blur': {'prob': 0.0}, 'solarization': {'prob': 0.0}, 'equalization': {'prob': 0.0}, 'horizontal_flip': {'prob': 0.5}, 'crop_size': 32, 'num_crops': 1}, {'rrc': {'enabled': True, 'crop_min_scale': 0.08, 'crop_max_scale': 1.0}, 'color_jitter': {'prob': 0.8, 'brightness': 0.4, 'contrast': 0.4, 'saturation': 0.2, 'hue': 0.1}, 'grayscale': {'prob': 0.2}, 'gaussian_blur': {'prob': 0.0}, 'solarization': {'prob': 0.2}, 'equalization': {'prob': 0.0}, 'horizontal_flip': {'prob': 0.5}, 'crop_size': 32, 'num_crops': 1}], 'wandb': {'enabled': True, 'entity': None, 'project': 'solo-learn', 'offline': False}, 'dali': {'device': 'gpu', 'encode_indexes_into_labels': False}, 'auto_umap': {'enabled': False, 'dir': 'auto_umap', 'frequency': 1}, 'debug_augmentations': False, 'seed': 5, 'resume_from_checkpoint': None, 'num_nodes': 1, 'accumulate_grad_batches': 1, 'knn_eval': {'enabled': False, 'k': 20, 'distance_func': 'euclidean'}, 'performance': {'disable_channel_last': False}, 'wandb_run_id': 'krn1yxsb'}\n"
     ]
    },
    {
     "name": "stderr",
     "output_type": "stream",
     "text": [
      "WARNING:root:Using scheduler_interval=step might generate issues when resuming a checkpoint.\n"
     ]
    },
    {
     "name": "stdout",
     "output_type": "stream",
     "text": [
      "Files already downloaded and verified\n",
      "Files already downloaded and verified\n",
      "{'name': 'barlow_twins-cifar100', 'method': 'barlow_twins', 'backbone': {'name': 'resnet18', 'kwargs': {}}, 'method_kwargs': {'proj_hidden_dim': 2048, 'proj_output_dim': 2048, 'scale_loss': 0.1, 'lamb': 0.0051}, 'data': {'dataset': 'cifar100', 'train_path': './datasets', 'val_path': './datasets', 'format': 'image_folder', 'num_workers': 4, 'no_labels': False, 'fraction': -1, 'num_classes': 100, 'num_large_crops': 2, 'num_small_crops': 0}, 'optimizer': {'name': 'lars', 'batch_size': 256, 'lr': 0.3, 'classifier_lr': 0.1, 'weight_decay': 0.0001, 'kwargs': {'clip_lr': True, 'eta': 0.02, 'exclude_bias_n_norm': True, 'momentum': 0.9}, 'exclude_bias_n_norm_wd': False}, 'scheduler': {'name': 'warmup_cosine', 'lr_decay_steps': None, 'min_lr': 0.0, 'warmup_start_lr': 3e-05, 'warmup_epochs': 10, 'interval': 'step'}, 'checkpoint': {'enabled': True, 'dir': 'trained_models', 'frequency': 1, 'keep_prev': False}, 'auto_resume': {'enabled': True, 'max_hours': 36}, 'max_epochs': 1000, 'devices': [0], 'sync_batchnorm': True, 'accelerator': 'gpu', 'strategy': 'ddp', 'precision': 16, 'augmentations': [{'rrc': {'enabled': True, 'crop_min_scale': 0.08, 'crop_max_scale': 1.0}, 'color_jitter': {'prob': 0.8, 'brightness': 0.4, 'contrast': 0.4, 'saturation': 0.2, 'hue': 0.1}, 'grayscale': {'prob': 0.2}, 'gaussian_blur': {'prob': 0.0}, 'solarization': {'prob': 0.0}, 'equalization': {'prob': 0.0}, 'horizontal_flip': {'prob': 0.5}, 'crop_size': 32, 'num_crops': 1}, {'rrc': {'enabled': True, 'crop_min_scale': 0.08, 'crop_max_scale': 1.0}, 'color_jitter': {'prob': 0.8, 'brightness': 0.4, 'contrast': 0.4, 'saturation': 0.2, 'hue': 0.1}, 'grayscale': {'prob': 0.2}, 'gaussian_blur': {'prob': 0.0}, 'solarization': {'prob': 0.2}, 'equalization': {'prob': 0.0}, 'horizontal_flip': {'prob': 0.5}, 'crop_size': 32, 'num_crops': 1}], 'wandb': {'enabled': True, 'entity': None, 'project': 'solo-learn', 'offline': False}, 'dali': {'device': 'gpu', 'encode_indexes_into_labels': False}, 'auto_umap': {'enabled': False, 'dir': 'auto_umap', 'frequency': 1}, 'debug_augmentations': False, 'seed': 5, 'resume_from_checkpoint': None, 'num_nodes': 1, 'accumulate_grad_batches': 1, 'knn_eval': {'enabled': False, 'k': 20, 'distance_func': 'euclidean'}, 'performance': {'disable_channel_last': False}, 'wandb_run_id': 'krn1yxsb'}\n",
      "CFG:  barlow_twins-cifar100 krn1yxsb\n"
     ]
    },
    {
     "name": "stderr",
     "output_type": "stream",
     "text": [
      "Collecting features: 100%|██████████| 390/390 [00:05<00:00, 73.23it/s]\n",
      "Collecting features: 100%|██████████| 79/79 [00:01<00:00, 64.88it/s]\n",
      " 68%|██████▊   | 42/62 [55:07<16:12, 48.60s/it]"
     ]
    },
    {
     "name": "stdout",
     "output_type": "stream",
     "text": [
      "/hdd/backup_cluster_august_2023/Self-Supervised-Learning-with-Predictability-Minimization/Self-Supervised-Learning-with-Predictability-Minimization/trained_models/vibcreg/3ih3ejt3\n",
      "/hdd/backup_cluster_august_2023/Self-Supervised-Learning-with-Predictability-Minimization/Self-Supervised-Learning-with-Predictability-Minimization/trained_models/vibcreg/3ih3ejt3/vibcreg-cifar100-3ih3ejt3-ep=999.ckpt\n"
     ]
    },
    {
     "name": "stderr",
     "output_type": "stream",
     "text": [
      "/home/david/.local/share/virtualenvs/Self-Supervised-Learning-with-Predictabili-RPXJKYD0/lib/python3.10/site-packages/umap/distances.py:1063: NumbaDeprecationWarning: The 'nopython' keyword argument was not supplied to the 'numba.jit' decorator. The implicit default value for this argument is currently False, but it will be changed to True in Numba 0.59.0. See https://numba.readthedocs.io/en/stable/reference/deprecation.html#deprecation-of-object-mode-fall-back-behaviour-when-using-jit for details.\n",
      "  @numba.jit()\n",
      "/home/david/.local/share/virtualenvs/Self-Supervised-Learning-with-Predictabili-RPXJKYD0/lib/python3.10/site-packages/umap/distances.py:1071: NumbaDeprecationWarning: The 'nopython' keyword argument was not supplied to the 'numba.jit' decorator. The implicit default value for this argument is currently False, but it will be changed to True in Numba 0.59.0. See https://numba.readthedocs.io/en/stable/reference/deprecation.html#deprecation-of-object-mode-fall-back-behaviour-when-using-jit for details.\n",
      "  @numba.jit()\n",
      "/home/david/.local/share/virtualenvs/Self-Supervised-Learning-with-Predictabili-RPXJKYD0/lib/python3.10/site-packages/umap/distances.py:1086: NumbaDeprecationWarning: The 'nopython' keyword argument was not supplied to the 'numba.jit' decorator. The implicit default value for this argument is currently False, but it will be changed to True in Numba 0.59.0. See https://numba.readthedocs.io/en/stable/reference/deprecation.html#deprecation-of-object-mode-fall-back-behaviour-when-using-jit for details.\n",
      "  @numba.jit()\n",
      "/home/david/.local/share/virtualenvs/Self-Supervised-Learning-with-Predictabili-RPXJKYD0/lib/python3.10/site-packages/umap/umap_.py:660: NumbaDeprecationWarning: The 'nopython' keyword argument was not supplied to the 'numba.jit' decorator. The implicit default value for this argument is currently False, but it will be changed to True in Numba 0.59.0. See https://numba.readthedocs.io/en/stable/reference/deprecation.html#deprecation-of-object-mode-fall-back-behaviour-when-using-jit for details.\n",
      "  @numba.jit()\n"
     ]
    },
    {
     "name": "stdout",
     "output_type": "stream",
     "text": [
      "{'name': 'vibcreg-cifar100', 'method': 'vibcreg', 'backbone': {'name': 'resnet18', 'kwargs': {}}, 'method_kwargs': {'proj_hidden_dim': 2048, 'proj_output_dim': 2048, 'sim_loss_weight': 25.0, 'var_loss_weight': 25.0, 'cov_loss_weight': 200.0, 'iternorm': True}, 'data': {'dataset': 'cifar100', 'train_path': './datasets', 'val_path': 'datasets/imagenet100/val', 'format': 'image_folder', 'num_workers': 4, 'no_labels': False, 'fraction': -1, 'num_classes': 100, 'num_large_crops': 2, 'num_small_crops': 0}, 'augmentations': [{'rrc': {'enabled': True, 'crop_min_scale': 0.2, 'crop_max_scale': 1.0}, 'color_jitter': {'prob': 0.8, 'brightness': 0.4, 'contrast': 0.4, 'saturation': 0.2, 'hue': 0.1}, 'grayscale': {'prob': 0.2}, 'gaussian_blur': {'prob': 0.0}, 'solarization': {'prob': 0.1}, 'equalization': {'prob': 0.0}, 'horizontal_flip': {'prob': 0.5}, 'crop_size': 32, 'num_crops': 2}], 'optimizer': {'name': 'lars', 'batch_size': 256, 'lr': 0.3, 'classifier_lr': 0.1, 'weight_decay': 0.0001, 'kwargs': {'eta': 0.02, 'exclude_bias_n_norm': True, 'momentum': 0.9, 'clip_lr': False}, 'exclude_bias_n_norm_wd': False}, 'scheduler': {'name': 'warmup_cosine', 'lr_decay_steps': None, 'min_lr': 0.0, 'warmup_start_lr': 3e-05, 'warmup_epochs': 10, 'interval': 'step'}, 'checkpoint': {'enabled': True, 'dir': 'trained_models', 'frequency': 1, 'keep_prev': False}, 'auto_resume': {'enabled': True, 'max_hours': 36}, 'max_epochs': 1000, 'devices': [0], 'sync_batchnorm': True, 'accelerator': 'gpu', 'strategy': 'ddp', 'precision': 16, 'wandb': {'enabled': True, 'entity': None, 'project': 'solo-learn', 'offline': False}, 'dali': {'device': 'gpu', 'encode_indexes_into_labels': False}, 'auto_umap': {'enabled': False, 'dir': 'auto_umap', 'frequency': 1}, 'debug_augmentations': False, 'seed': 5, 'resume_from_checkpoint': None, 'num_nodes': 1, 'accumulate_grad_batches': 1, 'knn_eval': {'enabled': False, 'k': 20, 'distance_func': 'euclidean'}, 'performance': {'disable_channel_last': False}, 'wandb_run_id': '3ih3ejt3'}\n"
     ]
    },
    {
     "name": "stderr",
     "output_type": "stream",
     "text": [
      "WARNING:root:Using scheduler_interval=step might generate issues when resuming a checkpoint.\n"
     ]
    },
    {
     "name": "stdout",
     "output_type": "stream",
     "text": [
      "Files already downloaded and verified\n",
      "Files already downloaded and verified\n",
      "{'name': 'vibcreg-cifar100', 'method': 'vibcreg', 'backbone': {'name': 'resnet18', 'kwargs': {}}, 'method_kwargs': {'proj_hidden_dim': 2048, 'proj_output_dim': 2048, 'sim_loss_weight': 25.0, 'var_loss_weight': 25.0, 'cov_loss_weight': 200.0, 'iternorm': True}, 'data': {'dataset': 'cifar100', 'train_path': './datasets', 'val_path': 'datasets/imagenet100/val', 'format': 'image_folder', 'num_workers': 4, 'no_labels': False, 'fraction': -1, 'num_classes': 100, 'num_large_crops': 2, 'num_small_crops': 0}, 'augmentations': [{'rrc': {'enabled': True, 'crop_min_scale': 0.2, 'crop_max_scale': 1.0}, 'color_jitter': {'prob': 0.8, 'brightness': 0.4, 'contrast': 0.4, 'saturation': 0.2, 'hue': 0.1}, 'grayscale': {'prob': 0.2}, 'gaussian_blur': {'prob': 0.0}, 'solarization': {'prob': 0.1}, 'equalization': {'prob': 0.0}, 'horizontal_flip': {'prob': 0.5}, 'crop_size': 32, 'num_crops': 2}], 'optimizer': {'name': 'lars', 'batch_size': 256, 'lr': 0.3, 'classifier_lr': 0.1, 'weight_decay': 0.0001, 'kwargs': {'eta': 0.02, 'exclude_bias_n_norm': True, 'momentum': 0.9, 'clip_lr': False}, 'exclude_bias_n_norm_wd': False}, 'scheduler': {'name': 'warmup_cosine', 'lr_decay_steps': None, 'min_lr': 0.0, 'warmup_start_lr': 3e-05, 'warmup_epochs': 10, 'interval': 'step'}, 'checkpoint': {'enabled': True, 'dir': 'trained_models', 'frequency': 1, 'keep_prev': False}, 'auto_resume': {'enabled': True, 'max_hours': 36}, 'max_epochs': 1000, 'devices': [0], 'sync_batchnorm': True, 'accelerator': 'gpu', 'strategy': 'ddp', 'precision': 16, 'wandb': {'enabled': True, 'entity': None, 'project': 'solo-learn', 'offline': False}, 'dali': {'device': 'gpu', 'encode_indexes_into_labels': False}, 'auto_umap': {'enabled': False, 'dir': 'auto_umap', 'frequency': 1}, 'debug_augmentations': False, 'seed': 5, 'resume_from_checkpoint': None, 'num_nodes': 1, 'accumulate_grad_batches': 1, 'knn_eval': {'enabled': False, 'k': 20, 'distance_func': 'euclidean'}, 'performance': {'disable_channel_last': False}, 'wandb_run_id': '3ih3ejt3'}\n",
      "CFG:  vibcreg-cifar100 3ih3ejt3\n"
     ]
    },
    {
     "name": "stderr",
     "output_type": "stream",
     "text": [
      "Collecting features: 100%|██████████| 390/390 [00:05<00:00, 74.04it/s]\n",
      "/home/david/Programming/Self-Supervised-Learning-with-Predictability-Minimization/solo/utils/corr.py:54: RuntimeWarning: invalid value encountered in divide\n",
      "  data_standardized = (data - data.mean(0)) / data.std(0)\n",
      "Collecting features: 100%|██████████| 79/79 [00:01<00:00, 64.75it/s]\n",
      " 69%|██████▉   | 43/62 [55:32<13:09, 41.57s/it]"
     ]
    },
    {
     "name": "stdout",
     "output_type": "stream",
     "text": [
      "/hdd/backup_cluster_august_2023/Self-Supervised-Learning-with-Predictability-Minimization/Self-Supervised-Learning-with-Predictability-Minimization/trained_models/vibcreg/4zre6v8l\n",
      "/hdd/backup_cluster_august_2023/Self-Supervised-Learning-with-Predictability-Minimization/Self-Supervised-Learning-with-Predictability-Minimization/trained_models/vibcreg/4zre6v8l/vibcreg-cifar10-4zre6v8l-ep=999.ckpt\n"
     ]
    },
    {
     "name": "stderr",
     "output_type": "stream",
     "text": [
      "/home/david/.local/share/virtualenvs/Self-Supervised-Learning-with-Predictabili-RPXJKYD0/lib/python3.10/site-packages/umap/distances.py:1063: NumbaDeprecationWarning: The 'nopython' keyword argument was not supplied to the 'numba.jit' decorator. The implicit default value for this argument is currently False, but it will be changed to True in Numba 0.59.0. See https://numba.readthedocs.io/en/stable/reference/deprecation.html#deprecation-of-object-mode-fall-back-behaviour-when-using-jit for details.\n",
      "  @numba.jit()\n",
      "/home/david/.local/share/virtualenvs/Self-Supervised-Learning-with-Predictabili-RPXJKYD0/lib/python3.10/site-packages/umap/distances.py:1071: NumbaDeprecationWarning: The 'nopython' keyword argument was not supplied to the 'numba.jit' decorator. The implicit default value for this argument is currently False, but it will be changed to True in Numba 0.59.0. See https://numba.readthedocs.io/en/stable/reference/deprecation.html#deprecation-of-object-mode-fall-back-behaviour-when-using-jit for details.\n",
      "  @numba.jit()\n",
      "/home/david/.local/share/virtualenvs/Self-Supervised-Learning-with-Predictabili-RPXJKYD0/lib/python3.10/site-packages/umap/distances.py:1086: NumbaDeprecationWarning: The 'nopython' keyword argument was not supplied to the 'numba.jit' decorator. The implicit default value for this argument is currently False, but it will be changed to True in Numba 0.59.0. See https://numba.readthedocs.io/en/stable/reference/deprecation.html#deprecation-of-object-mode-fall-back-behaviour-when-using-jit for details.\n",
      "  @numba.jit()\n",
      "/home/david/.local/share/virtualenvs/Self-Supervised-Learning-with-Predictabili-RPXJKYD0/lib/python3.10/site-packages/umap/umap_.py:660: NumbaDeprecationWarning: The 'nopython' keyword argument was not supplied to the 'numba.jit' decorator. The implicit default value for this argument is currently False, but it will be changed to True in Numba 0.59.0. See https://numba.readthedocs.io/en/stable/reference/deprecation.html#deprecation-of-object-mode-fall-back-behaviour-when-using-jit for details.\n",
      "  @numba.jit()\n"
     ]
    },
    {
     "name": "stdout",
     "output_type": "stream",
     "text": [
      "{'name': 'vibcreg-cifar10', 'method': 'vibcreg', 'backbone': {'name': 'resnet18', 'kwargs': {}}, 'method_kwargs': {'proj_hidden_dim': 2048, 'proj_output_dim': 2048, 'sim_loss_weight': 25.0, 'var_loss_weight': 25.0, 'cov_loss_weight': 200.0, 'iternorm': True}, 'data': {'dataset': 'cifar10', 'train_path': './datasets', 'val_path': 'datasets/imagenet100/val', 'format': 'image_folder', 'num_workers': 4, 'no_labels': False, 'fraction': -1, 'num_classes': 10, 'num_large_crops': 2, 'num_small_crops': 0}, 'augmentations': [{'rrc': {'enabled': True, 'crop_min_scale': 0.2, 'crop_max_scale': 1.0}, 'color_jitter': {'prob': 0.8, 'brightness': 0.4, 'contrast': 0.4, 'saturation': 0.2, 'hue': 0.1}, 'grayscale': {'prob': 0.2}, 'gaussian_blur': {'prob': 0.0}, 'solarization': {'prob': 0.1}, 'equalization': {'prob': 0.0}, 'horizontal_flip': {'prob': 0.5}, 'crop_size': 32, 'num_crops': 2}], 'optimizer': {'name': 'lars', 'batch_size': 256, 'lr': 0.3, 'classifier_lr': 0.1, 'weight_decay': 0.0001, 'kwargs': {'eta': 0.02, 'exclude_bias_n_norm': True, 'momentum': 0.9, 'clip_lr': False}, 'exclude_bias_n_norm_wd': False}, 'scheduler': {'name': 'warmup_cosine', 'lr_decay_steps': None, 'min_lr': 0.0, 'warmup_start_lr': 3e-05, 'warmup_epochs': 10, 'interval': 'step'}, 'checkpoint': {'enabled': True, 'dir': 'trained_models', 'frequency': 1, 'keep_prev': False}, 'auto_resume': {'enabled': True, 'max_hours': 36}, 'max_epochs': 1000, 'devices': [0], 'sync_batchnorm': True, 'accelerator': 'gpu', 'strategy': 'ddp', 'precision': 16, 'wandb': {'enabled': True, 'entity': None, 'project': 'solo-learn', 'offline': False}, 'dali': {'device': 'gpu', 'encode_indexes_into_labels': False}, 'auto_umap': {'enabled': False, 'dir': 'auto_umap', 'frequency': 1}, 'debug_augmentations': False, 'seed': 5, 'resume_from_checkpoint': None, 'num_nodes': 1, 'accumulate_grad_batches': 1, 'knn_eval': {'enabled': False, 'k': 20, 'distance_func': 'euclidean'}, 'performance': {'disable_channel_last': False}, 'wandb_run_id': '4zre6v8l'}\n"
     ]
    },
    {
     "name": "stderr",
     "output_type": "stream",
     "text": [
      "WARNING:root:Using scheduler_interval=step might generate issues when resuming a checkpoint.\n"
     ]
    },
    {
     "name": "stdout",
     "output_type": "stream",
     "text": [
      "Files already downloaded and verified\n",
      "Files already downloaded and verified\n",
      "{'name': 'vibcreg-cifar10', 'method': 'vibcreg', 'backbone': {'name': 'resnet18', 'kwargs': {}}, 'method_kwargs': {'proj_hidden_dim': 2048, 'proj_output_dim': 2048, 'sim_loss_weight': 25.0, 'var_loss_weight': 25.0, 'cov_loss_weight': 200.0, 'iternorm': True}, 'data': {'dataset': 'cifar10', 'train_path': './datasets', 'val_path': 'datasets/imagenet100/val', 'format': 'image_folder', 'num_workers': 4, 'no_labels': False, 'fraction': -1, 'num_classes': 10, 'num_large_crops': 2, 'num_small_crops': 0}, 'augmentations': [{'rrc': {'enabled': True, 'crop_min_scale': 0.2, 'crop_max_scale': 1.0}, 'color_jitter': {'prob': 0.8, 'brightness': 0.4, 'contrast': 0.4, 'saturation': 0.2, 'hue': 0.1}, 'grayscale': {'prob': 0.2}, 'gaussian_blur': {'prob': 0.0}, 'solarization': {'prob': 0.1}, 'equalization': {'prob': 0.0}, 'horizontal_flip': {'prob': 0.5}, 'crop_size': 32, 'num_crops': 2}], 'optimizer': {'name': 'lars', 'batch_size': 256, 'lr': 0.3, 'classifier_lr': 0.1, 'weight_decay': 0.0001, 'kwargs': {'eta': 0.02, 'exclude_bias_n_norm': True, 'momentum': 0.9, 'clip_lr': False}, 'exclude_bias_n_norm_wd': False}, 'scheduler': {'name': 'warmup_cosine', 'lr_decay_steps': None, 'min_lr': 0.0, 'warmup_start_lr': 3e-05, 'warmup_epochs': 10, 'interval': 'step'}, 'checkpoint': {'enabled': True, 'dir': 'trained_models', 'frequency': 1, 'keep_prev': False}, 'auto_resume': {'enabled': True, 'max_hours': 36}, 'max_epochs': 1000, 'devices': [0], 'sync_batchnorm': True, 'accelerator': 'gpu', 'strategy': 'ddp', 'precision': 16, 'wandb': {'enabled': True, 'entity': None, 'project': 'solo-learn', 'offline': False}, 'dali': {'device': 'gpu', 'encode_indexes_into_labels': False}, 'auto_umap': {'enabled': False, 'dir': 'auto_umap', 'frequency': 1}, 'debug_augmentations': False, 'seed': 5, 'resume_from_checkpoint': None, 'num_nodes': 1, 'accumulate_grad_batches': 1, 'knn_eval': {'enabled': False, 'k': 20, 'distance_func': 'euclidean'}, 'performance': {'disable_channel_last': False}, 'wandb_run_id': '4zre6v8l'}\n",
      "CFG:  vibcreg-cifar10 4zre6v8l\n"
     ]
    },
    {
     "name": "stderr",
     "output_type": "stream",
     "text": [
      "Collecting features: 100%|██████████| 390/390 [00:05<00:00, 73.86it/s]\n",
      "/home/david/Programming/Self-Supervised-Learning-with-Predictability-Minimization/solo/utils/corr.py:54: RuntimeWarning: invalid value encountered in divide\n",
      "  data_standardized = (data - data.mean(0)) / data.std(0)\n",
      "Collecting features: 100%|██████████| 79/79 [00:01<00:00, 65.77it/s]\n",
      " 71%|███████   | 44/62 [55:58<11:01, 36.76s/it]"
     ]
    },
    {
     "name": "stdout",
     "output_type": "stream",
     "text": [
      "/hdd/backup_cluster_august_2023/Self-Supervised-Learning-with-Predictability-Minimization/Self-Supervised-Learning-with-Predictability-Minimization/trained_models/vibcreg/hbjjmktg\n",
      "/hdd/backup_cluster_august_2023/Self-Supervised-Learning-with-Predictability-Minimization/Self-Supervised-Learning-with-Predictability-Minimization/trained_models/vibcreg/hbjjmktg/vibcreg-imagenet100-hbjjmktg-ep=399.ckpt\n"
     ]
    },
    {
     "name": "stderr",
     "output_type": "stream",
     "text": [
      "/home/david/.local/share/virtualenvs/Self-Supervised-Learning-with-Predictabili-RPXJKYD0/lib/python3.10/site-packages/umap/distances.py:1063: NumbaDeprecationWarning: The 'nopython' keyword argument was not supplied to the 'numba.jit' decorator. The implicit default value for this argument is currently False, but it will be changed to True in Numba 0.59.0. See https://numba.readthedocs.io/en/stable/reference/deprecation.html#deprecation-of-object-mode-fall-back-behaviour-when-using-jit for details.\n",
      "  @numba.jit()\n",
      "/home/david/.local/share/virtualenvs/Self-Supervised-Learning-with-Predictabili-RPXJKYD0/lib/python3.10/site-packages/umap/distances.py:1071: NumbaDeprecationWarning: The 'nopython' keyword argument was not supplied to the 'numba.jit' decorator. The implicit default value for this argument is currently False, but it will be changed to True in Numba 0.59.0. See https://numba.readthedocs.io/en/stable/reference/deprecation.html#deprecation-of-object-mode-fall-back-behaviour-when-using-jit for details.\n",
      "  @numba.jit()\n",
      "/home/david/.local/share/virtualenvs/Self-Supervised-Learning-with-Predictabili-RPXJKYD0/lib/python3.10/site-packages/umap/distances.py:1086: NumbaDeprecationWarning: The 'nopython' keyword argument was not supplied to the 'numba.jit' decorator. The implicit default value for this argument is currently False, but it will be changed to True in Numba 0.59.0. See https://numba.readthedocs.io/en/stable/reference/deprecation.html#deprecation-of-object-mode-fall-back-behaviour-when-using-jit for details.\n",
      "  @numba.jit()\n",
      "/home/david/.local/share/virtualenvs/Self-Supervised-Learning-with-Predictabili-RPXJKYD0/lib/python3.10/site-packages/umap/umap_.py:660: NumbaDeprecationWarning: The 'nopython' keyword argument was not supplied to the 'numba.jit' decorator. The implicit default value for this argument is currently False, but it will be changed to True in Numba 0.59.0. See https://numba.readthedocs.io/en/stable/reference/deprecation.html#deprecation-of-object-mode-fall-back-behaviour-when-using-jit for details.\n",
      "  @numba.jit()\n"
     ]
    },
    {
     "name": "stdout",
     "output_type": "stream",
     "text": [
      "{'name': 'vibcreg-imagenet100', 'method': 'vibcreg', 'backbone': {'name': 'resnet18', 'kwargs': {}}, 'method_kwargs': {'proj_hidden_dim': 2048, 'proj_output_dim': 2048, 'sim_loss_weight': 25.0, 'var_loss_weight': 25.0, 'cov_loss_weight': 200.0, 'iternorm': True}, 'data': {'dataset': 'imagenet100', 'train_path': '/itet-stor/zdavid/net_scratch/data/ILSVRC2012_img_train_100', 'val_path': '/itet-stor/zdavid/net_scratch/data/ILSVRC2012_img_val_100', 'format': 'dali', 'num_workers': 4, 'no_labels': False, 'fraction': -1, 'num_classes': 100, 'num_large_crops': 2, 'num_small_crops': 0}, 'optimizer': {'name': 'lars', 'batch_size': 128, 'lr': 0.3, 'classifier_lr': 0.1, 'weight_decay': 0.0001, 'kwargs': {'clip_lr': True, 'eta': 0.02, 'exclude_bias_n_norm': True, 'momentum': 0.9}, 'exclude_bias_n_norm_wd': False}, 'scheduler': {'name': 'warmup_cosine', 'lr_decay_steps': None, 'min_lr': 0.0, 'warmup_start_lr': 3e-05, 'warmup_epochs': 10, 'interval': 'step'}, 'checkpoint': {'enabled': True, 'dir': 'trained_models', 'frequency': 1, 'keep_prev': False}, 'auto_resume': {'enabled': True, 'max_hours': 36}, 'max_epochs': 400, 'devices': [0, 1], 'sync_batchnorm': True, 'accelerator': 'gpu', 'strategy': 'ddp', 'precision': 16, 'augmentations': [{'rrc': {'enabled': True, 'crop_min_scale': 0.2, 'crop_max_scale': 1.0}, 'color_jitter': {'prob': 0.8, 'brightness': 0.4, 'contrast': 0.4, 'saturation': 0.2, 'hue': 0.1}, 'grayscale': {'prob': 0.2}, 'gaussian_blur': {'prob': 0.5}, 'solarization': {'prob': 0.1}, 'equalization': {'prob': 0.0}, 'horizontal_flip': {'prob': 0.5}, 'crop_size': 224, 'num_crops': 2}], 'wandb': {'enabled': True, 'entity': None, 'project': 'solo-learn', 'offline': False}, 'dali': {'device': 'gpu', 'encode_indexes_into_labels': False}, 'auto_umap': {'enabled': False, 'dir': 'auto_umap', 'frequency': 1}, 'debug_augmentations': False, 'seed': 5, 'resume_from_checkpoint': None, 'num_nodes': 1, 'accumulate_grad_batches': 1, 'knn_eval': {'enabled': False, 'k': 20, 'distance_func': 'euclidean'}, 'performance': {'disable_channel_last': False}, 'wandb_run_id': 'hbjjmktg'}\n"
     ]
    },
    {
     "name": "stderr",
     "output_type": "stream",
     "text": [
      "WARNING:root:Using scheduler_interval=step might generate issues when resuming a checkpoint.\n",
      "Collecting features:   0%|          | 0/989 [00:00<?, ?it/s]"
     ]
    },
    {
     "name": "stdout",
     "output_type": "stream",
     "text": [
      "{'name': 'vibcreg-imagenet100', 'method': 'vibcreg', 'backbone': {'name': 'resnet18', 'kwargs': {}}, 'method_kwargs': {'proj_hidden_dim': 2048, 'proj_output_dim': 2048, 'sim_loss_weight': 25.0, 'var_loss_weight': 25.0, 'cov_loss_weight': 200.0, 'iternorm': True}, 'data': {'dataset': 'imagenet100', 'train_path': '/itet-stor/zdavid/net_scratch/data/ILSVRC2012_img_train_100', 'val_path': '/itet-stor/zdavid/net_scratch/data/ILSVRC2012_img_val_100', 'format': 'dali', 'num_workers': 4, 'no_labels': False, 'fraction': -1, 'num_classes': 100, 'num_large_crops': 2, 'num_small_crops': 0}, 'optimizer': {'name': 'lars', 'batch_size': 128, 'lr': 0.3, 'classifier_lr': 0.1, 'weight_decay': 0.0001, 'kwargs': {'clip_lr': True, 'eta': 0.02, 'exclude_bias_n_norm': True, 'momentum': 0.9}, 'exclude_bias_n_norm_wd': False}, 'scheduler': {'name': 'warmup_cosine', 'lr_decay_steps': None, 'min_lr': 0.0, 'warmup_start_lr': 3e-05, 'warmup_epochs': 10, 'interval': 'step'}, 'checkpoint': {'enabled': True, 'dir': 'trained_models', 'frequency': 1, 'keep_prev': False}, 'auto_resume': {'enabled': True, 'max_hours': 36}, 'max_epochs': 400, 'devices': [0, 1], 'sync_batchnorm': True, 'accelerator': 'gpu', 'strategy': 'ddp', 'precision': 16, 'augmentations': [{'rrc': {'enabled': True, 'crop_min_scale': 0.2, 'crop_max_scale': 1.0}, 'color_jitter': {'prob': 0.8, 'brightness': 0.4, 'contrast': 0.4, 'saturation': 0.2, 'hue': 0.1}, 'grayscale': {'prob': 0.2}, 'gaussian_blur': {'prob': 0.5}, 'solarization': {'prob': 0.1}, 'equalization': {'prob': 0.0}, 'horizontal_flip': {'prob': 0.5}, 'crop_size': 224, 'num_crops': 2}], 'wandb': {'enabled': True, 'entity': None, 'project': 'solo-learn', 'offline': False}, 'dali': {'device': 'gpu', 'encode_indexes_into_labels': False}, 'auto_umap': {'enabled': False, 'dir': 'auto_umap', 'frequency': 1}, 'debug_augmentations': False, 'seed': 5, 'resume_from_checkpoint': None, 'num_nodes': 1, 'accumulate_grad_batches': 1, 'knn_eval': {'enabled': False, 'k': 20, 'distance_func': 'euclidean'}, 'performance': {'disable_channel_last': False}, 'wandb_run_id': 'hbjjmktg'}\n",
      "CFG:  vibcreg-imagenet100 hbjjmktg\n"
     ]
    },
    {
     "name": "stderr",
     "output_type": "stream",
     "text": [
      "Collecting features: 100%|██████████| 989/989 [01:08<00:00, 14.40it/s]\n",
      "Collecting features: 100%|██████████| 40/40 [00:03<00:00, 10.81it/s]\n",
      " 73%|███████▎  | 45/62 [57:42<16:10, 57.08s/it]"
     ]
    },
    {
     "name": "stdout",
     "output_type": "stream",
     "text": [
      "/hdd/backup_cluster_august_2023/Self-Supervised-Learning-with-Predictability-Minimization/Self-Supervised-Learning-with-Predictability-Minimization/trained_models/vibcreg/9tjxisb5\n",
      "/hdd/backup_cluster_august_2023/Self-Supervised-Learning-with-Predictability-Minimization/Self-Supervised-Learning-with-Predictability-Minimization/trained_models/vibcreg/9tjxisb5/vibcreg-imagenet100-9tjxisb5-ep=399.ckpt\n"
     ]
    },
    {
     "name": "stderr",
     "output_type": "stream",
     "text": [
      "/home/david/.local/share/virtualenvs/Self-Supervised-Learning-with-Predictabili-RPXJKYD0/lib/python3.10/site-packages/umap/distances.py:1063: NumbaDeprecationWarning: The 'nopython' keyword argument was not supplied to the 'numba.jit' decorator. The implicit default value for this argument is currently False, but it will be changed to True in Numba 0.59.0. See https://numba.readthedocs.io/en/stable/reference/deprecation.html#deprecation-of-object-mode-fall-back-behaviour-when-using-jit for details.\n",
      "  @numba.jit()\n",
      "/home/david/.local/share/virtualenvs/Self-Supervised-Learning-with-Predictabili-RPXJKYD0/lib/python3.10/site-packages/umap/distances.py:1071: NumbaDeprecationWarning: The 'nopython' keyword argument was not supplied to the 'numba.jit' decorator. The implicit default value for this argument is currently False, but it will be changed to True in Numba 0.59.0. See https://numba.readthedocs.io/en/stable/reference/deprecation.html#deprecation-of-object-mode-fall-back-behaviour-when-using-jit for details.\n",
      "  @numba.jit()\n",
      "/home/david/.local/share/virtualenvs/Self-Supervised-Learning-with-Predictabili-RPXJKYD0/lib/python3.10/site-packages/umap/distances.py:1086: NumbaDeprecationWarning: The 'nopython' keyword argument was not supplied to the 'numba.jit' decorator. The implicit default value for this argument is currently False, but it will be changed to True in Numba 0.59.0. See https://numba.readthedocs.io/en/stable/reference/deprecation.html#deprecation-of-object-mode-fall-back-behaviour-when-using-jit for details.\n",
      "  @numba.jit()\n",
      "/home/david/.local/share/virtualenvs/Self-Supervised-Learning-with-Predictabili-RPXJKYD0/lib/python3.10/site-packages/umap/umap_.py:660: NumbaDeprecationWarning: The 'nopython' keyword argument was not supplied to the 'numba.jit' decorator. The implicit default value for this argument is currently False, but it will be changed to True in Numba 0.59.0. See https://numba.readthedocs.io/en/stable/reference/deprecation.html#deprecation-of-object-mode-fall-back-behaviour-when-using-jit for details.\n",
      "  @numba.jit()\n"
     ]
    },
    {
     "name": "stdout",
     "output_type": "stream",
     "text": [
      "{'name': 'vibcreg-imagenet100', 'method': 'vibcreg', 'backbone': {'name': 'resnet18', 'kwargs': {}}, 'method_kwargs': {'proj_hidden_dim': 2048, 'proj_output_dim': 2048, 'sim_loss_weight': 25.0, 'var_loss_weight': 25.0, 'cov_loss_weight': 200.0, 'iternorm': True}, 'data': {'dataset': 'imagenet100', 'train_path': '/itet-stor/zdavid/net_scratch/data/ILSVRC2012_img_train_100', 'val_path': '/itet-stor/zdavid/net_scratch/data/ILSVRC2012_img_val_100', 'format': 'dali', 'num_workers': 4, 'no_labels': False, 'fraction': -1, 'num_classes': 100, 'num_large_crops': 2, 'num_small_crops': 0}, 'optimizer': {'name': 'lars', 'batch_size': 128, 'lr': 0.3, 'classifier_lr': 0.1, 'weight_decay': 0.0001, 'kwargs': {'clip_lr': True, 'eta': 0.02, 'exclude_bias_n_norm': True, 'momentum': 0.9}, 'exclude_bias_n_norm_wd': False}, 'scheduler': {'name': 'warmup_cosine', 'lr_decay_steps': None, 'min_lr': 0.0, 'warmup_start_lr': 3e-05, 'warmup_epochs': 10, 'interval': 'step'}, 'checkpoint': {'enabled': True, 'dir': 'trained_models', 'frequency': 1, 'keep_prev': False}, 'auto_resume': {'enabled': True, 'max_hours': 36}, 'max_epochs': 400, 'devices': [0, 1], 'sync_batchnorm': True, 'accelerator': 'gpu', 'strategy': 'ddp', 'precision': 16, 'augmentations': [{'rrc': {'enabled': True, 'crop_min_scale': 0.2, 'crop_max_scale': 1.0}, 'color_jitter': {'prob': 0.8, 'brightness': 0.4, 'contrast': 0.4, 'saturation': 0.2, 'hue': 0.1}, 'grayscale': {'prob': 0.2}, 'gaussian_blur': {'prob': 0.5}, 'solarization': {'prob': 0.1}, 'equalization': {'prob': 0.0}, 'horizontal_flip': {'prob': 0.5}, 'crop_size': 224, 'num_crops': 2}], 'wandb': {'enabled': True, 'entity': None, 'project': 'solo-learn', 'offline': False}, 'dali': {'device': 'gpu', 'encode_indexes_into_labels': False}, 'auto_umap': {'enabled': False, 'dir': 'auto_umap', 'frequency': 1}, 'debug_augmentations': False, 'seed': 5, 'resume_from_checkpoint': None, 'num_nodes': 1, 'accumulate_grad_batches': 1, 'knn_eval': {'enabled': False, 'k': 20, 'distance_func': 'euclidean'}, 'performance': {'disable_channel_last': False}, 'wandb_run_id': '9tjxisb5'}\n"
     ]
    },
    {
     "name": "stderr",
     "output_type": "stream",
     "text": [
      "WARNING:root:Using scheduler_interval=step might generate issues when resuming a checkpoint.\n"
     ]
    },
    {
     "name": "stdout",
     "output_type": "stream",
     "text": [
      "{'name': 'vibcreg-imagenet100', 'method': 'vibcreg', 'backbone': {'name': 'resnet18', 'kwargs': {}}, 'method_kwargs': {'proj_hidden_dim': 2048, 'proj_output_dim': 2048, 'sim_loss_weight': 25.0, 'var_loss_weight': 25.0, 'cov_loss_weight': 200.0, 'iternorm': True}, 'data': {'dataset': 'imagenet100', 'train_path': '/itet-stor/zdavid/net_scratch/data/ILSVRC2012_img_train_100', 'val_path': '/itet-stor/zdavid/net_scratch/data/ILSVRC2012_img_val_100', 'format': 'dali', 'num_workers': 4, 'no_labels': False, 'fraction': -1, 'num_classes': 100, 'num_large_crops': 2, 'num_small_crops': 0}, 'optimizer': {'name': 'lars', 'batch_size': 128, 'lr': 0.3, 'classifier_lr': 0.1, 'weight_decay': 0.0001, 'kwargs': {'clip_lr': True, 'eta': 0.02, 'exclude_bias_n_norm': True, 'momentum': 0.9}, 'exclude_bias_n_norm_wd': False}, 'scheduler': {'name': 'warmup_cosine', 'lr_decay_steps': None, 'min_lr': 0.0, 'warmup_start_lr': 3e-05, 'warmup_epochs': 10, 'interval': 'step'}, 'checkpoint': {'enabled': True, 'dir': 'trained_models', 'frequency': 1, 'keep_prev': False}, 'auto_resume': {'enabled': True, 'max_hours': 36}, 'max_epochs': 400, 'devices': [0, 1], 'sync_batchnorm': True, 'accelerator': 'gpu', 'strategy': 'ddp', 'precision': 16, 'augmentations': [{'rrc': {'enabled': True, 'crop_min_scale': 0.2, 'crop_max_scale': 1.0}, 'color_jitter': {'prob': 0.8, 'brightness': 0.4, 'contrast': 0.4, 'saturation': 0.2, 'hue': 0.1}, 'grayscale': {'prob': 0.2}, 'gaussian_blur': {'prob': 0.5}, 'solarization': {'prob': 0.1}, 'equalization': {'prob': 0.0}, 'horizontal_flip': {'prob': 0.5}, 'crop_size': 224, 'num_crops': 2}], 'wandb': {'enabled': True, 'entity': None, 'project': 'solo-learn', 'offline': False}, 'dali': {'device': 'gpu', 'encode_indexes_into_labels': False}, 'auto_umap': {'enabled': False, 'dir': 'auto_umap', 'frequency': 1}, 'debug_augmentations': False, 'seed': 5, 'resume_from_checkpoint': None, 'num_nodes': 1, 'accumulate_grad_batches': 1, 'knn_eval': {'enabled': False, 'k': 20, 'distance_func': 'euclidean'}, 'performance': {'disable_channel_last': False}, 'wandb_run_id': '9tjxisb5'}\n",
      "CFG:  vibcreg-imagenet100 9tjxisb5\n"
     ]
    },
    {
     "name": "stderr",
     "output_type": "stream",
     "text": [
      "Collecting features: 100%|██████████| 989/989 [01:08<00:00, 14.37it/s]\n",
      "Collecting features: 100%|██████████| 40/40 [00:03<00:00, 11.11it/s]\n",
      " 74%|███████▍  | 46/62 [59:26<18:59, 71.20s/it]"
     ]
    },
    {
     "name": "stdout",
     "output_type": "stream",
     "text": [
      "/hdd/backup_cluster_august_2023/Self-Supervised-Learning-with-Predictability-Minimization/Self-Supervised-Learning-with-Predictability-Minimization/trained_models/vibcreg/6lxrq5la\n",
      "/hdd/backup_cluster_august_2023/Self-Supervised-Learning-with-Predictability-Minimization/Self-Supervised-Learning-with-Predictability-Minimization/trained_models/vibcreg/6lxrq5la/vibcreg-cifar100-6lxrq5la-ep=999.ckpt\n"
     ]
    },
    {
     "name": "stderr",
     "output_type": "stream",
     "text": [
      "/home/david/.local/share/virtualenvs/Self-Supervised-Learning-with-Predictabili-RPXJKYD0/lib/python3.10/site-packages/umap/distances.py:1063: NumbaDeprecationWarning: The 'nopython' keyword argument was not supplied to the 'numba.jit' decorator. The implicit default value for this argument is currently False, but it will be changed to True in Numba 0.59.0. See https://numba.readthedocs.io/en/stable/reference/deprecation.html#deprecation-of-object-mode-fall-back-behaviour-when-using-jit for details.\n",
      "  @numba.jit()\n",
      "/home/david/.local/share/virtualenvs/Self-Supervised-Learning-with-Predictabili-RPXJKYD0/lib/python3.10/site-packages/umap/distances.py:1071: NumbaDeprecationWarning: The 'nopython' keyword argument was not supplied to the 'numba.jit' decorator. The implicit default value for this argument is currently False, but it will be changed to True in Numba 0.59.0. See https://numba.readthedocs.io/en/stable/reference/deprecation.html#deprecation-of-object-mode-fall-back-behaviour-when-using-jit for details.\n",
      "  @numba.jit()\n",
      "/home/david/.local/share/virtualenvs/Self-Supervised-Learning-with-Predictabili-RPXJKYD0/lib/python3.10/site-packages/umap/distances.py:1086: NumbaDeprecationWarning: The 'nopython' keyword argument was not supplied to the 'numba.jit' decorator. The implicit default value for this argument is currently False, but it will be changed to True in Numba 0.59.0. See https://numba.readthedocs.io/en/stable/reference/deprecation.html#deprecation-of-object-mode-fall-back-behaviour-when-using-jit for details.\n",
      "  @numba.jit()\n",
      "/home/david/.local/share/virtualenvs/Self-Supervised-Learning-with-Predictabili-RPXJKYD0/lib/python3.10/site-packages/umap/umap_.py:660: NumbaDeprecationWarning: The 'nopython' keyword argument was not supplied to the 'numba.jit' decorator. The implicit default value for this argument is currently False, but it will be changed to True in Numba 0.59.0. See https://numba.readthedocs.io/en/stable/reference/deprecation.html#deprecation-of-object-mode-fall-back-behaviour-when-using-jit for details.\n",
      "  @numba.jit()\n"
     ]
    },
    {
     "name": "stdout",
     "output_type": "stream",
     "text": [
      "{'name': 'vibcreg-cifar100', 'method': 'vibcreg', 'backbone': {'name': 'resnet18', 'kwargs': {}}, 'method_kwargs': {'proj_hidden_dim': 2048, 'proj_output_dim': 2048, 'sim_loss_weight': 25.0, 'var_loss_weight': 25.0, 'cov_loss_weight': 200.0, 'iternorm': True}, 'data': {'dataset': 'cifar100', 'train_path': './datasets', 'val_path': 'datasets/imagenet100/val', 'format': 'image_folder', 'num_workers': 4, 'no_labels': False, 'fraction': -1, 'num_classes': 100, 'num_large_crops': 2, 'num_small_crops': 0}, 'augmentations': [{'rrc': {'enabled': True, 'crop_min_scale': 0.2, 'crop_max_scale': 1.0}, 'color_jitter': {'prob': 0.8, 'brightness': 0.4, 'contrast': 0.4, 'saturation': 0.2, 'hue': 0.1}, 'grayscale': {'prob': 0.2}, 'gaussian_blur': {'prob': 0.0}, 'solarization': {'prob': 0.1}, 'equalization': {'prob': 0.0}, 'horizontal_flip': {'prob': 0.5}, 'crop_size': 32, 'num_crops': 2}], 'optimizer': {'name': 'lars', 'batch_size': 256, 'lr': 0.3, 'classifier_lr': 0.1, 'weight_decay': 0.0001, 'kwargs': {'eta': 0.02, 'exclude_bias_n_norm': True, 'momentum': 0.9, 'clip_lr': False}, 'exclude_bias_n_norm_wd': False}, 'scheduler': {'name': 'warmup_cosine', 'lr_decay_steps': None, 'min_lr': 0.0, 'warmup_start_lr': 3e-05, 'warmup_epochs': 10, 'interval': 'step'}, 'checkpoint': {'enabled': True, 'dir': 'trained_models', 'frequency': 1, 'keep_prev': False}, 'auto_resume': {'enabled': True, 'max_hours': 36}, 'max_epochs': 1000, 'devices': [0], 'sync_batchnorm': True, 'accelerator': 'gpu', 'strategy': 'ddp', 'precision': 16, 'wandb': {'enabled': True, 'entity': None, 'project': 'solo-learn', 'offline': False}, 'dali': {'device': 'gpu', 'encode_indexes_into_labels': False}, 'auto_umap': {'enabled': False, 'dir': 'auto_umap', 'frequency': 1}, 'debug_augmentations': False, 'seed': 5, 'resume_from_checkpoint': None, 'num_nodes': 1, 'accumulate_grad_batches': 1, 'knn_eval': {'enabled': False, 'k': 20, 'distance_func': 'euclidean'}, 'performance': {'disable_channel_last': False}, 'wandb_run_id': '6lxrq5la'}\n"
     ]
    },
    {
     "name": "stderr",
     "output_type": "stream",
     "text": [
      "WARNING:root:Using scheduler_interval=step might generate issues when resuming a checkpoint.\n"
     ]
    },
    {
     "name": "stdout",
     "output_type": "stream",
     "text": [
      "Files already downloaded and verified\n",
      "Files already downloaded and verified\n",
      "{'name': 'vibcreg-cifar100', 'method': 'vibcreg', 'backbone': {'name': 'resnet18', 'kwargs': {}}, 'method_kwargs': {'proj_hidden_dim': 2048, 'proj_output_dim': 2048, 'sim_loss_weight': 25.0, 'var_loss_weight': 25.0, 'cov_loss_weight': 200.0, 'iternorm': True}, 'data': {'dataset': 'cifar100', 'train_path': './datasets', 'val_path': 'datasets/imagenet100/val', 'format': 'image_folder', 'num_workers': 4, 'no_labels': False, 'fraction': -1, 'num_classes': 100, 'num_large_crops': 2, 'num_small_crops': 0}, 'augmentations': [{'rrc': {'enabled': True, 'crop_min_scale': 0.2, 'crop_max_scale': 1.0}, 'color_jitter': {'prob': 0.8, 'brightness': 0.4, 'contrast': 0.4, 'saturation': 0.2, 'hue': 0.1}, 'grayscale': {'prob': 0.2}, 'gaussian_blur': {'prob': 0.0}, 'solarization': {'prob': 0.1}, 'equalization': {'prob': 0.0}, 'horizontal_flip': {'prob': 0.5}, 'crop_size': 32, 'num_crops': 2}], 'optimizer': {'name': 'lars', 'batch_size': 256, 'lr': 0.3, 'classifier_lr': 0.1, 'weight_decay': 0.0001, 'kwargs': {'eta': 0.02, 'exclude_bias_n_norm': True, 'momentum': 0.9, 'clip_lr': False}, 'exclude_bias_n_norm_wd': False}, 'scheduler': {'name': 'warmup_cosine', 'lr_decay_steps': None, 'min_lr': 0.0, 'warmup_start_lr': 3e-05, 'warmup_epochs': 10, 'interval': 'step'}, 'checkpoint': {'enabled': True, 'dir': 'trained_models', 'frequency': 1, 'keep_prev': False}, 'auto_resume': {'enabled': True, 'max_hours': 36}, 'max_epochs': 1000, 'devices': [0], 'sync_batchnorm': True, 'accelerator': 'gpu', 'strategy': 'ddp', 'precision': 16, 'wandb': {'enabled': True, 'entity': None, 'project': 'solo-learn', 'offline': False}, 'dali': {'device': 'gpu', 'encode_indexes_into_labels': False}, 'auto_umap': {'enabled': False, 'dir': 'auto_umap', 'frequency': 1}, 'debug_augmentations': False, 'seed': 5, 'resume_from_checkpoint': None, 'num_nodes': 1, 'accumulate_grad_batches': 1, 'knn_eval': {'enabled': False, 'k': 20, 'distance_func': 'euclidean'}, 'performance': {'disable_channel_last': False}, 'wandb_run_id': '6lxrq5la'}\n",
      "CFG:  vibcreg-cifar100 6lxrq5la\n"
     ]
    },
    {
     "name": "stderr",
     "output_type": "stream",
     "text": [
      "Collecting features: 100%|██████████| 390/390 [00:05<00:00, 73.65it/s]\n",
      "/home/david/Programming/Self-Supervised-Learning-with-Predictability-Minimization/solo/utils/corr.py:54: RuntimeWarning: invalid value encountered in divide\n",
      "  data_standardized = (data - data.mean(0)) / data.std(0)\n",
      "Collecting features: 100%|██████████| 79/79 [00:01<00:00, 65.15it/s]\n",
      " 76%|███████▌  | 47/62 [59:52<14:22, 57.48s/it]"
     ]
    },
    {
     "name": "stdout",
     "output_type": "stream",
     "text": [
      "/hdd/backup_cluster_august_2023/Self-Supervised-Learning-with-Predictability-Minimization/Self-Supervised-Learning-with-Predictability-Minimization/trained_models/vibcreg/t4i239rs\n",
      "/hdd/backup_cluster_august_2023/Self-Supervised-Learning-with-Predictability-Minimization/Self-Supervised-Learning-with-Predictability-Minimization/trained_models/vibcreg/t4i239rs/vibcreg-cifar10-t4i239rs-ep=999.ckpt\n"
     ]
    },
    {
     "name": "stderr",
     "output_type": "stream",
     "text": [
      "/home/david/.local/share/virtualenvs/Self-Supervised-Learning-with-Predictabili-RPXJKYD0/lib/python3.10/site-packages/umap/distances.py:1063: NumbaDeprecationWarning: The 'nopython' keyword argument was not supplied to the 'numba.jit' decorator. The implicit default value for this argument is currently False, but it will be changed to True in Numba 0.59.0. See https://numba.readthedocs.io/en/stable/reference/deprecation.html#deprecation-of-object-mode-fall-back-behaviour-when-using-jit for details.\n",
      "  @numba.jit()\n",
      "/home/david/.local/share/virtualenvs/Self-Supervised-Learning-with-Predictabili-RPXJKYD0/lib/python3.10/site-packages/umap/distances.py:1071: NumbaDeprecationWarning: The 'nopython' keyword argument was not supplied to the 'numba.jit' decorator. The implicit default value for this argument is currently False, but it will be changed to True in Numba 0.59.0. See https://numba.readthedocs.io/en/stable/reference/deprecation.html#deprecation-of-object-mode-fall-back-behaviour-when-using-jit for details.\n",
      "  @numba.jit()\n",
      "/home/david/.local/share/virtualenvs/Self-Supervised-Learning-with-Predictabili-RPXJKYD0/lib/python3.10/site-packages/umap/distances.py:1086: NumbaDeprecationWarning: The 'nopython' keyword argument was not supplied to the 'numba.jit' decorator. The implicit default value for this argument is currently False, but it will be changed to True in Numba 0.59.0. See https://numba.readthedocs.io/en/stable/reference/deprecation.html#deprecation-of-object-mode-fall-back-behaviour-when-using-jit for details.\n",
      "  @numba.jit()\n",
      "/home/david/.local/share/virtualenvs/Self-Supervised-Learning-with-Predictabili-RPXJKYD0/lib/python3.10/site-packages/umap/umap_.py:660: NumbaDeprecationWarning: The 'nopython' keyword argument was not supplied to the 'numba.jit' decorator. The implicit default value for this argument is currently False, but it will be changed to True in Numba 0.59.0. See https://numba.readthedocs.io/en/stable/reference/deprecation.html#deprecation-of-object-mode-fall-back-behaviour-when-using-jit for details.\n",
      "  @numba.jit()\n"
     ]
    },
    {
     "name": "stdout",
     "output_type": "stream",
     "text": [
      "{'name': 'vibcreg-cifar10', 'method': 'vibcreg', 'backbone': {'name': 'resnet18', 'kwargs': {}}, 'method_kwargs': {'proj_hidden_dim': 2048, 'proj_output_dim': 2048, 'sim_loss_weight': 25.0, 'var_loss_weight': 25.0, 'cov_loss_weight': 200.0, 'iternorm': True}, 'data': {'dataset': 'cifar10', 'train_path': './datasets', 'val_path': 'datasets/imagenet100/val', 'format': 'image_folder', 'num_workers': 4, 'no_labels': False, 'fraction': -1, 'num_classes': 10, 'num_large_crops': 2, 'num_small_crops': 0}, 'augmentations': [{'rrc': {'enabled': True, 'crop_min_scale': 0.2, 'crop_max_scale': 1.0}, 'color_jitter': {'prob': 0.8, 'brightness': 0.4, 'contrast': 0.4, 'saturation': 0.2, 'hue': 0.1}, 'grayscale': {'prob': 0.2}, 'gaussian_blur': {'prob': 0.0}, 'solarization': {'prob': 0.1}, 'equalization': {'prob': 0.0}, 'horizontal_flip': {'prob': 0.5}, 'crop_size': 32, 'num_crops': 2}], 'optimizer': {'name': 'lars', 'batch_size': 256, 'lr': 0.3, 'classifier_lr': 0.1, 'weight_decay': 0.0001, 'kwargs': {'eta': 0.02, 'exclude_bias_n_norm': True, 'momentum': 0.9, 'clip_lr': False}, 'exclude_bias_n_norm_wd': False}, 'scheduler': {'name': 'warmup_cosine', 'lr_decay_steps': None, 'min_lr': 0.0, 'warmup_start_lr': 3e-05, 'warmup_epochs': 10, 'interval': 'step'}, 'checkpoint': {'enabled': True, 'dir': 'trained_models', 'frequency': 1, 'keep_prev': False}, 'auto_resume': {'enabled': True, 'max_hours': 36}, 'max_epochs': 1000, 'devices': [0], 'sync_batchnorm': True, 'accelerator': 'gpu', 'strategy': 'ddp', 'precision': 16, 'wandb': {'enabled': True, 'entity': None, 'project': 'solo-learn', 'offline': False}, 'dali': {'device': 'gpu', 'encode_indexes_into_labels': False}, 'auto_umap': {'enabled': False, 'dir': 'auto_umap', 'frequency': 1}, 'debug_augmentations': False, 'seed': 5, 'resume_from_checkpoint': None, 'num_nodes': 1, 'accumulate_grad_batches': 1, 'knn_eval': {'enabled': False, 'k': 20, 'distance_func': 'euclidean'}, 'performance': {'disable_channel_last': False}, 'wandb_run_id': 't4i239rs'}\n"
     ]
    },
    {
     "name": "stderr",
     "output_type": "stream",
     "text": [
      "WARNING:root:Using scheduler_interval=step might generate issues when resuming a checkpoint.\n"
     ]
    },
    {
     "name": "stdout",
     "output_type": "stream",
     "text": [
      "Files already downloaded and verified\n",
      "Files already downloaded and verified\n",
      "{'name': 'vibcreg-cifar10', 'method': 'vibcreg', 'backbone': {'name': 'resnet18', 'kwargs': {}}, 'method_kwargs': {'proj_hidden_dim': 2048, 'proj_output_dim': 2048, 'sim_loss_weight': 25.0, 'var_loss_weight': 25.0, 'cov_loss_weight': 200.0, 'iternorm': True}, 'data': {'dataset': 'cifar10', 'train_path': './datasets', 'val_path': 'datasets/imagenet100/val', 'format': 'image_folder', 'num_workers': 4, 'no_labels': False, 'fraction': -1, 'num_classes': 10, 'num_large_crops': 2, 'num_small_crops': 0}, 'augmentations': [{'rrc': {'enabled': True, 'crop_min_scale': 0.2, 'crop_max_scale': 1.0}, 'color_jitter': {'prob': 0.8, 'brightness': 0.4, 'contrast': 0.4, 'saturation': 0.2, 'hue': 0.1}, 'grayscale': {'prob': 0.2}, 'gaussian_blur': {'prob': 0.0}, 'solarization': {'prob': 0.1}, 'equalization': {'prob': 0.0}, 'horizontal_flip': {'prob': 0.5}, 'crop_size': 32, 'num_crops': 2}], 'optimizer': {'name': 'lars', 'batch_size': 256, 'lr': 0.3, 'classifier_lr': 0.1, 'weight_decay': 0.0001, 'kwargs': {'eta': 0.02, 'exclude_bias_n_norm': True, 'momentum': 0.9, 'clip_lr': False}, 'exclude_bias_n_norm_wd': False}, 'scheduler': {'name': 'warmup_cosine', 'lr_decay_steps': None, 'min_lr': 0.0, 'warmup_start_lr': 3e-05, 'warmup_epochs': 10, 'interval': 'step'}, 'checkpoint': {'enabled': True, 'dir': 'trained_models', 'frequency': 1, 'keep_prev': False}, 'auto_resume': {'enabled': True, 'max_hours': 36}, 'max_epochs': 1000, 'devices': [0], 'sync_batchnorm': True, 'accelerator': 'gpu', 'strategy': 'ddp', 'precision': 16, 'wandb': {'enabled': True, 'entity': None, 'project': 'solo-learn', 'offline': False}, 'dali': {'device': 'gpu', 'encode_indexes_into_labels': False}, 'auto_umap': {'enabled': False, 'dir': 'auto_umap', 'frequency': 1}, 'debug_augmentations': False, 'seed': 5, 'resume_from_checkpoint': None, 'num_nodes': 1, 'accumulate_grad_batches': 1, 'knn_eval': {'enabled': False, 'k': 20, 'distance_func': 'euclidean'}, 'performance': {'disable_channel_last': False}, 'wandb_run_id': 't4i239rs'}\n",
      "CFG:  vibcreg-cifar10 t4i239rs\n"
     ]
    },
    {
     "name": "stderr",
     "output_type": "stream",
     "text": [
      "Collecting features: 100%|██████████| 390/390 [00:05<00:00, 73.64it/s]\n",
      "/home/david/Programming/Self-Supervised-Learning-with-Predictability-Minimization/solo/utils/corr.py:54: RuntimeWarning: invalid value encountered in divide\n",
      "  data_standardized = (data - data.mean(0)) / data.std(0)\n",
      "Collecting features: 100%|██████████| 79/79 [00:01<00:00, 64.45it/s]\n",
      " 77%|███████▋  | 48/62 [1:00:17<11:10, 47.88s/it]"
     ]
    },
    {
     "name": "stdout",
     "output_type": "stream",
     "text": [
      "/hdd/backup_cluster_august_2023/Self-Supervised-Learning-with-Predictability-Minimization/Self-Supervised-Learning-with-Predictability-Minimization/trained_models/byol/5n852aih\n",
      "/hdd/backup_cluster_august_2023/Self-Supervised-Learning-with-Predictability-Minimization/Self-Supervised-Learning-with-Predictability-Minimization/trained_models/byol/5n852aih/byol-cifar10-5n852aih-ep=999.ckpt\n"
     ]
    },
    {
     "name": "stderr",
     "output_type": "stream",
     "text": [
      "/home/david/.local/share/virtualenvs/Self-Supervised-Learning-with-Predictabili-RPXJKYD0/lib/python3.10/site-packages/umap/distances.py:1063: NumbaDeprecationWarning: The 'nopython' keyword argument was not supplied to the 'numba.jit' decorator. The implicit default value for this argument is currently False, but it will be changed to True in Numba 0.59.0. See https://numba.readthedocs.io/en/stable/reference/deprecation.html#deprecation-of-object-mode-fall-back-behaviour-when-using-jit for details.\n",
      "  @numba.jit()\n",
      "/home/david/.local/share/virtualenvs/Self-Supervised-Learning-with-Predictabili-RPXJKYD0/lib/python3.10/site-packages/umap/distances.py:1071: NumbaDeprecationWarning: The 'nopython' keyword argument was not supplied to the 'numba.jit' decorator. The implicit default value for this argument is currently False, but it will be changed to True in Numba 0.59.0. See https://numba.readthedocs.io/en/stable/reference/deprecation.html#deprecation-of-object-mode-fall-back-behaviour-when-using-jit for details.\n",
      "  @numba.jit()\n",
      "/home/david/.local/share/virtualenvs/Self-Supervised-Learning-with-Predictabili-RPXJKYD0/lib/python3.10/site-packages/umap/distances.py:1086: NumbaDeprecationWarning: The 'nopython' keyword argument was not supplied to the 'numba.jit' decorator. The implicit default value for this argument is currently False, but it will be changed to True in Numba 0.59.0. See https://numba.readthedocs.io/en/stable/reference/deprecation.html#deprecation-of-object-mode-fall-back-behaviour-when-using-jit for details.\n",
      "  @numba.jit()\n",
      "/home/david/.local/share/virtualenvs/Self-Supervised-Learning-with-Predictabili-RPXJKYD0/lib/python3.10/site-packages/umap/umap_.py:660: NumbaDeprecationWarning: The 'nopython' keyword argument was not supplied to the 'numba.jit' decorator. The implicit default value for this argument is currently False, but it will be changed to True in Numba 0.59.0. See https://numba.readthedocs.io/en/stable/reference/deprecation.html#deprecation-of-object-mode-fall-back-behaviour-when-using-jit for details.\n",
      "  @numba.jit()\n"
     ]
    },
    {
     "name": "stdout",
     "output_type": "stream",
     "text": [
      "{'name': 'byol-cifar10', 'method': 'byol', 'backbone': {'name': 'resnet18', 'kwargs': {}}, 'method_kwargs': {'proj_hidden_dim': 4096, 'proj_output_dim': 256, 'pred_hidden_dim': 4096}, 'momentum': {'base_tau': 0.99, 'final_tau': 1.0, 'classifier': False}, 'data': {'dataset': 'cifar10', 'train_path': './datasets', 'val_path': './datasets', 'format': 'image_folder', 'num_workers': 4, 'no_labels': False, 'fraction': -1, 'num_classes': 10, 'num_large_crops': 2, 'num_small_crops': 0}, 'optimizer': {'name': 'lars', 'batch_size': 256, 'lr': 1.0, 'classifier_lr': 0.1, 'weight_decay': 1e-05, 'kwargs': {'clip_lr': True, 'eta': 0.02, 'exclude_bias_n_norm': True, 'momentum': 0.9}, 'exclude_bias_n_norm_wd': False}, 'scheduler': {'name': 'warmup_cosine', 'lr_decay_steps': None, 'min_lr': 0.0, 'warmup_start_lr': 3e-05, 'warmup_epochs': 10, 'interval': 'step'}, 'checkpoint': {'enabled': True, 'dir': 'trained_models', 'frequency': 1, 'keep_prev': False}, 'auto_resume': {'enabled': True, 'max_hours': 36}, 'max_epochs': 1000, 'devices': [0], 'sync_batchnorm': True, 'accelerator': 'gpu', 'strategy': 'ddp', 'precision': 16, 'augmentations': [{'rrc': {'enabled': True, 'crop_min_scale': 0.08, 'crop_max_scale': 1.0}, 'color_jitter': {'prob': 0.8, 'brightness': 0.4, 'contrast': 0.4, 'saturation': 0.2, 'hue': 0.1}, 'grayscale': {'prob': 0.2}, 'gaussian_blur': {'prob': 0.0}, 'solarization': {'prob': 0.0}, 'equalization': {'prob': 0.0}, 'horizontal_flip': {'prob': 0.5}, 'crop_size': 32, 'num_crops': 1}, {'rrc': {'enabled': True, 'crop_min_scale': 0.08, 'crop_max_scale': 1.0}, 'color_jitter': {'prob': 0.8, 'brightness': 0.4, 'contrast': 0.4, 'saturation': 0.2, 'hue': 0.1}, 'grayscale': {'prob': 0.2}, 'gaussian_blur': {'prob': 0.0}, 'solarization': {'prob': 0.2}, 'equalization': {'prob': 0.0}, 'horizontal_flip': {'prob': 0.5}, 'crop_size': 32, 'num_crops': 1}], 'wandb': {'enabled': True, 'entity': None, 'project': 'solo-learn', 'offline': False}, 'dali': {'device': 'gpu', 'encode_indexes_into_labels': False}, 'auto_umap': {'enabled': False, 'dir': 'auto_umap', 'frequency': 1}, 'debug_augmentations': False, 'seed': 5, 'resume_from_checkpoint': None, 'num_nodes': 1, 'accumulate_grad_batches': 1, 'knn_eval': {'enabled': False, 'k': 20, 'distance_func': 'euclidean'}, 'performance': {'disable_channel_last': False}, 'wandb_run_id': '5n852aih'}\n"
     ]
    },
    {
     "name": "stderr",
     "output_type": "stream",
     "text": [
      "WARNING:root:Using scheduler_interval=step might generate issues when resuming a checkpoint.\n"
     ]
    },
    {
     "name": "stdout",
     "output_type": "stream",
     "text": [
      "Files already downloaded and verified\n",
      "Files already downloaded and verified\n",
      "{'name': 'byol-cifar10', 'method': 'byol', 'backbone': {'name': 'resnet18', 'kwargs': {}}, 'method_kwargs': {'proj_hidden_dim': 4096, 'proj_output_dim': 256, 'pred_hidden_dim': 4096}, 'momentum': {'base_tau': 0.99, 'final_tau': 1.0, 'classifier': False}, 'data': {'dataset': 'cifar10', 'train_path': './datasets', 'val_path': './datasets', 'format': 'image_folder', 'num_workers': 4, 'no_labels': False, 'fraction': -1, 'num_classes': 10, 'num_large_crops': 2, 'num_small_crops': 0}, 'optimizer': {'name': 'lars', 'batch_size': 256, 'lr': 1.0, 'classifier_lr': 0.1, 'weight_decay': 1e-05, 'kwargs': {'clip_lr': True, 'eta': 0.02, 'exclude_bias_n_norm': True, 'momentum': 0.9}, 'exclude_bias_n_norm_wd': False}, 'scheduler': {'name': 'warmup_cosine', 'lr_decay_steps': None, 'min_lr': 0.0, 'warmup_start_lr': 3e-05, 'warmup_epochs': 10, 'interval': 'step'}, 'checkpoint': {'enabled': True, 'dir': 'trained_models', 'frequency': 1, 'keep_prev': False}, 'auto_resume': {'enabled': True, 'max_hours': 36}, 'max_epochs': 1000, 'devices': [0], 'sync_batchnorm': True, 'accelerator': 'gpu', 'strategy': 'ddp', 'precision': 16, 'augmentations': [{'rrc': {'enabled': True, 'crop_min_scale': 0.08, 'crop_max_scale': 1.0}, 'color_jitter': {'prob': 0.8, 'brightness': 0.4, 'contrast': 0.4, 'saturation': 0.2, 'hue': 0.1}, 'grayscale': {'prob': 0.2}, 'gaussian_blur': {'prob': 0.0}, 'solarization': {'prob': 0.0}, 'equalization': {'prob': 0.0}, 'horizontal_flip': {'prob': 0.5}, 'crop_size': 32, 'num_crops': 1}, {'rrc': {'enabled': True, 'crop_min_scale': 0.08, 'crop_max_scale': 1.0}, 'color_jitter': {'prob': 0.8, 'brightness': 0.4, 'contrast': 0.4, 'saturation': 0.2, 'hue': 0.1}, 'grayscale': {'prob': 0.2}, 'gaussian_blur': {'prob': 0.0}, 'solarization': {'prob': 0.2}, 'equalization': {'prob': 0.0}, 'horizontal_flip': {'prob': 0.5}, 'crop_size': 32, 'num_crops': 1}], 'wandb': {'enabled': True, 'entity': None, 'project': 'solo-learn', 'offline': False}, 'dali': {'device': 'gpu', 'encode_indexes_into_labels': False}, 'auto_umap': {'enabled': False, 'dir': 'auto_umap', 'frequency': 1}, 'debug_augmentations': False, 'seed': 5, 'resume_from_checkpoint': None, 'num_nodes': 1, 'accumulate_grad_batches': 1, 'knn_eval': {'enabled': False, 'k': 20, 'distance_func': 'euclidean'}, 'performance': {'disable_channel_last': False}, 'wandb_run_id': '5n852aih'}\n",
      "CFG:  byol-cifar10 5n852aih\n"
     ]
    },
    {
     "name": "stderr",
     "output_type": "stream",
     "text": [
      "Collecting features: 100%|██████████| 390/390 [00:05<00:00, 72.87it/s]\n",
      "Collecting features: 100%|██████████| 79/79 [00:01<00:00, 65.01it/s]\n",
      " 79%|███████▉  | 49/62 [1:00:43<08:55, 41.18s/it]"
     ]
    },
    {
     "name": "stdout",
     "output_type": "stream",
     "text": [
      "/hdd/backup_cluster_august_2023/Self-Supervised-Learning-with-Predictability-Minimization/Self-Supervised-Learning-with-Predictability-Minimization/trained_models/byol/9b5fuzbl\n",
      "/hdd/backup_cluster_august_2023/Self-Supervised-Learning-with-Predictability-Minimization/Self-Supervised-Learning-with-Predictability-Minimization/trained_models/byol/9b5fuzbl/byol-imagenet100-9b5fuzbl-ep=399.ckpt\n"
     ]
    },
    {
     "name": "stderr",
     "output_type": "stream",
     "text": [
      "/home/david/.local/share/virtualenvs/Self-Supervised-Learning-with-Predictabili-RPXJKYD0/lib/python3.10/site-packages/umap/distances.py:1063: NumbaDeprecationWarning: The 'nopython' keyword argument was not supplied to the 'numba.jit' decorator. The implicit default value for this argument is currently False, but it will be changed to True in Numba 0.59.0. See https://numba.readthedocs.io/en/stable/reference/deprecation.html#deprecation-of-object-mode-fall-back-behaviour-when-using-jit for details.\n",
      "  @numba.jit()\n",
      "/home/david/.local/share/virtualenvs/Self-Supervised-Learning-with-Predictabili-RPXJKYD0/lib/python3.10/site-packages/umap/distances.py:1071: NumbaDeprecationWarning: The 'nopython' keyword argument was not supplied to the 'numba.jit' decorator. The implicit default value for this argument is currently False, but it will be changed to True in Numba 0.59.0. See https://numba.readthedocs.io/en/stable/reference/deprecation.html#deprecation-of-object-mode-fall-back-behaviour-when-using-jit for details.\n",
      "  @numba.jit()\n",
      "/home/david/.local/share/virtualenvs/Self-Supervised-Learning-with-Predictabili-RPXJKYD0/lib/python3.10/site-packages/umap/distances.py:1086: NumbaDeprecationWarning: The 'nopython' keyword argument was not supplied to the 'numba.jit' decorator. The implicit default value for this argument is currently False, but it will be changed to True in Numba 0.59.0. See https://numba.readthedocs.io/en/stable/reference/deprecation.html#deprecation-of-object-mode-fall-back-behaviour-when-using-jit for details.\n",
      "  @numba.jit()\n",
      "/home/david/.local/share/virtualenvs/Self-Supervised-Learning-with-Predictabili-RPXJKYD0/lib/python3.10/site-packages/umap/umap_.py:660: NumbaDeprecationWarning: The 'nopython' keyword argument was not supplied to the 'numba.jit' decorator. The implicit default value for this argument is currently False, but it will be changed to True in Numba 0.59.0. See https://numba.readthedocs.io/en/stable/reference/deprecation.html#deprecation-of-object-mode-fall-back-behaviour-when-using-jit for details.\n",
      "  @numba.jit()\n"
     ]
    },
    {
     "name": "stdout",
     "output_type": "stream",
     "text": [
      "{'name': 'byol-imagenet100', 'method': 'byol', 'backbone': {'name': 'resnet18', 'kwargs': {}}, 'method_kwargs': {'proj_hidden_dim': 4096, 'proj_output_dim': 256, 'pred_hidden_dim': 8192}, 'momentum': {'base_tau': 0.99, 'final_tau': 1.0, 'classifier': False}, 'data': {'dataset': 'imagenet100', 'train_path': '/itet-stor/zdavid/net_scratch/data/ILSVRC2012_img_train_100', 'val_path': '/itet-stor/zdavid/net_scratch/data/ILSVRC2012_img_val_100', 'format': 'dali', 'num_workers': 4, 'no_labels': False, 'fraction': -1, 'num_classes': 100, 'num_large_crops': 2, 'num_small_crops': 0}, 'optimizer': {'name': 'lars', 'batch_size': 128, 'lr': 0.5, 'classifier_lr': 0.1, 'weight_decay': 1e-06, 'kwargs': {'clip_lr': True, 'eta': 0.02, 'exclude_bias_n_norm': True, 'momentum': 0.9}, 'exclude_bias_n_norm_wd': False}, 'scheduler': {'name': 'warmup_cosine', 'lr_decay_steps': None, 'min_lr': 0.0, 'warmup_start_lr': 3e-05, 'warmup_epochs': 10, 'interval': 'step'}, 'checkpoint': {'enabled': True, 'dir': 'trained_models', 'frequency': 1, 'keep_prev': False}, 'auto_resume': {'enabled': True, 'max_hours': 36}, 'max_epochs': 400, 'devices': [0, 1], 'sync_batchnorm': True, 'accelerator': 'gpu', 'strategy': 'ddp', 'precision': 16, 'augmentations': [{'rrc': {'enabled': True, 'crop_min_scale': 0.08, 'crop_max_scale': 1.0}, 'color_jitter': {'prob': 0.8, 'brightness': 0.4, 'contrast': 0.4, 'saturation': 0.2, 'hue': 0.1}, 'grayscale': {'prob': 0.2}, 'gaussian_blur': {'prob': 1.0}, 'solarization': {'prob': 0.0}, 'equalization': {'prob': 0.0}, 'horizontal_flip': {'prob': 0.5}, 'crop_size': 224, 'num_crops': 1}, {'rrc': {'enabled': True, 'crop_min_scale': 0.08, 'crop_max_scale': 1.0}, 'color_jitter': {'prob': 0.8, 'brightness': 0.4, 'contrast': 0.4, 'saturation': 0.2, 'hue': 0.1}, 'grayscale': {'prob': 0.2}, 'gaussian_blur': {'prob': 0.1}, 'solarization': {'prob': 0.2}, 'equalization': {'prob': 0.0}, 'horizontal_flip': {'prob': 0.5}, 'crop_size': 224, 'num_crops': 1}], 'wandb': {'enabled': True, 'entity': None, 'project': 'solo-learn', 'offline': False}, 'dali': {'device': 'gpu', 'encode_indexes_into_labels': False}, 'auto_umap': {'enabled': False, 'dir': 'auto_umap', 'frequency': 1}, 'debug_augmentations': False, 'seed': 5, 'resume_from_checkpoint': None, 'num_nodes': 1, 'accumulate_grad_batches': 1, 'knn_eval': {'enabled': False, 'k': 20, 'distance_func': 'euclidean'}, 'performance': {'disable_channel_last': False}, 'wandb_run_id': '9b5fuzbl'}\n"
     ]
    },
    {
     "name": "stderr",
     "output_type": "stream",
     "text": [
      "WARNING:root:Using scheduler_interval=step might generate issues when resuming a checkpoint.\n"
     ]
    },
    {
     "name": "stdout",
     "output_type": "stream",
     "text": [
      "{'name': 'byol-imagenet100', 'method': 'byol', 'backbone': {'name': 'resnet18', 'kwargs': {}}, 'method_kwargs': {'proj_hidden_dim': 4096, 'proj_output_dim': 256, 'pred_hidden_dim': 8192}, 'momentum': {'base_tau': 0.99, 'final_tau': 1.0, 'classifier': False}, 'data': {'dataset': 'imagenet100', 'train_path': '/itet-stor/zdavid/net_scratch/data/ILSVRC2012_img_train_100', 'val_path': '/itet-stor/zdavid/net_scratch/data/ILSVRC2012_img_val_100', 'format': 'dali', 'num_workers': 4, 'no_labels': False, 'fraction': -1, 'num_classes': 100, 'num_large_crops': 2, 'num_small_crops': 0}, 'optimizer': {'name': 'lars', 'batch_size': 128, 'lr': 0.5, 'classifier_lr': 0.1, 'weight_decay': 1e-06, 'kwargs': {'clip_lr': True, 'eta': 0.02, 'exclude_bias_n_norm': True, 'momentum': 0.9}, 'exclude_bias_n_norm_wd': False}, 'scheduler': {'name': 'warmup_cosine', 'lr_decay_steps': None, 'min_lr': 0.0, 'warmup_start_lr': 3e-05, 'warmup_epochs': 10, 'interval': 'step'}, 'checkpoint': {'enabled': True, 'dir': 'trained_models', 'frequency': 1, 'keep_prev': False}, 'auto_resume': {'enabled': True, 'max_hours': 36}, 'max_epochs': 400, 'devices': [0, 1], 'sync_batchnorm': True, 'accelerator': 'gpu', 'strategy': 'ddp', 'precision': 16, 'augmentations': [{'rrc': {'enabled': True, 'crop_min_scale': 0.08, 'crop_max_scale': 1.0}, 'color_jitter': {'prob': 0.8, 'brightness': 0.4, 'contrast': 0.4, 'saturation': 0.2, 'hue': 0.1}, 'grayscale': {'prob': 0.2}, 'gaussian_blur': {'prob': 1.0}, 'solarization': {'prob': 0.0}, 'equalization': {'prob': 0.0}, 'horizontal_flip': {'prob': 0.5}, 'crop_size': 224, 'num_crops': 1}, {'rrc': {'enabled': True, 'crop_min_scale': 0.08, 'crop_max_scale': 1.0}, 'color_jitter': {'prob': 0.8, 'brightness': 0.4, 'contrast': 0.4, 'saturation': 0.2, 'hue': 0.1}, 'grayscale': {'prob': 0.2}, 'gaussian_blur': {'prob': 0.1}, 'solarization': {'prob': 0.2}, 'equalization': {'prob': 0.0}, 'horizontal_flip': {'prob': 0.5}, 'crop_size': 224, 'num_crops': 1}], 'wandb': {'enabled': True, 'entity': None, 'project': 'solo-learn', 'offline': False}, 'dali': {'device': 'gpu', 'encode_indexes_into_labels': False}, 'auto_umap': {'enabled': False, 'dir': 'auto_umap', 'frequency': 1}, 'debug_augmentations': False, 'seed': 5, 'resume_from_checkpoint': None, 'num_nodes': 1, 'accumulate_grad_batches': 1, 'knn_eval': {'enabled': False, 'k': 20, 'distance_func': 'euclidean'}, 'performance': {'disable_channel_last': False}, 'wandb_run_id': '9b5fuzbl'}\n",
      "CFG:  byol-imagenet100 9b5fuzbl\n"
     ]
    },
    {
     "name": "stderr",
     "output_type": "stream",
     "text": [
      "Collecting features: 100%|██████████| 989/989 [01:07<00:00, 14.66it/s]\n",
      "Collecting features: 100%|██████████| 40/40 [00:03<00:00, 10.79it/s]\n",
      " 81%|████████  | 50/62 [1:02:26<11:57, 59.79s/it]"
     ]
    },
    {
     "name": "stdout",
     "output_type": "stream",
     "text": [
      "/hdd/backup_cluster_august_2023/Self-Supervised-Learning-with-Predictability-Minimization/Self-Supervised-Learning-with-Predictability-Minimization/trained_models/byol/1myzhgng\n",
      "/hdd/backup_cluster_august_2023/Self-Supervised-Learning-with-Predictability-Minimization/Self-Supervised-Learning-with-Predictability-Minimization/trained_models/byol/1myzhgng/byol-cifar100-1myzhgng-ep=999.ckpt\n"
     ]
    },
    {
     "name": "stderr",
     "output_type": "stream",
     "text": [
      "/home/david/.local/share/virtualenvs/Self-Supervised-Learning-with-Predictabili-RPXJKYD0/lib/python3.10/site-packages/umap/distances.py:1063: NumbaDeprecationWarning: The 'nopython' keyword argument was not supplied to the 'numba.jit' decorator. The implicit default value for this argument is currently False, but it will be changed to True in Numba 0.59.0. See https://numba.readthedocs.io/en/stable/reference/deprecation.html#deprecation-of-object-mode-fall-back-behaviour-when-using-jit for details.\n",
      "  @numba.jit()\n",
      "/home/david/.local/share/virtualenvs/Self-Supervised-Learning-with-Predictabili-RPXJKYD0/lib/python3.10/site-packages/umap/distances.py:1071: NumbaDeprecationWarning: The 'nopython' keyword argument was not supplied to the 'numba.jit' decorator. The implicit default value for this argument is currently False, but it will be changed to True in Numba 0.59.0. See https://numba.readthedocs.io/en/stable/reference/deprecation.html#deprecation-of-object-mode-fall-back-behaviour-when-using-jit for details.\n",
      "  @numba.jit()\n",
      "/home/david/.local/share/virtualenvs/Self-Supervised-Learning-with-Predictabili-RPXJKYD0/lib/python3.10/site-packages/umap/distances.py:1086: NumbaDeprecationWarning: The 'nopython' keyword argument was not supplied to the 'numba.jit' decorator. The implicit default value for this argument is currently False, but it will be changed to True in Numba 0.59.0. See https://numba.readthedocs.io/en/stable/reference/deprecation.html#deprecation-of-object-mode-fall-back-behaviour-when-using-jit for details.\n",
      "  @numba.jit()\n",
      "/home/david/.local/share/virtualenvs/Self-Supervised-Learning-with-Predictabili-RPXJKYD0/lib/python3.10/site-packages/umap/umap_.py:660: NumbaDeprecationWarning: The 'nopython' keyword argument was not supplied to the 'numba.jit' decorator. The implicit default value for this argument is currently False, but it will be changed to True in Numba 0.59.0. See https://numba.readthedocs.io/en/stable/reference/deprecation.html#deprecation-of-object-mode-fall-back-behaviour-when-using-jit for details.\n",
      "  @numba.jit()\n"
     ]
    },
    {
     "name": "stdout",
     "output_type": "stream",
     "text": [
      "{'name': 'byol-cifar100', 'method': 'byol', 'backbone': {'name': 'resnet18', 'kwargs': {}}, 'method_kwargs': {'proj_hidden_dim': 4096, 'proj_output_dim': 256, 'pred_hidden_dim': 4096}, 'momentum': {'base_tau': 0.99, 'final_tau': 1.0, 'classifier': False}, 'data': {'dataset': 'cifar100', 'train_path': './datasets', 'val_path': './datasets', 'format': 'image_folder', 'num_workers': 4, 'no_labels': False, 'fraction': -1, 'num_classes': 100, 'num_large_crops': 2, 'num_small_crops': 0}, 'optimizer': {'name': 'lars', 'batch_size': 256, 'lr': 1.0, 'classifier_lr': 0.1, 'weight_decay': 1e-05, 'kwargs': {'clip_lr': True, 'eta': 0.02, 'exclude_bias_n_norm': True, 'momentum': 0.9}, 'exclude_bias_n_norm_wd': False}, 'scheduler': {'name': 'warmup_cosine', 'lr_decay_steps': None, 'min_lr': 0.0, 'warmup_start_lr': 3e-05, 'warmup_epochs': 10, 'interval': 'step'}, 'checkpoint': {'enabled': True, 'dir': 'trained_models', 'frequency': 1, 'keep_prev': False}, 'auto_resume': {'enabled': True, 'max_hours': 36}, 'max_epochs': 1000, 'devices': [0], 'sync_batchnorm': True, 'accelerator': 'gpu', 'strategy': 'ddp', 'precision': 16, 'augmentations': [{'rrc': {'enabled': True, 'crop_min_scale': 0.08, 'crop_max_scale': 1.0}, 'color_jitter': {'prob': 0.8, 'brightness': 0.4, 'contrast': 0.4, 'saturation': 0.2, 'hue': 0.1}, 'grayscale': {'prob': 0.2}, 'gaussian_blur': {'prob': 0.0}, 'solarization': {'prob': 0.0}, 'equalization': {'prob': 0.0}, 'horizontal_flip': {'prob': 0.5}, 'crop_size': 32, 'num_crops': 1}, {'rrc': {'enabled': True, 'crop_min_scale': 0.08, 'crop_max_scale': 1.0}, 'color_jitter': {'prob': 0.8, 'brightness': 0.4, 'contrast': 0.4, 'saturation': 0.2, 'hue': 0.1}, 'grayscale': {'prob': 0.2}, 'gaussian_blur': {'prob': 0.0}, 'solarization': {'prob': 0.2}, 'equalization': {'prob': 0.0}, 'horizontal_flip': {'prob': 0.5}, 'crop_size': 32, 'num_crops': 1}], 'wandb': {'enabled': True, 'entity': None, 'project': 'solo-learn', 'offline': False}, 'dali': {'device': 'gpu', 'encode_indexes_into_labels': False}, 'auto_umap': {'enabled': False, 'dir': 'auto_umap', 'frequency': 1}, 'debug_augmentations': False, 'seed': 5, 'resume_from_checkpoint': None, 'num_nodes': 1, 'accumulate_grad_batches': 1, 'knn_eval': {'enabled': False, 'k': 20, 'distance_func': 'euclidean'}, 'performance': {'disable_channel_last': False}, 'wandb_run_id': '1myzhgng'}\n"
     ]
    },
    {
     "name": "stderr",
     "output_type": "stream",
     "text": [
      "WARNING:root:Using scheduler_interval=step might generate issues when resuming a checkpoint.\n"
     ]
    },
    {
     "name": "stdout",
     "output_type": "stream",
     "text": [
      "Files already downloaded and verified\n",
      "Files already downloaded and verified\n",
      "{'name': 'byol-cifar100', 'method': 'byol', 'backbone': {'name': 'resnet18', 'kwargs': {}}, 'method_kwargs': {'proj_hidden_dim': 4096, 'proj_output_dim': 256, 'pred_hidden_dim': 4096}, 'momentum': {'base_tau': 0.99, 'final_tau': 1.0, 'classifier': False}, 'data': {'dataset': 'cifar100', 'train_path': './datasets', 'val_path': './datasets', 'format': 'image_folder', 'num_workers': 4, 'no_labels': False, 'fraction': -1, 'num_classes': 100, 'num_large_crops': 2, 'num_small_crops': 0}, 'optimizer': {'name': 'lars', 'batch_size': 256, 'lr': 1.0, 'classifier_lr': 0.1, 'weight_decay': 1e-05, 'kwargs': {'clip_lr': True, 'eta': 0.02, 'exclude_bias_n_norm': True, 'momentum': 0.9}, 'exclude_bias_n_norm_wd': False}, 'scheduler': {'name': 'warmup_cosine', 'lr_decay_steps': None, 'min_lr': 0.0, 'warmup_start_lr': 3e-05, 'warmup_epochs': 10, 'interval': 'step'}, 'checkpoint': {'enabled': True, 'dir': 'trained_models', 'frequency': 1, 'keep_prev': False}, 'auto_resume': {'enabled': True, 'max_hours': 36}, 'max_epochs': 1000, 'devices': [0], 'sync_batchnorm': True, 'accelerator': 'gpu', 'strategy': 'ddp', 'precision': 16, 'augmentations': [{'rrc': {'enabled': True, 'crop_min_scale': 0.08, 'crop_max_scale': 1.0}, 'color_jitter': {'prob': 0.8, 'brightness': 0.4, 'contrast': 0.4, 'saturation': 0.2, 'hue': 0.1}, 'grayscale': {'prob': 0.2}, 'gaussian_blur': {'prob': 0.0}, 'solarization': {'prob': 0.0}, 'equalization': {'prob': 0.0}, 'horizontal_flip': {'prob': 0.5}, 'crop_size': 32, 'num_crops': 1}, {'rrc': {'enabled': True, 'crop_min_scale': 0.08, 'crop_max_scale': 1.0}, 'color_jitter': {'prob': 0.8, 'brightness': 0.4, 'contrast': 0.4, 'saturation': 0.2, 'hue': 0.1}, 'grayscale': {'prob': 0.2}, 'gaussian_blur': {'prob': 0.0}, 'solarization': {'prob': 0.2}, 'equalization': {'prob': 0.0}, 'horizontal_flip': {'prob': 0.5}, 'crop_size': 32, 'num_crops': 1}], 'wandb': {'enabled': True, 'entity': None, 'project': 'solo-learn', 'offline': False}, 'dali': {'device': 'gpu', 'encode_indexes_into_labels': False}, 'auto_umap': {'enabled': False, 'dir': 'auto_umap', 'frequency': 1}, 'debug_augmentations': False, 'seed': 5, 'resume_from_checkpoint': None, 'num_nodes': 1, 'accumulate_grad_batches': 1, 'knn_eval': {'enabled': False, 'k': 20, 'distance_func': 'euclidean'}, 'performance': {'disable_channel_last': False}, 'wandb_run_id': '1myzhgng'}\n",
      "CFG:  byol-cifar100 1myzhgng\n"
     ]
    },
    {
     "name": "stderr",
     "output_type": "stream",
     "text": [
      "Collecting features: 100%|██████████| 390/390 [00:05<00:00, 72.84it/s]\n",
      "Collecting features: 100%|██████████| 79/79 [00:01<00:00, 64.71it/s]\n",
      " 82%|████████▏ | 51/62 [1:02:52<09:06, 49.67s/it]"
     ]
    },
    {
     "name": "stdout",
     "output_type": "stream",
     "text": [
      "/hdd/backup_cluster_august_2023/Self-Supervised-Learning-with-Predictability-Minimization/Self-Supervised-Learning-with-Predictability-Minimization/trained_models/byol/lrw9nxzu\n",
      "/hdd/backup_cluster_august_2023/Self-Supervised-Learning-with-Predictability-Minimization/Self-Supervised-Learning-with-Predictability-Minimization/trained_models/byol/lrw9nxzu/byol-cifar10-lrw9nxzu-ep=999.ckpt\n"
     ]
    },
    {
     "name": "stderr",
     "output_type": "stream",
     "text": [
      "/home/david/.local/share/virtualenvs/Self-Supervised-Learning-with-Predictabili-RPXJKYD0/lib/python3.10/site-packages/umap/distances.py:1063: NumbaDeprecationWarning: The 'nopython' keyword argument was not supplied to the 'numba.jit' decorator. The implicit default value for this argument is currently False, but it will be changed to True in Numba 0.59.0. See https://numba.readthedocs.io/en/stable/reference/deprecation.html#deprecation-of-object-mode-fall-back-behaviour-when-using-jit for details.\n",
      "  @numba.jit()\n",
      "/home/david/.local/share/virtualenvs/Self-Supervised-Learning-with-Predictabili-RPXJKYD0/lib/python3.10/site-packages/umap/distances.py:1071: NumbaDeprecationWarning: The 'nopython' keyword argument was not supplied to the 'numba.jit' decorator. The implicit default value for this argument is currently False, but it will be changed to True in Numba 0.59.0. See https://numba.readthedocs.io/en/stable/reference/deprecation.html#deprecation-of-object-mode-fall-back-behaviour-when-using-jit for details.\n",
      "  @numba.jit()\n",
      "/home/david/.local/share/virtualenvs/Self-Supervised-Learning-with-Predictabili-RPXJKYD0/lib/python3.10/site-packages/umap/distances.py:1086: NumbaDeprecationWarning: The 'nopython' keyword argument was not supplied to the 'numba.jit' decorator. The implicit default value for this argument is currently False, but it will be changed to True in Numba 0.59.0. See https://numba.readthedocs.io/en/stable/reference/deprecation.html#deprecation-of-object-mode-fall-back-behaviour-when-using-jit for details.\n",
      "  @numba.jit()\n",
      "/home/david/.local/share/virtualenvs/Self-Supervised-Learning-with-Predictabili-RPXJKYD0/lib/python3.10/site-packages/umap/umap_.py:660: NumbaDeprecationWarning: The 'nopython' keyword argument was not supplied to the 'numba.jit' decorator. The implicit default value for this argument is currently False, but it will be changed to True in Numba 0.59.0. See https://numba.readthedocs.io/en/stable/reference/deprecation.html#deprecation-of-object-mode-fall-back-behaviour-when-using-jit for details.\n",
      "  @numba.jit()\n"
     ]
    },
    {
     "name": "stdout",
     "output_type": "stream",
     "text": [
      "{'name': 'byol-cifar10', 'method': 'byol', 'backbone': {'name': 'resnet18', 'kwargs': {}}, 'method_kwargs': {'proj_hidden_dim': 4096, 'proj_output_dim': 256, 'pred_hidden_dim': 4096}, 'momentum': {'base_tau': 0.99, 'final_tau': 1.0, 'classifier': False}, 'data': {'dataset': 'cifar10', 'train_path': './datasets', 'val_path': './datasets', 'format': 'image_folder', 'num_workers': 4, 'no_labels': False, 'fraction': -1, 'num_classes': 10, 'num_large_crops': 2, 'num_small_crops': 0}, 'optimizer': {'name': 'lars', 'batch_size': 256, 'lr': 1.0, 'classifier_lr': 0.1, 'weight_decay': 1e-05, 'kwargs': {'clip_lr': True, 'eta': 0.02, 'exclude_bias_n_norm': True, 'momentum': 0.9}, 'exclude_bias_n_norm_wd': False}, 'scheduler': {'name': 'warmup_cosine', 'lr_decay_steps': None, 'min_lr': 0.0, 'warmup_start_lr': 3e-05, 'warmup_epochs': 10, 'interval': 'step'}, 'checkpoint': {'enabled': True, 'dir': 'trained_models', 'frequency': 1, 'keep_prev': False}, 'auto_resume': {'enabled': True, 'max_hours': 36}, 'max_epochs': 1000, 'devices': [0], 'sync_batchnorm': True, 'accelerator': 'gpu', 'strategy': 'ddp', 'precision': 16, 'augmentations': [{'rrc': {'enabled': True, 'crop_min_scale': 0.08, 'crop_max_scale': 1.0}, 'color_jitter': {'prob': 0.8, 'brightness': 0.4, 'contrast': 0.4, 'saturation': 0.2, 'hue': 0.1}, 'grayscale': {'prob': 0.2}, 'gaussian_blur': {'prob': 0.0}, 'solarization': {'prob': 0.0}, 'equalization': {'prob': 0.0}, 'horizontal_flip': {'prob': 0.5}, 'crop_size': 32, 'num_crops': 1}, {'rrc': {'enabled': True, 'crop_min_scale': 0.08, 'crop_max_scale': 1.0}, 'color_jitter': {'prob': 0.8, 'brightness': 0.4, 'contrast': 0.4, 'saturation': 0.2, 'hue': 0.1}, 'grayscale': {'prob': 0.2}, 'gaussian_blur': {'prob': 0.0}, 'solarization': {'prob': 0.2}, 'equalization': {'prob': 0.0}, 'horizontal_flip': {'prob': 0.5}, 'crop_size': 32, 'num_crops': 1}], 'wandb': {'enabled': True, 'entity': None, 'project': 'solo-learn', 'offline': False}, 'dali': {'device': 'gpu', 'encode_indexes_into_labels': False}, 'auto_umap': {'enabled': False, 'dir': 'auto_umap', 'frequency': 1}, 'debug_augmentations': False, 'seed': 5, 'resume_from_checkpoint': None, 'num_nodes': 1, 'accumulate_grad_batches': 1, 'knn_eval': {'enabled': False, 'k': 20, 'distance_func': 'euclidean'}, 'performance': {'disable_channel_last': False}, 'wandb_run_id': 'lrw9nxzu'}\n"
     ]
    },
    {
     "name": "stderr",
     "output_type": "stream",
     "text": [
      "WARNING:root:Using scheduler_interval=step might generate issues when resuming a checkpoint.\n"
     ]
    },
    {
     "name": "stdout",
     "output_type": "stream",
     "text": [
      "Files already downloaded and verified\n",
      "Files already downloaded and verified\n",
      "{'name': 'byol-cifar10', 'method': 'byol', 'backbone': {'name': 'resnet18', 'kwargs': {}}, 'method_kwargs': {'proj_hidden_dim': 4096, 'proj_output_dim': 256, 'pred_hidden_dim': 4096}, 'momentum': {'base_tau': 0.99, 'final_tau': 1.0, 'classifier': False}, 'data': {'dataset': 'cifar10', 'train_path': './datasets', 'val_path': './datasets', 'format': 'image_folder', 'num_workers': 4, 'no_labels': False, 'fraction': -1, 'num_classes': 10, 'num_large_crops': 2, 'num_small_crops': 0}, 'optimizer': {'name': 'lars', 'batch_size': 256, 'lr': 1.0, 'classifier_lr': 0.1, 'weight_decay': 1e-05, 'kwargs': {'clip_lr': True, 'eta': 0.02, 'exclude_bias_n_norm': True, 'momentum': 0.9}, 'exclude_bias_n_norm_wd': False}, 'scheduler': {'name': 'warmup_cosine', 'lr_decay_steps': None, 'min_lr': 0.0, 'warmup_start_lr': 3e-05, 'warmup_epochs': 10, 'interval': 'step'}, 'checkpoint': {'enabled': True, 'dir': 'trained_models', 'frequency': 1, 'keep_prev': False}, 'auto_resume': {'enabled': True, 'max_hours': 36}, 'max_epochs': 1000, 'devices': [0], 'sync_batchnorm': True, 'accelerator': 'gpu', 'strategy': 'ddp', 'precision': 16, 'augmentations': [{'rrc': {'enabled': True, 'crop_min_scale': 0.08, 'crop_max_scale': 1.0}, 'color_jitter': {'prob': 0.8, 'brightness': 0.4, 'contrast': 0.4, 'saturation': 0.2, 'hue': 0.1}, 'grayscale': {'prob': 0.2}, 'gaussian_blur': {'prob': 0.0}, 'solarization': {'prob': 0.0}, 'equalization': {'prob': 0.0}, 'horizontal_flip': {'prob': 0.5}, 'crop_size': 32, 'num_crops': 1}, {'rrc': {'enabled': True, 'crop_min_scale': 0.08, 'crop_max_scale': 1.0}, 'color_jitter': {'prob': 0.8, 'brightness': 0.4, 'contrast': 0.4, 'saturation': 0.2, 'hue': 0.1}, 'grayscale': {'prob': 0.2}, 'gaussian_blur': {'prob': 0.0}, 'solarization': {'prob': 0.2}, 'equalization': {'prob': 0.0}, 'horizontal_flip': {'prob': 0.5}, 'crop_size': 32, 'num_crops': 1}], 'wandb': {'enabled': True, 'entity': None, 'project': 'solo-learn', 'offline': False}, 'dali': {'device': 'gpu', 'encode_indexes_into_labels': False}, 'auto_umap': {'enabled': False, 'dir': 'auto_umap', 'frequency': 1}, 'debug_augmentations': False, 'seed': 5, 'resume_from_checkpoint': None, 'num_nodes': 1, 'accumulate_grad_batches': 1, 'knn_eval': {'enabled': False, 'k': 20, 'distance_func': 'euclidean'}, 'performance': {'disable_channel_last': False}, 'wandb_run_id': 'lrw9nxzu'}\n",
      "CFG:  byol-cifar10 lrw9nxzu\n"
     ]
    },
    {
     "name": "stderr",
     "output_type": "stream",
     "text": [
      "Collecting features: 100%|██████████| 390/390 [00:05<00:00, 73.16it/s]\n",
      "Collecting features: 100%|██████████| 79/79 [00:01<00:00, 65.75it/s]\n",
      " 84%|████████▍ | 52/62 [1:03:18<07:05, 42.56s/it]"
     ]
    },
    {
     "name": "stdout",
     "output_type": "stream",
     "text": [
      "/hdd/backup_cluster_august_2023/Self-Supervised-Learning-with-Predictability-Minimization/Self-Supervised-Learning-with-Predictability-Minimization/trained_models/byol/fnnlb6qc\n",
      "/hdd/backup_cluster_august_2023/Self-Supervised-Learning-with-Predictability-Minimization/Self-Supervised-Learning-with-Predictability-Minimization/trained_models/byol/fnnlb6qc/byol-cifar100-fnnlb6qc-ep=999.ckpt\n"
     ]
    },
    {
     "name": "stderr",
     "output_type": "stream",
     "text": [
      "/home/david/.local/share/virtualenvs/Self-Supervised-Learning-with-Predictabili-RPXJKYD0/lib/python3.10/site-packages/umap/distances.py:1063: NumbaDeprecationWarning: The 'nopython' keyword argument was not supplied to the 'numba.jit' decorator. The implicit default value for this argument is currently False, but it will be changed to True in Numba 0.59.0. See https://numba.readthedocs.io/en/stable/reference/deprecation.html#deprecation-of-object-mode-fall-back-behaviour-when-using-jit for details.\n",
      "  @numba.jit()\n",
      "/home/david/.local/share/virtualenvs/Self-Supervised-Learning-with-Predictabili-RPXJKYD0/lib/python3.10/site-packages/umap/distances.py:1071: NumbaDeprecationWarning: The 'nopython' keyword argument was not supplied to the 'numba.jit' decorator. The implicit default value for this argument is currently False, but it will be changed to True in Numba 0.59.0. See https://numba.readthedocs.io/en/stable/reference/deprecation.html#deprecation-of-object-mode-fall-back-behaviour-when-using-jit for details.\n",
      "  @numba.jit()\n",
      "/home/david/.local/share/virtualenvs/Self-Supervised-Learning-with-Predictabili-RPXJKYD0/lib/python3.10/site-packages/umap/distances.py:1086: NumbaDeprecationWarning: The 'nopython' keyword argument was not supplied to the 'numba.jit' decorator. The implicit default value for this argument is currently False, but it will be changed to True in Numba 0.59.0. See https://numba.readthedocs.io/en/stable/reference/deprecation.html#deprecation-of-object-mode-fall-back-behaviour-when-using-jit for details.\n",
      "  @numba.jit()\n",
      "/home/david/.local/share/virtualenvs/Self-Supervised-Learning-with-Predictabili-RPXJKYD0/lib/python3.10/site-packages/umap/umap_.py:660: NumbaDeprecationWarning: The 'nopython' keyword argument was not supplied to the 'numba.jit' decorator. The implicit default value for this argument is currently False, but it will be changed to True in Numba 0.59.0. See https://numba.readthedocs.io/en/stable/reference/deprecation.html#deprecation-of-object-mode-fall-back-behaviour-when-using-jit for details.\n",
      "  @numba.jit()\n"
     ]
    },
    {
     "name": "stdout",
     "output_type": "stream",
     "text": [
      "{'name': 'byol-cifar100', 'method': 'byol', 'backbone': {'name': 'resnet18', 'kwargs': {}}, 'method_kwargs': {'proj_hidden_dim': 4096, 'proj_output_dim': 256, 'pred_hidden_dim': 4096}, 'momentum': {'base_tau': 0.99, 'final_tau': 1.0, 'classifier': False}, 'data': {'dataset': 'cifar100', 'train_path': './datasets', 'val_path': './datasets', 'format': 'image_folder', 'num_workers': 4, 'no_labels': False, 'fraction': -1, 'num_classes': 100, 'num_large_crops': 2, 'num_small_crops': 0}, 'optimizer': {'name': 'lars', 'batch_size': 256, 'lr': 1.0, 'classifier_lr': 0.1, 'weight_decay': 1e-05, 'kwargs': {'clip_lr': True, 'eta': 0.02, 'exclude_bias_n_norm': True, 'momentum': 0.9}, 'exclude_bias_n_norm_wd': False}, 'scheduler': {'name': 'warmup_cosine', 'lr_decay_steps': None, 'min_lr': 0.0, 'warmup_start_lr': 3e-05, 'warmup_epochs': 10, 'interval': 'step'}, 'checkpoint': {'enabled': True, 'dir': 'trained_models', 'frequency': 1, 'keep_prev': False}, 'auto_resume': {'enabled': True, 'max_hours': 36}, 'max_epochs': 1000, 'devices': [0], 'sync_batchnorm': True, 'accelerator': 'gpu', 'strategy': 'ddp', 'precision': 16, 'augmentations': [{'rrc': {'enabled': True, 'crop_min_scale': 0.08, 'crop_max_scale': 1.0}, 'color_jitter': {'prob': 0.8, 'brightness': 0.4, 'contrast': 0.4, 'saturation': 0.2, 'hue': 0.1}, 'grayscale': {'prob': 0.2}, 'gaussian_blur': {'prob': 0.0}, 'solarization': {'prob': 0.0}, 'equalization': {'prob': 0.0}, 'horizontal_flip': {'prob': 0.5}, 'crop_size': 32, 'num_crops': 1}, {'rrc': {'enabled': True, 'crop_min_scale': 0.08, 'crop_max_scale': 1.0}, 'color_jitter': {'prob': 0.8, 'brightness': 0.4, 'contrast': 0.4, 'saturation': 0.2, 'hue': 0.1}, 'grayscale': {'prob': 0.2}, 'gaussian_blur': {'prob': 0.0}, 'solarization': {'prob': 0.2}, 'equalization': {'prob': 0.0}, 'horizontal_flip': {'prob': 0.5}, 'crop_size': 32, 'num_crops': 1}], 'wandb': {'enabled': True, 'entity': None, 'project': 'solo-learn', 'offline': False}, 'dali': {'device': 'gpu', 'encode_indexes_into_labels': False}, 'auto_umap': {'enabled': False, 'dir': 'auto_umap', 'frequency': 1}, 'debug_augmentations': False, 'seed': 5, 'resume_from_checkpoint': None, 'num_nodes': 1, 'accumulate_grad_batches': 1, 'knn_eval': {'enabled': False, 'k': 20, 'distance_func': 'euclidean'}, 'performance': {'disable_channel_last': False}, 'wandb_run_id': 'fnnlb6qc'}\n"
     ]
    },
    {
     "name": "stderr",
     "output_type": "stream",
     "text": [
      "WARNING:root:Using scheduler_interval=step might generate issues when resuming a checkpoint.\n"
     ]
    },
    {
     "name": "stdout",
     "output_type": "stream",
     "text": [
      "Files already downloaded and verified\n",
      "Files already downloaded and verified\n",
      "{'name': 'byol-cifar100', 'method': 'byol', 'backbone': {'name': 'resnet18', 'kwargs': {}}, 'method_kwargs': {'proj_hidden_dim': 4096, 'proj_output_dim': 256, 'pred_hidden_dim': 4096}, 'momentum': {'base_tau': 0.99, 'final_tau': 1.0, 'classifier': False}, 'data': {'dataset': 'cifar100', 'train_path': './datasets', 'val_path': './datasets', 'format': 'image_folder', 'num_workers': 4, 'no_labels': False, 'fraction': -1, 'num_classes': 100, 'num_large_crops': 2, 'num_small_crops': 0}, 'optimizer': {'name': 'lars', 'batch_size': 256, 'lr': 1.0, 'classifier_lr': 0.1, 'weight_decay': 1e-05, 'kwargs': {'clip_lr': True, 'eta': 0.02, 'exclude_bias_n_norm': True, 'momentum': 0.9}, 'exclude_bias_n_norm_wd': False}, 'scheduler': {'name': 'warmup_cosine', 'lr_decay_steps': None, 'min_lr': 0.0, 'warmup_start_lr': 3e-05, 'warmup_epochs': 10, 'interval': 'step'}, 'checkpoint': {'enabled': True, 'dir': 'trained_models', 'frequency': 1, 'keep_prev': False}, 'auto_resume': {'enabled': True, 'max_hours': 36}, 'max_epochs': 1000, 'devices': [0], 'sync_batchnorm': True, 'accelerator': 'gpu', 'strategy': 'ddp', 'precision': 16, 'augmentations': [{'rrc': {'enabled': True, 'crop_min_scale': 0.08, 'crop_max_scale': 1.0}, 'color_jitter': {'prob': 0.8, 'brightness': 0.4, 'contrast': 0.4, 'saturation': 0.2, 'hue': 0.1}, 'grayscale': {'prob': 0.2}, 'gaussian_blur': {'prob': 0.0}, 'solarization': {'prob': 0.0}, 'equalization': {'prob': 0.0}, 'horizontal_flip': {'prob': 0.5}, 'crop_size': 32, 'num_crops': 1}, {'rrc': {'enabled': True, 'crop_min_scale': 0.08, 'crop_max_scale': 1.0}, 'color_jitter': {'prob': 0.8, 'brightness': 0.4, 'contrast': 0.4, 'saturation': 0.2, 'hue': 0.1}, 'grayscale': {'prob': 0.2}, 'gaussian_blur': {'prob': 0.0}, 'solarization': {'prob': 0.2}, 'equalization': {'prob': 0.0}, 'horizontal_flip': {'prob': 0.5}, 'crop_size': 32, 'num_crops': 1}], 'wandb': {'enabled': True, 'entity': None, 'project': 'solo-learn', 'offline': False}, 'dali': {'device': 'gpu', 'encode_indexes_into_labels': False}, 'auto_umap': {'enabled': False, 'dir': 'auto_umap', 'frequency': 1}, 'debug_augmentations': False, 'seed': 5, 'resume_from_checkpoint': None, 'num_nodes': 1, 'accumulate_grad_batches': 1, 'knn_eval': {'enabled': False, 'k': 20, 'distance_func': 'euclidean'}, 'performance': {'disable_channel_last': False}, 'wandb_run_id': 'fnnlb6qc'}\n",
      "CFG:  byol-cifar100 fnnlb6qc\n"
     ]
    },
    {
     "name": "stderr",
     "output_type": "stream",
     "text": [
      "Collecting features: 100%|██████████| 390/390 [00:05<00:00, 73.92it/s]\n",
      "Collecting features: 100%|██████████| 79/79 [00:01<00:00, 66.56it/s]\n",
      " 85%|████████▌ | 53/62 [1:03:44<05:37, 37.47s/it]"
     ]
    },
    {
     "name": "stdout",
     "output_type": "stream",
     "text": [
      "/hdd/backup_cluster_august_2023/Self-Supervised-Learning-with-Predictability-Minimization/Self-Supervised-Learning-with-Predictability-Minimization/trained_models/byol/x8lhg4g8\n",
      "/hdd/backup_cluster_august_2023/Self-Supervised-Learning-with-Predictability-Minimization/Self-Supervised-Learning-with-Predictability-Minimization/trained_models/byol/x8lhg4g8/byol-imagenet100-x8lhg4g8-ep=399.ckpt\n"
     ]
    },
    {
     "name": "stderr",
     "output_type": "stream",
     "text": [
      "/home/david/.local/share/virtualenvs/Self-Supervised-Learning-with-Predictabili-RPXJKYD0/lib/python3.10/site-packages/umap/distances.py:1063: NumbaDeprecationWarning: The 'nopython' keyword argument was not supplied to the 'numba.jit' decorator. The implicit default value for this argument is currently False, but it will be changed to True in Numba 0.59.0. See https://numba.readthedocs.io/en/stable/reference/deprecation.html#deprecation-of-object-mode-fall-back-behaviour-when-using-jit for details.\n",
      "  @numba.jit()\n",
      "/home/david/.local/share/virtualenvs/Self-Supervised-Learning-with-Predictabili-RPXJKYD0/lib/python3.10/site-packages/umap/distances.py:1071: NumbaDeprecationWarning: The 'nopython' keyword argument was not supplied to the 'numba.jit' decorator. The implicit default value for this argument is currently False, but it will be changed to True in Numba 0.59.0. See https://numba.readthedocs.io/en/stable/reference/deprecation.html#deprecation-of-object-mode-fall-back-behaviour-when-using-jit for details.\n",
      "  @numba.jit()\n",
      "/home/david/.local/share/virtualenvs/Self-Supervised-Learning-with-Predictabili-RPXJKYD0/lib/python3.10/site-packages/umap/distances.py:1086: NumbaDeprecationWarning: The 'nopython' keyword argument was not supplied to the 'numba.jit' decorator. The implicit default value for this argument is currently False, but it will be changed to True in Numba 0.59.0. See https://numba.readthedocs.io/en/stable/reference/deprecation.html#deprecation-of-object-mode-fall-back-behaviour-when-using-jit for details.\n",
      "  @numba.jit()\n",
      "/home/david/.local/share/virtualenvs/Self-Supervised-Learning-with-Predictabili-RPXJKYD0/lib/python3.10/site-packages/umap/umap_.py:660: NumbaDeprecationWarning: The 'nopython' keyword argument was not supplied to the 'numba.jit' decorator. The implicit default value for this argument is currently False, but it will be changed to True in Numba 0.59.0. See https://numba.readthedocs.io/en/stable/reference/deprecation.html#deprecation-of-object-mode-fall-back-behaviour-when-using-jit for details.\n",
      "  @numba.jit()\n"
     ]
    },
    {
     "name": "stdout",
     "output_type": "stream",
     "text": [
      "{'name': 'byol-imagenet100', 'method': 'byol', 'backbone': {'name': 'resnet18', 'kwargs': {}}, 'method_kwargs': {'proj_hidden_dim': 4096, 'proj_output_dim': 256, 'pred_hidden_dim': 8192}, 'momentum': {'base_tau': 0.99, 'final_tau': 1.0, 'classifier': False}, 'data': {'dataset': 'imagenet100', 'train_path': '/itet-stor/zdavid/net_scratch/data/ILSVRC2012_img_train_100', 'val_path': '/itet-stor/zdavid/net_scratch/data/ILSVRC2012_img_val_100', 'format': 'dali', 'num_workers': 4, 'no_labels': False, 'fraction': -1, 'num_classes': 100, 'num_large_crops': 2, 'num_small_crops': 0}, 'optimizer': {'name': 'lars', 'batch_size': 128, 'lr': 0.5, 'classifier_lr': 0.1, 'weight_decay': 1e-06, 'kwargs': {'clip_lr': True, 'eta': 0.02, 'exclude_bias_n_norm': True, 'momentum': 0.9}, 'exclude_bias_n_norm_wd': False}, 'scheduler': {'name': 'warmup_cosine', 'lr_decay_steps': None, 'min_lr': 0.0, 'warmup_start_lr': 3e-05, 'warmup_epochs': 10, 'interval': 'step'}, 'checkpoint': {'enabled': True, 'dir': 'trained_models', 'frequency': 1, 'keep_prev': False}, 'auto_resume': {'enabled': True, 'max_hours': 36}, 'max_epochs': 400, 'devices': [0, 1], 'sync_batchnorm': True, 'accelerator': 'gpu', 'strategy': 'ddp', 'precision': 16, 'augmentations': [{'rrc': {'enabled': True, 'crop_min_scale': 0.08, 'crop_max_scale': 1.0}, 'color_jitter': {'prob': 0.8, 'brightness': 0.4, 'contrast': 0.4, 'saturation': 0.2, 'hue': 0.1}, 'grayscale': {'prob': 0.2}, 'gaussian_blur': {'prob': 1.0}, 'solarization': {'prob': 0.0}, 'equalization': {'prob': 0.0}, 'horizontal_flip': {'prob': 0.5}, 'crop_size': 224, 'num_crops': 1}, {'rrc': {'enabled': True, 'crop_min_scale': 0.08, 'crop_max_scale': 1.0}, 'color_jitter': {'prob': 0.8, 'brightness': 0.4, 'contrast': 0.4, 'saturation': 0.2, 'hue': 0.1}, 'grayscale': {'prob': 0.2}, 'gaussian_blur': {'prob': 0.1}, 'solarization': {'prob': 0.2}, 'equalization': {'prob': 0.0}, 'horizontal_flip': {'prob': 0.5}, 'crop_size': 224, 'num_crops': 1}], 'wandb': {'enabled': True, 'entity': None, 'project': 'solo-learn', 'offline': False}, 'dali': {'device': 'gpu', 'encode_indexes_into_labels': False}, 'auto_umap': {'enabled': False, 'dir': 'auto_umap', 'frequency': 1}, 'debug_augmentations': False, 'seed': 5, 'resume_from_checkpoint': None, 'num_nodes': 1, 'accumulate_grad_batches': 1, 'knn_eval': {'enabled': False, 'k': 20, 'distance_func': 'euclidean'}, 'performance': {'disable_channel_last': False}, 'wandb_run_id': 'x8lhg4g8'}\n"
     ]
    },
    {
     "name": "stderr",
     "output_type": "stream",
     "text": [
      "WARNING:root:Using scheduler_interval=step might generate issues when resuming a checkpoint.\n"
     ]
    },
    {
     "name": "stdout",
     "output_type": "stream",
     "text": [
      "{'name': 'byol-imagenet100', 'method': 'byol', 'backbone': {'name': 'resnet18', 'kwargs': {}}, 'method_kwargs': {'proj_hidden_dim': 4096, 'proj_output_dim': 256, 'pred_hidden_dim': 8192}, 'momentum': {'base_tau': 0.99, 'final_tau': 1.0, 'classifier': False}, 'data': {'dataset': 'imagenet100', 'train_path': '/itet-stor/zdavid/net_scratch/data/ILSVRC2012_img_train_100', 'val_path': '/itet-stor/zdavid/net_scratch/data/ILSVRC2012_img_val_100', 'format': 'dali', 'num_workers': 4, 'no_labels': False, 'fraction': -1, 'num_classes': 100, 'num_large_crops': 2, 'num_small_crops': 0}, 'optimizer': {'name': 'lars', 'batch_size': 128, 'lr': 0.5, 'classifier_lr': 0.1, 'weight_decay': 1e-06, 'kwargs': {'clip_lr': True, 'eta': 0.02, 'exclude_bias_n_norm': True, 'momentum': 0.9}, 'exclude_bias_n_norm_wd': False}, 'scheduler': {'name': 'warmup_cosine', 'lr_decay_steps': None, 'min_lr': 0.0, 'warmup_start_lr': 3e-05, 'warmup_epochs': 10, 'interval': 'step'}, 'checkpoint': {'enabled': True, 'dir': 'trained_models', 'frequency': 1, 'keep_prev': False}, 'auto_resume': {'enabled': True, 'max_hours': 36}, 'max_epochs': 400, 'devices': [0, 1], 'sync_batchnorm': True, 'accelerator': 'gpu', 'strategy': 'ddp', 'precision': 16, 'augmentations': [{'rrc': {'enabled': True, 'crop_min_scale': 0.08, 'crop_max_scale': 1.0}, 'color_jitter': {'prob': 0.8, 'brightness': 0.4, 'contrast': 0.4, 'saturation': 0.2, 'hue': 0.1}, 'grayscale': {'prob': 0.2}, 'gaussian_blur': {'prob': 1.0}, 'solarization': {'prob': 0.0}, 'equalization': {'prob': 0.0}, 'horizontal_flip': {'prob': 0.5}, 'crop_size': 224, 'num_crops': 1}, {'rrc': {'enabled': True, 'crop_min_scale': 0.08, 'crop_max_scale': 1.0}, 'color_jitter': {'prob': 0.8, 'brightness': 0.4, 'contrast': 0.4, 'saturation': 0.2, 'hue': 0.1}, 'grayscale': {'prob': 0.2}, 'gaussian_blur': {'prob': 0.1}, 'solarization': {'prob': 0.2}, 'equalization': {'prob': 0.0}, 'horizontal_flip': {'prob': 0.5}, 'crop_size': 224, 'num_crops': 1}], 'wandb': {'enabled': True, 'entity': None, 'project': 'solo-learn', 'offline': False}, 'dali': {'device': 'gpu', 'encode_indexes_into_labels': False}, 'auto_umap': {'enabled': False, 'dir': 'auto_umap', 'frequency': 1}, 'debug_augmentations': False, 'seed': 5, 'resume_from_checkpoint': None, 'num_nodes': 1, 'accumulate_grad_batches': 1, 'knn_eval': {'enabled': False, 'k': 20, 'distance_func': 'euclidean'}, 'performance': {'disable_channel_last': False}, 'wandb_run_id': 'x8lhg4g8'}\n",
      "CFG:  byol-imagenet100 x8lhg4g8\n"
     ]
    },
    {
     "name": "stderr",
     "output_type": "stream",
     "text": [
      "Collecting features: 100%|██████████| 989/989 [01:10<00:00, 14.07it/s]\n",
      "Collecting features: 100%|██████████| 40/40 [00:03<00:00, 10.81it/s]\n",
      " 87%|████████▋ | 54/62 [1:05:30<07:45, 58.22s/it]"
     ]
    },
    {
     "name": "stdout",
     "output_type": "stream",
     "text": [
      "/hdd/backup_cluster_august_2023/Self-Supervised-Learning-with-Predictability-Minimization/Self-Supervised-Learning-with-Predictability-Minimization/trained_models/nnclr/a5bvf8l3\n",
      "/hdd/backup_cluster_august_2023/Self-Supervised-Learning-with-Predictability-Minimization/Self-Supervised-Learning-with-Predictability-Minimization/trained_models/nnclr/a5bvf8l3/nnclr-cifar100-a5bvf8l3-ep=999.ckpt\n"
     ]
    },
    {
     "name": "stderr",
     "output_type": "stream",
     "text": [
      "/home/david/.local/share/virtualenvs/Self-Supervised-Learning-with-Predictabili-RPXJKYD0/lib/python3.10/site-packages/umap/distances.py:1063: NumbaDeprecationWarning: The 'nopython' keyword argument was not supplied to the 'numba.jit' decorator. The implicit default value for this argument is currently False, but it will be changed to True in Numba 0.59.0. See https://numba.readthedocs.io/en/stable/reference/deprecation.html#deprecation-of-object-mode-fall-back-behaviour-when-using-jit for details.\n",
      "  @numba.jit()\n",
      "/home/david/.local/share/virtualenvs/Self-Supervised-Learning-with-Predictabili-RPXJKYD0/lib/python3.10/site-packages/umap/distances.py:1071: NumbaDeprecationWarning: The 'nopython' keyword argument was not supplied to the 'numba.jit' decorator. The implicit default value for this argument is currently False, but it will be changed to True in Numba 0.59.0. See https://numba.readthedocs.io/en/stable/reference/deprecation.html#deprecation-of-object-mode-fall-back-behaviour-when-using-jit for details.\n",
      "  @numba.jit()\n",
      "/home/david/.local/share/virtualenvs/Self-Supervised-Learning-with-Predictabili-RPXJKYD0/lib/python3.10/site-packages/umap/distances.py:1086: NumbaDeprecationWarning: The 'nopython' keyword argument was not supplied to the 'numba.jit' decorator. The implicit default value for this argument is currently False, but it will be changed to True in Numba 0.59.0. See https://numba.readthedocs.io/en/stable/reference/deprecation.html#deprecation-of-object-mode-fall-back-behaviour-when-using-jit for details.\n",
      "  @numba.jit()\n",
      "/home/david/.local/share/virtualenvs/Self-Supervised-Learning-with-Predictabili-RPXJKYD0/lib/python3.10/site-packages/umap/umap_.py:660: NumbaDeprecationWarning: The 'nopython' keyword argument was not supplied to the 'numba.jit' decorator. The implicit default value for this argument is currently False, but it will be changed to True in Numba 0.59.0. See https://numba.readthedocs.io/en/stable/reference/deprecation.html#deprecation-of-object-mode-fall-back-behaviour-when-using-jit for details.\n",
      "  @numba.jit()\n"
     ]
    },
    {
     "name": "stdout",
     "output_type": "stream",
     "text": [
      "{'name': 'nnclr-cifar100', 'method': 'nnclr', 'backbone': {'name': 'resnet18', 'kwargs': {}}, 'method_kwargs': {'temperature': 0.2, 'proj_hidden_dim': 2048, 'pred_hidden_dim': 4096, 'proj_output_dim': 256, 'queue_size': 65536}, 'data': {'dataset': 'cifar100', 'train_path': './datasets', 'val_path': './datasets', 'format': 'image_folder', 'num_workers': 4, 'no_labels': False, 'fraction': -1, 'num_classes': 100, 'num_large_crops': 2, 'num_small_crops': 0}, 'optimizer': {'name': 'lars', 'batch_size': 256, 'lr': 0.4, 'classifier_lr': 0.1, 'weight_decay': 1e-05, 'kwargs': {'clip_lr': True, 'eta': 0.02, 'exclude_bias_n_norm': True, 'momentum': 0.9}, 'exclude_bias_n_norm_wd': False}, 'scheduler': {'name': 'warmup_cosine', 'lr_decay_steps': None, 'min_lr': 0.0, 'warmup_start_lr': 3e-05, 'warmup_epochs': 10, 'interval': 'step'}, 'checkpoint': {'enabled': True, 'dir': 'trained_models', 'frequency': 1, 'keep_prev': False}, 'auto_resume': {'enabled': True, 'max_hours': 36}, 'max_epochs': 1000, 'devices': [0], 'sync_batchnorm': True, 'accelerator': 'gpu', 'strategy': 'ddp', 'precision': 16, 'augmentations': [{'rrc': {'enabled': True, 'crop_min_scale': 0.08, 'crop_max_scale': 1.0}, 'color_jitter': {'prob': 0.8, 'brightness': 0.4, 'contrast': 0.4, 'saturation': 0.2, 'hue': 0.1}, 'grayscale': {'prob': 0.2}, 'gaussian_blur': {'prob': 0.0}, 'solarization': {'prob': 0.0}, 'equalization': {'prob': 0.0}, 'horizontal_flip': {'prob': 0.5}, 'crop_size': 32, 'num_crops': 1}, {'rrc': {'enabled': True, 'crop_min_scale': 0.08, 'crop_max_scale': 1.0}, 'color_jitter': {'prob': 0.8, 'brightness': 0.4, 'contrast': 0.4, 'saturation': 0.2, 'hue': 0.1}, 'grayscale': {'prob': 0.2}, 'gaussian_blur': {'prob': 0.0}, 'solarization': {'prob': 0.2}, 'equalization': {'prob': 0.0}, 'horizontal_flip': {'prob': 0.5}, 'crop_size': 32, 'num_crops': 1}], 'wandb': {'enabled': True, 'entity': None, 'project': 'solo-learn', 'offline': False}, 'dali': {'device': 'gpu', 'encode_indexes_into_labels': False}, 'auto_umap': {'enabled': False, 'dir': 'auto_umap', 'frequency': 1}, 'debug_augmentations': False, 'seed': 5, 'resume_from_checkpoint': None, 'num_nodes': 1, 'accumulate_grad_batches': 1, 'knn_eval': {'enabled': False, 'k': 20, 'distance_func': 'euclidean'}, 'performance': {'disable_channel_last': False}, 'wandb_run_id': 'a5bvf8l3'}\n"
     ]
    },
    {
     "name": "stderr",
     "output_type": "stream",
     "text": [
      "WARNING:root:Using scheduler_interval=step might generate issues when resuming a checkpoint.\n"
     ]
    },
    {
     "name": "stdout",
     "output_type": "stream",
     "text": [
      "Files already downloaded and verified\n",
      "Files already downloaded and verified\n",
      "{'name': 'nnclr-cifar100', 'method': 'nnclr', 'backbone': {'name': 'resnet18', 'kwargs': {}}, 'method_kwargs': {'temperature': 0.2, 'proj_hidden_dim': 2048, 'pred_hidden_dim': 4096, 'proj_output_dim': 256, 'queue_size': 65536}, 'data': {'dataset': 'cifar100', 'train_path': './datasets', 'val_path': './datasets', 'format': 'image_folder', 'num_workers': 4, 'no_labels': False, 'fraction': -1, 'num_classes': 100, 'num_large_crops': 2, 'num_small_crops': 0}, 'optimizer': {'name': 'lars', 'batch_size': 256, 'lr': 0.4, 'classifier_lr': 0.1, 'weight_decay': 1e-05, 'kwargs': {'clip_lr': True, 'eta': 0.02, 'exclude_bias_n_norm': True, 'momentum': 0.9}, 'exclude_bias_n_norm_wd': False}, 'scheduler': {'name': 'warmup_cosine', 'lr_decay_steps': None, 'min_lr': 0.0, 'warmup_start_lr': 3e-05, 'warmup_epochs': 10, 'interval': 'step'}, 'checkpoint': {'enabled': True, 'dir': 'trained_models', 'frequency': 1, 'keep_prev': False}, 'auto_resume': {'enabled': True, 'max_hours': 36}, 'max_epochs': 1000, 'devices': [0], 'sync_batchnorm': True, 'accelerator': 'gpu', 'strategy': 'ddp', 'precision': 16, 'augmentations': [{'rrc': {'enabled': True, 'crop_min_scale': 0.08, 'crop_max_scale': 1.0}, 'color_jitter': {'prob': 0.8, 'brightness': 0.4, 'contrast': 0.4, 'saturation': 0.2, 'hue': 0.1}, 'grayscale': {'prob': 0.2}, 'gaussian_blur': {'prob': 0.0}, 'solarization': {'prob': 0.0}, 'equalization': {'prob': 0.0}, 'horizontal_flip': {'prob': 0.5}, 'crop_size': 32, 'num_crops': 1}, {'rrc': {'enabled': True, 'crop_min_scale': 0.08, 'crop_max_scale': 1.0}, 'color_jitter': {'prob': 0.8, 'brightness': 0.4, 'contrast': 0.4, 'saturation': 0.2, 'hue': 0.1}, 'grayscale': {'prob': 0.2}, 'gaussian_blur': {'prob': 0.0}, 'solarization': {'prob': 0.2}, 'equalization': {'prob': 0.0}, 'horizontal_flip': {'prob': 0.5}, 'crop_size': 32, 'num_crops': 1}], 'wandb': {'enabled': True, 'entity': None, 'project': 'solo-learn', 'offline': False}, 'dali': {'device': 'gpu', 'encode_indexes_into_labels': False}, 'auto_umap': {'enabled': False, 'dir': 'auto_umap', 'frequency': 1}, 'debug_augmentations': False, 'seed': 5, 'resume_from_checkpoint': None, 'num_nodes': 1, 'accumulate_grad_batches': 1, 'knn_eval': {'enabled': False, 'k': 20, 'distance_func': 'euclidean'}, 'performance': {'disable_channel_last': False}, 'wandb_run_id': 'a5bvf8l3'}\n",
      "CFG:  nnclr-cifar100 a5bvf8l3\n"
     ]
    },
    {
     "name": "stderr",
     "output_type": "stream",
     "text": [
      "Collecting features: 100%|██████████| 390/390 [00:05<00:00, 74.33it/s]\n",
      "Collecting features: 100%|██████████| 79/79 [00:01<00:00, 65.71it/s]\n",
      " 89%|████████▊ | 55/62 [1:05:56<05:39, 48.45s/it]"
     ]
    },
    {
     "name": "stdout",
     "output_type": "stream",
     "text": [
      "/hdd/backup_cluster_august_2023/Self-Supervised-Learning-with-Predictability-Minimization/Self-Supervised-Learning-with-Predictability-Minimization/trained_models/nnclr/kkuyrw9p\n",
      "/hdd/backup_cluster_august_2023/Self-Supervised-Learning-with-Predictability-Minimization/Self-Supervised-Learning-with-Predictability-Minimization/trained_models/nnclr/kkuyrw9p/nnclr-cifar10-kkuyrw9p-ep=999.ckpt\n"
     ]
    },
    {
     "name": "stderr",
     "output_type": "stream",
     "text": [
      "/home/david/.local/share/virtualenvs/Self-Supervised-Learning-with-Predictabili-RPXJKYD0/lib/python3.10/site-packages/umap/distances.py:1063: NumbaDeprecationWarning: The 'nopython' keyword argument was not supplied to the 'numba.jit' decorator. The implicit default value for this argument is currently False, but it will be changed to True in Numba 0.59.0. See https://numba.readthedocs.io/en/stable/reference/deprecation.html#deprecation-of-object-mode-fall-back-behaviour-when-using-jit for details.\n",
      "  @numba.jit()\n",
      "/home/david/.local/share/virtualenvs/Self-Supervised-Learning-with-Predictabili-RPXJKYD0/lib/python3.10/site-packages/umap/distances.py:1071: NumbaDeprecationWarning: The 'nopython' keyword argument was not supplied to the 'numba.jit' decorator. The implicit default value for this argument is currently False, but it will be changed to True in Numba 0.59.0. See https://numba.readthedocs.io/en/stable/reference/deprecation.html#deprecation-of-object-mode-fall-back-behaviour-when-using-jit for details.\n",
      "  @numba.jit()\n",
      "/home/david/.local/share/virtualenvs/Self-Supervised-Learning-with-Predictabili-RPXJKYD0/lib/python3.10/site-packages/umap/distances.py:1086: NumbaDeprecationWarning: The 'nopython' keyword argument was not supplied to the 'numba.jit' decorator. The implicit default value for this argument is currently False, but it will be changed to True in Numba 0.59.0. See https://numba.readthedocs.io/en/stable/reference/deprecation.html#deprecation-of-object-mode-fall-back-behaviour-when-using-jit for details.\n",
      "  @numba.jit()\n",
      "/home/david/.local/share/virtualenvs/Self-Supervised-Learning-with-Predictabili-RPXJKYD0/lib/python3.10/site-packages/umap/umap_.py:660: NumbaDeprecationWarning: The 'nopython' keyword argument was not supplied to the 'numba.jit' decorator. The implicit default value for this argument is currently False, but it will be changed to True in Numba 0.59.0. See https://numba.readthedocs.io/en/stable/reference/deprecation.html#deprecation-of-object-mode-fall-back-behaviour-when-using-jit for details.\n",
      "  @numba.jit()\n"
     ]
    },
    {
     "name": "stdout",
     "output_type": "stream",
     "text": [
      "{'name': 'nnclr-cifar10', 'method': 'nnclr', 'backbone': {'name': 'resnet18', 'kwargs': {}}, 'method_kwargs': {'temperature': 0.2, 'proj_hidden_dim': 2048, 'pred_hidden_dim': 4096, 'proj_output_dim': 256, 'queue_size': 65536}, 'data': {'dataset': 'cifar10', 'train_path': './datasets', 'val_path': './datasets', 'format': 'image_folder', 'num_workers': 4, 'no_labels': False, 'fraction': -1, 'num_classes': 10, 'num_large_crops': 2, 'num_small_crops': 0}, 'optimizer': {'name': 'lars', 'batch_size': 256, 'lr': 0.4, 'classifier_lr': 0.1, 'weight_decay': 1e-05, 'kwargs': {'clip_lr': True, 'eta': 0.02, 'exclude_bias_n_norm': True, 'momentum': 0.9}, 'exclude_bias_n_norm_wd': False}, 'scheduler': {'name': 'warmup_cosine', 'lr_decay_steps': None, 'min_lr': 0.0, 'warmup_start_lr': 3e-05, 'warmup_epochs': 10, 'interval': 'step'}, 'checkpoint': {'enabled': True, 'dir': 'trained_models', 'frequency': 1, 'keep_prev': False}, 'auto_resume': {'enabled': True, 'max_hours': 36}, 'max_epochs': 1000, 'devices': [0], 'sync_batchnorm': True, 'accelerator': 'gpu', 'strategy': 'ddp', 'precision': 16, 'augmentations': [{'rrc': {'enabled': True, 'crop_min_scale': 0.08, 'crop_max_scale': 1.0}, 'color_jitter': {'prob': 0.8, 'brightness': 0.4, 'contrast': 0.4, 'saturation': 0.2, 'hue': 0.1}, 'grayscale': {'prob': 0.2}, 'gaussian_blur': {'prob': 0.0}, 'solarization': {'prob': 0.0}, 'equalization': {'prob': 0.0}, 'horizontal_flip': {'prob': 0.5}, 'crop_size': 32, 'num_crops': 1}, {'rrc': {'enabled': True, 'crop_min_scale': 0.08, 'crop_max_scale': 1.0}, 'color_jitter': {'prob': 0.8, 'brightness': 0.4, 'contrast': 0.4, 'saturation': 0.2, 'hue': 0.1}, 'grayscale': {'prob': 0.2}, 'gaussian_blur': {'prob': 0.0}, 'solarization': {'prob': 0.2}, 'equalization': {'prob': 0.0}, 'horizontal_flip': {'prob': 0.5}, 'crop_size': 32, 'num_crops': 1}], 'wandb': {'enabled': True, 'entity': None, 'project': 'solo-learn', 'offline': False}, 'dali': {'device': 'gpu', 'encode_indexes_into_labels': False}, 'auto_umap': {'enabled': False, 'dir': 'auto_umap', 'frequency': 1}, 'debug_augmentations': False, 'seed': 5, 'resume_from_checkpoint': None, 'num_nodes': 1, 'accumulate_grad_batches': 1, 'knn_eval': {'enabled': False, 'k': 20, 'distance_func': 'euclidean'}, 'performance': {'disable_channel_last': False}, 'wandb_run_id': 'kkuyrw9p'}\n"
     ]
    },
    {
     "name": "stderr",
     "output_type": "stream",
     "text": [
      "WARNING:root:Using scheduler_interval=step might generate issues when resuming a checkpoint.\n"
     ]
    },
    {
     "name": "stdout",
     "output_type": "stream",
     "text": [
      "Files already downloaded and verified\n",
      "Files already downloaded and verified\n",
      "{'name': 'nnclr-cifar10', 'method': 'nnclr', 'backbone': {'name': 'resnet18', 'kwargs': {}}, 'method_kwargs': {'temperature': 0.2, 'proj_hidden_dim': 2048, 'pred_hidden_dim': 4096, 'proj_output_dim': 256, 'queue_size': 65536}, 'data': {'dataset': 'cifar10', 'train_path': './datasets', 'val_path': './datasets', 'format': 'image_folder', 'num_workers': 4, 'no_labels': False, 'fraction': -1, 'num_classes': 10, 'num_large_crops': 2, 'num_small_crops': 0}, 'optimizer': {'name': 'lars', 'batch_size': 256, 'lr': 0.4, 'classifier_lr': 0.1, 'weight_decay': 1e-05, 'kwargs': {'clip_lr': True, 'eta': 0.02, 'exclude_bias_n_norm': True, 'momentum': 0.9}, 'exclude_bias_n_norm_wd': False}, 'scheduler': {'name': 'warmup_cosine', 'lr_decay_steps': None, 'min_lr': 0.0, 'warmup_start_lr': 3e-05, 'warmup_epochs': 10, 'interval': 'step'}, 'checkpoint': {'enabled': True, 'dir': 'trained_models', 'frequency': 1, 'keep_prev': False}, 'auto_resume': {'enabled': True, 'max_hours': 36}, 'max_epochs': 1000, 'devices': [0], 'sync_batchnorm': True, 'accelerator': 'gpu', 'strategy': 'ddp', 'precision': 16, 'augmentations': [{'rrc': {'enabled': True, 'crop_min_scale': 0.08, 'crop_max_scale': 1.0}, 'color_jitter': {'prob': 0.8, 'brightness': 0.4, 'contrast': 0.4, 'saturation': 0.2, 'hue': 0.1}, 'grayscale': {'prob': 0.2}, 'gaussian_blur': {'prob': 0.0}, 'solarization': {'prob': 0.0}, 'equalization': {'prob': 0.0}, 'horizontal_flip': {'prob': 0.5}, 'crop_size': 32, 'num_crops': 1}, {'rrc': {'enabled': True, 'crop_min_scale': 0.08, 'crop_max_scale': 1.0}, 'color_jitter': {'prob': 0.8, 'brightness': 0.4, 'contrast': 0.4, 'saturation': 0.2, 'hue': 0.1}, 'grayscale': {'prob': 0.2}, 'gaussian_blur': {'prob': 0.0}, 'solarization': {'prob': 0.2}, 'equalization': {'prob': 0.0}, 'horizontal_flip': {'prob': 0.5}, 'crop_size': 32, 'num_crops': 1}], 'wandb': {'enabled': True, 'entity': None, 'project': 'solo-learn', 'offline': False}, 'dali': {'device': 'gpu', 'encode_indexes_into_labels': False}, 'auto_umap': {'enabled': False, 'dir': 'auto_umap', 'frequency': 1}, 'debug_augmentations': False, 'seed': 5, 'resume_from_checkpoint': None, 'num_nodes': 1, 'accumulate_grad_batches': 1, 'knn_eval': {'enabled': False, 'k': 20, 'distance_func': 'euclidean'}, 'performance': {'disable_channel_last': False}, 'wandb_run_id': 'kkuyrw9p'}\n",
      "CFG:  nnclr-cifar10 kkuyrw9p\n"
     ]
    },
    {
     "name": "stderr",
     "output_type": "stream",
     "text": [
      "Collecting features: 100%|██████████| 390/390 [00:05<00:00, 74.15it/s]\n",
      "Collecting features: 100%|██████████| 79/79 [00:01<00:00, 65.96it/s]\n",
      " 90%|█████████ | 56/62 [1:06:21<04:09, 41.56s/it]"
     ]
    },
    {
     "name": "stdout",
     "output_type": "stream",
     "text": [
      "/hdd/backup_cluster_august_2023/Self-Supervised-Learning-with-Predictability-Minimization/Self-Supervised-Learning-with-Predictability-Minimization/trained_models/nnclr/wrm9s3ze\n",
      "/hdd/backup_cluster_august_2023/Self-Supervised-Learning-with-Predictability-Minimization/Self-Supervised-Learning-with-Predictability-Minimization/trained_models/nnclr/wrm9s3ze/nnclr-imagenet100-wrm9s3ze-ep=399.ckpt\n"
     ]
    },
    {
     "name": "stderr",
     "output_type": "stream",
     "text": [
      "/home/david/.local/share/virtualenvs/Self-Supervised-Learning-with-Predictabili-RPXJKYD0/lib/python3.10/site-packages/umap/distances.py:1063: NumbaDeprecationWarning: The 'nopython' keyword argument was not supplied to the 'numba.jit' decorator. The implicit default value for this argument is currently False, but it will be changed to True in Numba 0.59.0. See https://numba.readthedocs.io/en/stable/reference/deprecation.html#deprecation-of-object-mode-fall-back-behaviour-when-using-jit for details.\n",
      "  @numba.jit()\n",
      "/home/david/.local/share/virtualenvs/Self-Supervised-Learning-with-Predictabili-RPXJKYD0/lib/python3.10/site-packages/umap/distances.py:1071: NumbaDeprecationWarning: The 'nopython' keyword argument was not supplied to the 'numba.jit' decorator. The implicit default value for this argument is currently False, but it will be changed to True in Numba 0.59.0. See https://numba.readthedocs.io/en/stable/reference/deprecation.html#deprecation-of-object-mode-fall-back-behaviour-when-using-jit for details.\n",
      "  @numba.jit()\n",
      "/home/david/.local/share/virtualenvs/Self-Supervised-Learning-with-Predictabili-RPXJKYD0/lib/python3.10/site-packages/umap/distances.py:1086: NumbaDeprecationWarning: The 'nopython' keyword argument was not supplied to the 'numba.jit' decorator. The implicit default value for this argument is currently False, but it will be changed to True in Numba 0.59.0. See https://numba.readthedocs.io/en/stable/reference/deprecation.html#deprecation-of-object-mode-fall-back-behaviour-when-using-jit for details.\n",
      "  @numba.jit()\n",
      "/home/david/.local/share/virtualenvs/Self-Supervised-Learning-with-Predictabili-RPXJKYD0/lib/python3.10/site-packages/umap/umap_.py:660: NumbaDeprecationWarning: The 'nopython' keyword argument was not supplied to the 'numba.jit' decorator. The implicit default value for this argument is currently False, but it will be changed to True in Numba 0.59.0. See https://numba.readthedocs.io/en/stable/reference/deprecation.html#deprecation-of-object-mode-fall-back-behaviour-when-using-jit for details.\n",
      "  @numba.jit()\n"
     ]
    },
    {
     "name": "stdout",
     "output_type": "stream",
     "text": [
      "{'name': 'nnclr-imagenet100', 'method': 'nnclr', 'backbone': {'name': 'resnet18', 'kwargs': {}}, 'method_kwargs': {'temperature': 0.2, 'proj_hidden_dim': 2048, 'pred_hidden_dim': 4096, 'proj_output_dim': 256, 'queue_size': 65536}, 'data': {'dataset': 'imagenet100', 'train_path': '/itet-stor/zdavid/net_scratch/data/ILSVRC2012_img_train_100', 'val_path': '/itet-stor/zdavid/net_scratch/data/ILSVRC2012_img_val_100', 'format': 'dali', 'num_workers': 4, 'no_labels': False, 'fraction': -1, 'num_classes': 100, 'num_large_crops': 2, 'num_small_crops': 0}, 'optimizer': {'name': 'lars', 'batch_size': 128, 'lr': 0.4, 'classifier_lr': 0.1, 'weight_decay': 1e-05, 'kwargs': {'clip_lr': True, 'eta': 0.02, 'exclude_bias_n_norm': True, 'momentum': 0.9}, 'exclude_bias_n_norm_wd': False}, 'scheduler': {'name': 'warmup_cosine', 'lr_decay_steps': None, 'min_lr': 0.0, 'warmup_start_lr': 3e-05, 'warmup_epochs': 10, 'interval': 'step'}, 'checkpoint': {'enabled': True, 'dir': 'trained_models', 'frequency': 1, 'keep_prev': False}, 'auto_resume': {'enabled': True, 'max_hours': 36}, 'max_epochs': 400, 'devices': [0, 1], 'sync_batchnorm': True, 'accelerator': 'gpu', 'strategy': 'ddp', 'precision': 16, 'augmentations': [{'rrc': {'enabled': True, 'crop_min_scale': 0.08, 'crop_max_scale': 1.0}, 'color_jitter': {'prob': 0.8, 'brightness': 0.4, 'contrast': 0.4, 'saturation': 0.2, 'hue': 0.1}, 'grayscale': {'prob': 0.2}, 'gaussian_blur': {'prob': 1.0}, 'solarization': {'prob': 0.0}, 'equalization': {'prob': 0.0}, 'horizontal_flip': {'prob': 0.5}, 'crop_size': 224, 'num_crops': 1}, {'rrc': {'enabled': True, 'crop_min_scale': 0.08, 'crop_max_scale': 1.0}, 'color_jitter': {'prob': 0.8, 'brightness': 0.4, 'contrast': 0.4, 'saturation': 0.2, 'hue': 0.1}, 'grayscale': {'prob': 0.2}, 'gaussian_blur': {'prob': 0.1}, 'solarization': {'prob': 0.2}, 'equalization': {'prob': 0.0}, 'horizontal_flip': {'prob': 0.5}, 'crop_size': 224, 'num_crops': 1}], 'wandb': {'enabled': True, 'entity': None, 'project': 'solo-learn', 'offline': False}, 'dali': {'device': 'gpu', 'encode_indexes_into_labels': False}, 'auto_umap': {'enabled': False, 'dir': 'auto_umap', 'frequency': 1}, 'debug_augmentations': False, 'seed': 5, 'resume_from_checkpoint': None, 'num_nodes': 1, 'accumulate_grad_batches': 1, 'knn_eval': {'enabled': False, 'k': 20, 'distance_func': 'euclidean'}, 'performance': {'disable_channel_last': False}, 'wandb_run_id': 'wrm9s3ze'}\n"
     ]
    },
    {
     "name": "stderr",
     "output_type": "stream",
     "text": [
      "WARNING:root:Using scheduler_interval=step might generate issues when resuming a checkpoint.\n"
     ]
    },
    {
     "name": "stdout",
     "output_type": "stream",
     "text": [
      "{'name': 'nnclr-imagenet100', 'method': 'nnclr', 'backbone': {'name': 'resnet18', 'kwargs': {}}, 'method_kwargs': {'temperature': 0.2, 'proj_hidden_dim': 2048, 'pred_hidden_dim': 4096, 'proj_output_dim': 256, 'queue_size': 65536}, 'data': {'dataset': 'imagenet100', 'train_path': '/itet-stor/zdavid/net_scratch/data/ILSVRC2012_img_train_100', 'val_path': '/itet-stor/zdavid/net_scratch/data/ILSVRC2012_img_val_100', 'format': 'dali', 'num_workers': 4, 'no_labels': False, 'fraction': -1, 'num_classes': 100, 'num_large_crops': 2, 'num_small_crops': 0}, 'optimizer': {'name': 'lars', 'batch_size': 128, 'lr': 0.4, 'classifier_lr': 0.1, 'weight_decay': 1e-05, 'kwargs': {'clip_lr': True, 'eta': 0.02, 'exclude_bias_n_norm': True, 'momentum': 0.9}, 'exclude_bias_n_norm_wd': False}, 'scheduler': {'name': 'warmup_cosine', 'lr_decay_steps': None, 'min_lr': 0.0, 'warmup_start_lr': 3e-05, 'warmup_epochs': 10, 'interval': 'step'}, 'checkpoint': {'enabled': True, 'dir': 'trained_models', 'frequency': 1, 'keep_prev': False}, 'auto_resume': {'enabled': True, 'max_hours': 36}, 'max_epochs': 400, 'devices': [0, 1], 'sync_batchnorm': True, 'accelerator': 'gpu', 'strategy': 'ddp', 'precision': 16, 'augmentations': [{'rrc': {'enabled': True, 'crop_min_scale': 0.08, 'crop_max_scale': 1.0}, 'color_jitter': {'prob': 0.8, 'brightness': 0.4, 'contrast': 0.4, 'saturation': 0.2, 'hue': 0.1}, 'grayscale': {'prob': 0.2}, 'gaussian_blur': {'prob': 1.0}, 'solarization': {'prob': 0.0}, 'equalization': {'prob': 0.0}, 'horizontal_flip': {'prob': 0.5}, 'crop_size': 224, 'num_crops': 1}, {'rrc': {'enabled': True, 'crop_min_scale': 0.08, 'crop_max_scale': 1.0}, 'color_jitter': {'prob': 0.8, 'brightness': 0.4, 'contrast': 0.4, 'saturation': 0.2, 'hue': 0.1}, 'grayscale': {'prob': 0.2}, 'gaussian_blur': {'prob': 0.1}, 'solarization': {'prob': 0.2}, 'equalization': {'prob': 0.0}, 'horizontal_flip': {'prob': 0.5}, 'crop_size': 224, 'num_crops': 1}], 'wandb': {'enabled': True, 'entity': None, 'project': 'solo-learn', 'offline': False}, 'dali': {'device': 'gpu', 'encode_indexes_into_labels': False}, 'auto_umap': {'enabled': False, 'dir': 'auto_umap', 'frequency': 1}, 'debug_augmentations': False, 'seed': 5, 'resume_from_checkpoint': None, 'num_nodes': 1, 'accumulate_grad_batches': 1, 'knn_eval': {'enabled': False, 'k': 20, 'distance_func': 'euclidean'}, 'performance': {'disable_channel_last': False}, 'wandb_run_id': 'wrm9s3ze'}\n",
      "CFG:  nnclr-imagenet100 wrm9s3ze\n"
     ]
    },
    {
     "name": "stderr",
     "output_type": "stream",
     "text": [
      "Collecting features: 100%|██████████| 989/989 [01:13<00:00, 13.40it/s]\n",
      "Collecting features: 100%|██████████| 40/40 [00:04<00:00,  9.86it/s]\n",
      " 92%|█████████▏| 57/62 [1:08:12<05:11, 62.29s/it]"
     ]
    },
    {
     "name": "stdout",
     "output_type": "stream",
     "text": [
      "/hdd/backup_cluster_august_2023/Self-Supervised-Learning-with-Predictability-Minimization/Self-Supervised-Learning-with-Predictability-Minimization/trained_models/simclr/48rjp6ao\n",
      "/hdd/backup_cluster_august_2023/Self-Supervised-Learning-with-Predictability-Minimization/Self-Supervised-Learning-with-Predictability-Minimization/trained_models/simclr/48rjp6ao/simclr-cifar10-48rjp6ao-ep=999.ckpt\n"
     ]
    },
    {
     "name": "stderr",
     "output_type": "stream",
     "text": [
      "/home/david/.local/share/virtualenvs/Self-Supervised-Learning-with-Predictabili-RPXJKYD0/lib/python3.10/site-packages/umap/distances.py:1063: NumbaDeprecationWarning: The 'nopython' keyword argument was not supplied to the 'numba.jit' decorator. The implicit default value for this argument is currently False, but it will be changed to True in Numba 0.59.0. See https://numba.readthedocs.io/en/stable/reference/deprecation.html#deprecation-of-object-mode-fall-back-behaviour-when-using-jit for details.\n",
      "  @numba.jit()\n",
      "/home/david/.local/share/virtualenvs/Self-Supervised-Learning-with-Predictabili-RPXJKYD0/lib/python3.10/site-packages/umap/distances.py:1071: NumbaDeprecationWarning: The 'nopython' keyword argument was not supplied to the 'numba.jit' decorator. The implicit default value for this argument is currently False, but it will be changed to True in Numba 0.59.0. See https://numba.readthedocs.io/en/stable/reference/deprecation.html#deprecation-of-object-mode-fall-back-behaviour-when-using-jit for details.\n",
      "  @numba.jit()\n",
      "/home/david/.local/share/virtualenvs/Self-Supervised-Learning-with-Predictabili-RPXJKYD0/lib/python3.10/site-packages/umap/distances.py:1086: NumbaDeprecationWarning: The 'nopython' keyword argument was not supplied to the 'numba.jit' decorator. The implicit default value for this argument is currently False, but it will be changed to True in Numba 0.59.0. See https://numba.readthedocs.io/en/stable/reference/deprecation.html#deprecation-of-object-mode-fall-back-behaviour-when-using-jit for details.\n",
      "  @numba.jit()\n",
      "/home/david/.local/share/virtualenvs/Self-Supervised-Learning-with-Predictabili-RPXJKYD0/lib/python3.10/site-packages/umap/umap_.py:660: NumbaDeprecationWarning: The 'nopython' keyword argument was not supplied to the 'numba.jit' decorator. The implicit default value for this argument is currently False, but it will be changed to True in Numba 0.59.0. See https://numba.readthedocs.io/en/stable/reference/deprecation.html#deprecation-of-object-mode-fall-back-behaviour-when-using-jit for details.\n",
      "  @numba.jit()\n"
     ]
    },
    {
     "name": "stdout",
     "output_type": "stream",
     "text": [
      "{'name': 'simclr-cifar10', 'method': 'simclr', 'backbone': {'name': 'resnet18', 'kwargs': {}}, 'method_kwargs': {'proj_hidden_dim': 2048, 'proj_output_dim': 256, 'temperature': 0.2}, 'data': {'dataset': 'cifar10', 'train_path': './datasets', 'val_path': 'datasets/imagenet100/val', 'format': 'image_folder', 'num_workers': 4, 'no_labels': False, 'fraction': -1, 'num_classes': 10, 'num_large_crops': 2, 'num_small_crops': 0}, 'optimizer': {'name': 'lars', 'batch_size': 256, 'lr': 0.4, 'classifier_lr': 0.1, 'weight_decay': 0.0001, 'kwargs': {'clip_lr': True, 'eta': 0.02, 'exclude_bias_n_norm': True, 'momentum': 0.9}, 'exclude_bias_n_norm_wd': False}, 'scheduler': {'name': 'warmup_cosine', 'lr_decay_steps': None, 'min_lr': 0.0, 'warmup_start_lr': 3e-05, 'warmup_epochs': 10, 'interval': 'step'}, 'checkpoint': {'enabled': True, 'dir': 'trained_models', 'frequency': 1, 'keep_prev': False}, 'auto_resume': {'enabled': True, 'max_hours': 36}, 'max_epochs': 1000, 'devices': [0], 'sync_batchnorm': True, 'accelerator': 'gpu', 'strategy': 'ddp', 'precision': 16, 'augmentations': [{'rrc': {'enabled': True, 'crop_min_scale': 0.08, 'crop_max_scale': 1.0}, 'color_jitter': {'prob': 0.8, 'brightness': 0.8, 'contrast': 0.8, 'saturation': 0.8, 'hue': 0.2}, 'grayscale': {'prob': 0.2}, 'gaussian_blur': {'prob': 0.5}, 'solarization': {'prob': 0.0}, 'equalization': {'prob': 0.0}, 'horizontal_flip': {'prob': 0.5}, 'crop_size': 32, 'num_crops': 2}], 'wandb': {'enabled': True, 'entity': None, 'project': 'solo-learn', 'offline': False}, 'dali': {'device': 'gpu', 'encode_indexes_into_labels': False}, 'auto_umap': {'enabled': False, 'dir': 'auto_umap', 'frequency': 1}, 'debug_augmentations': False, 'seed': 5, 'resume_from_checkpoint': None, 'num_nodes': 1, 'accumulate_grad_batches': 1, 'knn_eval': {'enabled': False, 'k': 20, 'distance_func': 'euclidean'}, 'performance': {'disable_channel_last': False}, 'wandb_run_id': '48rjp6ao'}\n"
     ]
    },
    {
     "name": "stderr",
     "output_type": "stream",
     "text": [
      "WARNING:root:Using scheduler_interval=step might generate issues when resuming a checkpoint.\n"
     ]
    },
    {
     "name": "stdout",
     "output_type": "stream",
     "text": [
      "Files already downloaded and verified\n",
      "Files already downloaded and verified\n",
      "{'name': 'simclr-cifar10', 'method': 'simclr', 'backbone': {'name': 'resnet18', 'kwargs': {}}, 'method_kwargs': {'proj_hidden_dim': 2048, 'proj_output_dim': 256, 'temperature': 0.2}, 'data': {'dataset': 'cifar10', 'train_path': './datasets', 'val_path': 'datasets/imagenet100/val', 'format': 'image_folder', 'num_workers': 4, 'no_labels': False, 'fraction': -1, 'num_classes': 10, 'num_large_crops': 2, 'num_small_crops': 0}, 'optimizer': {'name': 'lars', 'batch_size': 256, 'lr': 0.4, 'classifier_lr': 0.1, 'weight_decay': 0.0001, 'kwargs': {'clip_lr': True, 'eta': 0.02, 'exclude_bias_n_norm': True, 'momentum': 0.9}, 'exclude_bias_n_norm_wd': False}, 'scheduler': {'name': 'warmup_cosine', 'lr_decay_steps': None, 'min_lr': 0.0, 'warmup_start_lr': 3e-05, 'warmup_epochs': 10, 'interval': 'step'}, 'checkpoint': {'enabled': True, 'dir': 'trained_models', 'frequency': 1, 'keep_prev': False}, 'auto_resume': {'enabled': True, 'max_hours': 36}, 'max_epochs': 1000, 'devices': [0], 'sync_batchnorm': True, 'accelerator': 'gpu', 'strategy': 'ddp', 'precision': 16, 'augmentations': [{'rrc': {'enabled': True, 'crop_min_scale': 0.08, 'crop_max_scale': 1.0}, 'color_jitter': {'prob': 0.8, 'brightness': 0.8, 'contrast': 0.8, 'saturation': 0.8, 'hue': 0.2}, 'grayscale': {'prob': 0.2}, 'gaussian_blur': {'prob': 0.5}, 'solarization': {'prob': 0.0}, 'equalization': {'prob': 0.0}, 'horizontal_flip': {'prob': 0.5}, 'crop_size': 32, 'num_crops': 2}], 'wandb': {'enabled': True, 'entity': None, 'project': 'solo-learn', 'offline': False}, 'dali': {'device': 'gpu', 'encode_indexes_into_labels': False}, 'auto_umap': {'enabled': False, 'dir': 'auto_umap', 'frequency': 1}, 'debug_augmentations': False, 'seed': 5, 'resume_from_checkpoint': None, 'num_nodes': 1, 'accumulate_grad_batches': 1, 'knn_eval': {'enabled': False, 'k': 20, 'distance_func': 'euclidean'}, 'performance': {'disable_channel_last': False}, 'wandb_run_id': '48rjp6ao'}\n",
      "CFG:  simclr-cifar10 48rjp6ao\n"
     ]
    },
    {
     "name": "stderr",
     "output_type": "stream",
     "text": [
      "Collecting features: 100%|██████████| 390/390 [00:05<00:00, 73.44it/s]\n",
      "Collecting features: 100%|██████████| 79/79 [00:01<00:00, 65.18it/s]\n",
      " 94%|█████████▎| 58/62 [1:08:37<03:24, 51.21s/it]"
     ]
    },
    {
     "name": "stdout",
     "output_type": "stream",
     "text": [
      "/hdd/backup_cluster_august_2023/Self-Supervised-Learning-with-Predictability-Minimization/Self-Supervised-Learning-with-Predictability-Minimization/trained_models/simclr/pel8yiix\n",
      "/hdd/backup_cluster_august_2023/Self-Supervised-Learning-with-Predictability-Minimization/Self-Supervised-Learning-with-Predictability-Minimization/trained_models/simclr/pel8yiix/simclr-imagenet100-pel8yiix-ep=399.ckpt\n"
     ]
    },
    {
     "name": "stderr",
     "output_type": "stream",
     "text": [
      "/home/david/.local/share/virtualenvs/Self-Supervised-Learning-with-Predictabili-RPXJKYD0/lib/python3.10/site-packages/umap/distances.py:1063: NumbaDeprecationWarning: The 'nopython' keyword argument was not supplied to the 'numba.jit' decorator. The implicit default value for this argument is currently False, but it will be changed to True in Numba 0.59.0. See https://numba.readthedocs.io/en/stable/reference/deprecation.html#deprecation-of-object-mode-fall-back-behaviour-when-using-jit for details.\n",
      "  @numba.jit()\n",
      "/home/david/.local/share/virtualenvs/Self-Supervised-Learning-with-Predictabili-RPXJKYD0/lib/python3.10/site-packages/umap/distances.py:1071: NumbaDeprecationWarning: The 'nopython' keyword argument was not supplied to the 'numba.jit' decorator. The implicit default value for this argument is currently False, but it will be changed to True in Numba 0.59.0. See https://numba.readthedocs.io/en/stable/reference/deprecation.html#deprecation-of-object-mode-fall-back-behaviour-when-using-jit for details.\n",
      "  @numba.jit()\n",
      "/home/david/.local/share/virtualenvs/Self-Supervised-Learning-with-Predictabili-RPXJKYD0/lib/python3.10/site-packages/umap/distances.py:1086: NumbaDeprecationWarning: The 'nopython' keyword argument was not supplied to the 'numba.jit' decorator. The implicit default value for this argument is currently False, but it will be changed to True in Numba 0.59.0. See https://numba.readthedocs.io/en/stable/reference/deprecation.html#deprecation-of-object-mode-fall-back-behaviour-when-using-jit for details.\n",
      "  @numba.jit()\n",
      "/home/david/.local/share/virtualenvs/Self-Supervised-Learning-with-Predictabili-RPXJKYD0/lib/python3.10/site-packages/umap/umap_.py:660: NumbaDeprecationWarning: The 'nopython' keyword argument was not supplied to the 'numba.jit' decorator. The implicit default value for this argument is currently False, but it will be changed to True in Numba 0.59.0. See https://numba.readthedocs.io/en/stable/reference/deprecation.html#deprecation-of-object-mode-fall-back-behaviour-when-using-jit for details.\n",
      "  @numba.jit()\n"
     ]
    },
    {
     "name": "stdout",
     "output_type": "stream",
     "text": [
      "{'name': 'simclr-imagenet100', 'method': 'simclr', 'backbone': {'name': 'resnet18', 'kwargs': {}}, 'method_kwargs': {'proj_hidden_dim': 4096, 'proj_output_dim': 512, 'temperature': 0.2}, 'data': {'dataset': 'imagenet100', 'train_path': '/itet-stor/zdavid/net_scratch/data/ILSVRC2012_img_train_100', 'val_path': '/itet-stor/zdavid/net_scratch/data/ILSVRC2012_img_val_100', 'format': 'dali', 'num_workers': 4, 'no_labels': False, 'fraction': -1, 'num_classes': 100, 'num_large_crops': 2, 'num_small_crops': 0}, 'optimizer': {'name': 'lars', 'batch_size': 128, 'lr': 0.3, 'classifier_lr': 0.1, 'weight_decay': 0.0001, 'kwargs': {'clip_lr': True, 'eta': 0.02, 'exclude_bias_n_norm': True, 'momentum': 0.9}, 'exclude_bias_n_norm_wd': False}, 'scheduler': {'name': 'warmup_cosine', 'lr_decay_steps': None, 'min_lr': 0.0, 'warmup_start_lr': 3e-05, 'warmup_epochs': 10, 'interval': 'step'}, 'checkpoint': {'enabled': True, 'dir': 'trained_models', 'frequency': 1, 'keep_prev': False}, 'auto_resume': {'enabled': True, 'max_hours': 36}, 'max_epochs': 400, 'devices': [0, 1], 'sync_batchnorm': True, 'accelerator': 'gpu', 'strategy': 'ddp', 'precision': 16, 'augmentations': [{'rrc': {'enabled': True, 'crop_min_scale': 0.08, 'crop_max_scale': 1.0}, 'color_jitter': {'prob': 0.8, 'brightness': 0.8, 'contrast': 0.8, 'saturation': 0.8, 'hue': 0.2}, 'grayscale': {'prob': 0.2}, 'gaussian_blur': {'prob': 0.5}, 'solarization': {'prob': 0.0}, 'equalization': {'prob': 0.0}, 'horizontal_flip': {'prob': 0.5}, 'crop_size': 224, 'num_crops': 2}], 'wandb': {'enabled': True, 'entity': None, 'project': 'solo-learn', 'offline': False}, 'dali': {'device': 'gpu', 'encode_indexes_into_labels': False}, 'auto_umap': {'enabled': False, 'dir': 'auto_umap', 'frequency': 1}, 'debug_augmentations': False, 'seed': 5, 'resume_from_checkpoint': None, 'num_nodes': 1, 'accumulate_grad_batches': 1, 'knn_eval': {'enabled': False, 'k': 20, 'distance_func': 'euclidean'}, 'performance': {'disable_channel_last': False}, 'wandb_run_id': 'pel8yiix'}\n"
     ]
    },
    {
     "name": "stderr",
     "output_type": "stream",
     "text": [
      "WARNING:root:Using scheduler_interval=step might generate issues when resuming a checkpoint.\n",
      "Collecting features:   0%|          | 0/989 [00:00<?, ?it/s]"
     ]
    },
    {
     "name": "stdout",
     "output_type": "stream",
     "text": [
      "{'name': 'simclr-imagenet100', 'method': 'simclr', 'backbone': {'name': 'resnet18', 'kwargs': {}}, 'method_kwargs': {'proj_hidden_dim': 4096, 'proj_output_dim': 512, 'temperature': 0.2}, 'data': {'dataset': 'imagenet100', 'train_path': '/itet-stor/zdavid/net_scratch/data/ILSVRC2012_img_train_100', 'val_path': '/itet-stor/zdavid/net_scratch/data/ILSVRC2012_img_val_100', 'format': 'dali', 'num_workers': 4, 'no_labels': False, 'fraction': -1, 'num_classes': 100, 'num_large_crops': 2, 'num_small_crops': 0}, 'optimizer': {'name': 'lars', 'batch_size': 128, 'lr': 0.3, 'classifier_lr': 0.1, 'weight_decay': 0.0001, 'kwargs': {'clip_lr': True, 'eta': 0.02, 'exclude_bias_n_norm': True, 'momentum': 0.9}, 'exclude_bias_n_norm_wd': False}, 'scheduler': {'name': 'warmup_cosine', 'lr_decay_steps': None, 'min_lr': 0.0, 'warmup_start_lr': 3e-05, 'warmup_epochs': 10, 'interval': 'step'}, 'checkpoint': {'enabled': True, 'dir': 'trained_models', 'frequency': 1, 'keep_prev': False}, 'auto_resume': {'enabled': True, 'max_hours': 36}, 'max_epochs': 400, 'devices': [0, 1], 'sync_batchnorm': True, 'accelerator': 'gpu', 'strategy': 'ddp', 'precision': 16, 'augmentations': [{'rrc': {'enabled': True, 'crop_min_scale': 0.08, 'crop_max_scale': 1.0}, 'color_jitter': {'prob': 0.8, 'brightness': 0.8, 'contrast': 0.8, 'saturation': 0.8, 'hue': 0.2}, 'grayscale': {'prob': 0.2}, 'gaussian_blur': {'prob': 0.5}, 'solarization': {'prob': 0.0}, 'equalization': {'prob': 0.0}, 'horizontal_flip': {'prob': 0.5}, 'crop_size': 224, 'num_crops': 2}], 'wandb': {'enabled': True, 'entity': None, 'project': 'solo-learn', 'offline': False}, 'dali': {'device': 'gpu', 'encode_indexes_into_labels': False}, 'auto_umap': {'enabled': False, 'dir': 'auto_umap', 'frequency': 1}, 'debug_augmentations': False, 'seed': 5, 'resume_from_checkpoint': None, 'num_nodes': 1, 'accumulate_grad_batches': 1, 'knn_eval': {'enabled': False, 'k': 20, 'distance_func': 'euclidean'}, 'performance': {'disable_channel_last': False}, 'wandb_run_id': 'pel8yiix'}\n",
      "CFG:  simclr-imagenet100 pel8yiix\n"
     ]
    },
    {
     "name": "stderr",
     "output_type": "stream",
     "text": [
      "Collecting features: 100%|██████████| 989/989 [01:12<00:00, 13.67it/s]\n",
      "Collecting features: 100%|██████████| 40/40 [00:03<00:00, 10.60it/s]\n",
      " 95%|█████████▌| 59/62 [1:10:25<03:24, 68.09s/it]"
     ]
    },
    {
     "name": "stdout",
     "output_type": "stream",
     "text": [
      "/hdd/backup_cluster_august_2023/Self-Supervised-Learning-with-Predictability-Minimization/Self-Supervised-Learning-with-Predictability-Minimization/trained_models/simclr/3kh01qs8\n",
      "/hdd/backup_cluster_august_2023/Self-Supervised-Learning-with-Predictability-Minimization/Self-Supervised-Learning-with-Predictability-Minimization/trained_models/simclr/3kh01qs8/simclr-cifar100-3kh01qs8-ep=999.ckpt\n"
     ]
    },
    {
     "name": "stderr",
     "output_type": "stream",
     "text": [
      "/home/david/.local/share/virtualenvs/Self-Supervised-Learning-with-Predictabili-RPXJKYD0/lib/python3.10/site-packages/umap/distances.py:1063: NumbaDeprecationWarning: The 'nopython' keyword argument was not supplied to the 'numba.jit' decorator. The implicit default value for this argument is currently False, but it will be changed to True in Numba 0.59.0. See https://numba.readthedocs.io/en/stable/reference/deprecation.html#deprecation-of-object-mode-fall-back-behaviour-when-using-jit for details.\n",
      "  @numba.jit()\n",
      "/home/david/.local/share/virtualenvs/Self-Supervised-Learning-with-Predictabili-RPXJKYD0/lib/python3.10/site-packages/umap/distances.py:1071: NumbaDeprecationWarning: The 'nopython' keyword argument was not supplied to the 'numba.jit' decorator. The implicit default value for this argument is currently False, but it will be changed to True in Numba 0.59.0. See https://numba.readthedocs.io/en/stable/reference/deprecation.html#deprecation-of-object-mode-fall-back-behaviour-when-using-jit for details.\n",
      "  @numba.jit()\n",
      "/home/david/.local/share/virtualenvs/Self-Supervised-Learning-with-Predictabili-RPXJKYD0/lib/python3.10/site-packages/umap/distances.py:1086: NumbaDeprecationWarning: The 'nopython' keyword argument was not supplied to the 'numba.jit' decorator. The implicit default value for this argument is currently False, but it will be changed to True in Numba 0.59.0. See https://numba.readthedocs.io/en/stable/reference/deprecation.html#deprecation-of-object-mode-fall-back-behaviour-when-using-jit for details.\n",
      "  @numba.jit()\n",
      "/home/david/.local/share/virtualenvs/Self-Supervised-Learning-with-Predictabili-RPXJKYD0/lib/python3.10/site-packages/umap/umap_.py:660: NumbaDeprecationWarning: The 'nopython' keyword argument was not supplied to the 'numba.jit' decorator. The implicit default value for this argument is currently False, but it will be changed to True in Numba 0.59.0. See https://numba.readthedocs.io/en/stable/reference/deprecation.html#deprecation-of-object-mode-fall-back-behaviour-when-using-jit for details.\n",
      "  @numba.jit()\n"
     ]
    },
    {
     "name": "stdout",
     "output_type": "stream",
     "text": [
      "{'name': 'simclr-cifar100', 'method': 'simclr', 'backbone': {'name': 'resnet18', 'kwargs': {}}, 'method_kwargs': {'proj_hidden_dim': 2048, 'proj_output_dim': 256, 'temperature': 0.2}, 'data': {'dataset': 'cifar100', 'train_path': './datasets', 'val_path': 'datasets/imagenet100/val', 'format': 'image_folder', 'num_workers': 4, 'no_labels': False, 'fraction': -1, 'num_classes': 100, 'num_large_crops': 2, 'num_small_crops': 0}, 'optimizer': {'name': 'lars', 'batch_size': 256, 'lr': 0.4, 'classifier_lr': 0.1, 'weight_decay': 0.0001, 'kwargs': {'clip_lr': True, 'eta': 0.02, 'exclude_bias_n_norm': True, 'momentum': 0.9}, 'exclude_bias_n_norm_wd': False}, 'scheduler': {'name': 'warmup_cosine', 'lr_decay_steps': None, 'min_lr': 0.0, 'warmup_start_lr': 3e-05, 'warmup_epochs': 10, 'interval': 'step'}, 'checkpoint': {'enabled': True, 'dir': 'trained_models', 'frequency': 1, 'keep_prev': False}, 'auto_resume': {'enabled': True, 'max_hours': 36}, 'max_epochs': 1000, 'devices': [0], 'sync_batchnorm': True, 'accelerator': 'gpu', 'strategy': 'ddp', 'precision': 16, 'augmentations': [{'rrc': {'enabled': True, 'crop_min_scale': 0.08, 'crop_max_scale': 1.0}, 'color_jitter': {'prob': 0.8, 'brightness': 0.8, 'contrast': 0.8, 'saturation': 0.8, 'hue': 0.2}, 'grayscale': {'prob': 0.2}, 'gaussian_blur': {'prob': 0.5}, 'solarization': {'prob': 0.0}, 'equalization': {'prob': 0.0}, 'horizontal_flip': {'prob': 0.5}, 'crop_size': 32, 'num_crops': 2}], 'wandb': {'enabled': True, 'entity': None, 'project': 'solo-learn', 'offline': False}, 'dali': {'device': 'gpu', 'encode_indexes_into_labels': False}, 'auto_umap': {'enabled': False, 'dir': 'auto_umap', 'frequency': 1}, 'debug_augmentations': False, 'seed': 5, 'resume_from_checkpoint': None, 'num_nodes': 1, 'accumulate_grad_batches': 1, 'knn_eval': {'enabled': False, 'k': 20, 'distance_func': 'euclidean'}, 'performance': {'disable_channel_last': False}, 'wandb_run_id': '3kh01qs8'}\n"
     ]
    },
    {
     "name": "stderr",
     "output_type": "stream",
     "text": [
      "WARNING:root:Using scheduler_interval=step might generate issues when resuming a checkpoint.\n"
     ]
    },
    {
     "name": "stdout",
     "output_type": "stream",
     "text": [
      "Files already downloaded and verified\n",
      "Files already downloaded and verified\n",
      "{'name': 'simclr-cifar100', 'method': 'simclr', 'backbone': {'name': 'resnet18', 'kwargs': {}}, 'method_kwargs': {'proj_hidden_dim': 2048, 'proj_output_dim': 256, 'temperature': 0.2}, 'data': {'dataset': 'cifar100', 'train_path': './datasets', 'val_path': 'datasets/imagenet100/val', 'format': 'image_folder', 'num_workers': 4, 'no_labels': False, 'fraction': -1, 'num_classes': 100, 'num_large_crops': 2, 'num_small_crops': 0}, 'optimizer': {'name': 'lars', 'batch_size': 256, 'lr': 0.4, 'classifier_lr': 0.1, 'weight_decay': 0.0001, 'kwargs': {'clip_lr': True, 'eta': 0.02, 'exclude_bias_n_norm': True, 'momentum': 0.9}, 'exclude_bias_n_norm_wd': False}, 'scheduler': {'name': 'warmup_cosine', 'lr_decay_steps': None, 'min_lr': 0.0, 'warmup_start_lr': 3e-05, 'warmup_epochs': 10, 'interval': 'step'}, 'checkpoint': {'enabled': True, 'dir': 'trained_models', 'frequency': 1, 'keep_prev': False}, 'auto_resume': {'enabled': True, 'max_hours': 36}, 'max_epochs': 1000, 'devices': [0], 'sync_batchnorm': True, 'accelerator': 'gpu', 'strategy': 'ddp', 'precision': 16, 'augmentations': [{'rrc': {'enabled': True, 'crop_min_scale': 0.08, 'crop_max_scale': 1.0}, 'color_jitter': {'prob': 0.8, 'brightness': 0.8, 'contrast': 0.8, 'saturation': 0.8, 'hue': 0.2}, 'grayscale': {'prob': 0.2}, 'gaussian_blur': {'prob': 0.5}, 'solarization': {'prob': 0.0}, 'equalization': {'prob': 0.0}, 'horizontal_flip': {'prob': 0.5}, 'crop_size': 32, 'num_crops': 2}], 'wandb': {'enabled': True, 'entity': None, 'project': 'solo-learn', 'offline': False}, 'dali': {'device': 'gpu', 'encode_indexes_into_labels': False}, 'auto_umap': {'enabled': False, 'dir': 'auto_umap', 'frequency': 1}, 'debug_augmentations': False, 'seed': 5, 'resume_from_checkpoint': None, 'num_nodes': 1, 'accumulate_grad_batches': 1, 'knn_eval': {'enabled': False, 'k': 20, 'distance_func': 'euclidean'}, 'performance': {'disable_channel_last': False}, 'wandb_run_id': '3kh01qs8'}\n",
      "CFG:  simclr-cifar100 3kh01qs8\n"
     ]
    },
    {
     "name": "stderr",
     "output_type": "stream",
     "text": [
      "Collecting features: 100%|██████████| 390/390 [00:05<00:00, 73.21it/s]\n",
      "Collecting features: 100%|██████████| 79/79 [00:01<00:00, 64.23it/s]\n",
      " 97%|█████████▋| 60/62 [1:10:50<01:50, 55.32s/it]"
     ]
    },
    {
     "name": "stdout",
     "output_type": "stream",
     "text": [
      "/hdd/backup_cluster_august_2023/Self-Supervised-Learning-with-Predictability-Minimization/Self-Supervised-Learning-with-Predictability-Minimization/trained_models/simclr/y6674tsl\n",
      "/hdd/backup_cluster_august_2023/Self-Supervised-Learning-with-Predictability-Minimization/Self-Supervised-Learning-with-Predictability-Minimization/trained_models/simclr/y6674tsl/simclr-cifar10-y6674tsl-ep=999.ckpt\n"
     ]
    },
    {
     "name": "stderr",
     "output_type": "stream",
     "text": [
      "/home/david/.local/share/virtualenvs/Self-Supervised-Learning-with-Predictabili-RPXJKYD0/lib/python3.10/site-packages/umap/distances.py:1063: NumbaDeprecationWarning: The 'nopython' keyword argument was not supplied to the 'numba.jit' decorator. The implicit default value for this argument is currently False, but it will be changed to True in Numba 0.59.0. See https://numba.readthedocs.io/en/stable/reference/deprecation.html#deprecation-of-object-mode-fall-back-behaviour-when-using-jit for details.\n",
      "  @numba.jit()\n",
      "/home/david/.local/share/virtualenvs/Self-Supervised-Learning-with-Predictabili-RPXJKYD0/lib/python3.10/site-packages/umap/distances.py:1071: NumbaDeprecationWarning: The 'nopython' keyword argument was not supplied to the 'numba.jit' decorator. The implicit default value for this argument is currently False, but it will be changed to True in Numba 0.59.0. See https://numba.readthedocs.io/en/stable/reference/deprecation.html#deprecation-of-object-mode-fall-back-behaviour-when-using-jit for details.\n",
      "  @numba.jit()\n",
      "/home/david/.local/share/virtualenvs/Self-Supervised-Learning-with-Predictabili-RPXJKYD0/lib/python3.10/site-packages/umap/distances.py:1086: NumbaDeprecationWarning: The 'nopython' keyword argument was not supplied to the 'numba.jit' decorator. The implicit default value for this argument is currently False, but it will be changed to True in Numba 0.59.0. See https://numba.readthedocs.io/en/stable/reference/deprecation.html#deprecation-of-object-mode-fall-back-behaviour-when-using-jit for details.\n",
      "  @numba.jit()\n",
      "/home/david/.local/share/virtualenvs/Self-Supervised-Learning-with-Predictabili-RPXJKYD0/lib/python3.10/site-packages/umap/umap_.py:660: NumbaDeprecationWarning: The 'nopython' keyword argument was not supplied to the 'numba.jit' decorator. The implicit default value for this argument is currently False, but it will be changed to True in Numba 0.59.0. See https://numba.readthedocs.io/en/stable/reference/deprecation.html#deprecation-of-object-mode-fall-back-behaviour-when-using-jit for details.\n",
      "  @numba.jit()\n"
     ]
    },
    {
     "name": "stdout",
     "output_type": "stream",
     "text": [
      "{'name': 'simclr-cifar10', 'method': 'simclr', 'backbone': {'name': 'resnet18', 'kwargs': {}}, 'method_kwargs': {'proj_hidden_dim': 2048, 'proj_output_dim': 256, 'temperature': 0.2}, 'data': {'dataset': 'cifar10', 'train_path': './datasets', 'val_path': 'datasets/imagenet100/val', 'format': 'image_folder', 'num_workers': 4, 'no_labels': False, 'fraction': -1, 'num_classes': 10, 'num_large_crops': 2, 'num_small_crops': 0}, 'optimizer': {'name': 'lars', 'batch_size': 256, 'lr': 0.4, 'classifier_lr': 0.1, 'weight_decay': 0.0001, 'kwargs': {'clip_lr': True, 'eta': 0.02, 'exclude_bias_n_norm': True, 'momentum': 0.9}, 'exclude_bias_n_norm_wd': False}, 'scheduler': {'name': 'warmup_cosine', 'lr_decay_steps': None, 'min_lr': 0.0, 'warmup_start_lr': 3e-05, 'warmup_epochs': 10, 'interval': 'step'}, 'checkpoint': {'enabled': True, 'dir': 'trained_models', 'frequency': 1, 'keep_prev': False}, 'auto_resume': {'enabled': True, 'max_hours': 36}, 'max_epochs': 1000, 'devices': [0], 'sync_batchnorm': True, 'accelerator': 'gpu', 'strategy': 'ddp', 'precision': 16, 'augmentations': [{'rrc': {'enabled': True, 'crop_min_scale': 0.08, 'crop_max_scale': 1.0}, 'color_jitter': {'prob': 0.8, 'brightness': 0.8, 'contrast': 0.8, 'saturation': 0.8, 'hue': 0.2}, 'grayscale': {'prob': 0.2}, 'gaussian_blur': {'prob': 0.5}, 'solarization': {'prob': 0.0}, 'equalization': {'prob': 0.0}, 'horizontal_flip': {'prob': 0.5}, 'crop_size': 32, 'num_crops': 2}], 'wandb': {'enabled': True, 'entity': None, 'project': 'solo-learn', 'offline': False}, 'dali': {'device': 'gpu', 'encode_indexes_into_labels': False}, 'auto_umap': {'enabled': False, 'dir': 'auto_umap', 'frequency': 1}, 'debug_augmentations': False, 'seed': 5, 'resume_from_checkpoint': None, 'num_nodes': 1, 'accumulate_grad_batches': 1, 'knn_eval': {'enabled': False, 'k': 20, 'distance_func': 'euclidean'}, 'performance': {'disable_channel_last': False}, 'wandb_run_id': 'y6674tsl'}\n"
     ]
    },
    {
     "name": "stderr",
     "output_type": "stream",
     "text": [
      "WARNING:root:Using scheduler_interval=step might generate issues when resuming a checkpoint.\n"
     ]
    },
    {
     "name": "stdout",
     "output_type": "stream",
     "text": [
      "Files already downloaded and verified\n",
      "Files already downloaded and verified\n",
      "{'name': 'simclr-cifar10', 'method': 'simclr', 'backbone': {'name': 'resnet18', 'kwargs': {}}, 'method_kwargs': {'proj_hidden_dim': 2048, 'proj_output_dim': 256, 'temperature': 0.2}, 'data': {'dataset': 'cifar10', 'train_path': './datasets', 'val_path': 'datasets/imagenet100/val', 'format': 'image_folder', 'num_workers': 4, 'no_labels': False, 'fraction': -1, 'num_classes': 10, 'num_large_crops': 2, 'num_small_crops': 0}, 'optimizer': {'name': 'lars', 'batch_size': 256, 'lr': 0.4, 'classifier_lr': 0.1, 'weight_decay': 0.0001, 'kwargs': {'clip_lr': True, 'eta': 0.02, 'exclude_bias_n_norm': True, 'momentum': 0.9}, 'exclude_bias_n_norm_wd': False}, 'scheduler': {'name': 'warmup_cosine', 'lr_decay_steps': None, 'min_lr': 0.0, 'warmup_start_lr': 3e-05, 'warmup_epochs': 10, 'interval': 'step'}, 'checkpoint': {'enabled': True, 'dir': 'trained_models', 'frequency': 1, 'keep_prev': False}, 'auto_resume': {'enabled': True, 'max_hours': 36}, 'max_epochs': 1000, 'devices': [0], 'sync_batchnorm': True, 'accelerator': 'gpu', 'strategy': 'ddp', 'precision': 16, 'augmentations': [{'rrc': {'enabled': True, 'crop_min_scale': 0.08, 'crop_max_scale': 1.0}, 'color_jitter': {'prob': 0.8, 'brightness': 0.8, 'contrast': 0.8, 'saturation': 0.8, 'hue': 0.2}, 'grayscale': {'prob': 0.2}, 'gaussian_blur': {'prob': 0.5}, 'solarization': {'prob': 0.0}, 'equalization': {'prob': 0.0}, 'horizontal_flip': {'prob': 0.5}, 'crop_size': 32, 'num_crops': 2}], 'wandb': {'enabled': True, 'entity': None, 'project': 'solo-learn', 'offline': False}, 'dali': {'device': 'gpu', 'encode_indexes_into_labels': False}, 'auto_umap': {'enabled': False, 'dir': 'auto_umap', 'frequency': 1}, 'debug_augmentations': False, 'seed': 5, 'resume_from_checkpoint': None, 'num_nodes': 1, 'accumulate_grad_batches': 1, 'knn_eval': {'enabled': False, 'k': 20, 'distance_func': 'euclidean'}, 'performance': {'disable_channel_last': False}, 'wandb_run_id': 'y6674tsl'}\n",
      "CFG:  simclr-cifar10 y6674tsl\n"
     ]
    },
    {
     "name": "stderr",
     "output_type": "stream",
     "text": [
      "Collecting features: 100%|██████████| 390/390 [00:05<00:00, 73.14it/s]\n",
      "Collecting features: 100%|██████████| 79/79 [00:01<00:00, 64.64it/s]\n",
      " 98%|█████████▊| 61/62 [1:11:16<00:46, 46.26s/it]"
     ]
    },
    {
     "name": "stdout",
     "output_type": "stream",
     "text": [
      "/hdd/backup_cluster_august_2023/Self-Supervised-Learning-with-Predictability-Minimization/Self-Supervised-Learning-with-Predictability-Minimization/trained_models/simclr/5dgztcwi\n",
      "/hdd/backup_cluster_august_2023/Self-Supervised-Learning-with-Predictability-Minimization/Self-Supervised-Learning-with-Predictability-Minimization/trained_models/simclr/5dgztcwi/simclr-cifar100-5dgztcwi-ep=999.ckpt\n"
     ]
    },
    {
     "name": "stderr",
     "output_type": "stream",
     "text": [
      "/home/david/.local/share/virtualenvs/Self-Supervised-Learning-with-Predictabili-RPXJKYD0/lib/python3.10/site-packages/umap/distances.py:1063: NumbaDeprecationWarning: The 'nopython' keyword argument was not supplied to the 'numba.jit' decorator. The implicit default value for this argument is currently False, but it will be changed to True in Numba 0.59.0. See https://numba.readthedocs.io/en/stable/reference/deprecation.html#deprecation-of-object-mode-fall-back-behaviour-when-using-jit for details.\n",
      "  @numba.jit()\n",
      "/home/david/.local/share/virtualenvs/Self-Supervised-Learning-with-Predictabili-RPXJKYD0/lib/python3.10/site-packages/umap/distances.py:1071: NumbaDeprecationWarning: The 'nopython' keyword argument was not supplied to the 'numba.jit' decorator. The implicit default value for this argument is currently False, but it will be changed to True in Numba 0.59.0. See https://numba.readthedocs.io/en/stable/reference/deprecation.html#deprecation-of-object-mode-fall-back-behaviour-when-using-jit for details.\n",
      "  @numba.jit()\n",
      "/home/david/.local/share/virtualenvs/Self-Supervised-Learning-with-Predictabili-RPXJKYD0/lib/python3.10/site-packages/umap/distances.py:1086: NumbaDeprecationWarning: The 'nopython' keyword argument was not supplied to the 'numba.jit' decorator. The implicit default value for this argument is currently False, but it will be changed to True in Numba 0.59.0. See https://numba.readthedocs.io/en/stable/reference/deprecation.html#deprecation-of-object-mode-fall-back-behaviour-when-using-jit for details.\n",
      "  @numba.jit()\n",
      "/home/david/.local/share/virtualenvs/Self-Supervised-Learning-with-Predictabili-RPXJKYD0/lib/python3.10/site-packages/umap/umap_.py:660: NumbaDeprecationWarning: The 'nopython' keyword argument was not supplied to the 'numba.jit' decorator. The implicit default value for this argument is currently False, but it will be changed to True in Numba 0.59.0. See https://numba.readthedocs.io/en/stable/reference/deprecation.html#deprecation-of-object-mode-fall-back-behaviour-when-using-jit for details.\n",
      "  @numba.jit()\n"
     ]
    },
    {
     "name": "stdout",
     "output_type": "stream",
     "text": [
      "{'name': 'simclr-cifar100', 'method': 'simclr', 'backbone': {'name': 'resnet18', 'kwargs': {}}, 'method_kwargs': {'proj_hidden_dim': 2048, 'proj_output_dim': 256, 'temperature': 0.2}, 'data': {'dataset': 'cifar100', 'train_path': './datasets', 'val_path': 'datasets/imagenet100/val', 'format': 'image_folder', 'num_workers': 4, 'no_labels': False, 'fraction': -1, 'num_classes': 100, 'num_large_crops': 2, 'num_small_crops': 0}, 'optimizer': {'name': 'lars', 'batch_size': 256, 'lr': 0.4, 'classifier_lr': 0.1, 'weight_decay': 0.0001, 'kwargs': {'clip_lr': True, 'eta': 0.02, 'exclude_bias_n_norm': True, 'momentum': 0.9}, 'exclude_bias_n_norm_wd': False}, 'scheduler': {'name': 'warmup_cosine', 'lr_decay_steps': None, 'min_lr': 0.0, 'warmup_start_lr': 3e-05, 'warmup_epochs': 10, 'interval': 'step'}, 'checkpoint': {'enabled': True, 'dir': 'trained_models', 'frequency': 1, 'keep_prev': False}, 'auto_resume': {'enabled': True, 'max_hours': 36}, 'max_epochs': 1000, 'devices': [0], 'sync_batchnorm': True, 'accelerator': 'gpu', 'strategy': 'ddp', 'precision': 16, 'augmentations': [{'rrc': {'enabled': True, 'crop_min_scale': 0.08, 'crop_max_scale': 1.0}, 'color_jitter': {'prob': 0.8, 'brightness': 0.8, 'contrast': 0.8, 'saturation': 0.8, 'hue': 0.2}, 'grayscale': {'prob': 0.2}, 'gaussian_blur': {'prob': 0.5}, 'solarization': {'prob': 0.0}, 'equalization': {'prob': 0.0}, 'horizontal_flip': {'prob': 0.5}, 'crop_size': 32, 'num_crops': 2}], 'wandb': {'enabled': True, 'entity': None, 'project': 'solo-learn', 'offline': False}, 'dali': {'device': 'gpu', 'encode_indexes_into_labels': False}, 'auto_umap': {'enabled': False, 'dir': 'auto_umap', 'frequency': 1}, 'debug_augmentations': False, 'seed': 5, 'resume_from_checkpoint': None, 'num_nodes': 1, 'accumulate_grad_batches': 1, 'knn_eval': {'enabled': False, 'k': 20, 'distance_func': 'euclidean'}, 'performance': {'disable_channel_last': False}, 'wandb_run_id': '5dgztcwi'}\n"
     ]
    },
    {
     "name": "stderr",
     "output_type": "stream",
     "text": [
      "WARNING:root:Using scheduler_interval=step might generate issues when resuming a checkpoint.\n"
     ]
    },
    {
     "name": "stdout",
     "output_type": "stream",
     "text": [
      "Files already downloaded and verified\n",
      "Files already downloaded and verified\n",
      "{'name': 'simclr-cifar100', 'method': 'simclr', 'backbone': {'name': 'resnet18', 'kwargs': {}}, 'method_kwargs': {'proj_hidden_dim': 2048, 'proj_output_dim': 256, 'temperature': 0.2}, 'data': {'dataset': 'cifar100', 'train_path': './datasets', 'val_path': 'datasets/imagenet100/val', 'format': 'image_folder', 'num_workers': 4, 'no_labels': False, 'fraction': -1, 'num_classes': 100, 'num_large_crops': 2, 'num_small_crops': 0}, 'optimizer': {'name': 'lars', 'batch_size': 256, 'lr': 0.4, 'classifier_lr': 0.1, 'weight_decay': 0.0001, 'kwargs': {'clip_lr': True, 'eta': 0.02, 'exclude_bias_n_norm': True, 'momentum': 0.9}, 'exclude_bias_n_norm_wd': False}, 'scheduler': {'name': 'warmup_cosine', 'lr_decay_steps': None, 'min_lr': 0.0, 'warmup_start_lr': 3e-05, 'warmup_epochs': 10, 'interval': 'step'}, 'checkpoint': {'enabled': True, 'dir': 'trained_models', 'frequency': 1, 'keep_prev': False}, 'auto_resume': {'enabled': True, 'max_hours': 36}, 'max_epochs': 1000, 'devices': [0], 'sync_batchnorm': True, 'accelerator': 'gpu', 'strategy': 'ddp', 'precision': 16, 'augmentations': [{'rrc': {'enabled': True, 'crop_min_scale': 0.08, 'crop_max_scale': 1.0}, 'color_jitter': {'prob': 0.8, 'brightness': 0.8, 'contrast': 0.8, 'saturation': 0.8, 'hue': 0.2}, 'grayscale': {'prob': 0.2}, 'gaussian_blur': {'prob': 0.5}, 'solarization': {'prob': 0.0}, 'equalization': {'prob': 0.0}, 'horizontal_flip': {'prob': 0.5}, 'crop_size': 32, 'num_crops': 2}], 'wandb': {'enabled': True, 'entity': None, 'project': 'solo-learn', 'offline': False}, 'dali': {'device': 'gpu', 'encode_indexes_into_labels': False}, 'auto_umap': {'enabled': False, 'dir': 'auto_umap', 'frequency': 1}, 'debug_augmentations': False, 'seed': 5, 'resume_from_checkpoint': None, 'num_nodes': 1, 'accumulate_grad_batches': 1, 'knn_eval': {'enabled': False, 'k': 20, 'distance_func': 'euclidean'}, 'performance': {'disable_channel_last': False}, 'wandb_run_id': '5dgztcwi'}\n",
      "CFG:  simclr-cifar100 5dgztcwi\n"
     ]
    },
    {
     "name": "stderr",
     "output_type": "stream",
     "text": [
      "Collecting features: 100%|██████████| 390/390 [00:05<00:00, 73.28it/s]\n",
      "Collecting features: 100%|██████████| 79/79 [00:01<00:00, 65.30it/s]\n",
      "100%|██████████| 62/62 [1:11:41<00:00, 69.37s/it]\n"
     ]
    }
   ],
   "source": [
    "# for every single entry we now generate the train and test embeddings and the correlation files\n",
    "'''\n",
    "A sample call looks as follows:\n",
    "python3 main_corr.py \\\n",
    "    --dataset cifar10 \\\n",
    "    --batch_size 16 \\\n",
    "    --num_workers 10 \\\n",
    "    --train_data_path \"./datasets\" \\\n",
    "    --val_data_path \"./datasets\" \\\n",
    "    --pretrained_checkpoint_dir $1 \\\n",
    "    --pretrained_checkpoint $2\n",
    "'''\n",
    "\n",
    "data_paths = {\n",
    "    'cifar10': {\n",
    "        'train': \"./datasets\",\n",
    "        'val': \"./datasets\",\n",
    "        },\n",
    "    'cifar100':  {\n",
    "        'train': \"./datasets\",\n",
    "        'val': \"./datasets\",\n",
    "        },\n",
    "    'imagenet100': {\n",
    "        'train': '/home/david/data/ILSVRC2012_img_train_100',\n",
    "        'val': '/home/david/data/ILSVRC2012_img_val_100',\n",
    "        },\n",
    "}\n",
    "\n",
    "for run_id, model_name, dataset, max_epochs, model_path in tqdm(models_to_process):\n",
    "    # pretrained_checkpoint_dir is the folder the model in modelpath is in\n",
    "    pretrained_checkpoint_dir = Path(model_path).parent\n",
    "    # now we run the command\n",
    "    print(pretrained_checkpoint_dir)\n",
    "    print(model_path)\n",
    "    subprocess.run(['python3', '../main_corr.py', '--dataset', dataset, '--batch_size', '128', '--num_workers', '10', '--train_data_path', data_paths[dataset]['train'], '--val_data_path', data_paths[dataset]['val'], '--pretrained_checkpoint_dir', pretrained_checkpoint_dir, '--pretrained_checkpoint', model_path])\n"
   ]
  },
  {
   "cell_type": "code",
   "execution_count": null,
   "metadata": {},
   "outputs": [],
   "source": []
  },
  {
   "cell_type": "code",
   "execution_count": null,
   "metadata": {},
   "outputs": [],
   "source": []
  }
 ],
 "metadata": {
  "kernelspec": {
   "display_name": "Self-Supervised-Learning-with-Predictabili-RPXJKYD0",
   "language": "python",
   "name": "python3"
  },
  "language_info": {
   "codemirror_mode": {
    "name": "ipython",
    "version": 3
   },
   "file_extension": ".py",
   "mimetype": "text/x-python",
   "name": "python",
   "nbconvert_exporter": "python",
   "pygments_lexer": "ipython3",
   "version": "3.10.12"
  },
  "orig_nbformat": 4
 },
 "nbformat": 4,
 "nbformat_minor": 2
}
