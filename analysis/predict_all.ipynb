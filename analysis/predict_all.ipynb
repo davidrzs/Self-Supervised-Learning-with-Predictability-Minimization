{
 "cells": [
  {
   "cell_type": "code",
   "execution_count": 1,
   "metadata": {
    "collapsed": true,
    "ExecuteTime": {
     "end_time": "2023-09-22T09:09:29.973132501Z",
     "start_time": "2023-09-22T09:09:29.882008761Z"
    }
   },
   "outputs": [],
   "source": [
    "import pandas as pd\n",
    "import numpy as np\n",
    "import glob\n",
    "from pathlib import Path\n",
    "from sklearn.metrics import mean_squared_error\n",
    "from sklearn.linear_model import SGDRegressor\n",
    "from sklearn.neural_network import MLPRegressor\n",
    "import xgboost as xgb\n",
    "from sklearn.model_selection import KFold\n",
    "\n",
    "from joblib import Parallel, delayed\n"
   ]
  },
  {
   "cell_type": "code",
   "execution_count": 2,
   "outputs": [],
   "source": [
    "def predict(X_train, X_val, model):\n",
    "\n",
    "    nr_train_embeddings, dim = X_train.shape\n",
    "    \n",
    "    # normalize the embeddings in case they weren't already\n",
    "    X_train = (X_train - X_train.mean(axis=0)) / X_train.std(axis=0)\n",
    "    X_val = (X_val - X_val.mean(axis=0)) / X_val.std(axis=0)\n",
    "    \n",
    "\n",
    "        \n",
    "    scores = []\n",
    "        \n",
    "    for i in range(dim):\n",
    "        \n",
    "        y_i_train = X_train[:,i]\n",
    "        X_i_train = np.delete(X_train, i, 1)\n",
    "    \n",
    "        \n",
    "        y_i_val = X_val[:,i]\n",
    "        X_i_val = np.delete(X_val, i, 1)\n",
    "        \n",
    "        \n",
    "        if model == 'linear':\n",
    "            clf = SGDRegressor()\n",
    "        elif model == 'xgb':\n",
    "            clf = xgb.XGBRegressor() # tree_method='gpu_hist', gpu_id=0        \n",
    "        elif model == 'mlp':\n",
    "            clf = MLPRegressor()    \n",
    "            \n",
    "        clf.fit(X_i_train, y_i_train)\n",
    "    \n",
    "        scores.append(mean_squared_error(y_i_val, clf.predict(X_i_val)))\n",
    "        \n",
    "    return np.mean(scores), np.std(scores)\n",
    "        \n"
   ],
   "metadata": {
    "collapsed": false,
    "ExecuteTime": {
     "end_time": "2023-09-22T09:09:30.675464107Z",
     "start_time": "2023-09-22T09:09:30.663859258Z"
    }
   }
  },
  {
   "cell_type": "code",
   "execution_count": 7,
   "metadata": {
    "ExecuteTime": {
     "end_time": "2023-09-22T08:52:30.490600446Z",
     "start_time": "2023-09-22T08:52:30.443963873Z"
    }
   },
   "outputs": [
    {
     "data": {
      "text/plain": "                                                 path model_name dataset_name  \\\n0   correlation_analysis/vicreg-imagenet100_pxqwg3...     vicreg  imagenet100   \n1   correlation_analysis/vicreg-imagenet100_pxqwg3...     vicreg  imagenet100   \n2   correlation_analysis/vicreg-cifar100_000hudwm_...     vicreg     cifar100   \n3   correlation_analysis/vicreg-cifar100_000hudwm_val     vicreg     cifar100   \n4   correlation_analysis/vicreg-cifar100_31yfnww4_...     vicreg     cifar100   \n..                                                ...        ...          ...   \n71  correlation_analysis/simclr-cifar100_3kh01qs8_val     simclr     cifar100   \n72  correlation_analysis/simclr-cifar10_y6674tsl_t...     simclr      cifar10   \n73   correlation_analysis/simclr-cifar10_y6674tsl_val     simclr      cifar10   \n74  correlation_analysis/simclr-cifar100_5dgztcwi_...     simclr     cifar100   \n75  correlation_analysis/simclr-cifar100_5dgztcwi_val     simclr     cifar100   \n\n   data_split wandb_run_id  \n0       train     pxqwg3ex  \n1         val     pxqwg3ex  \n2       train     000hudwm  \n3         val     000hudwm  \n4       train     31yfnww4  \n..        ...          ...  \n71        val     3kh01qs8  \n72      train     y6674tsl  \n73        val     y6674tsl  \n74      train     5dgztcwi  \n75        val     5dgztcwi  \n\n[76 rows x 5 columns]",
      "text/html": "<div>\n<style scoped>\n    .dataframe tbody tr th:only-of-type {\n        vertical-align: middle;\n    }\n\n    .dataframe tbody tr th {\n        vertical-align: top;\n    }\n\n    .dataframe thead th {\n        text-align: right;\n    }\n</style>\n<table border=\"1\" class=\"dataframe\">\n  <thead>\n    <tr style=\"text-align: right;\">\n      <th></th>\n      <th>path</th>\n      <th>model_name</th>\n      <th>dataset_name</th>\n      <th>data_split</th>\n      <th>wandb_run_id</th>\n    </tr>\n  </thead>\n  <tbody>\n    <tr>\n      <th>0</th>\n      <td>correlation_analysis/vicreg-imagenet100_pxqwg3...</td>\n      <td>vicreg</td>\n      <td>imagenet100</td>\n      <td>train</td>\n      <td>pxqwg3ex</td>\n    </tr>\n    <tr>\n      <th>1</th>\n      <td>correlation_analysis/vicreg-imagenet100_pxqwg3...</td>\n      <td>vicreg</td>\n      <td>imagenet100</td>\n      <td>val</td>\n      <td>pxqwg3ex</td>\n    </tr>\n    <tr>\n      <th>2</th>\n      <td>correlation_analysis/vicreg-cifar100_000hudwm_...</td>\n      <td>vicreg</td>\n      <td>cifar100</td>\n      <td>train</td>\n      <td>000hudwm</td>\n    </tr>\n    <tr>\n      <th>3</th>\n      <td>correlation_analysis/vicreg-cifar100_000hudwm_val</td>\n      <td>vicreg</td>\n      <td>cifar100</td>\n      <td>val</td>\n      <td>000hudwm</td>\n    </tr>\n    <tr>\n      <th>4</th>\n      <td>correlation_analysis/vicreg-cifar100_31yfnww4_...</td>\n      <td>vicreg</td>\n      <td>cifar100</td>\n      <td>train</td>\n      <td>31yfnww4</td>\n    </tr>\n    <tr>\n      <th>...</th>\n      <td>...</td>\n      <td>...</td>\n      <td>...</td>\n      <td>...</td>\n      <td>...</td>\n    </tr>\n    <tr>\n      <th>71</th>\n      <td>correlation_analysis/simclr-cifar100_3kh01qs8_val</td>\n      <td>simclr</td>\n      <td>cifar100</td>\n      <td>val</td>\n      <td>3kh01qs8</td>\n    </tr>\n    <tr>\n      <th>72</th>\n      <td>correlation_analysis/simclr-cifar10_y6674tsl_t...</td>\n      <td>simclr</td>\n      <td>cifar10</td>\n      <td>train</td>\n      <td>y6674tsl</td>\n    </tr>\n    <tr>\n      <th>73</th>\n      <td>correlation_analysis/simclr-cifar10_y6674tsl_val</td>\n      <td>simclr</td>\n      <td>cifar10</td>\n      <td>val</td>\n      <td>y6674tsl</td>\n    </tr>\n    <tr>\n      <th>74</th>\n      <td>correlation_analysis/simclr-cifar100_5dgztcwi_...</td>\n      <td>simclr</td>\n      <td>cifar100</td>\n      <td>train</td>\n      <td>5dgztcwi</td>\n    </tr>\n    <tr>\n      <th>75</th>\n      <td>correlation_analysis/simclr-cifar100_5dgztcwi_val</td>\n      <td>simclr</td>\n      <td>cifar100</td>\n      <td>val</td>\n      <td>5dgztcwi</td>\n    </tr>\n  </tbody>\n</table>\n<p>76 rows × 5 columns</p>\n</div>"
     },
     "execution_count": 7,
     "metadata": {},
     "output_type": "execute_result"
    }
   ],
   "source": [
    "# find all folders in the 'correlation_analysis' folder\n",
    "# for every folder we extract the path, the model name, the wandb run id and the number and end up creating a dataframe\n",
    "all_folders = glob.glob('correlation_analysis/*')\n",
    "\n",
    "all_data = pd.DataFrame(columns=['path', 'model_name', 'dataset_name', 'data_split', 'wandb_run_id'])\n",
    "\n",
    "for folder in all_folders:\n",
    "    path = Path(folder) #/ Path('data_standardized.csv')\n",
    "    model_name = path.name \n",
    "    model_name = model_name.split('-')[0]\n",
    "    dataset_name = path.name.split('-')[1].split('_')[0]\n",
    "    data_split = path.name.split('_')[-1]\n",
    "    wandb_run_id = path.name.split('_')[-2]\n",
    "    all_data.loc[len(all_data)] = [path, model_name, dataset_name, data_split, wandb_run_id]\n",
    "    \n",
    "\n",
    "all_data"
   ]
  },
  {
   "cell_type": "code",
   "execution_count": 8,
   "metadata": {
    "ExecuteTime": {
     "end_time": "2023-09-22T09:01:07.843218636Z",
     "start_time": "2023-09-22T08:52:31.867965261Z"
    }
   },
   "outputs": [
    {
     "name": "stdout",
     "output_type": "stream",
     "text": [
      "correlation_analysis/vicreg-imagenet100_pxqwg3ex_train/data_standardized.csv\n",
      "(126591, 512)\n",
      "vicreg imagenet100\n"
     ]
    },
    {
     "ename": "KeyboardInterrupt",
     "evalue": "",
     "output_type": "error",
     "traceback": [
      "\u001B[0;31m---------------------------------------------------------------------------\u001B[0m",
      "\u001B[0;31mKeyboardInterrupt\u001B[0m                         Traceback (most recent call last)",
      "Cell \u001B[0;32mIn[8], line 13\u001B[0m\n\u001B[1;32m     11\u001B[0m \u001B[38;5;28;01mfor\u001B[39;00m i, (train, test) \u001B[38;5;129;01min\u001B[39;00m \u001B[38;5;28menumerate\u001B[39m(kf\u001B[38;5;241m.\u001B[39msplit(X)):\n\u001B[1;32m     12\u001B[0m     \u001B[38;5;28;01mfor\u001B[39;00m model \u001B[38;5;129;01min\u001B[39;00m [\u001B[38;5;124m'\u001B[39m\u001B[38;5;124mlinear\u001B[39m\u001B[38;5;124m'\u001B[39m, \u001B[38;5;124m'\u001B[39m\u001B[38;5;124mxgb\u001B[39m\u001B[38;5;124m'\u001B[39m]:\n\u001B[0;32m---> 13\u001B[0m         mean, std \u001B[38;5;241m=\u001B[39m \u001B[43mpredict\u001B[49m\u001B[43m(\u001B[49m\u001B[43mX\u001B[49m\u001B[43m[\u001B[49m\u001B[43mtrain\u001B[49m\u001B[43m]\u001B[49m\u001B[43m,\u001B[49m\u001B[43m \u001B[49m\u001B[43mX\u001B[49m\u001B[43m[\u001B[49m\u001B[43mtest\u001B[49m\u001B[43m]\u001B[49m\u001B[43m,\u001B[49m\u001B[43m \u001B[49m\u001B[43mmodel\u001B[49m\u001B[38;5;241;43m=\u001B[39;49m\u001B[43mmodel\u001B[49m\u001B[43m)\u001B[49m\n\u001B[1;32m     14\u001B[0m         all_data\u001B[38;5;241m.\u001B[39mloc[index, \u001B[38;5;124mf\u001B[39m\u001B[38;5;124m'\u001B[39m\u001B[38;5;124mmean_\u001B[39m\u001B[38;5;132;01m{\u001B[39;00mmodel\u001B[38;5;132;01m}\u001B[39;00m\u001B[38;5;124m_\u001B[39m\u001B[38;5;132;01m{\u001B[39;00mi\u001B[38;5;132;01m}\u001B[39;00m\u001B[38;5;124m'\u001B[39m] \u001B[38;5;241m=\u001B[39m mean\n\u001B[1;32m     15\u001B[0m         all_data\u001B[38;5;241m.\u001B[39mloc[index, \u001B[38;5;124mf\u001B[39m\u001B[38;5;124m'\u001B[39m\u001B[38;5;124mstd_\u001B[39m\u001B[38;5;132;01m{\u001B[39;00mmodel\u001B[38;5;132;01m}\u001B[39;00m\u001B[38;5;124m_\u001B[39m\u001B[38;5;132;01m{\u001B[39;00mi\u001B[38;5;132;01m}\u001B[39;00m\u001B[38;5;124m'\u001B[39m] \u001B[38;5;241m=\u001B[39m std\n",
      "Cell \u001B[0;32mIn[6], line 30\u001B[0m, in \u001B[0;36mpredict\u001B[0;34m(X_train, X_val, model)\u001B[0m\n\u001B[1;32m     27\u001B[0m     \u001B[38;5;28;01melif\u001B[39;00m model \u001B[38;5;241m==\u001B[39m \u001B[38;5;124m'\u001B[39m\u001B[38;5;124mmlp\u001B[39m\u001B[38;5;124m'\u001B[39m:\n\u001B[1;32m     28\u001B[0m         clf \u001B[38;5;241m=\u001B[39m MLPRegressor()    \n\u001B[0;32m---> 30\u001B[0m     \u001B[43mclf\u001B[49m\u001B[38;5;241;43m.\u001B[39;49m\u001B[43mfit\u001B[49m\u001B[43m(\u001B[49m\u001B[43mX_i_train\u001B[49m\u001B[43m,\u001B[49m\u001B[43m \u001B[49m\u001B[43my_i_train\u001B[49m\u001B[43m)\u001B[49m\n\u001B[1;32m     32\u001B[0m     scores\u001B[38;5;241m.\u001B[39mappend(mean_squared_error(y_i_val, clf\u001B[38;5;241m.\u001B[39mpredict(X_i_val)))\n\u001B[1;32m     34\u001B[0m \u001B[38;5;28;01mreturn\u001B[39;00m np\u001B[38;5;241m.\u001B[39mmean(scores), np\u001B[38;5;241m.\u001B[39mstd(scores)\n",
      "File \u001B[0;32m~/.local/share/virtualenvs/Self-Supervised-Learning-with-Predictabili-RPXJKYD0/lib/python3.10/site-packages/sklearn/base.py:1151\u001B[0m, in \u001B[0;36m_fit_context.<locals>.decorator.<locals>.wrapper\u001B[0;34m(estimator, *args, **kwargs)\u001B[0m\n\u001B[1;32m   1144\u001B[0m     estimator\u001B[38;5;241m.\u001B[39m_validate_params()\n\u001B[1;32m   1146\u001B[0m \u001B[38;5;28;01mwith\u001B[39;00m config_context(\n\u001B[1;32m   1147\u001B[0m     skip_parameter_validation\u001B[38;5;241m=\u001B[39m(\n\u001B[1;32m   1148\u001B[0m         prefer_skip_nested_validation \u001B[38;5;129;01mor\u001B[39;00m global_skip_validation\n\u001B[1;32m   1149\u001B[0m     )\n\u001B[1;32m   1150\u001B[0m ):\n\u001B[0;32m-> 1151\u001B[0m     \u001B[38;5;28;01mreturn\u001B[39;00m \u001B[43mfit_method\u001B[49m\u001B[43m(\u001B[49m\u001B[43mestimator\u001B[49m\u001B[43m,\u001B[49m\u001B[43m \u001B[49m\u001B[38;5;241;43m*\u001B[39;49m\u001B[43margs\u001B[49m\u001B[43m,\u001B[49m\u001B[43m \u001B[49m\u001B[38;5;241;43m*\u001B[39;49m\u001B[38;5;241;43m*\u001B[39;49m\u001B[43mkwargs\u001B[49m\u001B[43m)\u001B[49m\n",
      "File \u001B[0;32m~/.local/share/virtualenvs/Self-Supervised-Learning-with-Predictabili-RPXJKYD0/lib/python3.10/site-packages/sklearn/linear_model/_stochastic_gradient.py:1600\u001B[0m, in \u001B[0;36mBaseSGDRegressor.fit\u001B[0;34m(self, X, y, coef_init, intercept_init, sample_weight)\u001B[0m\n\u001B[1;32m   1574\u001B[0m \u001B[38;5;250m\u001B[39m\u001B[38;5;124;03m\"\"\"Fit linear model with Stochastic Gradient Descent.\u001B[39;00m\n\u001B[1;32m   1575\u001B[0m \n\u001B[1;32m   1576\u001B[0m \u001B[38;5;124;03mParameters\u001B[39;00m\n\u001B[0;32m   (...)\u001B[0m\n\u001B[1;32m   1596\u001B[0m \u001B[38;5;124;03m    Fitted `SGDRegressor` estimator.\u001B[39;00m\n\u001B[1;32m   1597\u001B[0m \u001B[38;5;124;03m\"\"\"\u001B[39;00m\n\u001B[1;32m   1598\u001B[0m \u001B[38;5;28mself\u001B[39m\u001B[38;5;241m.\u001B[39m_more_validate_params()\n\u001B[0;32m-> 1600\u001B[0m \u001B[38;5;28;01mreturn\u001B[39;00m \u001B[38;5;28;43mself\u001B[39;49m\u001B[38;5;241;43m.\u001B[39;49m\u001B[43m_fit\u001B[49m\u001B[43m(\u001B[49m\n\u001B[1;32m   1601\u001B[0m \u001B[43m    \u001B[49m\u001B[43mX\u001B[49m\u001B[43m,\u001B[49m\n\u001B[1;32m   1602\u001B[0m \u001B[43m    \u001B[49m\u001B[43my\u001B[49m\u001B[43m,\u001B[49m\n\u001B[1;32m   1603\u001B[0m \u001B[43m    \u001B[49m\u001B[43malpha\u001B[49m\u001B[38;5;241;43m=\u001B[39;49m\u001B[38;5;28;43mself\u001B[39;49m\u001B[38;5;241;43m.\u001B[39;49m\u001B[43malpha\u001B[49m\u001B[43m,\u001B[49m\n\u001B[1;32m   1604\u001B[0m \u001B[43m    \u001B[49m\u001B[43mC\u001B[49m\u001B[38;5;241;43m=\u001B[39;49m\u001B[38;5;241;43m1.0\u001B[39;49m\u001B[43m,\u001B[49m\n\u001B[1;32m   1605\u001B[0m \u001B[43m    \u001B[49m\u001B[43mloss\u001B[49m\u001B[38;5;241;43m=\u001B[39;49m\u001B[38;5;28;43mself\u001B[39;49m\u001B[38;5;241;43m.\u001B[39;49m\u001B[43mloss\u001B[49m\u001B[43m,\u001B[49m\n\u001B[1;32m   1606\u001B[0m \u001B[43m    \u001B[49m\u001B[43mlearning_rate\u001B[49m\u001B[38;5;241;43m=\u001B[39;49m\u001B[38;5;28;43mself\u001B[39;49m\u001B[38;5;241;43m.\u001B[39;49m\u001B[43mlearning_rate\u001B[49m\u001B[43m,\u001B[49m\n\u001B[1;32m   1607\u001B[0m \u001B[43m    \u001B[49m\u001B[43mcoef_init\u001B[49m\u001B[38;5;241;43m=\u001B[39;49m\u001B[43mcoef_init\u001B[49m\u001B[43m,\u001B[49m\n\u001B[1;32m   1608\u001B[0m \u001B[43m    \u001B[49m\u001B[43mintercept_init\u001B[49m\u001B[38;5;241;43m=\u001B[39;49m\u001B[43mintercept_init\u001B[49m\u001B[43m,\u001B[49m\n\u001B[1;32m   1609\u001B[0m \u001B[43m    \u001B[49m\u001B[43msample_weight\u001B[49m\u001B[38;5;241;43m=\u001B[39;49m\u001B[43msample_weight\u001B[49m\u001B[43m,\u001B[49m\n\u001B[1;32m   1610\u001B[0m \u001B[43m\u001B[49m\u001B[43m)\u001B[49m\n",
      "File \u001B[0;32m~/.local/share/virtualenvs/Self-Supervised-Learning-with-Predictabili-RPXJKYD0/lib/python3.10/site-packages/sklearn/linear_model/_stochastic_gradient.py:1543\u001B[0m, in \u001B[0;36mBaseSGDRegressor._fit\u001B[0;34m(self, X, y, alpha, C, loss, learning_rate, coef_init, intercept_init, sample_weight)\u001B[0m\n\u001B[1;32m   1540\u001B[0m \u001B[38;5;66;03m# Clear iteration count for multiple call to fit.\u001B[39;00m\n\u001B[1;32m   1541\u001B[0m \u001B[38;5;28mself\u001B[39m\u001B[38;5;241m.\u001B[39mt_ \u001B[38;5;241m=\u001B[39m \u001B[38;5;241m1.0\u001B[39m\n\u001B[0;32m-> 1543\u001B[0m \u001B[38;5;28;43mself\u001B[39;49m\u001B[38;5;241;43m.\u001B[39;49m\u001B[43m_partial_fit\u001B[49m\u001B[43m(\u001B[49m\n\u001B[1;32m   1544\u001B[0m \u001B[43m    \u001B[49m\u001B[43mX\u001B[49m\u001B[43m,\u001B[49m\n\u001B[1;32m   1545\u001B[0m \u001B[43m    \u001B[49m\u001B[43my\u001B[49m\u001B[43m,\u001B[49m\n\u001B[1;32m   1546\u001B[0m \u001B[43m    \u001B[49m\u001B[43malpha\u001B[49m\u001B[43m,\u001B[49m\n\u001B[1;32m   1547\u001B[0m \u001B[43m    \u001B[49m\u001B[43mC\u001B[49m\u001B[43m,\u001B[49m\n\u001B[1;32m   1548\u001B[0m \u001B[43m    \u001B[49m\u001B[43mloss\u001B[49m\u001B[43m,\u001B[49m\n\u001B[1;32m   1549\u001B[0m \u001B[43m    \u001B[49m\u001B[43mlearning_rate\u001B[49m\u001B[43m,\u001B[49m\n\u001B[1;32m   1550\u001B[0m \u001B[43m    \u001B[49m\u001B[38;5;28;43mself\u001B[39;49m\u001B[38;5;241;43m.\u001B[39;49m\u001B[43mmax_iter\u001B[49m\u001B[43m,\u001B[49m\n\u001B[1;32m   1551\u001B[0m \u001B[43m    \u001B[49m\u001B[43msample_weight\u001B[49m\u001B[43m,\u001B[49m\n\u001B[1;32m   1552\u001B[0m \u001B[43m    \u001B[49m\u001B[43mcoef_init\u001B[49m\u001B[43m,\u001B[49m\n\u001B[1;32m   1553\u001B[0m \u001B[43m    \u001B[49m\u001B[43mintercept_init\u001B[49m\u001B[43m,\u001B[49m\n\u001B[1;32m   1554\u001B[0m \u001B[43m\u001B[49m\u001B[43m)\u001B[49m\n\u001B[1;32m   1556\u001B[0m \u001B[38;5;28;01mif\u001B[39;00m (\n\u001B[1;32m   1557\u001B[0m     \u001B[38;5;28mself\u001B[39m\u001B[38;5;241m.\u001B[39mtol \u001B[38;5;129;01mis\u001B[39;00m \u001B[38;5;129;01mnot\u001B[39;00m \u001B[38;5;28;01mNone\u001B[39;00m\n\u001B[1;32m   1558\u001B[0m     \u001B[38;5;129;01mand\u001B[39;00m \u001B[38;5;28mself\u001B[39m\u001B[38;5;241m.\u001B[39mtol \u001B[38;5;241m>\u001B[39m \u001B[38;5;241m-\u001B[39mnp\u001B[38;5;241m.\u001B[39minf\n\u001B[1;32m   1559\u001B[0m     \u001B[38;5;129;01mand\u001B[39;00m \u001B[38;5;28mself\u001B[39m\u001B[38;5;241m.\u001B[39mn_iter_ \u001B[38;5;241m==\u001B[39m \u001B[38;5;28mself\u001B[39m\u001B[38;5;241m.\u001B[39mmax_iter\n\u001B[1;32m   1560\u001B[0m ):\n\u001B[1;32m   1561\u001B[0m     warnings\u001B[38;5;241m.\u001B[39mwarn(\n\u001B[1;32m   1562\u001B[0m         (\n\u001B[1;32m   1563\u001B[0m             \u001B[38;5;124m\"\u001B[39m\u001B[38;5;124mMaximum number of iteration reached before \u001B[39m\u001B[38;5;124m\"\u001B[39m\n\u001B[0;32m   (...)\u001B[0m\n\u001B[1;32m   1567\u001B[0m         ConvergenceWarning,\n\u001B[1;32m   1568\u001B[0m     )\n",
      "File \u001B[0;32m~/.local/share/virtualenvs/Self-Supervised-Learning-with-Predictabili-RPXJKYD0/lib/python3.10/site-packages/sklearn/linear_model/_stochastic_gradient.py:1471\u001B[0m, in \u001B[0;36mBaseSGDRegressor._partial_fit\u001B[0;34m(self, X, y, alpha, C, loss, learning_rate, max_iter, sample_weight, coef_init, intercept_init)\u001B[0m\n\u001B[1;32m   1468\u001B[0m     \u001B[38;5;28mself\u001B[39m\u001B[38;5;241m.\u001B[39m_average_coef \u001B[38;5;241m=\u001B[39m np\u001B[38;5;241m.\u001B[39mzeros(n_features, dtype\u001B[38;5;241m=\u001B[39mX\u001B[38;5;241m.\u001B[39mdtype, order\u001B[38;5;241m=\u001B[39m\u001B[38;5;124m\"\u001B[39m\u001B[38;5;124mC\u001B[39m\u001B[38;5;124m\"\u001B[39m)\n\u001B[1;32m   1469\u001B[0m     \u001B[38;5;28mself\u001B[39m\u001B[38;5;241m.\u001B[39m_average_intercept \u001B[38;5;241m=\u001B[39m np\u001B[38;5;241m.\u001B[39mzeros(\u001B[38;5;241m1\u001B[39m, dtype\u001B[38;5;241m=\u001B[39mX\u001B[38;5;241m.\u001B[39mdtype, order\u001B[38;5;241m=\u001B[39m\u001B[38;5;124m\"\u001B[39m\u001B[38;5;124mC\u001B[39m\u001B[38;5;124m\"\u001B[39m)\n\u001B[0;32m-> 1471\u001B[0m \u001B[38;5;28;43mself\u001B[39;49m\u001B[38;5;241;43m.\u001B[39;49m\u001B[43m_fit_regressor\u001B[49m\u001B[43m(\u001B[49m\n\u001B[1;32m   1472\u001B[0m \u001B[43m    \u001B[49m\u001B[43mX\u001B[49m\u001B[43m,\u001B[49m\u001B[43m \u001B[49m\u001B[43my\u001B[49m\u001B[43m,\u001B[49m\u001B[43m \u001B[49m\u001B[43malpha\u001B[49m\u001B[43m,\u001B[49m\u001B[43m \u001B[49m\u001B[43mC\u001B[49m\u001B[43m,\u001B[49m\u001B[43m \u001B[49m\u001B[43mloss\u001B[49m\u001B[43m,\u001B[49m\u001B[43m \u001B[49m\u001B[43mlearning_rate\u001B[49m\u001B[43m,\u001B[49m\u001B[43m \u001B[49m\u001B[43msample_weight\u001B[49m\u001B[43m,\u001B[49m\u001B[43m \u001B[49m\u001B[43mmax_iter\u001B[49m\n\u001B[1;32m   1473\u001B[0m \u001B[43m\u001B[49m\u001B[43m)\u001B[49m\n\u001B[1;32m   1475\u001B[0m \u001B[38;5;28;01mreturn\u001B[39;00m \u001B[38;5;28mself\u001B[39m\n",
      "File \u001B[0;32m~/.local/share/virtualenvs/Self-Supervised-Learning-with-Predictabili-RPXJKYD0/lib/python3.10/site-packages/sklearn/linear_model/_stochastic_gradient.py:1684\u001B[0m, in \u001B[0;36mBaseSGDRegressor._fit_regressor\u001B[0;34m(self, X, y, alpha, C, loss, learning_rate, sample_weight, max_iter)\u001B[0m\n\u001B[1;32m   1681\u001B[0m     average_intercept \u001B[38;5;241m=\u001B[39m [\u001B[38;5;241m0\u001B[39m]  \u001B[38;5;66;03m# Not used\u001B[39;00m\n\u001B[1;32m   1683\u001B[0m _plain_sgd \u001B[38;5;241m=\u001B[39m _get_plain_sgd_function(input_dtype\u001B[38;5;241m=\u001B[39mcoef\u001B[38;5;241m.\u001B[39mdtype)\n\u001B[0;32m-> 1684\u001B[0m coef, intercept, average_coef, average_intercept, \u001B[38;5;28mself\u001B[39m\u001B[38;5;241m.\u001B[39mn_iter_ \u001B[38;5;241m=\u001B[39m \u001B[43m_plain_sgd\u001B[49m\u001B[43m(\u001B[49m\n\u001B[1;32m   1685\u001B[0m \u001B[43m    \u001B[49m\u001B[43mcoef\u001B[49m\u001B[43m,\u001B[49m\n\u001B[1;32m   1686\u001B[0m \u001B[43m    \u001B[49m\u001B[43mintercept\u001B[49m\u001B[43m[\u001B[49m\u001B[38;5;241;43m0\u001B[39;49m\u001B[43m]\u001B[49m\u001B[43m,\u001B[49m\n\u001B[1;32m   1687\u001B[0m \u001B[43m    \u001B[49m\u001B[43maverage_coef\u001B[49m\u001B[43m,\u001B[49m\n\u001B[1;32m   1688\u001B[0m \u001B[43m    \u001B[49m\u001B[43maverage_intercept\u001B[49m\u001B[43m[\u001B[49m\u001B[38;5;241;43m0\u001B[39;49m\u001B[43m]\u001B[49m\u001B[43m,\u001B[49m\n\u001B[1;32m   1689\u001B[0m \u001B[43m    \u001B[49m\u001B[43mloss_function\u001B[49m\u001B[43m,\u001B[49m\n\u001B[1;32m   1690\u001B[0m \u001B[43m    \u001B[49m\u001B[43mpenalty_type\u001B[49m\u001B[43m,\u001B[49m\n\u001B[1;32m   1691\u001B[0m \u001B[43m    \u001B[49m\u001B[43malpha\u001B[49m\u001B[43m,\u001B[49m\n\u001B[1;32m   1692\u001B[0m \u001B[43m    \u001B[49m\u001B[43mC\u001B[49m\u001B[43m,\u001B[49m\n\u001B[1;32m   1693\u001B[0m \u001B[43m    \u001B[49m\u001B[38;5;28;43mself\u001B[39;49m\u001B[38;5;241;43m.\u001B[39;49m\u001B[43ml1_ratio\u001B[49m\u001B[43m,\u001B[49m\n\u001B[1;32m   1694\u001B[0m \u001B[43m    \u001B[49m\u001B[43mdataset\u001B[49m\u001B[43m,\u001B[49m\n\u001B[1;32m   1695\u001B[0m \u001B[43m    \u001B[49m\u001B[43mvalidation_mask\u001B[49m\u001B[43m,\u001B[49m\n\u001B[1;32m   1696\u001B[0m \u001B[43m    \u001B[49m\u001B[38;5;28;43mself\u001B[39;49m\u001B[38;5;241;43m.\u001B[39;49m\u001B[43mearly_stopping\u001B[49m\u001B[43m,\u001B[49m\n\u001B[1;32m   1697\u001B[0m \u001B[43m    \u001B[49m\u001B[43mvalidation_score_cb\u001B[49m\u001B[43m,\u001B[49m\n\u001B[1;32m   1698\u001B[0m \u001B[43m    \u001B[49m\u001B[38;5;28;43mint\u001B[39;49m\u001B[43m(\u001B[49m\u001B[38;5;28;43mself\u001B[39;49m\u001B[38;5;241;43m.\u001B[39;49m\u001B[43mn_iter_no_change\u001B[49m\u001B[43m)\u001B[49m\u001B[43m,\u001B[49m\n\u001B[1;32m   1699\u001B[0m \u001B[43m    \u001B[49m\u001B[43mmax_iter\u001B[49m\u001B[43m,\u001B[49m\n\u001B[1;32m   1700\u001B[0m \u001B[43m    \u001B[49m\u001B[43mtol\u001B[49m\u001B[43m,\u001B[49m\n\u001B[1;32m   1701\u001B[0m \u001B[43m    \u001B[49m\u001B[38;5;28;43mint\u001B[39;49m\u001B[43m(\u001B[49m\u001B[38;5;28;43mself\u001B[39;49m\u001B[38;5;241;43m.\u001B[39;49m\u001B[43mfit_intercept\u001B[49m\u001B[43m)\u001B[49m\u001B[43m,\u001B[49m\n\u001B[1;32m   1702\u001B[0m \u001B[43m    \u001B[49m\u001B[38;5;28;43mint\u001B[39;49m\u001B[43m(\u001B[49m\u001B[38;5;28;43mself\u001B[39;49m\u001B[38;5;241;43m.\u001B[39;49m\u001B[43mverbose\u001B[49m\u001B[43m)\u001B[49m\u001B[43m,\u001B[49m\n\u001B[1;32m   1703\u001B[0m \u001B[43m    \u001B[49m\u001B[38;5;28;43mint\u001B[39;49m\u001B[43m(\u001B[49m\u001B[38;5;28;43mself\u001B[39;49m\u001B[38;5;241;43m.\u001B[39;49m\u001B[43mshuffle\u001B[49m\u001B[43m)\u001B[49m\u001B[43m,\u001B[49m\n\u001B[1;32m   1704\u001B[0m \u001B[43m    \u001B[49m\u001B[43mseed\u001B[49m\u001B[43m,\u001B[49m\n\u001B[1;32m   1705\u001B[0m \u001B[43m    \u001B[49m\u001B[38;5;241;43m1.0\u001B[39;49m\u001B[43m,\u001B[49m\n\u001B[1;32m   1706\u001B[0m \u001B[43m    \u001B[49m\u001B[38;5;241;43m1.0\u001B[39;49m\u001B[43m,\u001B[49m\n\u001B[1;32m   1707\u001B[0m \u001B[43m    \u001B[49m\u001B[43mlearning_rate_type\u001B[49m\u001B[43m,\u001B[49m\n\u001B[1;32m   1708\u001B[0m \u001B[43m    \u001B[49m\u001B[38;5;28;43mself\u001B[39;49m\u001B[38;5;241;43m.\u001B[39;49m\u001B[43meta0\u001B[49m\u001B[43m,\u001B[49m\n\u001B[1;32m   1709\u001B[0m \u001B[43m    \u001B[49m\u001B[38;5;28;43mself\u001B[39;49m\u001B[38;5;241;43m.\u001B[39;49m\u001B[43mpower_t\u001B[49m\u001B[43m,\u001B[49m\n\u001B[1;32m   1710\u001B[0m \u001B[43m    \u001B[49m\u001B[38;5;241;43m0\u001B[39;49m\u001B[43m,\u001B[49m\n\u001B[1;32m   1711\u001B[0m \u001B[43m    \u001B[49m\u001B[38;5;28;43mself\u001B[39;49m\u001B[38;5;241;43m.\u001B[39;49m\u001B[43mt_\u001B[49m\u001B[43m,\u001B[49m\n\u001B[1;32m   1712\u001B[0m \u001B[43m    \u001B[49m\u001B[43mintercept_decay\u001B[49m\u001B[43m,\u001B[49m\n\u001B[1;32m   1713\u001B[0m \u001B[43m    \u001B[49m\u001B[38;5;28;43mself\u001B[39;49m\u001B[38;5;241;43m.\u001B[39;49m\u001B[43maverage\u001B[49m\u001B[43m,\u001B[49m\n\u001B[1;32m   1714\u001B[0m \u001B[43m\u001B[49m\u001B[43m)\u001B[49m\n\u001B[1;32m   1716\u001B[0m \u001B[38;5;28mself\u001B[39m\u001B[38;5;241m.\u001B[39mt_ \u001B[38;5;241m+\u001B[39m\u001B[38;5;241m=\u001B[39m \u001B[38;5;28mself\u001B[39m\u001B[38;5;241m.\u001B[39mn_iter_ \u001B[38;5;241m*\u001B[39m X\u001B[38;5;241m.\u001B[39mshape[\u001B[38;5;241m0\u001B[39m]\n\u001B[1;32m   1718\u001B[0m \u001B[38;5;28;01mif\u001B[39;00m \u001B[38;5;28mself\u001B[39m\u001B[38;5;241m.\u001B[39maverage \u001B[38;5;241m>\u001B[39m \u001B[38;5;241m0\u001B[39m:\n",
      "\u001B[0;31mKeyboardInterrupt\u001B[0m: "
     ]
    }
   ],
   "source": [
    "# for every entry in the dataframe we load the dataframe and calculate the correlation sum\n",
    "for index, row in all_data.iterrows():\n",
    "    final_path = row['path']/Path('data_standardized.csv')\n",
    "    print(final_path)\n",
    "    X = pd.read_csv(final_path)\n",
    "    print(X.shape)\n",
    "    X = X.to_numpy()\n",
    "\n",
    "    kf = KFold(n_splits=2)\n",
    "    print(row['model_name'], row['dataset_name'])\n",
    "    for i, (train, test) in enumerate(kf.split(X)):\n",
    "        for model in ['linear', 'xgb','mlp']:\n",
    "            mean, std = predict(X[train], X[test], model=model)\n",
    "            all_data.loc[index, f'mean_{model}_{i}'] = mean\n",
    "            all_data.loc[index, f'std_{model}_{i}'] = std\n",
    "\n",
    "\n",
    "all_data.to_csv(\"all_results.csv\")"
   ]
  },
  {
   "cell_type": "code",
   "execution_count": 9,
   "outputs": [
    {
     "ename": "KeyboardInterrupt",
     "evalue": "",
     "output_type": "error",
     "traceback": [
      "\u001B[0;31m---------------------------------------------------------------------------\u001B[0m",
      "\u001B[0;31mKeyboardInterrupt\u001B[0m                         Traceback (most recent call last)",
      "Cell \u001B[0;32mIn[9], line 25\u001B[0m\n\u001B[1;32m     23\u001B[0m \u001B[38;5;66;03m# Parallelize using Pool\u001B[39;00m\n\u001B[1;32m     24\u001B[0m \u001B[38;5;28;01mwith\u001B[39;00m Pool(cpu_count()) \u001B[38;5;28;01mas\u001B[39;00m p:\n\u001B[0;32m---> 25\u001B[0m     results \u001B[38;5;241m=\u001B[39m \u001B[43mp\u001B[49m\u001B[38;5;241;43m.\u001B[39;49m\u001B[43mmap\u001B[49m\u001B[43m(\u001B[49m\u001B[43mworker_function\u001B[49m\u001B[43m,\u001B[49m\u001B[43m \u001B[49m\u001B[43mall_data\u001B[49m\u001B[38;5;241;43m.\u001B[39;49m\u001B[43miterrows\u001B[49m\u001B[43m(\u001B[49m\u001B[43m)\u001B[49m\u001B[43m)\u001B[49m\n\u001B[1;32m     27\u001B[0m \u001B[38;5;66;03m# Update the dataframe with the results\u001B[39;00m\n\u001B[1;32m     28\u001B[0m \u001B[38;5;28;01mfor\u001B[39;00m index, result \u001B[38;5;129;01min\u001B[39;00m results:\n",
      "File \u001B[0;32m/usr/lib/python3.10/multiprocessing/pool.py:367\u001B[0m, in \u001B[0;36mPool.map\u001B[0;34m(self, func, iterable, chunksize)\u001B[0m\n\u001B[1;32m    362\u001B[0m \u001B[38;5;28;01mdef\u001B[39;00m \u001B[38;5;21mmap\u001B[39m(\u001B[38;5;28mself\u001B[39m, func, iterable, chunksize\u001B[38;5;241m=\u001B[39m\u001B[38;5;28;01mNone\u001B[39;00m):\n\u001B[1;32m    363\u001B[0m \u001B[38;5;250m    \u001B[39m\u001B[38;5;124;03m'''\u001B[39;00m\n\u001B[1;32m    364\u001B[0m \u001B[38;5;124;03m    Apply `func` to each element in `iterable`, collecting the results\u001B[39;00m\n\u001B[1;32m    365\u001B[0m \u001B[38;5;124;03m    in a list that is returned.\u001B[39;00m\n\u001B[1;32m    366\u001B[0m \u001B[38;5;124;03m    '''\u001B[39;00m\n\u001B[0;32m--> 367\u001B[0m     \u001B[38;5;28;01mreturn\u001B[39;00m \u001B[38;5;28;43mself\u001B[39;49m\u001B[38;5;241;43m.\u001B[39;49m\u001B[43m_map_async\u001B[49m\u001B[43m(\u001B[49m\u001B[43mfunc\u001B[49m\u001B[43m,\u001B[49m\u001B[43m \u001B[49m\u001B[43miterable\u001B[49m\u001B[43m,\u001B[49m\u001B[43m \u001B[49m\u001B[43mmapstar\u001B[49m\u001B[43m,\u001B[49m\u001B[43m \u001B[49m\u001B[43mchunksize\u001B[49m\u001B[43m)\u001B[49m\u001B[38;5;241;43m.\u001B[39;49m\u001B[43mget\u001B[49m\u001B[43m(\u001B[49m\u001B[43m)\u001B[49m\n",
      "File \u001B[0;32m/usr/lib/python3.10/multiprocessing/pool.py:768\u001B[0m, in \u001B[0;36mApplyResult.get\u001B[0;34m(self, timeout)\u001B[0m\n\u001B[1;32m    767\u001B[0m \u001B[38;5;28;01mdef\u001B[39;00m \u001B[38;5;21mget\u001B[39m(\u001B[38;5;28mself\u001B[39m, timeout\u001B[38;5;241m=\u001B[39m\u001B[38;5;28;01mNone\u001B[39;00m):\n\u001B[0;32m--> 768\u001B[0m     \u001B[38;5;28;43mself\u001B[39;49m\u001B[38;5;241;43m.\u001B[39;49m\u001B[43mwait\u001B[49m\u001B[43m(\u001B[49m\u001B[43mtimeout\u001B[49m\u001B[43m)\u001B[49m\n\u001B[1;32m    769\u001B[0m     \u001B[38;5;28;01mif\u001B[39;00m \u001B[38;5;129;01mnot\u001B[39;00m \u001B[38;5;28mself\u001B[39m\u001B[38;5;241m.\u001B[39mready():\n\u001B[1;32m    770\u001B[0m         \u001B[38;5;28;01mraise\u001B[39;00m \u001B[38;5;167;01mTimeoutError\u001B[39;00m\n",
      "File \u001B[0;32m/usr/lib/python3.10/multiprocessing/pool.py:765\u001B[0m, in \u001B[0;36mApplyResult.wait\u001B[0;34m(self, timeout)\u001B[0m\n\u001B[1;32m    764\u001B[0m \u001B[38;5;28;01mdef\u001B[39;00m \u001B[38;5;21mwait\u001B[39m(\u001B[38;5;28mself\u001B[39m, timeout\u001B[38;5;241m=\u001B[39m\u001B[38;5;28;01mNone\u001B[39;00m):\n\u001B[0;32m--> 765\u001B[0m     \u001B[38;5;28;43mself\u001B[39;49m\u001B[38;5;241;43m.\u001B[39;49m\u001B[43m_event\u001B[49m\u001B[38;5;241;43m.\u001B[39;49m\u001B[43mwait\u001B[49m\u001B[43m(\u001B[49m\u001B[43mtimeout\u001B[49m\u001B[43m)\u001B[49m\n",
      "File \u001B[0;32m/usr/lib/python3.10/threading.py:607\u001B[0m, in \u001B[0;36mEvent.wait\u001B[0;34m(self, timeout)\u001B[0m\n\u001B[1;32m    605\u001B[0m signaled \u001B[38;5;241m=\u001B[39m \u001B[38;5;28mself\u001B[39m\u001B[38;5;241m.\u001B[39m_flag\n\u001B[1;32m    606\u001B[0m \u001B[38;5;28;01mif\u001B[39;00m \u001B[38;5;129;01mnot\u001B[39;00m signaled:\n\u001B[0;32m--> 607\u001B[0m     signaled \u001B[38;5;241m=\u001B[39m \u001B[38;5;28;43mself\u001B[39;49m\u001B[38;5;241;43m.\u001B[39;49m\u001B[43m_cond\u001B[49m\u001B[38;5;241;43m.\u001B[39;49m\u001B[43mwait\u001B[49m\u001B[43m(\u001B[49m\u001B[43mtimeout\u001B[49m\u001B[43m)\u001B[49m\n\u001B[1;32m    608\u001B[0m \u001B[38;5;28;01mreturn\u001B[39;00m signaled\n",
      "File \u001B[0;32m/usr/lib/python3.10/threading.py:320\u001B[0m, in \u001B[0;36mCondition.wait\u001B[0;34m(self, timeout)\u001B[0m\n\u001B[1;32m    318\u001B[0m \u001B[38;5;28;01mtry\u001B[39;00m:    \u001B[38;5;66;03m# restore state no matter what (e.g., KeyboardInterrupt)\u001B[39;00m\n\u001B[1;32m    319\u001B[0m     \u001B[38;5;28;01mif\u001B[39;00m timeout \u001B[38;5;129;01mis\u001B[39;00m \u001B[38;5;28;01mNone\u001B[39;00m:\n\u001B[0;32m--> 320\u001B[0m         \u001B[43mwaiter\u001B[49m\u001B[38;5;241;43m.\u001B[39;49m\u001B[43macquire\u001B[49m\u001B[43m(\u001B[49m\u001B[43m)\u001B[49m\n\u001B[1;32m    321\u001B[0m         gotit \u001B[38;5;241m=\u001B[39m \u001B[38;5;28;01mTrue\u001B[39;00m\n\u001B[1;32m    322\u001B[0m     \u001B[38;5;28;01melse\u001B[39;00m:\n",
      "\u001B[0;31mKeyboardInterrupt\u001B[0m: "
     ]
    }
   ],
   "source": [
    "import pandas as pd\n",
    "from pathlib import Path\n",
    "from sklearn.model_selection import KFold\n",
    "\n",
    "def worker_function(args):\n",
    "    index, row = args\n",
    "    final_path = row['path']/Path('data_standardized.csv')\n",
    "    X = pd.read_csv(final_path)\n",
    "    X = X.to_numpy()\n",
    "\n",
    "    kf = KFold(n_splits=2)\n",
    "    results = {}\n",
    "    for i, (train, test) in enumerate(kf.split(X)):\n",
    "        for model in ['linear', 'xgb', 'mlp']:\n",
    "            mean, std = predict(X[train], X[test], model=model)  # Assuming 'predict' function is defined elsewhere\n",
    "            results[f'mean_{model}_{i}'] = mean\n",
    "            results[f'std_{model}_{i}'] = std\n",
    "\n",
    "    return index, results\n",
    "\n",
    "\n",
    "# Parallelize using Pool\n",
    "results = Parallel(n_jobs=-1)(delayed(worker_function)(row) for _, row in all_data.iterrows())\n",
    "\n",
    "# Update the dataframe with the results\n",
    "for index, result in results:\n",
    "    for key, value in result.items():\n",
    "        all_data.loc[index, key] = value\n",
    "\n",
    "all_data.to_csv(\"all_results.csv\")\n"
   ],
   "metadata": {
    "collapsed": false,
    "ExecuteTime": {
     "end_time": "2023-09-22T09:05:12.128865532Z",
     "start_time": "2023-09-22T09:01:23.234698007Z"
    }
   }
  },
  {
   "cell_type": "code",
   "execution_count": null,
   "outputs": [],
   "source": [
    "all_data"
   ],
   "metadata": {
    "collapsed": false,
    "ExecuteTime": {
     "end_time": "2023-09-22T09:01:07.846204821Z",
     "start_time": "2023-09-22T09:01:07.845830511Z"
    }
   }
  },
  {
   "cell_type": "code",
   "execution_count": null,
   "outputs": [],
   "source": [],
   "metadata": {
    "collapsed": false
   }
  }
 ],
 "metadata": {
  "kernelspec": {
   "display_name": "Python 3 (ipykernel)",
   "language": "python",
   "name": "python3"
  },
  "language_info": {
   "codemirror_mode": {
    "name": "ipython",
    "version": 3
   },
   "file_extension": ".py",
   "mimetype": "text/x-python",
   "name": "python",
   "nbconvert_exporter": "python",
   "pygments_lexer": "ipython3",
   "version": "3.10.12"
  }
 },
 "nbformat": 4,
 "nbformat_minor": 1
}
