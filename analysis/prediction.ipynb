{
 "cells": [
  {
   "cell_type": "code",
   "execution_count": 14,
   "metadata": {},
   "outputs": [],
   "source": [
    "import pandas as pd\n",
    "import numpy as np\n",
    "import matplotlib.pyplot as plt\n",
    "\n",
    "from sklearn.linear_model import SGDRegressor\n",
    "from sklearn.metrics import mean_squared_error\n",
    "from tqdm import tqdm"
   ]
  },
  {
   "cell_type": "code",
   "execution_count": 2,
   "metadata": {},
   "outputs": [],
   "source": [
    "barlow_train_embeddings = pd.read_csv('../correlation_analysis/cifar10_-home-david-Downloads-dye9qi27_train/data_standardized.csv',header=None).to_numpy()\n",
    "barlow_val_embeddings = pd.read_csv('../correlation_analysis/cifar10_-home-david-Downloads-dye9qi27_val/data_standardized.csv',header=None).to_numpy()\n",
    "\n",
    "lin_pred_min_train_embeddings = pd.read_csv('../correlation_analysis/cifar10_-home-david-Downloads-gqvmpfko_train/data_standardized.csv',header=None).to_numpy()\n",
    "lin_pred_min_val_embeddings = pd.read_csv('../correlation_analysis/cifar10_-home-david-Downloads-gqvmpfko_val/data_standardized.csv',header=None).to_numpy()"
   ]
  },
  {
   "cell_type": "code",
   "execution_count": 3,
   "metadata": {},
   "outputs": [
    {
     "data": {
      "text/plain": [
       "(50000, 512)"
      ]
     },
     "execution_count": 3,
     "metadata": {},
     "output_type": "execute_result"
    }
   ],
   "source": [
    "barlow_train_embeddings.shape"
   ]
  },
  {
   "cell_type": "code",
   "execution_count": 18,
   "metadata": {},
   "outputs": [
    {
     "name": "stderr",
     "output_type": "stream",
     "text": [
      "100%|██████████| 512/512 [12:58<00:00,  1.52s/it]\n"
     ]
    }
   ],
   "source": [
    "# we want to remove the i-th column from the array:\n",
    "\n",
    "barlow_scores = []\n",
    "lin_pred_min_scores = []\n",
    "\n",
    "for i in tqdm(range(512)):\n",
    "    \n",
    "    y_barlow_train = barlow_train_embeddings[:,i]\n",
    "    X_barlow_train = np.delete(barlow_train_embeddings, i, 1)\n",
    "    \n",
    "    y_barlow_val = barlow_val_embeddings[:,i]\n",
    "    X_barlow_val = np.delete(barlow_val_embeddings, i, 1)\n",
    "\n",
    "    y_lin_pred_min_train = lin_pred_min_train_embeddings[:,i]\n",
    "    X_lin_pred_min_train = np.delete(lin_pred_min_train_embeddings, i, 1)\n",
    "    \n",
    "    y_lin_pred_min_val = lin_pred_min_val_embeddings[:,i]\n",
    "    X_lin_pred_min_val = np.delete(lin_pred_min_val_embeddings, i, 1)\n",
    "    \n",
    "    \n",
    "    clf1 = SGDRegressor()\n",
    "\n",
    "    clf1.fit(X_barlow_train, y_barlow_train)\n",
    "\n",
    "    barlow_scores.append(mean_squared_error(y_barlow_val, clf1.predict(X_barlow_val)))\n",
    "    # print(\"barlow: \", barlow_scores[-1])\n",
    "    \n",
    "    \n",
    "    clf2 = SGDRegressor()\n",
    "\n",
    "    clf2.fit(X_lin_pred_min_train, y_lin_pred_min_train)\n",
    "\n",
    "    lin_pred_min_scores.append(mean_squared_error(y_lin_pred_min_val, clf1.predict(X_lin_pred_min_val)))\n",
    "    # print(\"lin_pred_min: \", lin_pred_min_scores[-1])"
   ]
  },
  {
   "cell_type": "code",
   "execution_count": 19,
   "metadata": {},
   "outputs": [
    {
     "data": {
      "text/plain": [
       "1.4272907673662039"
      ]
     },
     "execution_count": 19,
     "metadata": {},
     "output_type": "execute_result"
    }
   ],
   "source": [
    "np.array(lin_pred_min_scores).mean()"
   ]
  },
  {
   "cell_type": "code",
   "execution_count": 20,
   "metadata": {},
   "outputs": [
    {
     "data": {
      "text/plain": [
       "0.46708194659984326"
      ]
     },
     "execution_count": 20,
     "metadata": {},
     "output_type": "execute_result"
    }
   ],
   "source": [
    "np.array(barlow_scores).mean()"
   ]
  },
  {
   "cell_type": "code",
   "execution_count": null,
   "metadata": {},
   "outputs": [],
   "source": []
  }
 ],
 "metadata": {
  "kernelspec": {
   "display_name": "Self-Supervised-Learning-with-Predictabili-RPXJKYD0",
   "language": "python",
   "name": "python3"
  },
  "language_info": {
   "codemirror_mode": {
    "name": "ipython",
    "version": 3
   },
   "file_extension": ".py",
   "mimetype": "text/x-python",
   "name": "python",
   "nbconvert_exporter": "python",
   "pygments_lexer": "ipython3",
   "version": "3.10.6"
  },
  "orig_nbformat": 4
 },
 "nbformat": 4,
 "nbformat_minor": 2
}
