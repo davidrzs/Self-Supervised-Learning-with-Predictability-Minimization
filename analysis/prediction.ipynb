{
 "cells": [
  {
   "cell_type": "code",
   "execution_count": 1,
   "metadata": {},
   "outputs": [],
   "source": [
    "import pandas as pd\n",
    "import numpy as np\n",
    "import matplotlib.pyplot as plt\n",
    "\n",
    "from sklearn.linear_model import SGDRegressor\n",
    "from sklearn.metrics import mean_squared_error\n",
    "from tqdm import tqdm"
   ]
  },
  {
   "cell_type": "code",
   "execution_count": 2,
   "metadata": {},
   "outputs": [],
   "source": [
    "barlow_train_embeddings = pd.read_csv('../correlation_analysis/cifar10_-home-david-Downloads-dye9qi27_train/data_standardized.csv',header=None).to_numpy()\n",
    "barlow_val_embeddings = pd.read_csv('../correlation_analysis/cifar10_-home-david-Downloads-dye9qi27_val/data_standardized.csv',header=None).to_numpy()\n",
    "\n",
    "lin_pred_min_train_embeddings = pd.read_csv('../correlation_analysis/cifar10_-home-david-Downloads-gqvmpfko_train/data_standardized.csv',header=None).to_numpy()\n",
    "lin_pred_min_val_embeddings = pd.read_csv('../correlation_analysis/cifar10_-home-david-Downloads-gqvmpfko_val/data_standardized.csv',header=None).to_numpy()"
   ]
  },
  {
   "cell_type": "code",
   "execution_count": 5,
   "metadata": {},
   "outputs": [
    {
     "data": {
      "text/plain": [
       "(50000, 512)"
      ]
     },
     "execution_count": 5,
     "metadata": {},
     "output_type": "execute_result"
    }
   ],
   "source": [
    "barlow_train_embeddings.shape"
   ]
  },
  {
   "cell_type": "code",
   "execution_count": 6,
   "metadata": {},
   "outputs": [
    {
     "name": "stderr",
     "output_type": "stream",
     "text": [
      "  0%|          | 0/512 [00:00<?, ?it/s]"
     ]
    },
    {
     "name": "stdout",
     "output_type": "stream",
     "text": [
      "barlow:  0.4898454852836261\n"
     ]
    },
    {
     "name": "stderr",
     "output_type": "stream",
     "text": [
      "  0%|          | 1/512 [00:02<18:09,  2.13s/it]"
     ]
    },
    {
     "name": "stdout",
     "output_type": "stream",
     "text": [
      "lin_pred_min:  1.4043548476090901\n",
      "barlow:  0.8049237417611576\n"
     ]
    },
    {
     "name": "stderr",
     "output_type": "stream",
     "text": [
      "  0%|          | 2/512 [00:04<17:42,  2.08s/it]"
     ]
    },
    {
     "name": "stdout",
     "output_type": "stream",
     "text": [
      "lin_pred_min:  1.262448231146691\n",
      "barlow:  0.3366103619466367\n"
     ]
    },
    {
     "name": "stderr",
     "output_type": "stream",
     "text": [
      "  1%|          | 3/512 [00:05<15:51,  1.87s/it]"
     ]
    },
    {
     "name": "stdout",
     "output_type": "stream",
     "text": [
      "lin_pred_min:  1.3796250386392086\n",
      "barlow:  0.2265648252476106\n"
     ]
    },
    {
     "name": "stderr",
     "output_type": "stream",
     "text": [
      "  1%|          | 4/512 [00:07<14:56,  1.77s/it]"
     ]
    },
    {
     "name": "stdout",
     "output_type": "stream",
     "text": [
      "lin_pred_min:  1.543389112871904\n",
      "barlow:  0.533367827719924\n"
     ]
    },
    {
     "name": "stderr",
     "output_type": "stream",
     "text": [
      "  1%|          | 5/512 [00:09<16:06,  1.91s/it]"
     ]
    },
    {
     "name": "stdout",
     "output_type": "stream",
     "text": [
      "lin_pred_min:  1.3816112061622783\n",
      "barlow:  0.4883732246641506\n"
     ]
    },
    {
     "name": "stderr",
     "output_type": "stream",
     "text": [
      "  1%|          | 6/512 [00:11<15:19,  1.82s/it]"
     ]
    },
    {
     "name": "stdout",
     "output_type": "stream",
     "text": [
      "lin_pred_min:  1.2003638077544532\n",
      "barlow:  0.46561154594108584\n"
     ]
    },
    {
     "name": "stderr",
     "output_type": "stream",
     "text": [
      "  1%|▏         | 7/512 [00:13<16:37,  1.98s/it]"
     ]
    },
    {
     "name": "stdout",
     "output_type": "stream",
     "text": [
      "lin_pred_min:  1.581211985179069\n",
      "barlow:  0.39833812094013926\n"
     ]
    },
    {
     "name": "stderr",
     "output_type": "stream",
     "text": [
      "  2%|▏         | 8/512 [00:15<16:48,  2.00s/it]"
     ]
    },
    {
     "name": "stdout",
     "output_type": "stream",
     "text": [
      "lin_pred_min:  1.7279493946780993\n",
      "barlow:  0.4205744454415422\n"
     ]
    },
    {
     "name": "stderr",
     "output_type": "stream",
     "text": [
      "  2%|▏         | 9/512 [00:18<18:24,  2.20s/it]"
     ]
    },
    {
     "name": "stdout",
     "output_type": "stream",
     "text": [
      "lin_pred_min:  1.5132595846232244\n",
      "barlow:  0.45213827467789486\n"
     ]
    },
    {
     "name": "stderr",
     "output_type": "stream",
     "text": [
      "  2%|▏         | 10/512 [00:20<18:25,  2.20s/it]"
     ]
    },
    {
     "name": "stdout",
     "output_type": "stream",
     "text": [
      "lin_pred_min:  1.4425059240180527\n",
      "barlow:  0.44532999520930644\n"
     ]
    },
    {
     "name": "stderr",
     "output_type": "stream",
     "text": [
      "  2%|▏         | 11/512 [00:21<16:34,  1.99s/it]"
     ]
    },
    {
     "name": "stdout",
     "output_type": "stream",
     "text": [
      "lin_pred_min:  1.5800888984121275\n",
      "barlow:  0.34411285490154797\n"
     ]
    },
    {
     "name": "stderr",
     "output_type": "stream",
     "text": [
      "  2%|▏         | 12/512 [00:23<15:32,  1.86s/it]"
     ]
    },
    {
     "name": "stdout",
     "output_type": "stream",
     "text": [
      "lin_pred_min:  1.2188781109514653\n",
      "barlow:  0.7757571647845173\n"
     ]
    },
    {
     "name": "stderr",
     "output_type": "stream",
     "text": [
      "  3%|▎         | 13/512 [00:25<16:23,  1.97s/it]"
     ]
    },
    {
     "name": "stdout",
     "output_type": "stream",
     "text": [
      "lin_pred_min:  1.6335005517332295\n",
      "barlow:  0.39811787707487545\n"
     ]
    },
    {
     "name": "stderr",
     "output_type": "stream",
     "text": [
      "  3%|▎         | 14/512 [00:27<16:38,  2.00s/it]"
     ]
    },
    {
     "name": "stdout",
     "output_type": "stream",
     "text": [
      "lin_pred_min:  1.6143436735870378\n",
      "barlow:  0.4271677097114159\n"
     ]
    },
    {
     "name": "stderr",
     "output_type": "stream",
     "text": [
      "  3%|▎         | 15/512 [00:30<18:49,  2.27s/it]"
     ]
    },
    {
     "name": "stdout",
     "output_type": "stream",
     "text": [
      "lin_pred_min:  1.3263113307622665\n",
      "barlow:  0.5148109071384782\n"
     ]
    },
    {
     "name": "stderr",
     "output_type": "stream",
     "text": [
      "  3%|▎         | 16/512 [00:32<18:45,  2.27s/it]"
     ]
    },
    {
     "name": "stdout",
     "output_type": "stream",
     "text": [
      "lin_pred_min:  1.3987056376782476\n",
      "barlow:  0.5260010377156528\n"
     ]
    },
    {
     "name": "stderr",
     "output_type": "stream",
     "text": [
      "  3%|▎         | 17/512 [00:34<17:41,  2.14s/it]"
     ]
    },
    {
     "name": "stdout",
     "output_type": "stream",
     "text": [
      "lin_pred_min:  1.559081069161323\n",
      "barlow:  0.5007977971050012\n"
     ]
    },
    {
     "name": "stderr",
     "output_type": "stream",
     "text": [
      "  4%|▎         | 18/512 [00:36<16:52,  2.05s/it]"
     ]
    },
    {
     "name": "stdout",
     "output_type": "stream",
     "text": [
      "lin_pred_min:  1.3388750340318927\n",
      "barlow:  0.38936548839763874\n"
     ]
    },
    {
     "name": "stderr",
     "output_type": "stream",
     "text": [
      "  4%|▎         | 19/512 [00:39<17:58,  2.19s/it]"
     ]
    },
    {
     "name": "stdout",
     "output_type": "stream",
     "text": [
      "lin_pred_min:  1.577448976609678\n",
      "barlow:  0.44453525873140187\n"
     ]
    },
    {
     "name": "stderr",
     "output_type": "stream",
     "text": [
      "  4%|▍         | 20/512 [00:40<16:25,  2.00s/it]"
     ]
    },
    {
     "name": "stdout",
     "output_type": "stream",
     "text": [
      "lin_pred_min:  1.8543182807310294\n",
      "barlow:  0.5644028524351272\n"
     ]
    },
    {
     "name": "stderr",
     "output_type": "stream",
     "text": [
      "  4%|▍         | 21/512 [00:42<16:46,  2.05s/it]"
     ]
    },
    {
     "name": "stdout",
     "output_type": "stream",
     "text": [
      "lin_pred_min:  1.4143353770369034\n",
      "barlow:  0.5035621042472789\n"
     ]
    },
    {
     "name": "stderr",
     "output_type": "stream",
     "text": [
      "  4%|▍         | 22/512 [00:45<18:13,  2.23s/it]"
     ]
    },
    {
     "name": "stdout",
     "output_type": "stream",
     "text": [
      "lin_pred_min:  1.4208359523424876\n",
      "barlow:  0.39660124572017746\n"
     ]
    },
    {
     "name": "stderr",
     "output_type": "stream",
     "text": [
      "  4%|▍         | 23/512 [00:47<17:29,  2.15s/it]"
     ]
    },
    {
     "name": "stdout",
     "output_type": "stream",
     "text": [
      "lin_pred_min:  1.419896842478834\n",
      "barlow:  0.4018764478890294\n"
     ]
    },
    {
     "name": "stderr",
     "output_type": "stream",
     "text": [
      "  5%|▍         | 24/512 [00:49<17:08,  2.11s/it]"
     ]
    },
    {
     "name": "stdout",
     "output_type": "stream",
     "text": [
      "lin_pred_min:  1.4882469276448067\n",
      "barlow:  0.291634312602093\n"
     ]
    },
    {
     "name": "stderr",
     "output_type": "stream",
     "text": [
      "  5%|▍         | 25/512 [00:51<17:27,  2.15s/it]"
     ]
    },
    {
     "name": "stdout",
     "output_type": "stream",
     "text": [
      "lin_pred_min:  1.5278888464045008\n"
     ]
    },
    {
     "name": "stderr",
     "output_type": "stream",
     "text": [
      "  5%|▍         | 25/512 [00:53<17:13,  2.12s/it]\n"
     ]
    },
    {
     "ename": "KeyboardInterrupt",
     "evalue": "",
     "output_type": "error",
     "traceback": [
      "\u001B[0;31m---------------------------------------------------------------------------\u001B[0m",
      "\u001B[0;31mKeyboardInterrupt\u001B[0m                         Traceback (most recent call last)",
      "Cell \u001B[0;32mIn[6], line 23\u001B[0m\n\u001B[1;32m     18\u001B[0m X_lin_pred_min_val \u001B[39m=\u001B[39m np\u001B[39m.\u001B[39mdelete(lin_pred_min_val_embeddings, i, \u001B[39m1\u001B[39m)\n\u001B[1;32m     21\u001B[0m clf1 \u001B[39m=\u001B[39m SGDRegressor()\n\u001B[0;32m---> 23\u001B[0m clf1\u001B[39m.\u001B[39;49mfit(X_barlow_train, y_barlow_train)\n\u001B[1;32m     25\u001B[0m barlow_scores\u001B[39m.\u001B[39mappend(mean_squared_error(y_barlow_val, clf1\u001B[39m.\u001B[39mpredict(X_barlow_val)))\n\u001B[1;32m     26\u001B[0m \u001B[39mprint\u001B[39m(\u001B[39m\"\u001B[39m\u001B[39mbarlow: \u001B[39m\u001B[39m\"\u001B[39m, barlow_scores[\u001B[39m-\u001B[39m\u001B[39m1\u001B[39m])\n",
      "File \u001B[0;32m~/.local/share/virtualenvs/Self-Supervised-Learning-with-Predictabili-RPXJKYD0/lib/python3.10/site-packages/sklearn/linear_model/_stochastic_gradient.py:1585\u001B[0m, in \u001B[0;36mBaseSGDRegressor.fit\u001B[0;34m(self, X, y, coef_init, intercept_init, sample_weight)\u001B[0m\n\u001B[1;32m   1582\u001B[0m \u001B[39mself\u001B[39m\u001B[39m.\u001B[39m_validate_params()\n\u001B[1;32m   1583\u001B[0m \u001B[39mself\u001B[39m\u001B[39m.\u001B[39m_more_validate_params()\n\u001B[0;32m-> 1585\u001B[0m \u001B[39mreturn\u001B[39;00m \u001B[39mself\u001B[39;49m\u001B[39m.\u001B[39;49m_fit(\n\u001B[1;32m   1586\u001B[0m     X,\n\u001B[1;32m   1587\u001B[0m     y,\n\u001B[1;32m   1588\u001B[0m     alpha\u001B[39m=\u001B[39;49m\u001B[39mself\u001B[39;49m\u001B[39m.\u001B[39;49malpha,\n\u001B[1;32m   1589\u001B[0m     C\u001B[39m=\u001B[39;49m\u001B[39m1.0\u001B[39;49m,\n\u001B[1;32m   1590\u001B[0m     loss\u001B[39m=\u001B[39;49m\u001B[39mself\u001B[39;49m\u001B[39m.\u001B[39;49mloss,\n\u001B[1;32m   1591\u001B[0m     learning_rate\u001B[39m=\u001B[39;49m\u001B[39mself\u001B[39;49m\u001B[39m.\u001B[39;49mlearning_rate,\n\u001B[1;32m   1592\u001B[0m     coef_init\u001B[39m=\u001B[39;49mcoef_init,\n\u001B[1;32m   1593\u001B[0m     intercept_init\u001B[39m=\u001B[39;49mintercept_init,\n\u001B[1;32m   1594\u001B[0m     sample_weight\u001B[39m=\u001B[39;49msample_weight,\n\u001B[1;32m   1595\u001B[0m )\n",
      "File \u001B[0;32m~/.local/share/virtualenvs/Self-Supervised-Learning-with-Predictabili-RPXJKYD0/lib/python3.10/site-packages/sklearn/linear_model/_stochastic_gradient.py:1530\u001B[0m, in \u001B[0;36mBaseSGDRegressor._fit\u001B[0;34m(self, X, y, alpha, C, loss, learning_rate, coef_init, intercept_init, sample_weight)\u001B[0m\n\u001B[1;32m   1527\u001B[0m \u001B[39m# Clear iteration count for multiple call to fit.\u001B[39;00m\n\u001B[1;32m   1528\u001B[0m \u001B[39mself\u001B[39m\u001B[39m.\u001B[39mt_ \u001B[39m=\u001B[39m \u001B[39m1.0\u001B[39m\n\u001B[0;32m-> 1530\u001B[0m \u001B[39mself\u001B[39;49m\u001B[39m.\u001B[39;49m_partial_fit(\n\u001B[1;32m   1531\u001B[0m     X,\n\u001B[1;32m   1532\u001B[0m     y,\n\u001B[1;32m   1533\u001B[0m     alpha,\n\u001B[1;32m   1534\u001B[0m     C,\n\u001B[1;32m   1535\u001B[0m     loss,\n\u001B[1;32m   1536\u001B[0m     learning_rate,\n\u001B[1;32m   1537\u001B[0m     \u001B[39mself\u001B[39;49m\u001B[39m.\u001B[39;49mmax_iter,\n\u001B[1;32m   1538\u001B[0m     sample_weight,\n\u001B[1;32m   1539\u001B[0m     coef_init,\n\u001B[1;32m   1540\u001B[0m     intercept_init,\n\u001B[1;32m   1541\u001B[0m )\n\u001B[1;32m   1543\u001B[0m \u001B[39mif\u001B[39;00m (\n\u001B[1;32m   1544\u001B[0m     \u001B[39mself\u001B[39m\u001B[39m.\u001B[39mtol \u001B[39mis\u001B[39;00m \u001B[39mnot\u001B[39;00m \u001B[39mNone\u001B[39;00m\n\u001B[1;32m   1545\u001B[0m     \u001B[39mand\u001B[39;00m \u001B[39mself\u001B[39m\u001B[39m.\u001B[39mtol \u001B[39m>\u001B[39m \u001B[39m-\u001B[39mnp\u001B[39m.\u001B[39minf\n\u001B[1;32m   1546\u001B[0m     \u001B[39mand\u001B[39;00m \u001B[39mself\u001B[39m\u001B[39m.\u001B[39mn_iter_ \u001B[39m==\u001B[39m \u001B[39mself\u001B[39m\u001B[39m.\u001B[39mmax_iter\n\u001B[1;32m   1547\u001B[0m ):\n\u001B[1;32m   1548\u001B[0m     warnings\u001B[39m.\u001B[39mwarn(\n\u001B[1;32m   1549\u001B[0m         \u001B[39m\"\u001B[39m\u001B[39mMaximum number of iteration reached before \u001B[39m\u001B[39m\"\u001B[39m\n\u001B[1;32m   1550\u001B[0m         \u001B[39m\"\u001B[39m\u001B[39mconvergence. Consider increasing max_iter to \u001B[39m\u001B[39m\"\u001B[39m\n\u001B[1;32m   1551\u001B[0m         \u001B[39m\"\u001B[39m\u001B[39mimprove the fit.\u001B[39m\u001B[39m\"\u001B[39m,\n\u001B[1;32m   1552\u001B[0m         ConvergenceWarning,\n\u001B[1;32m   1553\u001B[0m     )\n",
      "File \u001B[0;32m~/.local/share/virtualenvs/Self-Supervised-Learning-with-Predictabili-RPXJKYD0/lib/python3.10/site-packages/sklearn/linear_model/_stochastic_gradient.py:1458\u001B[0m, in \u001B[0;36mBaseSGDRegressor._partial_fit\u001B[0;34m(self, X, y, alpha, C, loss, learning_rate, max_iter, sample_weight, coef_init, intercept_init)\u001B[0m\n\u001B[1;32m   1455\u001B[0m     \u001B[39mself\u001B[39m\u001B[39m.\u001B[39m_average_coef \u001B[39m=\u001B[39m np\u001B[39m.\u001B[39mzeros(n_features, dtype\u001B[39m=\u001B[39mnp\u001B[39m.\u001B[39mfloat64, order\u001B[39m=\u001B[39m\u001B[39m\"\u001B[39m\u001B[39mC\u001B[39m\u001B[39m\"\u001B[39m)\n\u001B[1;32m   1456\u001B[0m     \u001B[39mself\u001B[39m\u001B[39m.\u001B[39m_average_intercept \u001B[39m=\u001B[39m np\u001B[39m.\u001B[39mzeros(\u001B[39m1\u001B[39m, dtype\u001B[39m=\u001B[39mnp\u001B[39m.\u001B[39mfloat64, order\u001B[39m=\u001B[39m\u001B[39m\"\u001B[39m\u001B[39mC\u001B[39m\u001B[39m\"\u001B[39m)\n\u001B[0;32m-> 1458\u001B[0m \u001B[39mself\u001B[39;49m\u001B[39m.\u001B[39;49m_fit_regressor(\n\u001B[1;32m   1459\u001B[0m     X, y, alpha, C, loss, learning_rate, sample_weight, max_iter\n\u001B[1;32m   1460\u001B[0m )\n\u001B[1;32m   1462\u001B[0m \u001B[39mreturn\u001B[39;00m \u001B[39mself\u001B[39m\n",
      "File \u001B[0;32m~/.local/share/virtualenvs/Self-Supervised-Learning-with-Predictabili-RPXJKYD0/lib/python3.10/site-packages/sklearn/linear_model/_stochastic_gradient.py:1668\u001B[0m, in \u001B[0;36mBaseSGDRegressor._fit_regressor\u001B[0;34m(self, X, y, alpha, C, loss, learning_rate, sample_weight, max_iter)\u001B[0m\n\u001B[1;32m   1665\u001B[0m     average_coef \u001B[39m=\u001B[39m \u001B[39mNone\u001B[39;00m  \u001B[39m# Not used\u001B[39;00m\n\u001B[1;32m   1666\u001B[0m     average_intercept \u001B[39m=\u001B[39m [\u001B[39m0\u001B[39m]  \u001B[39m# Not used\u001B[39;00m\n\u001B[0;32m-> 1668\u001B[0m coef, intercept, average_coef, average_intercept, \u001B[39mself\u001B[39m\u001B[39m.\u001B[39mn_iter_ \u001B[39m=\u001B[39m _plain_sgd(\n\u001B[1;32m   1669\u001B[0m     coef,\n\u001B[1;32m   1670\u001B[0m     intercept[\u001B[39m0\u001B[39;49m],\n\u001B[1;32m   1671\u001B[0m     average_coef,\n\u001B[1;32m   1672\u001B[0m     average_intercept[\u001B[39m0\u001B[39;49m],\n\u001B[1;32m   1673\u001B[0m     loss_function,\n\u001B[1;32m   1674\u001B[0m     penalty_type,\n\u001B[1;32m   1675\u001B[0m     alpha,\n\u001B[1;32m   1676\u001B[0m     C,\n\u001B[1;32m   1677\u001B[0m     \u001B[39mself\u001B[39;49m\u001B[39m.\u001B[39;49ml1_ratio,\n\u001B[1;32m   1678\u001B[0m     dataset,\n\u001B[1;32m   1679\u001B[0m     validation_mask,\n\u001B[1;32m   1680\u001B[0m     \u001B[39mself\u001B[39;49m\u001B[39m.\u001B[39;49mearly_stopping,\n\u001B[1;32m   1681\u001B[0m     validation_score_cb,\n\u001B[1;32m   1682\u001B[0m     \u001B[39mint\u001B[39;49m(\u001B[39mself\u001B[39;49m\u001B[39m.\u001B[39;49mn_iter_no_change),\n\u001B[1;32m   1683\u001B[0m     max_iter,\n\u001B[1;32m   1684\u001B[0m     tol,\n\u001B[1;32m   1685\u001B[0m     \u001B[39mint\u001B[39;49m(\u001B[39mself\u001B[39;49m\u001B[39m.\u001B[39;49mfit_intercept),\n\u001B[1;32m   1686\u001B[0m     \u001B[39mint\u001B[39;49m(\u001B[39mself\u001B[39;49m\u001B[39m.\u001B[39;49mverbose),\n\u001B[1;32m   1687\u001B[0m     \u001B[39mint\u001B[39;49m(\u001B[39mself\u001B[39;49m\u001B[39m.\u001B[39;49mshuffle),\n\u001B[1;32m   1688\u001B[0m     seed,\n\u001B[1;32m   1689\u001B[0m     \u001B[39m1.0\u001B[39;49m,\n\u001B[1;32m   1690\u001B[0m     \u001B[39m1.0\u001B[39;49m,\n\u001B[1;32m   1691\u001B[0m     learning_rate_type,\n\u001B[1;32m   1692\u001B[0m     \u001B[39mself\u001B[39;49m\u001B[39m.\u001B[39;49meta0,\n\u001B[1;32m   1693\u001B[0m     \u001B[39mself\u001B[39;49m\u001B[39m.\u001B[39;49mpower_t,\n\u001B[1;32m   1694\u001B[0m     \u001B[39m0\u001B[39;49m,\n\u001B[1;32m   1695\u001B[0m     \u001B[39mself\u001B[39;49m\u001B[39m.\u001B[39;49mt_,\n\u001B[1;32m   1696\u001B[0m     intercept_decay,\n\u001B[1;32m   1697\u001B[0m     \u001B[39mself\u001B[39;49m\u001B[39m.\u001B[39;49maverage,\n\u001B[1;32m   1698\u001B[0m )\n\u001B[1;32m   1700\u001B[0m \u001B[39mself\u001B[39m\u001B[39m.\u001B[39mt_ \u001B[39m+\u001B[39m\u001B[39m=\u001B[39m \u001B[39mself\u001B[39m\u001B[39m.\u001B[39mn_iter_ \u001B[39m*\u001B[39m X\u001B[39m.\u001B[39mshape[\u001B[39m0\u001B[39m]\n\u001B[1;32m   1702\u001B[0m \u001B[39mif\u001B[39;00m \u001B[39mself\u001B[39m\u001B[39m.\u001B[39maverage \u001B[39m>\u001B[39m \u001B[39m0\u001B[39m:\n",
      "\u001B[0;31mKeyboardInterrupt\u001B[0m: "
     ]
    }
   ],
   "source": [
    "# we want to remove the i-th column from the array:\n",
    "\n",
    "barlow_scores = []\n",
    "lin_pred_min_scores = []\n",
    "\n",
    "for i in tqdm(range(512)):\n",
    "    \n",
    "    y_barlow_train = barlow_train_embeddings[:,i]\n",
    "    X_barlow_train = np.delete(barlow_train_embeddings, i, 1)\n",
    "    \n",
    "    y_barlow_val = barlow_val_embeddings[:,i]\n",
    "    X_barlow_val = np.delete(barlow_val_embeddings, i, 1)\n",
    "\n",
    "    y_lin_pred_min_train = lin_pred_min_train_embeddings[:,i]\n",
    "    X_lin_pred_min_train = np.delete(lin_pred_min_train_embeddings, i, 1)\n",
    "    \n",
    "    y_lin_pred_min_val = lin_pred_min_val_embeddings[:,i]\n",
    "    X_lin_pred_min_val = np.delete(lin_pred_min_val_embeddings, i, 1)\n",
    "    \n",
    "    \n",
    "    clf1 = SGDRegressor()\n",
    "\n",
    "    clf1.fit(X_barlow_train, y_barlow_train)\n",
    "\n",
    "    barlow_scores.append(mean_squared_error(y_barlow_val, clf1.predict(X_barlow_val)))\n",
    "    print(\"barlow: \", barlow_scores[-1])\n",
    "    \n",
    "    \n",
    "    clf2 = SGDRegressor()\n",
    "\n",
    "    clf2.fit(X_lin_pred_min_train, y_lin_pred_min_train)\n",
    "\n",
    "    lin_pred_min_scores.append(mean_squared_error(y_lin_pred_min_val, clf2.predict(X_lin_pred_min_val)))\n",
    "    print(\"lin_pred_min: \", lin_pred_min_scores[-1])"
   ]
  },
  {
   "cell_type": "code",
   "execution_count": 19,
   "metadata": {},
   "outputs": [
    {
     "data": {
      "text/plain": [
       "1.4272907673662039"
      ]
     },
     "execution_count": 19,
     "metadata": {},
     "output_type": "execute_result"
    }
   ],
   "source": [
    "np.array(lin_pred_min_scores).mean()"
   ]
  },
  {
   "cell_type": "code",
   "execution_count": 20,
   "metadata": {},
   "outputs": [
    {
     "data": {
      "text/plain": [
       "0.46708194659984326"
      ]
     },
     "execution_count": 20,
     "metadata": {},
     "output_type": "execute_result"
    }
   ],
   "source": [
    "np.array(barlow_scores).mean()"
   ]
  },
  {
   "cell_type": "code",
   "execution_count": null,
   "metadata": {},
   "outputs": [],
   "source": []
  }
 ],
 "metadata": {
  "kernelspec": {
   "display_name": "Self-Supervised-Learning-with-Predictabili-RPXJKYD0",
   "language": "python",
   "name": "python3"
  },
  "language_info": {
   "codemirror_mode": {
    "name": "ipython",
    "version": 3
   },
   "file_extension": ".py",
   "mimetype": "text/x-python",
   "name": "python",
   "nbconvert_exporter": "python",
   "pygments_lexer": "ipython3",
   "version": "3.10.6"
  },
  "orig_nbformat": 4
 },
 "nbformat": 4,
 "nbformat_minor": 2
}
